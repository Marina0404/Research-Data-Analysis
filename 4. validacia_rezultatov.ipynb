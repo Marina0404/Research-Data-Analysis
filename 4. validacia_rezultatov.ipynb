{
 "cells": [
  {
   "cell_type": "markdown",
   "metadata": {},
   "source": [
    "# Валидация результатов"
   ]
  },
  {
   "cell_type": "markdown",
   "metadata": {},
   "source": [
    "1. <a href=\"#1\">Введение</a>\n",
    "2. <a href=\"#2\">Укрупняем группы</a>\n",
    "3. <a href=\"#3\">Разбитые по группам данные</a>\n",
    "4. <a href=\"#4\">Заключение</a>"
   ]
  },
  {
   "cell_type": "markdown",
   "metadata": {},
   "source": [
    "<a name=\"1\">_</a>\n",
    "## Введение\n",
    "Вы сделали всё, чтобы получить список тех сетей АЗС, с которыми Яндекс.Навигатору выгоднее начать сотрудничество.\n",
    "\n",
    "**Чему вы научитесь:**\n",
    "\n",
    "- строить столбчатые графики и круговые диаграммы;\n",
    "- выборочно изменять значения в списке методом *where()*;\n",
    "- писать цикл, который строит сразу много гистограмм.\n",
    "\n",
    "**Вам предстоит:**\n",
    "\n",
    "- объединить мелкие сети в группу «Другие»;\n",
    "- построить гистограммы продолжительности заправки в каждой сети;\n",
    "- получить финальный список крупных сетей АЗС.\n",
    "\n",
    "**Постановка задачи:**\n",
    "\n",
    "Перепроверьте реалистичность данных, чтобы подготовить финальный отчёт для руководства."
   ]
  },
  {
   "cell_type": "markdown",
   "metadata": {},
   "source": [
    "<a name=\"2\">_</a>\n",
    "## Укрупняем группы"
   ]
  },
  {
   "cell_type": "code",
   "execution_count": null,
   "metadata": {},
   "outputs": [],
   "source": [
    "Перед тем как делать выводы, перепроверим реалистичность данных.\n",
    "\n",
    "Наш отчёт выглядит так. Напомним, что достоверное типичное время заправки указано в `median_time`:"
   ]
  },
  {
   "cell_type": "code",
   "execution_count": 1,
   "metadata": {},
   "outputs": [],
   "source": [
    "# код из предыдущих уроков\n",
    "import pandas as pd\n",
    "\n",
    "data = pd.read_csv('../datasets/visits.csv', sep='\\t')\n",
    "data['local_time'] = pd.to_datetime(\n",
    "    data['date_time'], format='%Y-%m-%dT%H:%M:%S'\n",
    ") + pd.Timedelta(hours=3)\n",
    "data['date_hour'] = data['local_time'].dt.round('1H')\n",
    "data['too_fast'] = data['time_spent'] < 60\n",
    "data['too_slow'] = data['time_spent'] > 1000\n",
    "\n",
    "too_fast_stat = data.pivot_table(index='id', values='too_fast')\n",
    "good_ids = too_fast_stat.query('too_fast < 0.5')\n",
    "good_data = data.query('id in @good_ids.index')\n",
    "good_data = good_data.query('60 <= time_spent <= 1000')\n",
    "\n",
    "station_stat = data.pivot_table(\n",
    "    index='id', values='time_spent', aggfunc='median'\n",
    ")\n",
    "good_station_stat = good_data.pivot_table(\n",
    "    index=\"id\", values=\"time_spent\", aggfunc=\"median\"\n",
    ")\n",
    "\n",
    "stat = data.pivot_table(index='name', values='time_spent')\n",
    "good_stat = good_data.pivot_table(\n",
    "    index='name', values='time_spent', aggfunc='median'\n",
    ")\n",
    "stat['good_time_spent'] = good_stat['time_spent']\n",
    "\n",
    "name_stat = data.pivot_table(index='name', values='time_spent')\n",
    "good_name_stat = good_data.pivot_table(\n",
    "    index='name', values='time_spent', aggfunc='median'\n",
    ")\n",
    "name_stat['good_time_spent'] = good_name_stat['time_spent']\n",
    "\n",
    "id_name = good_data.pivot_table(\n",
    "    index='id', values='name', aggfunc=['first', 'count']\n",
    ")\n",
    "id_name.columns = ['name', 'count']\n",
    "station_stat_full = id_name.join(good_station_stat)\n",
    "\n",
    "good_stat2 = station_stat_full.query('count > 30').pivot_table(\n",
    "    index='name', values='time_spent', aggfunc=['median', 'count']\n",
    ")\n",
    "good_stat2.columns = ['median_time', 'stations']\n",
    "final_stat = stat.join(good_stat2)"
   ]
  },
  {
   "cell_type": "code",
   "execution_count": 2,
   "metadata": {},
   "outputs": [
    {
     "data": {
      "text/html": [
       "<div>\n",
       "<style scoped>\n",
       "    .dataframe tbody tr th:only-of-type {\n",
       "        vertical-align: middle;\n",
       "    }\n",
       "\n",
       "    .dataframe tbody tr th {\n",
       "        vertical-align: top;\n",
       "    }\n",
       "\n",
       "    .dataframe thead th {\n",
       "        text-align: right;\n",
       "    }\n",
       "</style>\n",
       "<table border=\"1\" class=\"dataframe\">\n",
       "  <thead>\n",
       "    <tr style=\"text-align: right;\">\n",
       "      <th></th>\n",
       "      <th>time_spent</th>\n",
       "      <th>good_time_spent</th>\n",
       "      <th>median_time</th>\n",
       "      <th>stations</th>\n",
       "    </tr>\n",
       "    <tr>\n",
       "      <th>name</th>\n",
       "      <th></th>\n",
       "      <th></th>\n",
       "      <th></th>\n",
       "      <th></th>\n",
       "    </tr>\n",
       "  </thead>\n",
       "  <tbody>\n",
       "    <tr>\n",
       "      <th>Агератум</th>\n",
       "      <td>337.802721</td>\n",
       "      <td>309.0</td>\n",
       "      <td>308.50</td>\n",
       "      <td>3.0</td>\n",
       "    </tr>\n",
       "    <tr>\n",
       "      <th>Амарант</th>\n",
       "      <td>132.760012</td>\n",
       "      <td>187.5</td>\n",
       "      <td>169.00</td>\n",
       "      <td>5.0</td>\n",
       "    </tr>\n",
       "    <tr>\n",
       "      <th>Аммобиум</th>\n",
       "      <td>256.708042</td>\n",
       "      <td>180.5</td>\n",
       "      <td>178.75</td>\n",
       "      <td>4.0</td>\n",
       "    </tr>\n",
       "    <tr>\n",
       "      <th>Арктотис</th>\n",
       "      <td>73.879984</td>\n",
       "      <td>185.0</td>\n",
       "      <td>190.50</td>\n",
       "      <td>3.0</td>\n",
       "    </tr>\n",
       "    <tr>\n",
       "      <th>Астильба</th>\n",
       "      <td>376.143149</td>\n",
       "      <td>423.0</td>\n",
       "      <td>435.50</td>\n",
       "      <td>4.0</td>\n",
       "    </tr>\n",
       "    <tr>\n",
       "      <th>Бальзамин</th>\n",
       "      <td>134.508411</td>\n",
       "      <td>158.0</td>\n",
       "      <td>158.00</td>\n",
       "      <td>1.0</td>\n",
       "    </tr>\n",
       "    <tr>\n",
       "      <th>Бархатцы</th>\n",
       "      <td>145.300328</td>\n",
       "      <td>181.5</td>\n",
       "      <td>181.50</td>\n",
       "      <td>1.0</td>\n",
       "    </tr>\n",
       "    <tr>\n",
       "      <th>Бегония</th>\n",
       "      <td>163.200647</td>\n",
       "      <td>195.0</td>\n",
       "      <td>190.00</td>\n",
       "      <td>3.0</td>\n",
       "    </tr>\n",
       "    <tr>\n",
       "      <th>Белоцветник</th>\n",
       "      <td>100.818966</td>\n",
       "      <td>154.0</td>\n",
       "      <td>154.00</td>\n",
       "      <td>1.0</td>\n",
       "    </tr>\n",
       "    <tr>\n",
       "      <th>Василек</th>\n",
       "      <td>268.849897</td>\n",
       "      <td>264.0</td>\n",
       "      <td>252.00</td>\n",
       "      <td>103.0</td>\n",
       "    </tr>\n",
       "    <tr>\n",
       "      <th>Вербена</th>\n",
       "      <td>190.016594</td>\n",
       "      <td>199.0</td>\n",
       "      <td>199.75</td>\n",
       "      <td>6.0</td>\n",
       "    </tr>\n",
       "    <tr>\n",
       "      <th>Вероника</th>\n",
       "      <td>220.019402</td>\n",
       "      <td>212.0</td>\n",
       "      <td>223.00</td>\n",
       "      <td>5.0</td>\n",
       "    </tr>\n",
       "    <tr>\n",
       "      <th>Гацания</th>\n",
       "      <td>160.685185</td>\n",
       "      <td>178.5</td>\n",
       "      <td>178.50</td>\n",
       "      <td>1.0</td>\n",
       "    </tr>\n",
       "    <tr>\n",
       "      <th>Гвоздика</th>\n",
       "      <td>294.317308</td>\n",
       "      <td>229.0</td>\n",
       "      <td>234.75</td>\n",
       "      <td>2.0</td>\n",
       "    </tr>\n",
       "    <tr>\n",
       "      <th>Гейхера</th>\n",
       "      <td>167.445947</td>\n",
       "      <td>204.0</td>\n",
       "      <td>192.00</td>\n",
       "      <td>12.0</td>\n",
       "    </tr>\n",
       "    <tr>\n",
       "      <th>Гелихризум</th>\n",
       "      <td>290.138643</td>\n",
       "      <td>342.0</td>\n",
       "      <td>342.00</td>\n",
       "      <td>1.0</td>\n",
       "    </tr>\n",
       "    <tr>\n",
       "      <th>Георгина</th>\n",
       "      <td>166.615555</td>\n",
       "      <td>279.0</td>\n",
       "      <td>289.00</td>\n",
       "      <td>9.0</td>\n",
       "    </tr>\n",
       "    <tr>\n",
       "      <th>Годеция</th>\n",
       "      <td>113.958333</td>\n",
       "      <td>NaN</td>\n",
       "      <td>NaN</td>\n",
       "      <td>NaN</td>\n",
       "    </tr>\n",
       "    <tr>\n",
       "      <th>Диморфотека</th>\n",
       "      <td>406.161017</td>\n",
       "      <td>224.0</td>\n",
       "      <td>230.00</td>\n",
       "      <td>1.0</td>\n",
       "    </tr>\n",
       "    <tr>\n",
       "      <th>Доротеантус</th>\n",
       "      <td>263.568916</td>\n",
       "      <td>220.0</td>\n",
       "      <td>221.25</td>\n",
       "      <td>6.0</td>\n",
       "    </tr>\n",
       "    <tr>\n",
       "      <th>Ирис</th>\n",
       "      <td>179.931159</td>\n",
       "      <td>185.0</td>\n",
       "      <td>185.00</td>\n",
       "      <td>1.0</td>\n",
       "    </tr>\n",
       "    <tr>\n",
       "      <th>Календула</th>\n",
       "      <td>207.357323</td>\n",
       "      <td>254.0</td>\n",
       "      <td>240.00</td>\n",
       "      <td>36.0</td>\n",
       "    </tr>\n",
       "    <tr>\n",
       "      <th>Колокольчик</th>\n",
       "      <td>119.131564</td>\n",
       "      <td>161.0</td>\n",
       "      <td>161.00</td>\n",
       "      <td>21.0</td>\n",
       "    </tr>\n",
       "    <tr>\n",
       "      <th>Космос</th>\n",
       "      <td>164.867797</td>\n",
       "      <td>267.0</td>\n",
       "      <td>267.00</td>\n",
       "      <td>1.0</td>\n",
       "    </tr>\n",
       "    <tr>\n",
       "      <th>Крокус</th>\n",
       "      <td>349.031746</td>\n",
       "      <td>257.5</td>\n",
       "      <td>257.50</td>\n",
       "      <td>1.0</td>\n",
       "    </tr>\n",
       "    <tr>\n",
       "      <th>Лаватера</th>\n",
       "      <td>249.992844</td>\n",
       "      <td>282.0</td>\n",
       "      <td>280.50</td>\n",
       "      <td>10.0</td>\n",
       "    </tr>\n",
       "    <tr>\n",
       "      <th>Левкой</th>\n",
       "      <td>187.465606</td>\n",
       "      <td>212.5</td>\n",
       "      <td>174.50</td>\n",
       "      <td>3.0</td>\n",
       "    </tr>\n",
       "    <tr>\n",
       "      <th>Лобулярия</th>\n",
       "      <td>96.834350</td>\n",
       "      <td>NaN</td>\n",
       "      <td>NaN</td>\n",
       "      <td>NaN</td>\n",
       "    </tr>\n",
       "    <tr>\n",
       "      <th>Люпин</th>\n",
       "      <td>235.440937</td>\n",
       "      <td>186.0</td>\n",
       "      <td>200.00</td>\n",
       "      <td>13.0</td>\n",
       "    </tr>\n",
       "    <tr>\n",
       "      <th>Малопа</th>\n",
       "      <td>76.070543</td>\n",
       "      <td>229.0</td>\n",
       "      <td>221.00</td>\n",
       "      <td>5.0</td>\n",
       "    </tr>\n",
       "    <tr>\n",
       "      <th>Мальва</th>\n",
       "      <td>136.562234</td>\n",
       "      <td>182.0</td>\n",
       "      <td>177.75</td>\n",
       "      <td>22.0</td>\n",
       "    </tr>\n",
       "    <tr>\n",
       "      <th>Нарцисс</th>\n",
       "      <td>68.166758</td>\n",
       "      <td>NaN</td>\n",
       "      <td>NaN</td>\n",
       "      <td>NaN</td>\n",
       "    </tr>\n",
       "    <tr>\n",
       "      <th>Настурция</th>\n",
       "      <td>154.859694</td>\n",
       "      <td>NaN</td>\n",
       "      <td>NaN</td>\n",
       "      <td>NaN</td>\n",
       "    </tr>\n",
       "    <tr>\n",
       "      <th>Незабудка</th>\n",
       "      <td>120.362398</td>\n",
       "      <td>161.0</td>\n",
       "      <td>161.00</td>\n",
       "      <td>1.0</td>\n",
       "    </tr>\n",
       "    <tr>\n",
       "      <th>Немезия</th>\n",
       "      <td>186.535207</td>\n",
       "      <td>226.0</td>\n",
       "      <td>227.50</td>\n",
       "      <td>21.0</td>\n",
       "    </tr>\n",
       "    <tr>\n",
       "      <th>Обриета</th>\n",
       "      <td>141.777778</td>\n",
       "      <td>167.0</td>\n",
       "      <td>NaN</td>\n",
       "      <td>NaN</td>\n",
       "    </tr>\n",
       "    <tr>\n",
       "      <th>Петуния</th>\n",
       "      <td>265.780822</td>\n",
       "      <td>319.5</td>\n",
       "      <td>319.50</td>\n",
       "      <td>1.0</td>\n",
       "    </tr>\n",
       "    <tr>\n",
       "      <th>Пион</th>\n",
       "      <td>222.565523</td>\n",
       "      <td>180.5</td>\n",
       "      <td>180.00</td>\n",
       "      <td>5.0</td>\n",
       "    </tr>\n",
       "    <tr>\n",
       "      <th>Подснежник</th>\n",
       "      <td>180.286207</td>\n",
       "      <td>218.5</td>\n",
       "      <td>199.00</td>\n",
       "      <td>2.0</td>\n",
       "    </tr>\n",
       "    <tr>\n",
       "      <th>Роза</th>\n",
       "      <td>260.877217</td>\n",
       "      <td>315.0</td>\n",
       "      <td>350.00</td>\n",
       "      <td>18.0</td>\n",
       "    </tr>\n",
       "    <tr>\n",
       "      <th>Ромашка</th>\n",
       "      <td>231.389365</td>\n",
       "      <td>191.0</td>\n",
       "      <td>189.00</td>\n",
       "      <td>7.0</td>\n",
       "    </tr>\n",
       "    <tr>\n",
       "      <th>Тюльпан</th>\n",
       "      <td>187.832210</td>\n",
       "      <td>190.0</td>\n",
       "      <td>188.75</td>\n",
       "      <td>8.0</td>\n",
       "    </tr>\n",
       "    <tr>\n",
       "      <th>Фасоль</th>\n",
       "      <td>133.631957</td>\n",
       "      <td>NaN</td>\n",
       "      <td>NaN</td>\n",
       "      <td>NaN</td>\n",
       "    </tr>\n",
       "    <tr>\n",
       "      <th>Функия</th>\n",
       "      <td>302.494737</td>\n",
       "      <td>171.5</td>\n",
       "      <td>171.50</td>\n",
       "      <td>1.0</td>\n",
       "    </tr>\n",
       "    <tr>\n",
       "      <th>Хризантема</th>\n",
       "      <td>195.738710</td>\n",
       "      <td>188.0</td>\n",
       "      <td>188.25</td>\n",
       "      <td>2.0</td>\n",
       "    </tr>\n",
       "  </tbody>\n",
       "</table>\n",
       "</div>"
      ],
      "text/plain": [
       "             time_spent  good_time_spent  median_time  stations\n",
       "name                                                           \n",
       "Агератум     337.802721            309.0       308.50       3.0\n",
       "Амарант      132.760012            187.5       169.00       5.0\n",
       "Аммобиум     256.708042            180.5       178.75       4.0\n",
       "Арктотис      73.879984            185.0       190.50       3.0\n",
       "Астильба     376.143149            423.0       435.50       4.0\n",
       "Бальзамин    134.508411            158.0       158.00       1.0\n",
       "Бархатцы     145.300328            181.5       181.50       1.0\n",
       "Бегония      163.200647            195.0       190.00       3.0\n",
       "Белоцветник  100.818966            154.0       154.00       1.0\n",
       "Василек      268.849897            264.0       252.00     103.0\n",
       "Вербена      190.016594            199.0       199.75       6.0\n",
       "Вероника     220.019402            212.0       223.00       5.0\n",
       "Гацания      160.685185            178.5       178.50       1.0\n",
       "Гвоздика     294.317308            229.0       234.75       2.0\n",
       "Гейхера      167.445947            204.0       192.00      12.0\n",
       "Гелихризум   290.138643            342.0       342.00       1.0\n",
       "Георгина     166.615555            279.0       289.00       9.0\n",
       "Годеция      113.958333              NaN          NaN       NaN\n",
       "Диморфотека  406.161017            224.0       230.00       1.0\n",
       "Доротеантус  263.568916            220.0       221.25       6.0\n",
       "Ирис         179.931159            185.0       185.00       1.0\n",
       "Календула    207.357323            254.0       240.00      36.0\n",
       "Колокольчик  119.131564            161.0       161.00      21.0\n",
       "Космос       164.867797            267.0       267.00       1.0\n",
       "Крокус       349.031746            257.5       257.50       1.0\n",
       "Лаватера     249.992844            282.0       280.50      10.0\n",
       "Левкой       187.465606            212.5       174.50       3.0\n",
       "Лобулярия     96.834350              NaN          NaN       NaN\n",
       "Люпин        235.440937            186.0       200.00      13.0\n",
       "Малопа        76.070543            229.0       221.00       5.0\n",
       "Мальва       136.562234            182.0       177.75      22.0\n",
       "Нарцисс       68.166758              NaN          NaN       NaN\n",
       "Настурция    154.859694              NaN          NaN       NaN\n",
       "Незабудка    120.362398            161.0       161.00       1.0\n",
       "Немезия      186.535207            226.0       227.50      21.0\n",
       "Обриета      141.777778            167.0          NaN       NaN\n",
       "Петуния      265.780822            319.5       319.50       1.0\n",
       "Пион         222.565523            180.5       180.00       5.0\n",
       "Подснежник   180.286207            218.5       199.00       2.0\n",
       "Роза         260.877217            315.0       350.00      18.0\n",
       "Ромашка      231.389365            191.0       189.00       7.0\n",
       "Тюльпан      187.832210            190.0       188.75       8.0\n",
       "Фасоль       133.631957              NaN          NaN       NaN\n",
       "Функия       302.494737            171.5       171.50       1.0\n",
       "Хризантема   195.738710            188.0       188.25       2.0"
      ]
     },
     "execution_count": 2,
     "metadata": {},
     "output_type": "execute_result"
    }
   ],
   "source": [
    "# print(final_stat)\n",
    "final_stat"
   ]
  },
  {
   "cell_type": "markdown",
   "metadata": {},
   "source": [
    "Данные бывают разной природы, и для всяких наблюдений есть подходящие графики. Например, если нужно продемонстрировать доли от 100%, строят круговую диаграмму. В методе `plot()` задают тип: `kind='pie'` (англ. pie chart — «диаграмма-пирог», похожа на круглый пирог, поделённый на дольки). Столбец с данными для диаграммы указывают в параметре y метода `plot()`.\n",
    "\n",
    "Нам же нужно отразить на графике факт, что каждая сеть АЗС — это отдельный объект, никак не связанный с ближайшими соседями в рейтинге. Для анализа таких наблюдений лучше подходит столбчатый график, он подчёркивает изолированность данных.\n",
    "\n",
    "Столбчатый график строят методом `plot()`, параметром передают тип графика: `kind='bar'` (англ. bar chart, «столбчатая диаграмма»). Однако график может быть не наглядным, ведь сетей много, и лишь несколько из них — крупные. Лучше объединить все мелкие сети и отрисовать как один столбец.\n",
    "\n",
    "Данные по малым сетям можно просто отбросить, но полезнее сгруппировать их в «сеть» под названием «Другие», то есть сделать **выборочное переименование**. Так вы и данные не потеряете, и покажете отличие малых сетей от старших братьев.\n",
    "\n",
    "Выборочно изменяют значения методом `where()` (от англ. «где»). Ему передают **2 параметра**: условие для булева массива и новые значения. Если условие равно `True`, соответствующее ему значение не изменится, а если `False` — поменяется на второй параметр метода. Возьмём, к примеру, список покупок:"
   ]
  },
  {
   "cell_type": "raw",
   "metadata": {},
   "source": [
    "shopping = pd.Series(['молоко', 'хамон', 'хлеб', 'картошка', 'огурцы'])\n",
    "print(shopping)  # список того, что нужно купить\n",
    "print()\n",
    "print(\n",
    "    shopping.where(shopping != 'хамон', 'обойдусь')\n",
    ")  # тот же список после проверки баланса карты"
   ]
  },
  {
   "cell_type": "raw",
   "metadata": {},
   "source": [
    "0 молоко\n",
    "1 хамон\n",
    "2 хлеб\n",
    "3 картошка\n",
    "4 огурцы\n",
    "dtype: object\n",
    "\n",
    "0 молоко\n",
    "1 обойдусь\n",
    "2 хлеб\n",
    "3 картошка\n",
    "4 огурцы\n",
    "dtype: object"
   ]
  },
  {
   "cell_type": "markdown",
   "metadata": {},
   "source": [
    "Мы написали для булева массива условие, проверяющее, не оказался ли элемент списка хамоном: `shopping != 'хамон'`. Получили массив вида: `[True, False, True, True, True]`. Строки со значением True не изменились, а хамон поменялся на значение `'обойдусь'`.\n",
    "\n",
    "При объединении данных случается отбрасывать пустые значения. Вы знакомы с методом `dropna()` из вводного курса. Напомним, что он удаляет пропущенные значения из датафрейма. Когда нужно удалить строки с пропусками в конкретном столбце, его название передают параметру `subset` метода `dropna()`:"
   ]
  },
  {
   "cell_type": "raw",
   "metadata": {},
   "source": [
    "dataframe.dropna(subset=['column_name'])"
   ]
  },
  {
   "cell_type": "markdown",
   "metadata": {},
   "source": [
    "### Задача 1/7\n",
    "\n",
    "Постройте столбчатый график длительности заправки на каждой сети АЗС по наилучшей оценке — медиане, упорядочив сети по возрастанию времени. Задайте размер графика 10 на 5 дюймов.\n",
    ">Отсортируйте значения таблицы `final_stat` методом `sort_values` по медианному времени.\n",
    "<br>Постройте график методом `plot()`. Передайте параметром `y` название столбца, по которому будет строиться график. Задайте столбчатый тип графика. В параметре `figsize` укажите размеры 10 на 5 дюймов."
   ]
  },
  {
   "cell_type": "code",
   "execution_count": 3,
   "metadata": {},
   "outputs": [
    {
     "data": {
      "image/png": "[encoded data removed]",
      "text/plain": [
       "<Figure size 720x360 with 1 Axes>"
      ]
     },
     "metadata": {
      "needs_background": "light"
     },
     "output_type": "display_data"
    }
   ],
   "source": [
    "final_stat = (\n",
    "    final_stat\n",
    "    .dropna(subset=['median_time'])\n",
    "    .sort_values('median_time')\n",
    "    .plot(y = ['median_time'], figsize = (10, 5), grid = True, kind = 'bar')\n",
    ")"
   ]
  },
  {
   "cell_type": "markdown",
   "metadata": {},
   "source": [
    "Хорошо видно, как различаются сети. Есть группа сетей, где заправляют быстрее 200 секунд, и группа более медлительных конкурентов с диапазоном 200-350 секунд. Утешительный приз в конкурсе\"Скорость без границ\" получает сеть \"Астильба\", где ухитряются заправлять дольше 400 секунд. Наверное, там есть подкачка, телевизор и вкусный кофе.\n",
    "\n",
    "А сетям с недостоверными данными остались только пустые значения. Избавимся от таких сетей методом `dropna()`"
   ]
  },
  {
   "cell_type": "markdown",
   "metadata": {},
   "source": [
    "### Задача 2/7\n",
    "Постройте столбчатый график медианной продолжительности заправки на каждой сети, упорядочив их по возрастанию времени. Пустые значения отбросьте методом `dropna()`. Задайте размер графика 10 на 5 дюймов. Добавьте линии сетки. Всё это сделайте в одно действие, не меняя переменную `final_stat`.\n",
    ">Отбросьте пустые значения методом `dropna()`, передав параметр `subset=['median_time']`. Отсортируйте значения по медианному времени.<br>\n",
    "В `plot()` передайте параметром `y` название столбца, по которому будет построен график. Задайте столбчатый тип графика. В параметре `figsize` укажите размеры 10 на 5 дюймов. Присвойте значение `True` параметру `grid`, отвечающему за линии сетки."
   ]
  },
  {
   "cell_type": "code",
   "execution_count": 32,
   "metadata": {},
   "outputs": [],
   "source": [
    "# прекод\n",
    "import pandas as pd\n",
    "\n",
    "data = pd.read_csv('../datasets/visits.csv', sep='\\t')\n",
    "data['local_time'] = pd.to_datetime(\n",
    "    data['date_time'], format='%Y-%m-%dT%H:%M:%S'\n",
    ") + pd.Timedelta(hours=3)\n",
    "data['date_hour'] = data['local_time'].dt.round('1H')\n",
    "data['too_fast'] = data['time_spent'] < 60\n",
    "data['too_slow'] = data['time_spent'] > 1000\n",
    "\n",
    "too_fast_stat = data.pivot_table(index='id', values='too_fast')\n",
    "good_ids = too_fast_stat.query('too_fast < 0.5')\n",
    "good_data = data.query('id in @good_ids.index')\n",
    "good_data = good_data.query('60 <= time_spent <= 1000')\n",
    "\n",
    "station_stat = data.pivot_table(\n",
    "    index='id', values='time_spent', aggfunc='median'\n",
    ")\n",
    "good_station_stat = good_data.pivot_table(\n",
    "    index='id', values='time_spent', aggfunc='median'\n",
    ")\n",
    "\n",
    "stat = data.pivot_table(index='name', values='time_spent')\n",
    "good_stat = good_data.pivot_table(\n",
    "    index='name', values='time_spent', aggfunc='median'\n",
    ")\n",
    "stat['good_time_spent'] = good_stat['time_spent']\n",
    "\n",
    "name_stat = data.pivot_table(index='name', values='time_spent')\n",
    "good_name_stat = good_data.pivot_table(\n",
    "    index='name', values='time_spent', aggfunc='median'\n",
    ")\n",
    "name_stat['good_time_spent'] = good_name_stat['time_spent']\n",
    "\n",
    "id_name = good_data.pivot_table(\n",
    "    index='id', values='name', aggfunc=['first', 'count']\n",
    ")\n",
    "id_name.columns = ['name', 'count']\n",
    "station_stat_full = id_name.join(good_station_stat)\n",
    "\n",
    "good_stat2 = station_stat_full.query('count > 30').pivot_table(\n",
    "    index='name', values='time_spent', aggfunc=['median', 'count']\n",
    ")\n",
    "good_stat2.columns = ['median_time', 'stations']\n",
    "final_stat = stat.join(good_stat2)"
   ]
  },
  {
   "cell_type": "code",
   "execution_count": 33,
   "metadata": {},
   "outputs": [
    {
     "data": {
      "text/plain": [
       "<AxesSubplot:xlabel='name'>"
      ]
     },
     "execution_count": 33,
     "metadata": {},
     "output_type": "execute_result"
    },
    {
     "data": {
      "image/png": "[encoded data removed]",
      "text/plain": [
       "<Figure size 720x360 with 1 Axes>"
      ]
     },
     "metadata": {
      "needs_background": "light"
     },
     "output_type": "display_data"
    }
   ],
   "source": [
    "# можно не разбивать на строки\n",
    "final_stat.dropna(\n",
    "    subset = ['median_time']\n",
    ").sort_values(\n",
    "    'median_time'\n",
    ").plot(\n",
    "    y = 'median_time', kind = 'bar', grid = True, figsize = (10,5)\n",
    ")"
   ]
  },
  {
   "cell_type": "markdown",
   "metadata": {},
   "source": [
    "Теперь ничего лишнего. Хорошо видна условная граница, разделяющая \"быстры\" и \"медленные\" сети.\n",
    "\n",
    "Что дает этот факт? Клиентам \"быстрых\" АЗС оплата заправки через Яндекс.Навигатор вряд ли принесет много ценности. Они и так заправляются и платят быстро. А вот клиентам АЗС, чьи процессы отлажены не так хорошо, Я.Навигатор поможет проводить меньше времени на станции, при этом сами АЗС могли бы значительно улучшить показатели.\n",
    "\n",
    "От аналитика ждут, что он укажет, кого \"избрать\" ключевым партнером. А какая \"медленная\" сеть всех крупнее, всех масштабней и виднее?"
   ]
  },
  {
   "cell_type": "markdown",
   "metadata": {},
   "source": [
    "### Коды задач 1/7 и 2/7 очень похожи \n",
    "**Комментарий от поддержки:**\n",
    "\n",
    "Во второй задаче вам нужно отбросить пустые значения в столбце `median_time`, а также добавить сетку. В первом варианте нужно отобразить пустые значения, а при ваших вариантах их нет. Видим, что оба варианта похожи, но в первом вы меняете значение `final_stat`.\n",
    "\n",
    "<center>~~~~~</center>"
   ]
  },
  {
   "cell_type": "markdown",
   "metadata": {},
   "source": [
    "### Задача 3/7\n",
    "Выявите самые крупные сети — постройте гистограмму числа АЗС внутри сетей. Поделите значения на 100 корзин. Все необходимые данные в таблице `final_stat`.\n",
    ">Найдите в `final_stat` столбец, где указано число АЗС в сети. Постройте гистограмму методом `hist()`. Передайте первым параметром название столбца, укажите bins=100."
   ]
  },
  {
   "cell_type": "code",
   "execution_count": 6,
   "metadata": {},
   "outputs": [
    {
     "data": {
      "text/html": [
       "<div>\n",
       "<style scoped>\n",
       "    .dataframe tbody tr th:only-of-type {\n",
       "        vertical-align: middle;\n",
       "    }\n",
       "\n",
       "    .dataframe tbody tr th {\n",
       "        vertical-align: top;\n",
       "    }\n",
       "\n",
       "    .dataframe thead th {\n",
       "        text-align: right;\n",
       "    }\n",
       "</style>\n",
       "<table border=\"1\" class=\"dataframe\">\n",
       "  <thead>\n",
       "    <tr style=\"text-align: right;\">\n",
       "      <th></th>\n",
       "      <th>time_spent</th>\n",
       "      <th>good_time_spent</th>\n",
       "      <th>median_time</th>\n",
       "      <th>stations</th>\n",
       "    </tr>\n",
       "    <tr>\n",
       "      <th>name</th>\n",
       "      <th></th>\n",
       "      <th></th>\n",
       "      <th></th>\n",
       "      <th></th>\n",
       "    </tr>\n",
       "  </thead>\n",
       "  <tbody>\n",
       "    <tr>\n",
       "      <th>Агератум</th>\n",
       "      <td>337.802721</td>\n",
       "      <td>309.0</td>\n",
       "      <td>308.50</td>\n",
       "      <td>3.0</td>\n",
       "    </tr>\n",
       "    <tr>\n",
       "      <th>Амарант</th>\n",
       "      <td>132.760012</td>\n",
       "      <td>187.5</td>\n",
       "      <td>169.00</td>\n",
       "      <td>5.0</td>\n",
       "    </tr>\n",
       "    <tr>\n",
       "      <th>Аммобиум</th>\n",
       "      <td>256.708042</td>\n",
       "      <td>180.5</td>\n",
       "      <td>178.75</td>\n",
       "      <td>4.0</td>\n",
       "    </tr>\n",
       "    <tr>\n",
       "      <th>Арктотис</th>\n",
       "      <td>73.879984</td>\n",
       "      <td>185.0</td>\n",
       "      <td>190.50</td>\n",
       "      <td>3.0</td>\n",
       "    </tr>\n",
       "    <tr>\n",
       "      <th>Астильба</th>\n",
       "      <td>376.143149</td>\n",
       "      <td>423.0</td>\n",
       "      <td>435.50</td>\n",
       "      <td>4.0</td>\n",
       "    </tr>\n",
       "    <tr>\n",
       "      <th>Бальзамин</th>\n",
       "      <td>134.508411</td>\n",
       "      <td>158.0</td>\n",
       "      <td>158.00</td>\n",
       "      <td>1.0</td>\n",
       "    </tr>\n",
       "    <tr>\n",
       "      <th>Бархатцы</th>\n",
       "      <td>145.300328</td>\n",
       "      <td>181.5</td>\n",
       "      <td>181.50</td>\n",
       "      <td>1.0</td>\n",
       "    </tr>\n",
       "    <tr>\n",
       "      <th>Бегония</th>\n",
       "      <td>163.200647</td>\n",
       "      <td>195.0</td>\n",
       "      <td>190.00</td>\n",
       "      <td>3.0</td>\n",
       "    </tr>\n",
       "    <tr>\n",
       "      <th>Белоцветник</th>\n",
       "      <td>100.818966</td>\n",
       "      <td>154.0</td>\n",
       "      <td>154.00</td>\n",
       "      <td>1.0</td>\n",
       "    </tr>\n",
       "    <tr>\n",
       "      <th>Василек</th>\n",
       "      <td>268.849897</td>\n",
       "      <td>264.0</td>\n",
       "      <td>252.00</td>\n",
       "      <td>103.0</td>\n",
       "    </tr>\n",
       "    <tr>\n",
       "      <th>Вербена</th>\n",
       "      <td>190.016594</td>\n",
       "      <td>199.0</td>\n",
       "      <td>199.75</td>\n",
       "      <td>6.0</td>\n",
       "    </tr>\n",
       "    <tr>\n",
       "      <th>Вероника</th>\n",
       "      <td>220.019402</td>\n",
       "      <td>212.0</td>\n",
       "      <td>223.00</td>\n",
       "      <td>5.0</td>\n",
       "    </tr>\n",
       "    <tr>\n",
       "      <th>Гацания</th>\n",
       "      <td>160.685185</td>\n",
       "      <td>178.5</td>\n",
       "      <td>178.50</td>\n",
       "      <td>1.0</td>\n",
       "    </tr>\n",
       "    <tr>\n",
       "      <th>Гвоздика</th>\n",
       "      <td>294.317308</td>\n",
       "      <td>229.0</td>\n",
       "      <td>234.75</td>\n",
       "      <td>2.0</td>\n",
       "    </tr>\n",
       "    <tr>\n",
       "      <th>Гейхера</th>\n",
       "      <td>167.445947</td>\n",
       "      <td>204.0</td>\n",
       "      <td>192.00</td>\n",
       "      <td>12.0</td>\n",
       "    </tr>\n",
       "    <tr>\n",
       "      <th>Гелихризум</th>\n",
       "      <td>290.138643</td>\n",
       "      <td>342.0</td>\n",
       "      <td>342.00</td>\n",
       "      <td>1.0</td>\n",
       "    </tr>\n",
       "    <tr>\n",
       "      <th>Георгина</th>\n",
       "      <td>166.615555</td>\n",
       "      <td>279.0</td>\n",
       "      <td>289.00</td>\n",
       "      <td>9.0</td>\n",
       "    </tr>\n",
       "    <tr>\n",
       "      <th>Годеция</th>\n",
       "      <td>113.958333</td>\n",
       "      <td>NaN</td>\n",
       "      <td>NaN</td>\n",
       "      <td>NaN</td>\n",
       "    </tr>\n",
       "    <tr>\n",
       "      <th>Диморфотека</th>\n",
       "      <td>406.161017</td>\n",
       "      <td>224.0</td>\n",
       "      <td>230.00</td>\n",
       "      <td>1.0</td>\n",
       "    </tr>\n",
       "    <tr>\n",
       "      <th>Доротеантус</th>\n",
       "      <td>263.568916</td>\n",
       "      <td>220.0</td>\n",
       "      <td>221.25</td>\n",
       "      <td>6.0</td>\n",
       "    </tr>\n",
       "    <tr>\n",
       "      <th>Ирис</th>\n",
       "      <td>179.931159</td>\n",
       "      <td>185.0</td>\n",
       "      <td>185.00</td>\n",
       "      <td>1.0</td>\n",
       "    </tr>\n",
       "    <tr>\n",
       "      <th>Календула</th>\n",
       "      <td>207.357323</td>\n",
       "      <td>254.0</td>\n",
       "      <td>240.00</td>\n",
       "      <td>36.0</td>\n",
       "    </tr>\n",
       "    <tr>\n",
       "      <th>Колокольчик</th>\n",
       "      <td>119.131564</td>\n",
       "      <td>161.0</td>\n",
       "      <td>161.00</td>\n",
       "      <td>21.0</td>\n",
       "    </tr>\n",
       "    <tr>\n",
       "      <th>Космос</th>\n",
       "      <td>164.867797</td>\n",
       "      <td>267.0</td>\n",
       "      <td>267.00</td>\n",
       "      <td>1.0</td>\n",
       "    </tr>\n",
       "    <tr>\n",
       "      <th>Крокус</th>\n",
       "      <td>349.031746</td>\n",
       "      <td>257.5</td>\n",
       "      <td>257.50</td>\n",
       "      <td>1.0</td>\n",
       "    </tr>\n",
       "    <tr>\n",
       "      <th>Лаватера</th>\n",
       "      <td>249.992844</td>\n",
       "      <td>282.0</td>\n",
       "      <td>280.50</td>\n",
       "      <td>10.0</td>\n",
       "    </tr>\n",
       "    <tr>\n",
       "      <th>Левкой</th>\n",
       "      <td>187.465606</td>\n",
       "      <td>212.5</td>\n",
       "      <td>174.50</td>\n",
       "      <td>3.0</td>\n",
       "    </tr>\n",
       "    <tr>\n",
       "      <th>Лобулярия</th>\n",
       "      <td>96.834350</td>\n",
       "      <td>NaN</td>\n",
       "      <td>NaN</td>\n",
       "      <td>NaN</td>\n",
       "    </tr>\n",
       "    <tr>\n",
       "      <th>Люпин</th>\n",
       "      <td>235.440937</td>\n",
       "      <td>186.0</td>\n",
       "      <td>200.00</td>\n",
       "      <td>13.0</td>\n",
       "    </tr>\n",
       "    <tr>\n",
       "      <th>Малопа</th>\n",
       "      <td>76.070543</td>\n",
       "      <td>229.0</td>\n",
       "      <td>221.00</td>\n",
       "      <td>5.0</td>\n",
       "    </tr>\n",
       "    <tr>\n",
       "      <th>Мальва</th>\n",
       "      <td>136.562234</td>\n",
       "      <td>182.0</td>\n",
       "      <td>177.75</td>\n",
       "      <td>22.0</td>\n",
       "    </tr>\n",
       "    <tr>\n",
       "      <th>Нарцисс</th>\n",
       "      <td>68.166758</td>\n",
       "      <td>NaN</td>\n",
       "      <td>NaN</td>\n",
       "      <td>NaN</td>\n",
       "    </tr>\n",
       "    <tr>\n",
       "      <th>Настурция</th>\n",
       "      <td>154.859694</td>\n",
       "      <td>NaN</td>\n",
       "      <td>NaN</td>\n",
       "      <td>NaN</td>\n",
       "    </tr>\n",
       "    <tr>\n",
       "      <th>Незабудка</th>\n",
       "      <td>120.362398</td>\n",
       "      <td>161.0</td>\n",
       "      <td>161.00</td>\n",
       "      <td>1.0</td>\n",
       "    </tr>\n",
       "    <tr>\n",
       "      <th>Немезия</th>\n",
       "      <td>186.535207</td>\n",
       "      <td>226.0</td>\n",
       "      <td>227.50</td>\n",
       "      <td>21.0</td>\n",
       "    </tr>\n",
       "    <tr>\n",
       "      <th>Обриета</th>\n",
       "      <td>141.777778</td>\n",
       "      <td>167.0</td>\n",
       "      <td>NaN</td>\n",
       "      <td>NaN</td>\n",
       "    </tr>\n",
       "    <tr>\n",
       "      <th>Петуния</th>\n",
       "      <td>265.780822</td>\n",
       "      <td>319.5</td>\n",
       "      <td>319.50</td>\n",
       "      <td>1.0</td>\n",
       "    </tr>\n",
       "    <tr>\n",
       "      <th>Пион</th>\n",
       "      <td>222.565523</td>\n",
       "      <td>180.5</td>\n",
       "      <td>180.00</td>\n",
       "      <td>5.0</td>\n",
       "    </tr>\n",
       "    <tr>\n",
       "      <th>Подснежник</th>\n",
       "      <td>180.286207</td>\n",
       "      <td>218.5</td>\n",
       "      <td>199.00</td>\n",
       "      <td>2.0</td>\n",
       "    </tr>\n",
       "    <tr>\n",
       "      <th>Роза</th>\n",
       "      <td>260.877217</td>\n",
       "      <td>315.0</td>\n",
       "      <td>350.00</td>\n",
       "      <td>18.0</td>\n",
       "    </tr>\n",
       "    <tr>\n",
       "      <th>Ромашка</th>\n",
       "      <td>231.389365</td>\n",
       "      <td>191.0</td>\n",
       "      <td>189.00</td>\n",
       "      <td>7.0</td>\n",
       "    </tr>\n",
       "    <tr>\n",
       "      <th>Тюльпан</th>\n",
       "      <td>187.832210</td>\n",
       "      <td>190.0</td>\n",
       "      <td>188.75</td>\n",
       "      <td>8.0</td>\n",
       "    </tr>\n",
       "    <tr>\n",
       "      <th>Фасоль</th>\n",
       "      <td>133.631957</td>\n",
       "      <td>NaN</td>\n",
       "      <td>NaN</td>\n",
       "      <td>NaN</td>\n",
       "    </tr>\n",
       "    <tr>\n",
       "      <th>Функия</th>\n",
       "      <td>302.494737</td>\n",
       "      <td>171.5</td>\n",
       "      <td>171.50</td>\n",
       "      <td>1.0</td>\n",
       "    </tr>\n",
       "    <tr>\n",
       "      <th>Хризантема</th>\n",
       "      <td>195.738710</td>\n",
       "      <td>188.0</td>\n",
       "      <td>188.25</td>\n",
       "      <td>2.0</td>\n",
       "    </tr>\n",
       "  </tbody>\n",
       "</table>\n",
       "</div>"
      ],
      "text/plain": [
       "             time_spent  good_time_spent  median_time  stations\n",
       "name                                                           \n",
       "Агератум     337.802721            309.0       308.50       3.0\n",
       "Амарант      132.760012            187.5       169.00       5.0\n",
       "Аммобиум     256.708042            180.5       178.75       4.0\n",
       "Арктотис      73.879984            185.0       190.50       3.0\n",
       "Астильба     376.143149            423.0       435.50       4.0\n",
       "Бальзамин    134.508411            158.0       158.00       1.0\n",
       "Бархатцы     145.300328            181.5       181.50       1.0\n",
       "Бегония      163.200647            195.0       190.00       3.0\n",
       "Белоцветник  100.818966            154.0       154.00       1.0\n",
       "Василек      268.849897            264.0       252.00     103.0\n",
       "Вербена      190.016594            199.0       199.75       6.0\n",
       "Вероника     220.019402            212.0       223.00       5.0\n",
       "Гацания      160.685185            178.5       178.50       1.0\n",
       "Гвоздика     294.317308            229.0       234.75       2.0\n",
       "Гейхера      167.445947            204.0       192.00      12.0\n",
       "Гелихризум   290.138643            342.0       342.00       1.0\n",
       "Георгина     166.615555            279.0       289.00       9.0\n",
       "Годеция      113.958333              NaN          NaN       NaN\n",
       "Диморфотека  406.161017            224.0       230.00       1.0\n",
       "Доротеантус  263.568916            220.0       221.25       6.0\n",
       "Ирис         179.931159            185.0       185.00       1.0\n",
       "Календула    207.357323            254.0       240.00      36.0\n",
       "Колокольчик  119.131564            161.0       161.00      21.0\n",
       "Космос       164.867797            267.0       267.00       1.0\n",
       "Крокус       349.031746            257.5       257.50       1.0\n",
       "Лаватера     249.992844            282.0       280.50      10.0\n",
       "Левкой       187.465606            212.5       174.50       3.0\n",
       "Лобулярия     96.834350              NaN          NaN       NaN\n",
       "Люпин        235.440937            186.0       200.00      13.0\n",
       "Малопа        76.070543            229.0       221.00       5.0\n",
       "Мальва       136.562234            182.0       177.75      22.0\n",
       "Нарцисс       68.166758              NaN          NaN       NaN\n",
       "Настурция    154.859694              NaN          NaN       NaN\n",
       "Незабудка    120.362398            161.0       161.00       1.0\n",
       "Немезия      186.535207            226.0       227.50      21.0\n",
       "Обриета      141.777778            167.0          NaN       NaN\n",
       "Петуния      265.780822            319.5       319.50       1.0\n",
       "Пион         222.565523            180.5       180.00       5.0\n",
       "Подснежник   180.286207            218.5       199.00       2.0\n",
       "Роза         260.877217            315.0       350.00      18.0\n",
       "Ромашка      231.389365            191.0       189.00       7.0\n",
       "Тюльпан      187.832210            190.0       188.75       8.0\n",
       "Фасоль       133.631957              NaN          NaN       NaN\n",
       "Функия       302.494737            171.5       171.50       1.0\n",
       "Хризантема   195.738710            188.0       188.25       2.0"
      ]
     },
     "execution_count": 6,
     "metadata": {},
     "output_type": "execute_result"
    }
   ],
   "source": [
    "# print(final_stat)\n",
    "final_stat"
   ]
  },
  {
   "cell_type": "code",
   "execution_count": 7,
   "metadata": {},
   "outputs": [
    {
     "data": {
      "text/plain": [
       "array([[<AxesSubplot:title={'center':'stations'}>]], dtype=object)"
      ]
     },
     "execution_count": 7,
     "metadata": {},
     "output_type": "execute_result"
    },
    {
     "data": {
      "image/png": "[encoded data removed]",
      "text/plain": [
       "<Figure size 432x288 with 1 Axes>"
      ]
     },
     "metadata": {
      "needs_background": "light"
     },
     "output_type": "display_data"
    }
   ],
   "source": [
    "# первым параметром гистограммы задаю столбец 'stations'\n",
    "final_stat.hist('stations', bins = 100)"
   ]
  },
  {
   "cell_type": "markdown",
   "metadata": {},
   "source": [
    "\"Сеть\" — это звучит гордо! Особенно когда в сети всего одна АЗС. У нас таких \"гордых\" целых 15. Есть группа таких, у которых меньше 10 станций. Есть и отдельные большие сети.\n",
    "\n",
    "Крупные рыбы интересуют нас в первую очередь, а мальков нужно собрать в одной группе."
   ]
  },
  {
   "cell_type": "markdown",
   "metadata": {},
   "source": [
    "### Задача 4/7\n",
    "Выберите из `final_stat` сети, в которых более 10 АЗС. Результат сохраните в таблице `big_nets_stat`. Выведите её на экран.\n",
    ">Методом `query()` получите выборку сетей АЗС с количеством станций больше 10."
   ]
  },
  {
   "cell_type": "code",
   "execution_count": 8,
   "metadata": {},
   "outputs": [
    {
     "data": {
      "text/html": [
       "<div>\n",
       "<style scoped>\n",
       "    .dataframe tbody tr th:only-of-type {\n",
       "        vertical-align: middle;\n",
       "    }\n",
       "\n",
       "    .dataframe tbody tr th {\n",
       "        vertical-align: top;\n",
       "    }\n",
       "\n",
       "    .dataframe thead th {\n",
       "        text-align: right;\n",
       "    }\n",
       "</style>\n",
       "<table border=\"1\" class=\"dataframe\">\n",
       "  <thead>\n",
       "    <tr style=\"text-align: right;\">\n",
       "      <th></th>\n",
       "      <th>time_spent</th>\n",
       "      <th>good_time_spent</th>\n",
       "      <th>median_time</th>\n",
       "      <th>stations</th>\n",
       "    </tr>\n",
       "    <tr>\n",
       "      <th>name</th>\n",
       "      <th></th>\n",
       "      <th></th>\n",
       "      <th></th>\n",
       "      <th></th>\n",
       "    </tr>\n",
       "  </thead>\n",
       "  <tbody>\n",
       "    <tr>\n",
       "      <th>Василек</th>\n",
       "      <td>268.849897</td>\n",
       "      <td>264.0</td>\n",
       "      <td>252.00</td>\n",
       "      <td>103.0</td>\n",
       "    </tr>\n",
       "    <tr>\n",
       "      <th>Гейхера</th>\n",
       "      <td>167.445947</td>\n",
       "      <td>204.0</td>\n",
       "      <td>192.00</td>\n",
       "      <td>12.0</td>\n",
       "    </tr>\n",
       "    <tr>\n",
       "      <th>Календула</th>\n",
       "      <td>207.357323</td>\n",
       "      <td>254.0</td>\n",
       "      <td>240.00</td>\n",
       "      <td>36.0</td>\n",
       "    </tr>\n",
       "    <tr>\n",
       "      <th>Колокольчик</th>\n",
       "      <td>119.131564</td>\n",
       "      <td>161.0</td>\n",
       "      <td>161.00</td>\n",
       "      <td>21.0</td>\n",
       "    </tr>\n",
       "    <tr>\n",
       "      <th>Люпин</th>\n",
       "      <td>235.440937</td>\n",
       "      <td>186.0</td>\n",
       "      <td>200.00</td>\n",
       "      <td>13.0</td>\n",
       "    </tr>\n",
       "    <tr>\n",
       "      <th>Мальва</th>\n",
       "      <td>136.562234</td>\n",
       "      <td>182.0</td>\n",
       "      <td>177.75</td>\n",
       "      <td>22.0</td>\n",
       "    </tr>\n",
       "    <tr>\n",
       "      <th>Немезия</th>\n",
       "      <td>186.535207</td>\n",
       "      <td>226.0</td>\n",
       "      <td>227.50</td>\n",
       "      <td>21.0</td>\n",
       "    </tr>\n",
       "    <tr>\n",
       "      <th>Роза</th>\n",
       "      <td>260.877217</td>\n",
       "      <td>315.0</td>\n",
       "      <td>350.00</td>\n",
       "      <td>18.0</td>\n",
       "    </tr>\n",
       "  </tbody>\n",
       "</table>\n",
       "</div>"
      ],
      "text/plain": [
       "             time_spent  good_time_spent  median_time  stations\n",
       "name                                                           \n",
       "Василек      268.849897            264.0       252.00     103.0\n",
       "Гейхера      167.445947            204.0       192.00      12.0\n",
       "Календула    207.357323            254.0       240.00      36.0\n",
       "Колокольчик  119.131564            161.0       161.00      21.0\n",
       "Люпин        235.440937            186.0       200.00      13.0\n",
       "Мальва       136.562234            182.0       177.75      22.0\n",
       "Немезия      186.535207            226.0       227.50      21.0\n",
       "Роза         260.877217            315.0       350.00      18.0"
      ]
     },
     "execution_count": 8,
     "metadata": {},
     "output_type": "execute_result"
    }
   ],
   "source": [
    "big_nets_stat = final_stat.query('stations > 10')\n",
    "#print(big_nets_stat)\n",
    "big_nets_stat"
   ]
  },
  {
   "cell_type": "markdown",
   "metadata": {},
   "source": [
    "Вы получили большую восьмерку. Это лучше, чем двадцатка — проще договориться."
   ]
  },
  {
   "cell_type": "markdown",
   "metadata": {},
   "source": [
    "### Задача 5/7\n",
    "Создайте в `station_stat_full` новый столбец `'group_name'`, где для сетей АЗС из `big_nets_stat` названия останутся прежними, а имена остальных измените на 'Другие'. Распечатайте первые 5 строк `station_stat_full`.\n",
    ">Примените метод `where()` к столбцу `'name'` из `station_stat_full`. Первым параметром передайте условие булева массива, где `True` соответствует именам крупных сетей, которые должны остаться без изменений. Список таких сетей — это `big_nets_stat.index`. Для проверки вхождения имени в список примените метод `isin()`. Вторым параметром `where()` передайте новое название 'Другие'.\n",
    "\n",
    ">Выведите на экран первые значения `station_stat_full` методом `head()`."
   ]
  },
  {
   "cell_type": "code",
   "execution_count": 29,
   "metadata": {},
   "outputs": [
    {
     "data": {
      "text/html": [
       "<div>\n",
       "<style scoped>\n",
       "    .dataframe tbody tr th:only-of-type {\n",
       "        vertical-align: middle;\n",
       "    }\n",
       "\n",
       "    .dataframe tbody tr th {\n",
       "        vertical-align: top;\n",
       "    }\n",
       "\n",
       "    .dataframe thead th {\n",
       "        text-align: right;\n",
       "    }\n",
       "</style>\n",
       "<table border=\"1\" class=\"dataframe\">\n",
       "  <thead>\n",
       "    <tr style=\"text-align: right;\">\n",
       "      <th></th>\n",
       "      <th>name</th>\n",
       "      <th>count</th>\n",
       "      <th>time_spent</th>\n",
       "      <th>group_name</th>\n",
       "    </tr>\n",
       "    <tr>\n",
       "      <th>id</th>\n",
       "      <th></th>\n",
       "      <th></th>\n",
       "      <th></th>\n",
       "      <th></th>\n",
       "    </tr>\n",
       "  </thead>\n",
       "  <tbody>\n",
       "    <tr>\n",
       "      <th>00ca1b70</th>\n",
       "      <td>Вероника</td>\n",
       "      <td>131</td>\n",
       "      <td>166.0</td>\n",
       "      <td>Другие</td>\n",
       "    </tr>\n",
       "    <tr>\n",
       "      <th>0178ce70</th>\n",
       "      <td>Василек</td>\n",
       "      <td>164</td>\n",
       "      <td>234.5</td>\n",
       "      <td>Василек</td>\n",
       "    </tr>\n",
       "    <tr>\n",
       "      <th>01abf4e9</th>\n",
       "      <td>Гацания</td>\n",
       "      <td>30</td>\n",
       "      <td>181.5</td>\n",
       "      <td>Другие</td>\n",
       "    </tr>\n",
       "    <tr>\n",
       "      <th>030a9067</th>\n",
       "      <td>Колокольчик</td>\n",
       "      <td>228</td>\n",
       "      <td>135.5</td>\n",
       "      <td>Колокольчик</td>\n",
       "    </tr>\n",
       "    <tr>\n",
       "      <th>03740f2d</th>\n",
       "      <td>Василек</td>\n",
       "      <td>157</td>\n",
       "      <td>289.0</td>\n",
       "      <td>Василек</td>\n",
       "    </tr>\n",
       "  </tbody>\n",
       "</table>\n",
       "</div>"
      ],
      "text/plain": [
       "                 name  count  time_spent   group_name\n",
       "id                                                   \n",
       "00ca1b70     Вероника    131       166.0       Другие\n",
       "0178ce70      Василек    164       234.5      Василек\n",
       "01abf4e9      Гацания     30       181.5       Другие\n",
       "030a9067  Колокольчик    228       135.5  Колокольчик\n",
       "03740f2d      Василек    157       289.0      Василек"
      ]
     },
     "execution_count": 29,
     "metadata": {},
     "output_type": "execute_result"
    }
   ],
   "source": [
    "station_stat_full['group_name'] = (\n",
    "   station_stat_full['name']\n",
    "   .where(station_stat_full['name'].isin(big_nets_stat.index), 'Другие')\n",
    ")\n",
    "#print(station_stat_full.head())\n",
    "station_stat_full.head()"
   ]
  },
  {
   "cell_type": "markdown",
   "metadata": {},
   "source": [
    "Да, иногда аналитические выводы неприлично похожи на сюжеты бульварных романов: \"Василек остался прежним, а Вероника стала другой\". Не обращайте внимания, вы-то все правильно сделали.\n"
   ]
  },
  {
   "cell_type": "markdown",
   "metadata": {},
   "source": [
    "### Задача 6/7\n",
    "Соберите таблицу с потенциальными ключевыми партнёрами. Повторите знакомые вычисления, на этот раз *группируя АЗС не по name*, а *по group_name*.\n",
    "\n",
    "Создайте переменную `stat_grouped`. Сперва сделайте срез по `station_stat_full`: выберите только те АЗС, на которых было более 30 заправок. Затем по этой выборке постройте сводную таблицу расчёта медианной продолжительности заправки: сгруппируйте по `'group_name'`, значением укажите `'time_spent'`, параметру `aggfunc` передайте список функций `'median'` и `'count'`.\n",
    "\n",
    "Дайте имена `'time_spent'` и `'count'` новоиспечённым столбцам в `stat_grouped`.\n",
    "\n",
    "Отсортируйте `stat_grouped` по возрастанию значений столбца `'time_spent'`. Укажите параметр, необходимый для сохранения результатов сортировки в `stat_grouped`.\n",
    "\n",
    "Распечатайте значения `stat_grouped`.\n",
    ">Осуществите срез данных `station_stat_full` условием `query('count > 30')`.<br>\n",
    "Постройте сводную таблицу по выборке, полученной после среза. В `index` передайте `'group_name'`, в `values` — `'time_spent'`, а в `aggfunc` — список `['median', 'count']`.<br>\n",
    "Атрибуту `columns` таблицы `stat_grouped` передайте список из новых названий столбцов: `['time_spent', 'count']`.<br>\n",
    "Отсортируйте значения `stat_grouped` по возрастанию столбца `'time_spent'`. В параметре `inplace` сохраните значение `True`."
   ]
  },
  {
   "cell_type": "code",
   "execution_count": 30,
   "metadata": {},
   "outputs": [
    {
     "data": {
      "text/html": [
       "<div>\n",
       "<style scoped>\n",
       "    .dataframe tbody tr th:only-of-type {\n",
       "        vertical-align: middle;\n",
       "    }\n",
       "\n",
       "    .dataframe tbody tr th {\n",
       "        vertical-align: top;\n",
       "    }\n",
       "\n",
       "    .dataframe thead th {\n",
       "        text-align: right;\n",
       "    }\n",
       "</style>\n",
       "<table border=\"1\" class=\"dataframe\">\n",
       "  <thead>\n",
       "    <tr style=\"text-align: right;\">\n",
       "      <th></th>\n",
       "      <th>time_spent</th>\n",
       "      <th>count</th>\n",
       "    </tr>\n",
       "    <tr>\n",
       "      <th>group_name</th>\n",
       "      <th></th>\n",
       "      <th></th>\n",
       "    </tr>\n",
       "  </thead>\n",
       "  <tbody>\n",
       "    <tr>\n",
       "      <th>Колокольчик</th>\n",
       "      <td>161.00</td>\n",
       "      <td>21</td>\n",
       "    </tr>\n",
       "    <tr>\n",
       "      <th>Мальва</th>\n",
       "      <td>177.75</td>\n",
       "      <td>22</td>\n",
       "    </tr>\n",
       "    <tr>\n",
       "      <th>Гейхера</th>\n",
       "      <td>192.00</td>\n",
       "      <td>12</td>\n",
       "    </tr>\n",
       "    <tr>\n",
       "      <th>Люпин</th>\n",
       "      <td>200.00</td>\n",
       "      <td>13</td>\n",
       "    </tr>\n",
       "    <tr>\n",
       "      <th>Другие</th>\n",
       "      <td>208.75</td>\n",
       "      <td>104</td>\n",
       "    </tr>\n",
       "    <tr>\n",
       "      <th>Немезия</th>\n",
       "      <td>227.50</td>\n",
       "      <td>21</td>\n",
       "    </tr>\n",
       "    <tr>\n",
       "      <th>Календула</th>\n",
       "      <td>240.00</td>\n",
       "      <td>36</td>\n",
       "    </tr>\n",
       "    <tr>\n",
       "      <th>Василек</th>\n",
       "      <td>252.00</td>\n",
       "      <td>103</td>\n",
       "    </tr>\n",
       "    <tr>\n",
       "      <th>Роза</th>\n",
       "      <td>350.00</td>\n",
       "      <td>18</td>\n",
       "    </tr>\n",
       "  </tbody>\n",
       "</table>\n",
       "</div>"
      ],
      "text/plain": [
       "             time_spent  count\n",
       "group_name                    \n",
       "Колокольчик      161.00     21\n",
       "Мальва           177.75     22\n",
       "Гейхера          192.00     12\n",
       "Люпин            200.00     13\n",
       "Другие           208.75    104\n",
       "Немезия          227.50     21\n",
       "Календула        240.00     36\n",
       "Василек          252.00    103\n",
       "Роза             350.00     18"
      ]
     },
     "execution_count": 30,
     "metadata": {},
     "output_type": "execute_result"
    }
   ],
   "source": [
    "stat_grouped = station_stat_full.query('count > 30').sort_values(by = 'time_spent', ascending = False)\n",
    "stat_grouped = stat_grouped.pivot_table(index = 'group_name', values = ['time_spent'], aggfunc = ['median', 'count'])\n",
    "stat_grouped.columns = ['time_spent', 'count']\n",
    "stat_grouped.sort_values(by = ['time_spent'], ascending = True, inplace = True)\n",
    "#print(stat_grouped)\n",
    "stat_grouped"
   ]
  },
  {
   "cell_type": "markdown",
   "metadata": {},
   "source": [
    "Медленнее всего обслуживают в \"Розе\". \"Василек\", \"Календула\" и \"Немезия\" тоже не могут особо похвастаться. Надо что-то делать с уровнем сервиса. Если долго смотреть на машину с пустым бензобаком, можно увидеть, как она уезжает заправляться к конкурентам."
   ]
  },
  {
   "cell_type": "markdown",
   "metadata": {},
   "source": [
    "### Задача 7/7\n",
    "Постройте круговую диаграмму с числом АЗС в каждой сети. Задайте ей размер 8x8 дюймов.\n",
    ">Примените метод plot() к данным stat_grouped. Передайте параметру y столбец с числом АЗС: 'count'. Задайте круговой тип диаграммы kind='pie'. Укажите размер 8 на 8 дюймов в параметре figsize."
   ]
  },
  {
   "cell_type": "code",
   "execution_count": 31,
   "metadata": {},
   "outputs": [
    {
     "data": {
      "text/plain": [
       "<AxesSubplot:ylabel='count'>"
      ]
     },
     "execution_count": 31,
     "metadata": {},
     "output_type": "execute_result"
    },
    {
     "data": {
      "image/png": "[encoded data removed]",
      "text/plain": [
       "<Figure size 576x576 with 1 Axes>"
      ]
     },
     "metadata": {},
     "output_type": "display_data"
    }
   ],
   "source": [
    "# сейчас случится магия\n",
    "stat_grouped.plot(y='count', kind='pie', figsize=(8, 8))"
   ]
  },
  {
   "cell_type": "markdown",
   "metadata": {},
   "source": [
    "Мы получили финальный список наиболее интересных АЗС:\n",
    "1. \"Роза\". Самая медленная среди крупных сетей.\n",
    "2. \"Василек\". Вторая по медлительности, но очень крупная по размеру сеть АЗС.\n",
    "3. \"Календула\". Близка по времени к \"Васильку\" и вторая по величине.\n",
    "4. \"Немезия\". Последняя из медленных и сравнительно крупных АЗС."
   ]
  },
  {
   "cell_type": "markdown",
   "metadata": {},
   "source": [
    "<a name=\"3\">_</a>\n",
    "## Разбитые по группам данные"
   ]
  },
  {
   "cell_type": "markdown",
   "metadata": {},
   "source": [
    "Вы получили список, готовый лечь на стол начальству. Страшновато, если честно. Давайте ещё разок перепроверим. Вдруг на среднюю продолжительность заправки у ваших избранников повлияли аномально короткие заезды? Посмотрим гистограммы отдельно для каждой сети.\n",
    "\n",
    "Переберём все сети и построим их гистограммы. Звучит трудоёмко, но это можно **автоматизировать**! Например, в цикле. Создадим столбец `'group_name'` и переберём названия групп так: `good_data['group_name'].unique()`. Затем получим срез из `good_data` методом `query()` и построим гистограмму по отфильтрованным данным. Однако в Pandas есть метод `groupby()`, автоматически перебирающий уникальные значения. Передадим ему столбец, а он вернёт последовательность пар: значение столбца — срез данных с этим значением.\n",
    "\n",
    "Посмотрим, как это работает. Напишем цикл, возвращающий частоту появления имени разработчика в IT-отделе:"
   ]
  },
  {
   "cell_type": "code",
   "execution_count": 26,
   "metadata": {},
   "outputs": [
    {
     "name": "stdout",
     "output_type": "stream",
     "text": [
      "     name   surname\n",
      "0    Саша    Иванов\n",
      "1    Саша     Попов\n",
      "2    Саша   Сидоров\n",
      "3   Игорь   Смирнов\n",
      "4   Игорь    Крылов\n",
      "5  Максим   Курепов\n",
      "6  Максим  Максимов\n",
      "\n",
      "Имя Игорь встречается 2 раза\n",
      "Имя Максим встречается 2 раза\n",
      "Имя Саша встречается 3 раза\n"
     ]
    }
   ],
   "source": [
    "IT_names = pd.DataFrame(\n",
    "    {\n",
    "        'name': ['Саша', 'Саша', 'Саша', 'Игорь', 'Игорь', 'Максим', 'Максим'],\n",
    "        'surname': [\n",
    "            'Иванов',\n",
    "            'Попов',\n",
    "            'Сидоров',\n",
    "            'Смирнов',\n",
    "            'Крылов',\n",
    "            'Курепов',\n",
    "            'Максимов',\n",
    "        ],\n",
    "    }\n",
    ")\n",
    "print(IT_names)\n",
    "print()\n",
    "for developer_name, developer_data in IT_names.groupby('name'):\n",
    "    print(\n",
    "        'Имя {} встречается {} раза'.format(\n",
    "            developer_name, len(developer_data)\n",
    "        )\n",
    "    )"
   ]
  },
  {
   "cell_type": "markdown",
   "metadata": {},
   "source": [
    "Сгруппировали данные из датафрейма `IT_names` по совпадениям столбца `'name'`. На каждом шаге мы получали имя разработчика — `developer_name` и срез датафрейма по этому имени — `developer_data`. После чего нашли количество элементов каждой «именной» выборки.\n",
    "\n",
    "Метод `groupby()` позволяет сразу производить простые вычисления над элементами группы. Например, применив метод `count()`, мы добьёмся аналогичного результата. Получим список имён с их частотой:"
   ]
  },
  {
   "cell_type": "code",
   "execution_count": 13,
   "metadata": {},
   "outputs": [
    {
     "name": "stdout",
     "output_type": "stream",
     "text": [
      "        surname\n",
      "name           \n",
      "Игорь         2\n",
      "Максим        2\n",
      "Саша          3\n"
     ]
    }
   ],
   "source": [
    "print(IT_names.groupby('name').count())"
   ]
  },
  {
   "cell_type": "markdown",
   "metadata": {},
   "source": [
    "Результат работы функции, применённой к `groupby()`, становится аналогом `pivot_table()`. Однако нас интересует перебор значений в цикле. Построим гистограммы для каждой из сетей."
   ]
  },
  {
   "cell_type": "markdown",
   "metadata": {},
   "source": [
    "### Задача 1/3\n",
    "Создайте в `good_data` новый столбец `'group_name'`, где сетям из `big_nets_stat` оставьте их оригинальные имена, а остальные сети переименуйте на `'Другие'`. Распечатайте первые 5 строк `good_data`.\n",
    ">Примените метод `where()` к столбцу `'name'` из `good_data`. Первым параметром передайте условие булева массива, где `True` соответствует именам крупных сетей, которые должны остаться без изменений. Список таких сетей — это `big_nets_stat.index`. Для проверки вхождения имени в список крупных сетей примените метод `isin`. Вторым параметром `where()` передайте новое название `'Другие'`.<br>\n",
    "Распечатайте значения `good_data`, возвращаемые методом `head()`."
   ]
  },
  {
   "cell_type": "code",
   "execution_count": 25,
   "metadata": {},
   "outputs": [
    {
     "data": {
      "text/html": [
       "<div>\n",
       "<style scoped>\n",
       "    .dataframe tbody tr th:only-of-type {\n",
       "        vertical-align: middle;\n",
       "    }\n",
       "\n",
       "    .dataframe tbody tr th {\n",
       "        vertical-align: top;\n",
       "    }\n",
       "\n",
       "    .dataframe thead th {\n",
       "        text-align: right;\n",
       "    }\n",
       "</style>\n",
       "<table border=\"1\" class=\"dataframe\">\n",
       "  <thead>\n",
       "    <tr style=\"text-align: right;\">\n",
       "      <th></th>\n",
       "      <th>date_time</th>\n",
       "      <th>id</th>\n",
       "      <th>time_spent</th>\n",
       "      <th>name</th>\n",
       "      <th>local_time</th>\n",
       "      <th>date_hour</th>\n",
       "      <th>too_fast</th>\n",
       "      <th>too_slow</th>\n",
       "      <th>group_name</th>\n",
       "    </tr>\n",
       "  </thead>\n",
       "  <tbody>\n",
       "    <tr>\n",
       "      <th>0</th>\n",
       "      <td>20180406T165358</td>\n",
       "      <td>76144fb2</td>\n",
       "      <td>98.0</td>\n",
       "      <td>Василек</td>\n",
       "      <td>2018-04-06 19:53:58</td>\n",
       "      <td>2018-04-06 20:00:00</td>\n",
       "      <td>False</td>\n",
       "      <td>False</td>\n",
       "      <td>Василек</td>\n",
       "    </tr>\n",
       "    <tr>\n",
       "      <th>2</th>\n",
       "      <td>20180403T172824</td>\n",
       "      <td>76144fb2</td>\n",
       "      <td>220.0</td>\n",
       "      <td>Василек</td>\n",
       "      <td>2018-04-03 20:28:24</td>\n",
       "      <td>2018-04-03 20:00:00</td>\n",
       "      <td>False</td>\n",
       "      <td>False</td>\n",
       "      <td>Василек</td>\n",
       "    </tr>\n",
       "    <tr>\n",
       "      <th>6</th>\n",
       "      <td>20180402T082321</td>\n",
       "      <td>76144fb2</td>\n",
       "      <td>555.0</td>\n",
       "      <td>Василек</td>\n",
       "      <td>2018-04-02 11:23:21</td>\n",
       "      <td>2018-04-02 11:00:00</td>\n",
       "      <td>False</td>\n",
       "      <td>False</td>\n",
       "      <td>Василек</td>\n",
       "    </tr>\n",
       "    <tr>\n",
       "      <th>7</th>\n",
       "      <td>20180407T003408</td>\n",
       "      <td>76144fb2</td>\n",
       "      <td>286.0</td>\n",
       "      <td>Василек</td>\n",
       "      <td>2018-04-07 03:34:08</td>\n",
       "      <td>2018-04-07 04:00:00</td>\n",
       "      <td>False</td>\n",
       "      <td>False</td>\n",
       "      <td>Василек</td>\n",
       "    </tr>\n",
       "    <tr>\n",
       "      <th>9</th>\n",
       "      <td>20180405T131939</td>\n",
       "      <td>76144fb2</td>\n",
       "      <td>248.0</td>\n",
       "      <td>Василек</td>\n",
       "      <td>2018-04-05 16:19:39</td>\n",
       "      <td>2018-04-05 16:00:00</td>\n",
       "      <td>False</td>\n",
       "      <td>False</td>\n",
       "      <td>Василек</td>\n",
       "    </tr>\n",
       "  </tbody>\n",
       "</table>\n",
       "</div>"
      ],
      "text/plain": [
       "         date_time        id  time_spent     name          local_time  \\\n",
       "0  20180406T165358  76144fb2        98.0  Василек 2018-04-06 19:53:58   \n",
       "2  20180403T172824  76144fb2       220.0  Василек 2018-04-03 20:28:24   \n",
       "6  20180402T082321  76144fb2       555.0  Василек 2018-04-02 11:23:21   \n",
       "7  20180407T003408  76144fb2       286.0  Василек 2018-04-07 03:34:08   \n",
       "9  20180405T131939  76144fb2       248.0  Василек 2018-04-05 16:19:39   \n",
       "\n",
       "            date_hour  too_fast  too_slow group_name  \n",
       "0 2018-04-06 20:00:00     False     False    Василек  \n",
       "2 2018-04-03 20:00:00     False     False    Василек  \n",
       "6 2018-04-02 11:00:00     False     False    Василек  \n",
       "7 2018-04-07 04:00:00     False     False    Василек  \n",
       "9 2018-04-05 16:00:00     False     False    Василек  "
      ]
     },
     "execution_count": 25,
     "metadata": {},
     "output_type": "execute_result"
    }
   ],
   "source": [
    "good_data['group_name'] = (good_data['name'].where(good_data['name'].isin(big_nets_stat.index), 'Другие'))\n",
    "#print(good_data.head())\n",
    "good_data.head()"
   ]
  },
  {
   "cell_type": "markdown",
   "metadata": {},
   "source": [
    "Вы создали group_name, теперь с ним можно проделывать разное волшебство.<br>\n",
    "Масса возможностей хранить одно в другом:<br>\n",
    "group_name,  в group_data, <br>\n",
    "group_data в цикле for - in,<br>\n",
    "игла в яйце, яйцо в утке,<br>\n",
    "утка в зайце, заяц в шоке."
   ]
  },
  {
   "cell_type": "markdown",
   "metadata": {},
   "source": [
    "### Задача 2/3\n",
    "Методом `hist()` постройте гистограмму продолжительности заправки для каждой сети отдельно (напомним, что все небольшие АЗС в общей группе \"Другие\"). Возьмите данные из `good_data`. Гистограмму разбейте на 50 корзин.\n",
    ">Создайте цикл, перебирающий сгруппированные по `'group_name'` данные из `good_data`.<br>\n",
    "Названию и срезу данных, которые возвращает `groupby()` на каждом шаге цикла, дайте имена `name` и `group_data`. Внутри цикла вызовите метод `hist()` к данным `group_data`.<br>\n",
    "Параметрами метода `hist()` передайте столбец `'time_spent'`, по которому нужно построить гистограмму, и bins=50."
   ]
  },
  {
   "cell_type": "code",
   "execution_count": 19,
   "metadata": {},
   "outputs": [],
   "source": [
    "# напоминаю прекод\n",
    "import pandas as pd\n",
    "\n",
    "data = pd.read_csv('../datasets/visits.csv', sep='\\t')\n",
    "data['local_time'] = pd.to_datetime(\n",
    "    data['date_time'], format='%Y-%m-%dT%H:%M:%S'\n",
    ") + pd.Timedelta(hours=3)\n",
    "data['date_hour'] = data['local_time'].dt.round('1H')\n",
    "data['too_fast'] = data['time_spent'] < 60\n",
    "data['too_slow'] = data['time_spent'] > 1000\n",
    "\n",
    "too_fast_stat = data.pivot_table(index='id', values='too_fast')\n",
    "good_ids = too_fast_stat.query('too_fast < 0.5')\n",
    "good_data = data.query('id in @good_ids.index')\n",
    "good_data = good_data.query('60 <= time_spent <= 1000')\n",
    "\n",
    "station_stat = data.pivot_table(\n",
    "    index='id', values='time_spent', aggfunc='median'\n",
    ")\n",
    "good_station_stat = good_data.pivot_table(\n",
    "    index='id', values='time_spent', aggfunc='median'\n",
    ")\n",
    "\n",
    "name_stat = data.pivot_table(index='name', values='time_spent')\n",
    "good_name_stat = good_data.pivot_table(\n",
    "    index='name', values='time_spent', aggfunc='median'\n",
    ")\n",
    "name_stat['good_time_spent'] = good_name_stat['time_spent']\n",
    "\n",
    "stat = data.pivot_table(index='name', values='time_spent')\n",
    "good_stat = good_data.pivot_table(\n",
    "    index='name', values='time_spent', aggfunc='median'\n",
    ")\n",
    "stat['good_time_spent'] = good_stat['time_spent']\n",
    "\n",
    "id_name = good_data.pivot_table(\n",
    "    index='id', values='name', aggfunc=['first', 'count']\n",
    ")\n",
    "id_name.columns = ['name', 'count']\n",
    "station_stat_full = id_name.join(good_station_stat)\n",
    "\n",
    "good_stat2 = station_stat_full.query('count > 30').pivot_table(\n",
    "    index='name', values='time_spent', aggfunc=['median', 'count']\n",
    ")\n",
    "good_stat2.columns = ['median_time', 'stations']\n",
    "final_stat = stat.join(good_stat2)\n",
    "\n",
    "big_nets_stat = final_stat.query('stations > 10')\n",
    "station_stat_full['group_name'] = station_stat_full['name'].where(\n",
    "    station_stat_full['name'].isin(big_nets_stat.index), 'Другие'\n",
    ")\n",
    "\n",
    "stat_grouped = station_stat_full.query('count > 30').pivot_table(\n",
    "    index='group_name', values='time_spent', aggfunc=['median', 'count']\n",
    ")\n",
    "stat_grouped.columns = ['time_spent', 'count']\n",
    "\n",
    "good_data['group_name'] = good_data['name'].where(\n",
    "    good_data['name'].isin(big_nets_stat.index), 'Другие'\n",
    ")\n"
   ]
  },
  {
   "cell_type": "code",
   "execution_count": 23,
   "metadata": {},
   "outputs": [
    {
     "data": {
      "image/png": "[encoded data removed]",
      "text/plain": [
       "<Figure size 432x288 with 1 Axes>"
      ]
     },
     "metadata": {
      "needs_background": "light"
     },
     "output_type": "display_data"
    },
    {
     "data": {
      "image/png": "[encoded data removed]",
      "text/plain": [
       "<Figure size 432x288 with 1 Axes>"
      ]
     },
     "metadata": {
      "needs_background": "light"
     },
     "output_type": "display_data"
    },
    {
     "data": {
      "image/png": "[encoded data removed]",
      "text/plain": [
       "<Figure size 432x288 with 1 Axes>"
      ]
     },
     "metadata": {
      "needs_background": "light"
     },
     "output_type": "display_data"
    },
    {
     "data": {
      "image/png": "[encoded data removed]",
      "text/plain": [
       "<Figure size 432x288 with 1 Axes>"
      ]
     },
     "metadata": {
      "needs_background": "light"
     },
     "output_type": "display_data"
    },
    {
     "data": {
      "image/png": "[encoded data removed]",
      "text/plain": [
       "<Figure size 432x288 with 1 Axes>"
      ]
     },
     "metadata": {
      "needs_background": "light"
     },
     "output_type": "display_data"
    },
    {
     "data": {
      "image/png": "[encoded data removed]",
      "text/plain": [
       "<Figure size 432x288 with 1 Axes>"
      ]
     },
     "metadata": {
      "needs_background": "light"
     },
     "output_type": "display_data"
    },
    {
     "data": {
      "image/png": "[encoded data removed]",
      "text/plain": [
       "<Figure size 432x288 with 1 Axes>"
      ]
     },
     "metadata": {
      "needs_background": "light"
     },
     "output_type": "display_data"
    },
    {
     "data": {
      "image/png": "[encoded data removed]",
      "text/plain": [
       "<Figure size 432x288 with 1 Axes>"
      ]
     },
     "metadata": {
      "needs_background": "light"
     },
     "output_type": "display_data"
    },
    {
     "data": {
      "image/png": "[encoded data removed]",
      "text/plain": [
       "<Figure size 432x288 with 1 Axes>"
      ]
     },
     "metadata": {
      "needs_background": "light"
     },
     "output_type": "display_data"
    }
   ],
   "source": [
    "for group_name, group_data in good_data.groupby('group_name'):\n",
    "    group_data.plot(kind='hist', y='time_spent', bins=50)"
   ]
  },
  {
   "cell_type": "code",
   "execution_count": 22,
   "metadata": {},
   "outputs": [
    {
     "data": {
      "image/png": "[encoded data removed]",
      "text/plain": [
       "<Figure size 432x288 with 1 Axes>"
      ]
     },
     "metadata": {
      "needs_background": "light"
     },
     "output_type": "display_data"
    },
    {
     "data": {
      "image/png": "[encoded data removed]",
      "text/plain": [
       "<Figure size 432x288 with 1 Axes>"
      ]
     },
     "metadata": {
      "needs_background": "light"
     },
     "output_type": "display_data"
    },
    {
     "data": {
      "image/png": "[encoded data removed]",
      "text/plain": [
       "<Figure size 432x288 with 1 Axes>"
      ]
     },
     "metadata": {
      "needs_background": "light"
     },
     "output_type": "display_data"
    },
    {
     "data": {
      "image/png": "[encoded data removed]",
      "text/plain": [
       "<Figure size 432x288 with 1 Axes>"
      ]
     },
     "metadata": {
      "needs_background": "light"
     },
     "output_type": "display_data"
    },
    {
     "data": {
      "image/png": "[encoded data removed]",
      "text/plain": [
       "<Figure size 432x288 with 1 Axes>"
      ]
     },
     "metadata": {
      "needs_background": "light"
     },
     "output_type": "display_data"
    },
    {
     "data": {
      "image/png": "[encoded data removed]",
      "text/plain": [
       "<Figure size 432x288 with 1 Axes>"
      ]
     },
     "metadata": {
      "needs_background": "light"
     },
     "output_type": "display_data"
    },
    {
     "data": {
      "image/png": "[encoded data removed]",
      "text/plain": [
       "<Figure size 432x288 with 1 Axes>"
      ]
     },
     "metadata": {
      "needs_background": "light"
     },
     "output_type": "display_data"
    },
    {
     "data": {
      "image/png": "[encoded data removed]",
      "text/plain": [
       "<Figure size 432x288 with 1 Axes>"
      ]
     },
     "metadata": {
      "needs_background": "light"
     },
     "output_type": "display_data"
    },
    {
     "data": {
      "image/png": "[encoded data removed]",
      "text/plain": [
       "<Figure size 432x288 with 1 Axes>"
      ]
     },
     "metadata": {
      "needs_background": "light"
     },
     "output_type": "display_data"
    }
   ],
   "source": [
    "# или так:\n",
    "for name, group_data in good_data.groupby('group_name'):\n",
    "    group_data.plot(y='time_spent', kind='hist', bins=50)"
   ]
  },
  {
   "cell_type": "markdown",
   "metadata": {},
   "source": [
    "Ловкость автоматизации и никакого ручного перебора! Вы получили все гистограммы. Красота. Не хватает самой малости: **названий сетей**."
   ]
  },
  {
   "cell_type": "markdown",
   "metadata": {},
   "source": [
    "### Задача 3/3\n",
    "Методом `plot()` c параметром `kind='hist'` постройте гистограмму продолжительности заправки для каждой сети отдельно (напомним, что все малые АЗС — в общей группе \"Другие\"). Возьмите данные из `good_data`. Столбец, по значениям которого гистограмму следует построить, передайте параметру `y`, а переменную с названиями графиков параметру `title`. Гистограмму разбейте на 50 корзин.\n",
    ">Создайте цикл, перебирающий сгруппированные по `'group_name'` данные из `good_data`.<br>\n",
    "Названию и срезу данных, которые возвращает `groupby()` на каждом шаге цикла, дайте имена `name` и `group_data`. Внутри цикла вызовите метод `plot()` к данным `group_data`. Параметру `y` передайте столбец `'time_spent'`, в параметре `title` укажите `name` (**без кавычек, это переменная!**). В `kind` укажите тип графика `'hist'`, а в `bins` — `50`."
   ]
  },
  {
   "cell_type": "code",
   "execution_count": 24,
   "metadata": {},
   "outputs": [
    {
     "data": {
      "image/png": "[encoded data removed]",
      "text/plain": [
       "<Figure size 432x288 with 1 Axes>"
      ]
     },
     "metadata": {
      "needs_background": "light"
     },
     "output_type": "display_data"
    },
    {
     "data": {
      "image/png": "[encoded data removed]",
      "text/plain": [
       "<Figure size 432x288 with 1 Axes>"
      ]
     },
     "metadata": {
      "needs_background": "light"
     },
     "output_type": "display_data"
    },
    {
     "data": {
      "image/png": "[encoded data removed]",
      "text/plain": [
       "<Figure size 432x288 with 1 Axes>"
      ]
     },
     "metadata": {
      "needs_background": "light"
     },
     "output_type": "display_data"
    },
    {
     "data": {
      "image/png": "[encoded data removed]",
      "text/plain": [
       "<Figure size 432x288 with 1 Axes>"
      ]
     },
     "metadata": {
      "needs_background": "light"
     },
     "output_type": "display_data"
    },
    {
     "data": {
      "image/png": "[encoded data removed]",
      "text/plain": [
       "<Figure size 432x288 with 1 Axes>"
      ]
     },
     "metadata": {
      "needs_background": "light"
     },
     "output_type": "display_data"
    },
    {
     "data": {
      "image/png": "[encoded data removed]",
      "text/plain": [
       "<Figure size 432x288 with 1 Axes>"
      ]
     },
     "metadata": {
      "needs_background": "light"
     },
     "output_type": "display_data"
    },
    {
     "data": {
      "image/png": "[encoded data removed]",
      "text/plain": [
       "<Figure size 432x288 with 1 Axes>"
      ]
     },
     "metadata": {
      "needs_background": "light"
     },
     "output_type": "display_data"
    },
    {
     "data": {
      "image/png": "[encoded data removed]",
      "text/plain": [
       "<Figure size 432x288 with 1 Axes>"
      ]
     },
     "metadata": {
      "needs_background": "light"
     },
     "output_type": "display_data"
    },
    {
     "data": {
      "image/png": "[encoded data removed]",
      "text/plain": [
       "<Figure size 432x288 with 1 Axes>"
      ]
     },
     "metadata": {
      "needs_background": "light"
     },
     "output_type": "display_data"
    }
   ],
   "source": [
    "# добавляем title=name\n",
    "for name, group_data in good_data.groupby('group_name'):\n",
    "    group_data.plot(y='time_spent', title=name, kind='hist', bins=50)"
   ]
  },
  {
   "cell_type": "markdown",
   "metadata": {},
   "source": [
    "На этот раз вы боялись зря. Распределение сетей большой восьмерки похожи на пуассоновское. Если бы у них был огромный пик на коротких временах — это было бы плохо. А так посчитанные нами средние значения действительно хорошо передают реальное время заправки. Квалифицированный аналитик спит крепко!"
   ]
  },
  {
   "cell_type": "markdown",
   "metadata": {},
   "source": [
    "<a name=\"4\">_</a>\n",
    "## Заключение"
   ]
  },
  {
   "cell_type": "markdown",
   "metadata": {},
   "source": [
    "В этой теме вы перепроверяли реалистичность данных: строили графики, переименовывали, группировали и строили новые графики.\n",
    "    \n",
    "У многих сетей АЗС явно обнаруживается аномальный пик на коротких поездках. Но в основном распределение ожидаемой формы, а значит медиана хорошо передаёт характерное время заправки.\n",
    "\n",
    "Вы действительно выявили много долгих заправок в самых медленных сетях АЗС («Роза», «Календула», «Василёк», «Намезия»). Причём форма распределения достаточно плавная: не походит на явную аномалию на продолжительных временах заправки.<br>\n",
    "Данные действительно реалистичны — значит, курс пройден не зря.\n",
    "\n",
    "\n",
    "**Где ещё почитать про группировку данных**\n",
    "    \n",
    "<a href=\"https://habr.com/ru/company/ods/blog/322626/\">Группировка с groupby, раздел \"Группировка данных\"</a><br>\n",
    "<a href=\"https://smysl.io/blog/pandas/\">Примеры groupby</a>"
   ]
  },
  {
   "cell_type": "markdown",
   "metadata": {},
   "source": [
    "# Заключение\n",
    "Поздравляем! Вы прошли длинный путь: от общего представления о данных до чёткого понимания, какие из них надёжные, а какие — нет. Научились проверять их на каждом этапе, смотреть типичные значения, выбросы и распределения.\n",
    "\n",
    "Ключевая задача курса решена: вычислили, сколько времени водители тратят на заправку в каждой сети АЗС. Несмотря на довольно серьёзные проблемы в исходных данных, вы составили рейтинг станций и сформировали баг-репорт. Когда коллеги вернут очищенные данные, ваши выводы станут точнее, но методика уже есть!\n",
    "\n",
    "**Вы научились:**\n",
    "\n",
    "- строить графики различными методами: hist(), boxplot(), plot();\n",
    "- получать срезы данных;\n",
    "- выборочно менять значения методом where();\n",
    "- присваивать значения по индексам и строкам;\n",
    "- объединять данные методом join();\n",
    "- определять и интерпретировать взаимосвязи различных данных;\n",
    "- автоматизировать процесс построения графиков.\n",
    "\n",
    "**Вопросы для самопроверки**\n",
    "* Какие инструменты для первичного знакомства с данными вы знаете?\n",
    "* Какими способами объединяют данные?\n",
    "* Какими методами изучают взаимосвязи величин?\n",
    "* Какие существуют способы получения среза данных и какой из них используется в различных случаях?\n",
    "* Как поменять значения выборочно?\n",
    "\n",
    "**Что дальше**\n",
    "Аналитик работает с большим количеством гипотез, которые проверяются статистическими методами. В следующем разделе вы узнаете, **как статистика и теория вероятностей помогают решать задачи бизнеса**."
   ]
  },
  {
   "cell_type": "code",
   "execution_count": null,
   "metadata": {},
   "outputs": [],
   "source": []
  }
 ],
 "metadata": {
  "kernelspec": {
   "display_name": "Python 3",
   "language": "python",
   "name": "python3"
  },
  "language_info": {
   "codemirror_mode": {
    "name": "ipython",
    "version": 3
   },
   "file_extension": ".py",
   "mimetype": "text/x-python",
   "name": "python",
   "nbconvert_exporter": "python",
   "pygments_lexer": "ipython3",
   "version": "3.8.3"
  }
 },
 "nbformat": 4,
 "nbformat_minor": 4
}
