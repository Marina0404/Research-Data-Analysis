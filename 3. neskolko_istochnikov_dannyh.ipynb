{
 "cells": [
  {
   "cell_type": "markdown",
   "metadata": {},
   "source": [
    "# Исследовательский анализ данных"
   ]
  },
  {
   "cell_type": "markdown",
   "metadata": {},
   "source": [
    "## Работа с несколькими источниками данных\n",
    "\n",
    "1. <a href=\"#1\">Введение</a>\n",
    "2. <a href=\"#2\">Срез по данным из внешнего словаря</a>\n",
    "3. <a href=\"#3\">Срез по данным из внешнего словаря (продолжение)</a>\n",
    "4. <a href=\"#4\">Добавляем столбец</a>\n",
    "5. <a href=\"#5\">Добавляем столбец (продолжение)</a>\n",
    "6. <a href=\"#6\">Объединяем данные из двух таблиц</a>\n",
    "7. <a href=\"#7\">Переименование столбцов</a>\n",
    "8. <a href=\"#8\">Объединение столбцов методами `merge()` и `join()`</a>\n",
    "9. <a href=\"#9\">Заключение</a>"
   ]
  },
  {
   "cell_type": "markdown",
   "metadata": {},
   "source": [
    "<a name=\"1\">_</a>\n",
    "## Введение"
   ]
  },
  {
   "cell_type": "markdown",
   "metadata": {},
   "source": [
    "Мы всегда работали с одним датафреймом — все наши данные содержались в таблице data. Так бывает не всегда. Часто приходится объединять данные из разных источников.\n",
    "\n",
    "**Чему вы научитесь:**\n",
    "- Делать срез по данным из внешнего словаря;\n",
    "- Создавать новый столбец по данным из другого датафрейма, списка и Series;\n",
    "- Присваивать столбцы по порядку строк или по совпадению индексов;\n",
    "- Объединять данные из двух таблиц;\n",
    "- Применять методы `join()` и `merge()` для слияния столбцов.\n",
    "\n",
    "**Вам предстоит:**\n",
    "- Избавиться от АЗС с долей «аномально быстрых» заездов больше 50%;\n",
    "- Очистить данные от заправок дольше 1000 секунд;\n",
    "- Рассчитать медианное время заправки по очищенным данным.\n",
    "\n",
    "\n",
    "**Постановка задачи:**\n",
    "\n",
    "Избавьтесь от сверхбыстрых и аномально медленных заправок в наборе данных. Составьте рейтинг АЗС по времени заправки."
   ]
  },
  {
   "cell_type": "markdown",
   "metadata": {},
   "source": [
    "<a name=\"2\">_</a>\n",
    "## Срез по данным из внешнего словаря"
   ]
  },
  {
   "cell_type": "markdown",
   "metadata": {},
   "source": [
    "В прошлой теме вы обнаружили заправки короче 60 секунд и узнали, как они распределены по АЗС. Выяснили, что на некоторых «плохих» АЗС сверхбыстрых заездов очень много. Оставив станции с такими заездами в наборе данных, рискуем некорректно оценить продолжительность заправки. Лучше избавиться от них.\n",
    "\n",
    "Очистим таблицу data от АЗС с аномально быстрыми заправками.\n",
    "\n",
    "Выглядели данные так:"
   ]
  },
  {
   "cell_type": "code",
   "execution_count": 2,
   "metadata": {},
   "outputs": [
    {
     "name": "stdout",
     "output_type": "stream",
     "text": [
      "          too_fast\n",
      "id                \n",
      "00ca1b70  0.250000\n",
      "011f7462  0.637489\n",
      "015eaddd  0.726190\n",
      "0178ce70  0.211538\n",
      "018a83ef  0.510269\n"
     ]
    },
    {
     "data": {
      "text/plain": [
       "array([[<AxesSubplot:title={'center':'too_fast'}>]], dtype=object)"
      ]
     },
     "execution_count": 2,
     "metadata": {},
     "output_type": "execute_result"
    },
    {
     "data": {
      "image/png": "[encoded data removed]",
      "text/plain": [
       "<Figure size 432x288 with 1 Axes>"
      ]
     },
     "metadata": {
      "needs_background": "light"
     },
     "output_type": "display_data"
    }
   ],
   "source": [
    "import pandas as pd\n",
    "import matplotlib.pyplot as plt\n",
    "# обращайте внимание на адрес csv файла и тип разделителя!\n",
    "data = pd.read_csv('..//datasets/visits.csv', sep='\\t')\n",
    "data['local_time'] = pd.to_datetime(\n",
    "    data['date_time'], format='%Y-%m-%dT%H:%M:%S'\n",
    ") + pd.Timedelta(hours=3)\n",
    "data['date_hour'] = data['local_time'].dt.round('1H')\n",
    "data['too_fast'] = data['time_spent'] < 60\n",
    "data['too_slow'] = data['time_spent'] > 1000\n",
    "\n",
    "too_fast_stat = data.pivot_table(index=\"id\", values=\"too_fast\")\n",
    "\n",
    "print(too_fast_stat.head())\n",
    "too_fast_stat.hist(bins=30)"
   ]
  },
  {
   "cell_type": "markdown",
   "metadata": {},
   "source": [
    "Нужно выбрать из data только те АЗС, где доля «сверхбыстрых» заправок меньше половины, или 0,5. Назовём такие АЗС «хорошими».\n",
    "Раньше, чтобы получить срез, вы применяли `query()`. Сейчас случай особенный: в самой таблице data нет информации о том, «хорошая» АЗС или нет. Добыть эти данные можно только из переменной `too_fast_stat`."
   ]
  },
  {
   "cell_type": "markdown",
   "metadata": {},
   "source": [
    "Как в `query()` обратиться ко внешней переменной? Например, сравнить значение столбца `'a'` с внешней переменной `variable = 3`\n",
    "- df.query('a > \"variable\"')\n",
    "- df.query('a > #variable#')\n",
    "- df.query('a > value(variable)')\n",
    "- df.query('a > @variable')\n",
    "\n",
    "(4)"
   ]
  },
  {
   "cell_type": "markdown",
   "metadata": {},
   "source": [
    "Как в query() проверить условие, что значение столбца 'a' равно одному из элементов списка (1, 7, 9, 10, 14)?\n",
    "- df.query('a == (1, 7, 9, 10, 14)')\n",
    "- df.query('a = (1, 7, 9, 10, 14)')\n",
    "- df.query('a in (1, 7, 9, 10, 14)')\n",
    "- df.query('a is in (1, 7, 9, 10, 14)')\n",
    "\n",
    "(3)"
   ]
  },
  {
   "cell_type": "markdown",
   "metadata": {},
   "source": [
    "<a name=\"3\">_</a>\n",
    "## Срез по данным из внешнего словаря (продолжение)"
   ]
  },
  {
   "cell_type": "markdown",
   "metadata": {},
   "source": [
    "Вы вспомнили, как в `query()` обратиться ко внешней переменной и проверить, входит ли значение столбца `'a'` в список.\n",
    "Эти приёмы объединяют, когда во внешней переменной сохранён список. Чтобы узнать, встречается ли значение столбца 'a' в списке `our_list = [1, 2, 3]`, пишут запрос: `'a in @our_list'`."
   ]
  },
  {
   "cell_type": "code",
   "execution_count": 3,
   "metadata": {},
   "outputs": [
    {
     "name": "stdout",
     "output_type": "stream",
     "text": [
      "   a  b  c\n",
      "1  1  4  Y\n"
     ]
    }
   ],
   "source": [
    "our_list = [1, 2, 3]\n",
    "df = pd.DataFrame(\n",
    "    {\n",
    "        'a': [0, 1, 10, 11, 12],\n",
    "        'b': [5, 4, 3, 2, 1],\n",
    "        'c': ['X', 'Y', 'Y', 'Y', 'Z'],\n",
    "    }\n",
    ")\n",
    "print(\n",
    "    df.query('a in @our_list')\n",
    ")  # строим срез, в котором значения столбца 'a' равны элементам списка our_list"
   ]
  },
  {
   "cell_type": "code",
   "execution_count": 4,
   "metadata": {},
   "outputs": [
    {
     "data": {
      "text/html": [
       "<div>\n",
       "<style scoped>\n",
       "    .dataframe tbody tr th:only-of-type {\n",
       "        vertical-align: middle;\n",
       "    }\n",
       "\n",
       "    .dataframe tbody tr th {\n",
       "        vertical-align: top;\n",
       "    }\n",
       "\n",
       "    .dataframe thead th {\n",
       "        text-align: right;\n",
       "    }\n",
       "</style>\n",
       "<table border=\"1\" class=\"dataframe\">\n",
       "  <thead>\n",
       "    <tr style=\"text-align: right;\">\n",
       "      <th></th>\n",
       "      <th>a</th>\n",
       "      <th>b</th>\n",
       "      <th>c</th>\n",
       "    </tr>\n",
       "  </thead>\n",
       "  <tbody>\n",
       "    <tr>\n",
       "      <th>1</th>\n",
       "      <td>1</td>\n",
       "      <td>4</td>\n",
       "      <td>Y</td>\n",
       "    </tr>\n",
       "  </tbody>\n",
       "</table>\n",
       "</div>"
      ],
      "text/plain": [
       "   a  b  c\n",
       "1  1  4  Y"
      ]
     },
     "execution_count": 4,
     "metadata": {},
     "output_type": "execute_result"
    }
   ],
   "source": [
    "df.query('a in @our_list')"
   ]
  },
  {
   "cell_type": "markdown",
   "metadata": {},
   "source": [
    "Пока всё работает привычно. Однако в переменной сохраняют не только числа, строки или списки, но и более сложные структуры: словари, Series, датафреймы. Узнаем, как работает условие для построения среза с ними.\n",
    "\n",
    "Что если во внешней переменной хранят не список, а словарь? Напомним, что словарь — это структура данных, состоящая из ключа и значения. Пусть в переменной `our_dict` пары ключ-значение: `our_dict = {0: 10, 1: 11, 2: 12}`. Тогда запрос `'a in @our_dict'` будет проверять вхождение значений столбца `'a'` в **ключи** словаря: `0, 1, 2`.\n"
   ]
  },
  {
   "cell_type": "code",
   "execution_count": 5,
   "metadata": {},
   "outputs": [
    {
     "name": "stdout",
     "output_type": "stream",
     "text": [
      "   a  b  c\n",
      "0  0  5  X\n",
      "1  1  4  Y\n"
     ]
    }
   ],
   "source": [
    "our_dict = {0: 10, 1: 11, 2: 12}\n",
    "df = pd.DataFrame(\n",
    "    {\n",
    "        'a': [0, 1, 10, 11, 12],\n",
    "        'b': [5, 4, 3, 2, 1],\n",
    "        'c': ['X', 'Y', 'Y', 'Y', 'Z'],\n",
    "    }\n",
    ")\n",
    "\n",
    "print(\n",
    "    df.query('a in @our_dict')\n",
    ")  # строим срез, в котором значения столбца 'a' равны ключам словаря"
   ]
  },
  {
   "cell_type": "code",
   "execution_count": 6,
   "metadata": {},
   "outputs": [
    {
     "data": {
      "text/html": [
       "<div>\n",
       "<style scoped>\n",
       "    .dataframe tbody tr th:only-of-type {\n",
       "        vertical-align: middle;\n",
       "    }\n",
       "\n",
       "    .dataframe tbody tr th {\n",
       "        vertical-align: top;\n",
       "    }\n",
       "\n",
       "    .dataframe thead th {\n",
       "        text-align: right;\n",
       "    }\n",
       "</style>\n",
       "<table border=\"1\" class=\"dataframe\">\n",
       "  <thead>\n",
       "    <tr style=\"text-align: right;\">\n",
       "      <th></th>\n",
       "      <th>a</th>\n",
       "      <th>b</th>\n",
       "      <th>c</th>\n",
       "    </tr>\n",
       "  </thead>\n",
       "  <tbody>\n",
       "    <tr>\n",
       "      <th>0</th>\n",
       "      <td>0</td>\n",
       "      <td>5</td>\n",
       "      <td>X</td>\n",
       "    </tr>\n",
       "    <tr>\n",
       "      <th>1</th>\n",
       "      <td>1</td>\n",
       "      <td>4</td>\n",
       "      <td>Y</td>\n",
       "    </tr>\n",
       "  </tbody>\n",
       "</table>\n",
       "</div>"
      ],
      "text/plain": [
       "   a  b  c\n",
       "0  0  5  X\n",
       "1  1  4  Y"
      ]
     },
     "execution_count": 6,
     "metadata": {},
     "output_type": "execute_result"
    }
   ],
   "source": [
    "df.query('a in @our_dict')"
   ]
  },
  {
   "cell_type": "markdown",
   "metadata": {},
   "source": [
    "Когда в переменной сохранён объект `Series`, конструкция `a in @our_series` проверит вхождение в список **значений**, а не индексов:"
   ]
  },
  {
   "cell_type": "code",
   "execution_count": 7,
   "metadata": {},
   "outputs": [
    {
     "name": "stdout",
     "output_type": "stream",
     "text": [
      "    a  b  c\n",
      "2  10  3  Y\n",
      "3  11  2  Y\n",
      "4  12  1  Z\n"
     ]
    }
   ],
   "source": [
    "our_series = pd.Series([10, 11, 12])\n",
    "df = pd.DataFrame(\n",
    "    {\n",
    "        'a': [0, 1, 10, 11, 12],\n",
    "        'b': [5, 4, 3, 2, 1],\n",
    "        'c': ['X', 'Y', 'Y', 'Y', 'Z'],\n",
    "    }\n",
    ")\n",
    "print(\n",
    "    df.query('a in @our_series')\n",
    ")  # строим срез, в котором значения столбца 'a' равны значениям Series, но не их индексам"
   ]
  },
  {
   "cell_type": "markdown",
   "metadata": {},
   "source": [
    "Если нужно проверить вхождение в **индекс**, это указывают явно, дописывая `index` через точку: `a in @our_series.index`:"
   ]
  },
  {
   "cell_type": "code",
   "execution_count": 8,
   "metadata": {},
   "outputs": [
    {
     "name": "stdout",
     "output_type": "stream",
     "text": [
      "   a  b  c\n",
      "0  0  5  X\n",
      "1  1  4  Y\n"
     ]
    }
   ],
   "source": [
    "our_series = pd.Series([10, 11, 12])\n",
    "df = pd.DataFrame(\n",
    "    {\n",
    "        'a': [0, 1, 10, 11, 12],\n",
    "        'b': [5, 4, 3, 2, 1],\n",
    "        'c': ['X', 'Y', 'Y', 'Y', 'Z'],\n",
    "    }\n",
    ")\n",
    "print(\n",
    "    df.query('a in @our_series.index')\n",
    ")  # строим срез, в котором значения столбца 'a' равны индексам Series, т.е. 0, 1 или 2"
   ]
  },
  {
   "cell_type": "markdown",
   "metadata": {},
   "source": [
    "Когда имеют дело с объектом `DataFrame`, вхождение в индекс проверяют так же, как в `Series` — приписав `index` через точку к имени датафрейма:"
   ]
  },
  {
   "cell_type": "code",
   "execution_count": 9,
   "metadata": {},
   "outputs": [
    {
     "name": "stdout",
     "output_type": "stream",
     "text": [
      "   a  b  c\n",
      "0  0  5  X\n",
      "1  1  4  Y\n"
     ]
    }
   ],
   "source": [
    "df = pd.DataFrame(\n",
    "    {\n",
    "        'a': [0, 1, 10, 11, 12],\n",
    "        'b': [5, 4, 3, 2, 1],\n",
    "        'c': ['X', 'Y', 'Y', 'Y', 'Z'],\n",
    "    }\n",
    ")\n",
    "our_df = pd.DataFrame(\n",
    "    {\n",
    "        'a1': [2, 4, 6],\n",
    "        'b1': [3, 2, 2],\n",
    "        'c1': ['A', 'B', 'C'],\n",
    "    }\n",
    ")\n",
    "print(\n",
    "    df.query('a in @our_df.index')\n",
    ")  # строим срез, в котором значения столбца 'a' равны индексам датафрейма our_df, т.е. 0, 1 или 2"
   ]
  },
  {
   "cell_type": "markdown",
   "metadata": {},
   "source": [
    "Для проверки вхождения в какой-либо **столбец**, передают его имя. \n",
    "\n",
    "Построим срез из значений столбца `'b'` первого датафрейма, равных элементам столбца `'b1'` второго датафрейма:"
   ]
  },
  {
   "cell_type": "code",
   "execution_count": 10,
   "metadata": {},
   "outputs": [
    {
     "name": "stdout",
     "output_type": "stream",
     "text": [
      "    a  b  c\n",
      "2  10  3  Y\n",
      "3  11  2  Y\n"
     ]
    }
   ],
   "source": [
    "df = pd.DataFrame(\n",
    "    {\n",
    "        'a': [0, 1, 10, 11, 12],\n",
    "        'b': [5, 4, 3, 2, 1],\n",
    "        'c': ['X', 'Y', 'Y', 'Y', 'Z'],\n",
    "    }\n",
    ")\n",
    "our_df = pd.DataFrame(\n",
    "    {\n",
    "        'a1': [2, 4, 6],\n",
    "        'b1': [3, 2, 2],\n",
    "        'c1': ['A', 'B', 'C'],\n",
    "    }\n",
    ")\n",
    "print(\n",
    "    df.query('b in @our_df.b1')\n",
    ")  # строим срез, в котором значения столбца 'b' равны значениям столбца b1 датафрейма our_df"
   ]
  },
  {
   "cell_type": "markdown",
   "metadata": {},
   "source": [
    "У вас есть всё, чтобы получить правильный срез. Объединим ваши знания в верную последовательность шагов:\n",
    "- Сделать срез из `too_fast_stat`, где останутся только «хорошие» АЗС (те, на которых доля сверхкоротких заправок меньше 50%);\n",
    "- Получить срез из `data` с `id` «хороших» АЗС."
   ]
  },
  {
   "cell_type": "markdown",
   "metadata": {},
   "source": [
    "### Задача 1/4\n",
    "Выберите из таблицы data данные только по АЗС с долей «аномально быстрых» заездов меньше 50%. Сравните число «хороших» АЗС с количеством всех АЗС. Решите задачу в несколько шагов:\n",
    "1. Выберите `id` АЗС, чья доля «аномально быстрых» заездов меньше 50%. Сохраните их `id` в переменной `good_ids`. Получите `id` «хороших» АЗС, применив `query()` к столбцу `too_fast_stat`. Чтобы вспомнить название нужного вам столбца, выполните промежуточное действие — напечатайте таблицу `too_fast_stat`.\n",
    "2. Отфильтруйте `data` по вхождению в `good_ids.index`. Результат сохраните в `good_data`.\n",
    "3. Распечатайте число строк в `data`, а затем и число строк в `good_data`.\n",
    "\n",
    ">В переменной `good_ids` сохраните срез данных из таблицы `too_fast_stat`. Условие среза: доля аномально быстрых заправок меньше 0.5.\n",
    "\n",
    ">В переменной `good_data` сохраните срез данных из таблицы `data`. В срез должны войти те `id` из `data`, которые встречаются в индексах таблицы `good_ids`. В срезе обратитесь ко внешней переменной `@good_ids`.\n",
    "\n",
    ">Найдите количество строк функцией `len()`."
   ]
  },
  {
   "cell_type": "code",
   "execution_count": 11,
   "metadata": {},
   "outputs": [
    {
     "name": "stdout",
     "output_type": "stream",
     "text": [
      "317104\n",
      "229095\n"
     ]
    }
   ],
   "source": [
    "import pandas as pd\n",
    "\n",
    "data = pd.read_csv('../datasets/visits.csv', sep='\\t')\n",
    "data['local_time'] = pd.to_datetime(\n",
    "    data['date_time'], format='%Y-%m-%dT%H:%M:%S'\n",
    ") + pd.Timedelta(hours=3)\n",
    "data['date_hour'] = data['local_time'].dt.round('1H')\n",
    "data['too_fast'] = data['time_spent'] < 60\n",
    "data['too_slow'] = data['time_spent'] > 1000\n",
    "\n",
    "# вспоминаем таблицу too_fast_stat\n",
    "too_fast_stat = data.pivot_table(index='id', values='too_fast')\n",
    "\n",
    "# переменная good_ids со срезом данных из таблицы too_fast_stat, условие < 0.5\n",
    "good_ids = too_fast_stat.query('too_fast < 0.5')\n",
    "\n",
    "# переменная good_data со срезом данных из таблицы data, id по внешней переменной @\n",
    "good_data = data.query('id in @good_ids.index')\n",
    "\n",
    "# число строк в таблицах\n",
    "print(len(data))\n",
    "print(len(good_data))"
   ]
  },
  {
   "cell_type": "markdown",
   "metadata": {},
   "source": [
    "Из 317104 строк осталось 229095. Будем держать в уме, что примерно треть заездов (почти 28 %) на этом этапе мы потеряли. \n",
    "Оставшегося вполне хватает, чтобы рассчитать среднее время заправки."
   ]
  },
  {
   "cell_type": "markdown",
   "metadata": {},
   "source": [
    "### Задача 2/4\n",
    "У нас теперь остались только «хорошие» АЗС. Надо избавить их статистику от аномальных заездов. И то, что получится, будем считать пригодными для принятия решения данными.\n",
    "\n",
    "Мы условились, что **нормальная заправка должна длиться не меньше 60, но не больше 1000 секунд**. Оставьте в `good_data` только данные с нормальной продолжительностью заправки. Результат сохраните в той же переменной. Напечатайте число строк в обновлённой `good_data`.\n",
    ">Напечатайте `good_data`, чтобы вспомнить название столбца со временем заезда на АЗС.\n",
    "Составьте условие, что значение столбца больше либо равно 60 и меньше, либо равно 1000 одновременно. Передайте получившееся условие в `query()`. Результат присвойте `good_data`."
   ]
  },
  {
   "cell_type": "code",
   "execution_count": 12,
   "metadata": {},
   "outputs": [
    {
     "data": {
      "text/html": [
       "<div>\n",
       "<style scoped>\n",
       "    .dataframe tbody tr th:only-of-type {\n",
       "        vertical-align: middle;\n",
       "    }\n",
       "\n",
       "    .dataframe tbody tr th {\n",
       "        vertical-align: top;\n",
       "    }\n",
       "\n",
       "    .dataframe thead th {\n",
       "        text-align: right;\n",
       "    }\n",
       "</style>\n",
       "<table border=\"1\" class=\"dataframe\">\n",
       "  <thead>\n",
       "    <tr style=\"text-align: right;\">\n",
       "      <th></th>\n",
       "      <th>date_time</th>\n",
       "      <th>id</th>\n",
       "      <th>time_spent</th>\n",
       "      <th>name</th>\n",
       "      <th>local_time</th>\n",
       "      <th>date_hour</th>\n",
       "      <th>too_fast</th>\n",
       "      <th>too_slow</th>\n",
       "    </tr>\n",
       "  </thead>\n",
       "  <tbody>\n",
       "    <tr>\n",
       "      <th>0</th>\n",
       "      <td>20180406T165358</td>\n",
       "      <td>76144fb2</td>\n",
       "      <td>98.0</td>\n",
       "      <td>Василек</td>\n",
       "      <td>2018-04-06 19:53:58</td>\n",
       "      <td>2018-04-06 20:00:00</td>\n",
       "      <td>False</td>\n",
       "      <td>False</td>\n",
       "    </tr>\n",
       "    <tr>\n",
       "      <th>1</th>\n",
       "      <td>20180404T173913</td>\n",
       "      <td>76144fb2</td>\n",
       "      <td>15.0</td>\n",
       "      <td>Василек</td>\n",
       "      <td>2018-04-04 20:39:13</td>\n",
       "      <td>2018-04-04 21:00:00</td>\n",
       "      <td>True</td>\n",
       "      <td>False</td>\n",
       "    </tr>\n",
       "    <tr>\n",
       "      <th>2</th>\n",
       "      <td>20180403T172824</td>\n",
       "      <td>76144fb2</td>\n",
       "      <td>220.0</td>\n",
       "      <td>Василек</td>\n",
       "      <td>2018-04-03 20:28:24</td>\n",
       "      <td>2018-04-03 20:00:00</td>\n",
       "      <td>False</td>\n",
       "      <td>False</td>\n",
       "    </tr>\n",
       "    <tr>\n",
       "      <th>3</th>\n",
       "      <td>20180407T070441</td>\n",
       "      <td>76144fb2</td>\n",
       "      <td>19.0</td>\n",
       "      <td>Василек</td>\n",
       "      <td>2018-04-07 10:04:41</td>\n",
       "      <td>2018-04-07 10:00:00</td>\n",
       "      <td>True</td>\n",
       "      <td>False</td>\n",
       "    </tr>\n",
       "    <tr>\n",
       "      <th>4</th>\n",
       "      <td>20180404T132049</td>\n",
       "      <td>76144fb2</td>\n",
       "      <td>14.0</td>\n",
       "      <td>Василек</td>\n",
       "      <td>2018-04-04 16:20:49</td>\n",
       "      <td>2018-04-04 16:00:00</td>\n",
       "      <td>True</td>\n",
       "      <td>False</td>\n",
       "    </tr>\n",
       "    <tr>\n",
       "      <th>...</th>\n",
       "      <td>...</td>\n",
       "      <td>...</td>\n",
       "      <td>...</td>\n",
       "      <td>...</td>\n",
       "      <td>...</td>\n",
       "      <td>...</td>\n",
       "      <td>...</td>\n",
       "      <td>...</td>\n",
       "    </tr>\n",
       "    <tr>\n",
       "      <th>317099</th>\n",
       "      <td>20180408T053133</td>\n",
       "      <td>9cdb5039</td>\n",
       "      <td>11.0</td>\n",
       "      <td>Гейхера</td>\n",
       "      <td>2018-04-08 08:31:33</td>\n",
       "      <td>2018-04-08 09:00:00</td>\n",
       "      <td>True</td>\n",
       "      <td>False</td>\n",
       "    </tr>\n",
       "    <tr>\n",
       "      <th>317100</th>\n",
       "      <td>20180403T021353</td>\n",
       "      <td>9cdb5039</td>\n",
       "      <td>181.0</td>\n",
       "      <td>Гейхера</td>\n",
       "      <td>2018-04-03 05:13:53</td>\n",
       "      <td>2018-04-03 05:00:00</td>\n",
       "      <td>False</td>\n",
       "      <td>False</td>\n",
       "    </tr>\n",
       "    <tr>\n",
       "      <th>317101</th>\n",
       "      <td>20180408T062636</td>\n",
       "      <td>9cdb5039</td>\n",
       "      <td>252.0</td>\n",
       "      <td>Гейхера</td>\n",
       "      <td>2018-04-08 09:26:36</td>\n",
       "      <td>2018-04-08 09:00:00</td>\n",
       "      <td>False</td>\n",
       "      <td>False</td>\n",
       "    </tr>\n",
       "    <tr>\n",
       "      <th>317102</th>\n",
       "      <td>20180405T232425</td>\n",
       "      <td>9cdb5039</td>\n",
       "      <td>29.0</td>\n",
       "      <td>Гейхера</td>\n",
       "      <td>2018-04-06 02:24:25</td>\n",
       "      <td>2018-04-06 02:00:00</td>\n",
       "      <td>True</td>\n",
       "      <td>False</td>\n",
       "    </tr>\n",
       "    <tr>\n",
       "      <th>317103</th>\n",
       "      <td>20180405T194238</td>\n",
       "      <td>9cdb5039</td>\n",
       "      <td>20.0</td>\n",
       "      <td>Гейхера</td>\n",
       "      <td>2018-04-05 22:42:38</td>\n",
       "      <td>2018-04-05 23:00:00</td>\n",
       "      <td>True</td>\n",
       "      <td>False</td>\n",
       "    </tr>\n",
       "  </tbody>\n",
       "</table>\n",
       "<p>229095 rows × 8 columns</p>\n",
       "</div>"
      ],
      "text/plain": [
       "              date_time        id  time_spent     name          local_time  \\\n",
       "0       20180406T165358  76144fb2        98.0  Василек 2018-04-06 19:53:58   \n",
       "1       20180404T173913  76144fb2        15.0  Василек 2018-04-04 20:39:13   \n",
       "2       20180403T172824  76144fb2       220.0  Василек 2018-04-03 20:28:24   \n",
       "3       20180407T070441  76144fb2        19.0  Василек 2018-04-07 10:04:41   \n",
       "4       20180404T132049  76144fb2        14.0  Василек 2018-04-04 16:20:49   \n",
       "...                 ...       ...         ...      ...                 ...   \n",
       "317099  20180408T053133  9cdb5039        11.0  Гейхера 2018-04-08 08:31:33   \n",
       "317100  20180403T021353  9cdb5039       181.0  Гейхера 2018-04-03 05:13:53   \n",
       "317101  20180408T062636  9cdb5039       252.0  Гейхера 2018-04-08 09:26:36   \n",
       "317102  20180405T232425  9cdb5039        29.0  Гейхера 2018-04-06 02:24:25   \n",
       "317103  20180405T194238  9cdb5039        20.0  Гейхера 2018-04-05 22:42:38   \n",
       "\n",
       "                 date_hour  too_fast  too_slow  \n",
       "0      2018-04-06 20:00:00     False     False  \n",
       "1      2018-04-04 21:00:00      True     False  \n",
       "2      2018-04-03 20:00:00     False     False  \n",
       "3      2018-04-07 10:00:00      True     False  \n",
       "4      2018-04-04 16:00:00      True     False  \n",
       "...                    ...       ...       ...  \n",
       "317099 2018-04-08 09:00:00      True     False  \n",
       "317100 2018-04-03 05:00:00     False     False  \n",
       "317101 2018-04-08 09:00:00     False     False  \n",
       "317102 2018-04-06 02:00:00      True     False  \n",
       "317103 2018-04-05 23:00:00      True     False  \n",
       "\n",
       "[229095 rows x 8 columns]"
      ]
     },
     "execution_count": 12,
     "metadata": {},
     "output_type": "execute_result"
    }
   ],
   "source": [
    "good_data\n",
    "# 229095 строк\n",
    "# нам нужен столбец 'time_spent'"
   ]
  },
  {
   "cell_type": "code",
   "execution_count": 13,
   "metadata": {},
   "outputs": [
    {
     "name": "stdout",
     "output_type": "stream",
     "text": [
      "154601\n"
     ]
    }
   ],
   "source": [
    "# обновим с учетом среза по условию\n",
    "good_data = good_data.query('60 <= time_spent <= 1000')\n",
    "#print(good_data)\n",
    "# в обновленной таблице 154601 строка\n",
    "print(len(good_data))"
   ]
  },
  {
   "cell_type": "markdown",
   "metadata": {},
   "source": [
    "Этим данным можно доверять: здесь только \"хорошие\" АЗС (без пальмового масла, консервантов, ГМО и аномальных заправок)."
   ]
  },
  {
   "cell_type": "markdown",
   "metadata": {},
   "source": [
    "### Задача 3/4\n",
    "\n",
    "Вы столько всего выкинули! А что-нибудь от этого поменялось? Уточните, **какой стала типичная продолжительность заправки** на АЗС.\n",
    "\n",
    "Примените `pivot_table` к датафрейму `good_data` и составьте рейтинг, где каждой АЗС (`id`) соответствует медианное время заправки.\n",
    "\n",
    "Сводную таблицу сохраните в `good_stations_stat`. Постройте гистограмму `good_stations_stat` c 50 корзинами.\n",
    "\n",
    ">Чтобы припомнить названия столбцов с а) идентификаторами АЗС и б) временем на них, распечатайте good_data.\n",
    "Результат посчитайте методом `pivot_table`. Передайте `id` и время заправки в параметрах `index` и `values`. В `aggfunc` укажите медиану. Полученный результат сохраните в переменной `good_stations_stat`.\n",
    "\n",
    ">Постройте гистограмму методом `hist()`, передайте нужное число корзин параметром `bins`."
   ]
  },
  {
   "cell_type": "code",
   "execution_count": 14,
   "metadata": {},
   "outputs": [],
   "source": [
    "# вспоминаем названия столбцов\n",
    "#good_data"
   ]
  },
  {
   "cell_type": "code",
   "execution_count": 15,
   "metadata": {},
   "outputs": [],
   "source": [
    "# сводная таблица по good_data, где каждому id соответствует медианное время заправки time_spent\n",
    "good_stations_stat = good_data.pivot_table(index=\"id\", values=\"time_spent\", aggfunc=\"median\")"
   ]
  },
  {
   "cell_type": "code",
   "execution_count": 16,
   "metadata": {},
   "outputs": [
    {
     "data": {
      "text/plain": [
       "array([[<AxesSubplot:title={'center':'time_spent'}>]], dtype=object)"
      ]
     },
     "execution_count": 16,
     "metadata": {},
     "output_type": "execute_result"
    },
    {
     "data": {
      "image/png": "[encoded data removed]",
      "text/plain": [
       "<Figure size 432x288 with 1 Axes>"
      ]
     },
     "metadata": {
      "needs_background": "light"
     },
     "output_type": "display_data"
    }
   ],
   "source": [
    "good_stations_stat.hist(bins=50)"
   ]
  },
  {
   "cell_type": "markdown",
   "metadata": {},
   "source": [
    "Большая масса АЗС сместилась в диапазон времени заправки 150-300 секунд. Выглядит правдоподобно. Никофе, ни туалета, залились - и в путь."
   ]
  },
  {
   "cell_type": "markdown",
   "metadata": {},
   "source": [
    "### Задача 4/4\n",
    "Всё готово для составления рейтинга сетей АЗС.\n",
    "Примените `pivot_table` к `good_data` и постройте рейтинг, где каждому названию сети АЗС соответствует медианное время заправки. Сводную таблицу сохраните в `good_stat`.\n",
    "\n",
    "Выведите `good_stat`, отсортировав по возрастанию времени.\n",
    ">Задачу решайте, как предыдущую. Только группируйте не по id, а по имени сети АЗС. Выведите на экран good_data, чтобы вспомнить имя столбца с названием сетей АЗС.\n",
    "\n",
    ">Значения по возрастанию времени получите методом `sort_values('time_spent')`."
   ]
  },
  {
   "cell_type": "code",
   "execution_count": 17,
   "metadata": {},
   "outputs": [
    {
     "name": "stdout",
     "output_type": "stream",
     "text": [
      "             time_spent\n",
      "name                   \n",
      "Белоцветник       154.0\n",
      "Бальзамин         158.0\n",
      "Незабудка         161.0\n",
      "Колокольчик       161.0\n",
      "Обриета           167.0\n",
      "Функия            171.5\n",
      "Гацания           178.5\n",
      "Аммобиум          180.5\n",
      "Пион              180.5\n",
      "Бархатцы          181.5\n",
      "Мальва            182.0\n",
      "Ирис              185.0\n",
      "Арктотис          185.0\n",
      "Люпин             186.0\n",
      "Амарант           187.5\n",
      "Хризантема        188.0\n",
      "Тюльпан           190.0\n",
      "Ромашка           191.0\n",
      "Бегония           195.0\n",
      "Вербена           199.0\n",
      "Гейхера           204.0\n",
      "Вероника          212.0\n",
      "Левкой            212.5\n",
      "Подснежник        218.5\n",
      "Доротеантус       220.0\n",
      "Диморфотека       224.0\n",
      "Немезия           226.0\n",
      "Гвоздика          229.0\n",
      "Малопа            229.0\n",
      "Календула         254.0\n",
      "Крокус            257.5\n",
      "Василек           264.0\n",
      "Космос            267.0\n",
      "Георгина          279.0\n",
      "Лаватера          282.0\n",
      "Агератум          309.0\n",
      "Роза              315.0\n",
      "Петуния           319.5\n",
      "Гелихризум        342.0\n",
      "Астильба          423.0\n"
     ]
    }
   ],
   "source": [
    "# прекод\n",
    "import pandas as pd\n",
    "\n",
    "data = pd.read_csv(\"../datasets/visits.csv\", sep=\"\\t\")\n",
    "data['local_time'] = pd.to_datetime(\n",
    "    data['date_time'], format='%Y-%m-%dT%H:%M:%S'\n",
    ") + pd.Timedelta(hours=3)\n",
    "data['date_hour'] = data['local_time'].dt.round('1H')\n",
    "data['too_fast'] = data['time_spent'] < 60\n",
    "data['too_slow'] = data['time_spent'] > 1000\n",
    "\n",
    "too_fast_stat = data.pivot_table(index=\"id\", values=\"too_fast\")\n",
    "good_ids = too_fast_stat.query('too_fast < 0.5')\n",
    "good_data = data.query('id in @good_ids.index and 60 <= time_spent <= 1000')\n",
    "good_stations_stat = good_data.pivot_table(\n",
    "    index='id', values='time_spent', aggfunc='median'\n",
    ")\n",
    "\n",
    "\n",
    "# в сводной таблице good_stat отсортируем названия станций по медианному времени заправки\n",
    "good_stat = good_data.pivot_table(index=\"name\", values=\"time_spent\", aggfunc=\"median\")\n",
    "# значения по возрастанию времени\n",
    "print(good_stat.sort_values(by = 'time_spent', ascending=True))"
   ]
  },
  {
   "cell_type": "markdown",
   "metadata": {},
   "source": [
    "Вот он, наш долгожданный рейтинг!"
   ]
  },
  {
   "cell_type": "markdown",
   "metadata": {},
   "source": [
    "<a name=\"4\">_</a>\n",
    "## Добавляем столбец"
   ]
  },
  {
   "cell_type": "markdown",
   "metadata": {},
   "source": [
    "В прошлом уроке вы смело выбросили неправдоподобные наблюдения.\n",
    "\n",
    "Сравним с тем временем, что было раньше. Построим 2 гистограммы: по исходным данным raw (англ. «необработанный, сырой») и новым `filtered` (англ. «отфильтрованный»)."
   ]
  },
  {
   "cell_type": "code",
   "execution_count": 18,
   "metadata": {},
   "outputs": [
    {
     "data": {
      "text/plain": [
       "<AxesSubplot:ylabel='Frequency'>"
      ]
     },
     "execution_count": 18,
     "metadata": {},
     "output_type": "execute_result"
    },
    {
     "data": {
      "image/png": "[encoded data removed]",
      "text/plain": [
       "<Figure size 432x288 with 1 Axes>"
      ]
     },
     "metadata": {
      "needs_background": "light"
     },
     "output_type": "display_data"
    }
   ],
   "source": [
    "median_station_stat = data.pivot_table(\n",
    "    index='id', values='time_spent', aggfunc='median'\n",
    ")\n",
    "good_station_stat = good_data.pivot_table(\n",
    "    index='id', values='time_spent', aggfunc='median'\n",
    ")\n",
    "\n",
    "ax = median_station_stat.plot(\n",
    "    kind='hist',\n",
    "    y='time_spent',\n",
    "    histtype='step',\n",
    "    range=(0, 500),\n",
    "    bins=25,\n",
    "    linewidth=5,\n",
    "    alpha=0.7,\n",
    "    label='raw',\n",
    ")\n",
    "good_station_stat.plot(\n",
    "    kind='hist',\n",
    "    y='time_spent',\n",
    "    histtype='step',\n",
    "    range=(0, 500),\n",
    "    bins=25,\n",
    "    linewidth=5,\n",
    "    alpha=0.7,\n",
    "    label='filtered',\n",
    "    ax=ax,\n",
    "    grid=True,\n",
    "    legend=True,\n",
    ")"
   ]
  },
  {
   "cell_type": "markdown",
   "metadata": {},
   "source": [
    "Обратите внимание, что мы вызвали не метод `hist()`, а `plot()` с параметром `kind` (англ. «вид»), которому установили значение `kind='hist'`. Та же гистограмма, только её построил не `hist()`, а `plot()`. Он умеет задействовать не поддерживаемые методом `hist()` параметры. Взгляните на полученные гистограммы"
   ]
  },
  {
   "cell_type": "markdown",
   "metadata": {},
   "source": [
    "Выглядят непривычно. Всё из-за ряда новых параметров:\n",
    "\n",
    "- **histtype** (от англ. the type of histogram, «тип гистограммы»). В параметре указывают тип гистограммы, по умолчанию — это столбчатая (закрашенная). Значение 'step' (англ. «шаг») чертит только линию.\n",
    "- **linewidth** (от англ. width of line, «толщина линии»). Задаёт толщину линии графика в пикселях.\n",
    "alpha (от термина «альфа-канал»). Назначает густоту закраски линии. 1 — это 100% закраска; 0 — прозрачная линия. С параметром 0.7 линии чуть прозрачны, так виднее их пересечения.\n",
    "- **label** (англ. «ярлык, этикетка»). Название линии.\n",
    "- **ax** (от англ. axis — «ось»). Метод plot() возвращает оси, на которых был построен график. Чтобы обе гистограммы расположились на одном графике, сохраним оси первого графика в переменной ax, а затем передадим её значение параметру ax второго plot(). Так, сохранив оси одной гистограммы и построив вторую на осях первой, мы объединили два графика.\n",
    "- **legend** (англ. «легенда»). Выводит легенду — список условных обозначений на графике. На нашем графике вы можете найти её в верхнем правом углу.\n",
    "\n",
    "Оставшиеся параметры `y`, `range`, `bins`, `grid` хорошо вам известны и не нуждаются в дополнительном представлении.\n",
    "\n",
    "Разобравшись, как получились две гистограммы, сравните их. Видно огромное различие на малых временах. В «сырых» данных есть большая группа АЗС с продолжительностью заправки менее 50 секунд. В отфильтрованных ничего подобного — мы сами отбросили АЗС с заездами короче 60 секунд. На самой «быстрой» АЗС в отфильтрованных данных заправляются дольше 100 секунд, а типичная продолжительность заправки около 200. Такое распределение больше похоже на правду, чем исходная гистограмма. Отсеяв всё лишнее и нереалистичное, вы проделали хорошую работу."
   ]
  },
  {
   "cell_type": "markdown",
   "metadata": {},
   "source": [
    "На график какого из известных вам распределений похожа отфильтрованная гистограмма?\n",
    "- нормальное распределение\n",
    "- распределение Пуассона\n",
    "- распределение Гаусса\n",
    "- биномиальное распределение\n",
    "(2)"
   ]
  },
  {
   "cell_type": "markdown",
   "metadata": {},
   "source": [
    "<a name=\"5\">_</a>\n",
    "## Добавляем столбец (продолжение)"
   ]
  },
  {
   "cell_type": "markdown",
   "metadata": {},
   "source": [
    "Диаграмма реалистична как раз потому, что похожа на распределение Пуассона, которое описывает время визитов, стояния в очередях и других подобных событий. Вы и заподозрили в данных неладное потому, что гистограмма совсем не напоминала пуассоновскую.\n",
    "\n",
    "Общее усовершенствование гистограммы очевидно. Однако как изменились значения для каждой отдельной АЗС и для сетей? У нас есть отдельные `stat` и `good_stat`. Чтобы увидеть значения бок о бок, нужно собрать их в один датафрейм.\n",
    "\n",
    "**Научимся добавлять столбец из одного датафрейма к другому** на простом примере.\n"
   ]
  },
  {
   "cell_type": "code",
   "execution_count": 19,
   "metadata": {},
   "outputs": [
    {
     "name": "stdout",
     "output_type": "stream",
     "text": [
      "   a  b\n",
      "0  1  Q\n",
      "1  2  R\n",
      "2  3  S\n",
      "3  3  T\n",
      "4  3  U\n",
      "\n",
      "   c  d  e\n",
      "0  3  V  3\n",
      "1  4  W  3\n",
      "2  5  X  3\n",
      "3  6  Y  3\n",
      "4  7  Z  3\n"
     ]
    }
   ],
   "source": [
    "df1 = pd.DataFrame({'a': [1, 2, 3, 3, 3], 'b': ['Q', 'R', 'S', 'T', 'U']})\n",
    "df2 = pd.DataFrame(\n",
    "    {\n",
    "        'c': [3, 4, 5, 6, 7],\n",
    "        'd': ['V', 'W', 'X', 'Y', 'Z'],\n",
    "        'e': [3, 3, 3, 3, 3],\n",
    "    }\n",
    ")\n",
    "print(df1)\n",
    "print()\n",
    "print(df2)"
   ]
  },
  {
   "cell_type": "markdown",
   "metadata": {},
   "source": [
    "Чтобы добавить в `df1` столбец из `df2`, создадим новый столбец в `df1` и присвоим ему значения столбца `df2`."
   ]
  },
  {
   "cell_type": "code",
   "execution_count": 20,
   "metadata": {},
   "outputs": [
    {
     "name": "stdout",
     "output_type": "stream",
     "text": [
      "   a  b\n",
      "0  1  Q\n",
      "1  2  R\n",
      "2  3  S\n",
      "3  3  T\n",
      "4  3  U\n",
      "\n",
      "   c  d  e\n",
      "0  3  V  3\n",
      "1  4  W  3\n",
      "2  5  X  3\n",
      "3  6  Y  3\n",
      "4  7  Z  3\n",
      "\n",
      "   a  b new\n",
      "0  1  Q   V\n",
      "1  2  R   W\n",
      "2  3  S   X\n",
      "3  3  T   Y\n",
      "4  3  U   Z\n"
     ]
    }
   ],
   "source": [
    "df1 = pd.DataFrame({'a': [1, 2, 3, 3, 3], 'b': ['Q', 'R', 'S', 'T', 'U']})\n",
    "df2 = pd.DataFrame(\n",
    "    {\n",
    "        'c': [3, 4, 5, 6, 7],\n",
    "        'd': ['V', 'W', 'X', 'Y', 'Z'],\n",
    "        'e': [3, 3, 3, 3, 3],\n",
    "    }\n",
    ")\n",
    "print(df1)\n",
    "print()\n",
    "print(df2)\n",
    "df1['new'] = df2['d']\n",
    "print()\n",
    "print(df1)"
   ]
  },
  {
   "cell_type": "markdown",
   "metadata": {},
   "source": [
    "Если бы столбец `new` уже был в `df1`, то все его элементы были бы удалены, а вместо них записаны новые:"
   ]
  },
  {
   "cell_type": "code",
   "execution_count": 21,
   "metadata": {},
   "outputs": [
    {
     "name": "stdout",
     "output_type": "stream",
     "text": [
      "   a new\n",
      "0  1   Q\n",
      "1  2   R\n",
      "2  3   S\n",
      "3  3   T\n",
      "4  3   U\n",
      "\n",
      "   c  d  e\n",
      "0  3  V  3\n",
      "1  4  W  3\n",
      "2  5  X  3\n",
      "3  6  Y  3\n",
      "4  7  Z  3\n",
      "\n",
      "   a new\n",
      "0  1   V\n",
      "1  2   W\n",
      "2  3   X\n",
      "3  3   Y\n",
      "4  3   Z\n"
     ]
    }
   ],
   "source": [
    "df1 = pd.DataFrame(\n",
    "    {'a': [1, 2, 3, 3, 3], 'new': ['Q', 'R', 'S', 'T', 'U']}\n",
    ")  # столбец new уже есть\n",
    "df2 = pd.DataFrame(\n",
    "    {\n",
    "        'c': [3, 4, 5, 6, 7],\n",
    "        'd': ['V', 'W', 'X', 'Y', 'Z'],\n",
    "        'e': [3, 3, 3, 3, 3],\n",
    "    }\n",
    ")\n",
    "print(df1)\n",
    "print()\n",
    "print(df2)\n",
    "df1['new'] = df2['d']\n",
    "print()\n",
    "print(df1)"
   ]
  },
  {
   "cell_type": "markdown",
   "metadata": {},
   "source": [
    "Кажется просто: Pandas копирует столбец из `df2` и вставляет его в `df1`.\n",
    "\n",
    "Однако всё сложнее. Для каждой строки первого датафрейма Pandas ищет «пару» — строку с таким же индексом во втором датафрейме. Находит и берёт значение из этой строки. В нашем случае индексы в `df1` и `df2` совпадали, и всё казалось простым копированием строк по порядку.\n",
    "\n",
    "Поменяем индексы в `df2`. Вызовем метод `set_index()`, передадим ему название столбца, который заменит собой индекс: при этом пропадёт и сам столбец, и старый индекс. Метод `set_index()` **не меняет исходный датафрейм, а возвращает обновлённый**. Если же оригинальную таблицу нужно заменить, добавляют параметр `inplace=True`.\n",
    "\n",
    "Заменим индексы во втором датафрейме на значения столбца `c`. После чего присвоим столбцу `new` в первом датафрейме значения столбца `d` в `df2`:"
   ]
  },
  {
   "cell_type": "code",
   "execution_count": 22,
   "metadata": {},
   "outputs": [
    {
     "name": "stdout",
     "output_type": "stream",
     "text": [
      "   a  b\n",
      "0  1  Q\n",
      "1  2  R\n",
      "2  3  S\n",
      "3  3  T\n",
      "4  3  U\n",
      "\n",
      "   d  e\n",
      "c      \n",
      "3  V  3\n",
      "4  W  3\n",
      "5  X  3\n",
      "6  Y  3\n",
      "7  Z  3\n",
      "\n",
      "   a  b  new\n",
      "0  1  Q  NaN\n",
      "1  2  R  NaN\n",
      "2  3  S  NaN\n",
      "3  3  T    V\n",
      "4  3  U    W\n"
     ]
    }
   ],
   "source": [
    "df1 = pd.DataFrame({'a': [1, 2, 3, 3, 3], 'b': ['Q', 'R', 'S', 'T', 'U']})\n",
    "df2 = pd.DataFrame(\n",
    "    {\n",
    "        'c': [3, 4, 5, 6, 7],\n",
    "        'd': ['V', 'W', 'X', 'Y', 'Z'],\n",
    "        'e': [3, 3, 3, 3, 3],\n",
    "    }\n",
    ")\n",
    "df2.set_index('c', inplace=True)\n",
    "print(df1)\n",
    "print()\n",
    "print(df2)\n",
    "df1['new'] = df2['d']\n",
    "print()\n",
    "print(df1)"
   ]
  },
  {
   "cell_type": "markdown",
   "metadata": {},
   "source": [
    "Индексы в df1 и df2 уже не одинаковы. Присвоение происходит лишь по совпадающим индексам. В df2 нет индексов 0, 1, 2 — в этих строках финального датафрейма оказались NaN. А в строках с индексами 3 и 4 записаны значения, которые в df2['d'] были в строках с индексами 3 и 4.\n",
    "\n",
    "Если в df1 будут повторяющиеся индексы, то значение из df2['d'] скопируется несколько раз. Заменим индексы в df1 на значения столбца a:"
   ]
  },
  {
   "cell_type": "code",
   "execution_count": 23,
   "metadata": {},
   "outputs": [
    {
     "name": "stdout",
     "output_type": "stream",
     "text": [
      "   b  new\n",
      "a        \n",
      "1  Q  NaN\n",
      "2  R  NaN\n",
      "3  S  NaN\n",
      "3  T    V\n",
      "3  U    W\n",
      "\n",
      "   d  e\n",
      "c      \n",
      "3  V  3\n",
      "4  W  3\n",
      "5  X  3\n",
      "6  Y  3\n",
      "7  Z  3\n",
      "\n",
      "   b  new\n",
      "a        \n",
      "1  Q  NaN\n",
      "2  R  NaN\n",
      "3  S    V\n",
      "3  T    V\n",
      "3  U    V\n"
     ]
    }
   ],
   "source": [
    "df1.set_index('a', inplace=True)\n",
    "print(df1)\n",
    "print()\n",
    "print(df2)\n",
    "print()\n",
    "df1['new'] = df2['d']\n",
    "print(df1)"
   ]
  },
  {
   "cell_type": "markdown",
   "metadata": {},
   "source": [
    "В столбце `new` в строках с совпадающим индексом 3 одинаковые значения `'Y'`.\n",
    "Число строк в `df2` не обязательно должно совпадать с числом строк `df1`. Если в `df2` не хватит значений, то будет `None`. А будут лишние — просто не попадут в обновлённый датафрейм.\n",
    "\n",
    "А вот повторяющиеся значения в индексе `df2` приведут к **ошибке**. Pandas не поймёт, какое из значений следует подставить в `df1`.\n"
   ]
  },
  {
   "cell_type": "code",
   "execution_count": 24,
   "metadata": {},
   "outputs": [
    {
     "name": "stdout",
     "output_type": "stream",
     "text": [
      "   a  b\n",
      "0  1  Q\n",
      "1  2  R\n",
      "2  3  S\n",
      "3  3  T\n",
      "4  3  U\n",
      "\n",
      "   c  d\n",
      "e      \n",
      "3  3  V\n",
      "3  4  W\n",
      "3  5  X\n",
      "3  6  Y\n",
      "3  7  Z\n",
      "\n"
     ]
    },
    {
     "ename": "ValueError",
     "evalue": "cannot reindex from a duplicate axis",
     "output_type": "error",
     "traceback": [
      "\u001b[1;31m---------------------------------------------------------------------------\u001b[0m",
      "\u001b[1;31mValueError\u001b[0m                                Traceback (most recent call last)",
      "\u001b[1;32m<ipython-input-24-859dd97124d7>\u001b[0m in \u001b[0;36m<module>\u001b[1;34m\u001b[0m\n\u001b[0;32m     12\u001b[0m \u001b[0mprint\u001b[0m\u001b[1;33m(\u001b[0m\u001b[0mdf2\u001b[0m\u001b[1;33m)\u001b[0m\u001b[1;33m\u001b[0m\u001b[1;33m\u001b[0m\u001b[0m\n\u001b[0;32m     13\u001b[0m \u001b[0mprint\u001b[0m\u001b[1;33m(\u001b[0m\u001b[1;33m)\u001b[0m\u001b[1;33m\u001b[0m\u001b[1;33m\u001b[0m\u001b[0m\n\u001b[1;32m---> 14\u001b[1;33m \u001b[0mdf1\u001b[0m\u001b[1;33m[\u001b[0m\u001b[1;34m'new'\u001b[0m\u001b[1;33m]\u001b[0m \u001b[1;33m=\u001b[0m \u001b[0mdf2\u001b[0m\u001b[1;33m[\u001b[0m\u001b[1;34m'd'\u001b[0m\u001b[1;33m]\u001b[0m\u001b[1;33m\u001b[0m\u001b[1;33m\u001b[0m\u001b[0m\n\u001b[0m",
      "\u001b[1;32m~\\anaconda3\\lib\\site-packages\\pandas\\core\\frame.py\u001b[0m in \u001b[0;36m__setitem__\u001b[1;34m(self, key, value)\u001b[0m\n\u001b[0;32m   3038\u001b[0m         \u001b[1;32melse\u001b[0m\u001b[1;33m:\u001b[0m\u001b[1;33m\u001b[0m\u001b[1;33m\u001b[0m\u001b[0m\n\u001b[0;32m   3039\u001b[0m             \u001b[1;31m# set column\u001b[0m\u001b[1;33m\u001b[0m\u001b[1;33m\u001b[0m\u001b[1;33m\u001b[0m\u001b[0m\n\u001b[1;32m-> 3040\u001b[1;33m             \u001b[0mself\u001b[0m\u001b[1;33m.\u001b[0m\u001b[0m_set_item\u001b[0m\u001b[1;33m(\u001b[0m\u001b[0mkey\u001b[0m\u001b[1;33m,\u001b[0m \u001b[0mvalue\u001b[0m\u001b[1;33m)\u001b[0m\u001b[1;33m\u001b[0m\u001b[1;33m\u001b[0m\u001b[0m\n\u001b[0m\u001b[0;32m   3041\u001b[0m \u001b[1;33m\u001b[0m\u001b[0m\n\u001b[0;32m   3042\u001b[0m     \u001b[1;32mdef\u001b[0m \u001b[0m_setitem_slice\u001b[0m\u001b[1;33m(\u001b[0m\u001b[0mself\u001b[0m\u001b[1;33m,\u001b[0m \u001b[0mkey\u001b[0m\u001b[1;33m:\u001b[0m \u001b[0mslice\u001b[0m\u001b[1;33m,\u001b[0m \u001b[0mvalue\u001b[0m\u001b[1;33m)\u001b[0m\u001b[1;33m:\u001b[0m\u001b[1;33m\u001b[0m\u001b[1;33m\u001b[0m\u001b[0m\n",
      "\u001b[1;32m~\\anaconda3\\lib\\site-packages\\pandas\\core\\frame.py\u001b[0m in \u001b[0;36m_set_item\u001b[1;34m(self, key, value)\u001b[0m\n\u001b[0;32m   3114\u001b[0m         \"\"\"\n\u001b[0;32m   3115\u001b[0m         \u001b[0mself\u001b[0m\u001b[1;33m.\u001b[0m\u001b[0m_ensure_valid_index\u001b[0m\u001b[1;33m(\u001b[0m\u001b[0mvalue\u001b[0m\u001b[1;33m)\u001b[0m\u001b[1;33m\u001b[0m\u001b[1;33m\u001b[0m\u001b[0m\n\u001b[1;32m-> 3116\u001b[1;33m         \u001b[0mvalue\u001b[0m \u001b[1;33m=\u001b[0m \u001b[0mself\u001b[0m\u001b[1;33m.\u001b[0m\u001b[0m_sanitize_column\u001b[0m\u001b[1;33m(\u001b[0m\u001b[0mkey\u001b[0m\u001b[1;33m,\u001b[0m \u001b[0mvalue\u001b[0m\u001b[1;33m)\u001b[0m\u001b[1;33m\u001b[0m\u001b[1;33m\u001b[0m\u001b[0m\n\u001b[0m\u001b[0;32m   3117\u001b[0m         \u001b[0mNDFrame\u001b[0m\u001b[1;33m.\u001b[0m\u001b[0m_set_item\u001b[0m\u001b[1;33m(\u001b[0m\u001b[0mself\u001b[0m\u001b[1;33m,\u001b[0m \u001b[0mkey\u001b[0m\u001b[1;33m,\u001b[0m \u001b[0mvalue\u001b[0m\u001b[1;33m)\u001b[0m\u001b[1;33m\u001b[0m\u001b[1;33m\u001b[0m\u001b[0m\n\u001b[0;32m   3118\u001b[0m \u001b[1;33m\u001b[0m\u001b[0m\n",
      "\u001b[1;32m~\\anaconda3\\lib\\site-packages\\pandas\\core\\frame.py\u001b[0m in \u001b[0;36m_sanitize_column\u001b[1;34m(self, key, value, broadcast)\u001b[0m\n\u001b[0;32m   3739\u001b[0m \u001b[1;33m\u001b[0m\u001b[0m\n\u001b[0;32m   3740\u001b[0m         \u001b[1;32mif\u001b[0m \u001b[0misinstance\u001b[0m\u001b[1;33m(\u001b[0m\u001b[0mvalue\u001b[0m\u001b[1;33m,\u001b[0m \u001b[0mSeries\u001b[0m\u001b[1;33m)\u001b[0m\u001b[1;33m:\u001b[0m\u001b[1;33m\u001b[0m\u001b[1;33m\u001b[0m\u001b[0m\n\u001b[1;32m-> 3741\u001b[1;33m             \u001b[0mvalue\u001b[0m \u001b[1;33m=\u001b[0m \u001b[0mreindexer\u001b[0m\u001b[1;33m(\u001b[0m\u001b[0mvalue\u001b[0m\u001b[1;33m)\u001b[0m\u001b[1;33m\u001b[0m\u001b[1;33m\u001b[0m\u001b[0m\n\u001b[0m\u001b[0;32m   3742\u001b[0m \u001b[1;33m\u001b[0m\u001b[0m\n\u001b[0;32m   3743\u001b[0m         \u001b[1;32melif\u001b[0m \u001b[0misinstance\u001b[0m\u001b[1;33m(\u001b[0m\u001b[0mvalue\u001b[0m\u001b[1;33m,\u001b[0m \u001b[0mDataFrame\u001b[0m\u001b[1;33m)\u001b[0m\u001b[1;33m:\u001b[0m\u001b[1;33m\u001b[0m\u001b[1;33m\u001b[0m\u001b[0m\n",
      "\u001b[1;32m~\\anaconda3\\lib\\site-packages\\pandas\\core\\frame.py\u001b[0m in \u001b[0;36mreindexer\u001b[1;34m(value)\u001b[0m\n\u001b[0;32m   3730\u001b[0m                     \u001b[1;32mif\u001b[0m \u001b[1;32mnot\u001b[0m \u001b[0mvalue\u001b[0m\u001b[1;33m.\u001b[0m\u001b[0mindex\u001b[0m\u001b[1;33m.\u001b[0m\u001b[0mis_unique\u001b[0m\u001b[1;33m:\u001b[0m\u001b[1;33m\u001b[0m\u001b[1;33m\u001b[0m\u001b[0m\n\u001b[0;32m   3731\u001b[0m                         \u001b[1;31m# duplicate axis\u001b[0m\u001b[1;33m\u001b[0m\u001b[1;33m\u001b[0m\u001b[1;33m\u001b[0m\u001b[0m\n\u001b[1;32m-> 3732\u001b[1;33m                         \u001b[1;32mraise\u001b[0m \u001b[0merr\u001b[0m\u001b[1;33m\u001b[0m\u001b[1;33m\u001b[0m\u001b[0m\n\u001b[0m\u001b[0;32m   3733\u001b[0m \u001b[1;33m\u001b[0m\u001b[0m\n\u001b[0;32m   3734\u001b[0m                     \u001b[1;31m# other\u001b[0m\u001b[1;33m\u001b[0m\u001b[1;33m\u001b[0m\u001b[1;33m\u001b[0m\u001b[0m\n",
      "\u001b[1;32m~\\anaconda3\\lib\\site-packages\\pandas\\core\\frame.py\u001b[0m in \u001b[0;36mreindexer\u001b[1;34m(value)\u001b[0m\n\u001b[0;32m   3725\u001b[0m                 \u001b[1;31m# GH 4107\u001b[0m\u001b[1;33m\u001b[0m\u001b[1;33m\u001b[0m\u001b[1;33m\u001b[0m\u001b[0m\n\u001b[0;32m   3726\u001b[0m                 \u001b[1;32mtry\u001b[0m\u001b[1;33m:\u001b[0m\u001b[1;33m\u001b[0m\u001b[1;33m\u001b[0m\u001b[0m\n\u001b[1;32m-> 3727\u001b[1;33m                     \u001b[0mvalue\u001b[0m \u001b[1;33m=\u001b[0m \u001b[0mvalue\u001b[0m\u001b[1;33m.\u001b[0m\u001b[0mreindex\u001b[0m\u001b[1;33m(\u001b[0m\u001b[0mself\u001b[0m\u001b[1;33m.\u001b[0m\u001b[0mindex\u001b[0m\u001b[1;33m)\u001b[0m\u001b[1;33m.\u001b[0m\u001b[0m_values\u001b[0m\u001b[1;33m\u001b[0m\u001b[1;33m\u001b[0m\u001b[0m\n\u001b[0m\u001b[0;32m   3728\u001b[0m                 \u001b[1;32mexcept\u001b[0m \u001b[0mValueError\u001b[0m \u001b[1;32mas\u001b[0m \u001b[0merr\u001b[0m\u001b[1;33m:\u001b[0m\u001b[1;33m\u001b[0m\u001b[1;33m\u001b[0m\u001b[0m\n\u001b[0;32m   3729\u001b[0m                     \u001b[1;31m# raised in MultiIndex.from_tuples, see test_insert_error_msmgs\u001b[0m\u001b[1;33m\u001b[0m\u001b[1;33m\u001b[0m\u001b[1;33m\u001b[0m\u001b[0m\n",
      "\u001b[1;32m~\\anaconda3\\lib\\site-packages\\pandas\\core\\series.py\u001b[0m in \u001b[0;36mreindex\u001b[1;34m(self, index, **kwargs)\u001b[0m\n\u001b[0;32m   4397\u001b[0m     )\n\u001b[0;32m   4398\u001b[0m     \u001b[1;32mdef\u001b[0m \u001b[0mreindex\u001b[0m\u001b[1;33m(\u001b[0m\u001b[0mself\u001b[0m\u001b[1;33m,\u001b[0m \u001b[0mindex\u001b[0m\u001b[1;33m=\u001b[0m\u001b[1;32mNone\u001b[0m\u001b[1;33m,\u001b[0m \u001b[1;33m**\u001b[0m\u001b[0mkwargs\u001b[0m\u001b[1;33m)\u001b[0m\u001b[1;33m:\u001b[0m\u001b[1;33m\u001b[0m\u001b[1;33m\u001b[0m\u001b[0m\n\u001b[1;32m-> 4399\u001b[1;33m         \u001b[1;32mreturn\u001b[0m \u001b[0msuper\u001b[0m\u001b[1;33m(\u001b[0m\u001b[1;33m)\u001b[0m\u001b[1;33m.\u001b[0m\u001b[0mreindex\u001b[0m\u001b[1;33m(\u001b[0m\u001b[0mindex\u001b[0m\u001b[1;33m=\u001b[0m\u001b[0mindex\u001b[0m\u001b[1;33m,\u001b[0m \u001b[1;33m**\u001b[0m\u001b[0mkwargs\u001b[0m\u001b[1;33m)\u001b[0m\u001b[1;33m\u001b[0m\u001b[1;33m\u001b[0m\u001b[0m\n\u001b[0m\u001b[0;32m   4400\u001b[0m \u001b[1;33m\u001b[0m\u001b[0m\n\u001b[0;32m   4401\u001b[0m     def drop(\n",
      "\u001b[1;32m~\\anaconda3\\lib\\site-packages\\pandas\\core\\generic.py\u001b[0m in \u001b[0;36mreindex\u001b[1;34m(self, *args, **kwargs)\u001b[0m\n\u001b[0;32m   4459\u001b[0m \u001b[1;33m\u001b[0m\u001b[0m\n\u001b[0;32m   4460\u001b[0m         \u001b[1;31m# perform the reindex on the axes\u001b[0m\u001b[1;33m\u001b[0m\u001b[1;33m\u001b[0m\u001b[1;33m\u001b[0m\u001b[0m\n\u001b[1;32m-> 4461\u001b[1;33m         return self._reindex_axes(\n\u001b[0m\u001b[0;32m   4462\u001b[0m             \u001b[0maxes\u001b[0m\u001b[1;33m,\u001b[0m \u001b[0mlevel\u001b[0m\u001b[1;33m,\u001b[0m \u001b[0mlimit\u001b[0m\u001b[1;33m,\u001b[0m \u001b[0mtolerance\u001b[0m\u001b[1;33m,\u001b[0m \u001b[0mmethod\u001b[0m\u001b[1;33m,\u001b[0m \u001b[0mfill_value\u001b[0m\u001b[1;33m,\u001b[0m \u001b[0mcopy\u001b[0m\u001b[1;33m\u001b[0m\u001b[1;33m\u001b[0m\u001b[0m\n\u001b[0;32m   4463\u001b[0m         ).__finalize__(self, method=\"reindex\")\n",
      "\u001b[1;32m~\\anaconda3\\lib\\site-packages\\pandas\\core\\generic.py\u001b[0m in \u001b[0;36m_reindex_axes\u001b[1;34m(self, axes, level, limit, tolerance, method, fill_value, copy)\u001b[0m\n\u001b[0;32m   4479\u001b[0m \u001b[1;33m\u001b[0m\u001b[0m\n\u001b[0;32m   4480\u001b[0m             \u001b[0maxis\u001b[0m \u001b[1;33m=\u001b[0m \u001b[0mself\u001b[0m\u001b[1;33m.\u001b[0m\u001b[0m_get_axis_number\u001b[0m\u001b[1;33m(\u001b[0m\u001b[0ma\u001b[0m\u001b[1;33m)\u001b[0m\u001b[1;33m\u001b[0m\u001b[1;33m\u001b[0m\u001b[0m\n\u001b[1;32m-> 4481\u001b[1;33m             obj = obj._reindex_with_indexers(\n\u001b[0m\u001b[0;32m   4482\u001b[0m                 \u001b[1;33m{\u001b[0m\u001b[0maxis\u001b[0m\u001b[1;33m:\u001b[0m \u001b[1;33m[\u001b[0m\u001b[0mnew_index\u001b[0m\u001b[1;33m,\u001b[0m \u001b[0mindexer\u001b[0m\u001b[1;33m]\u001b[0m\u001b[1;33m}\u001b[0m\u001b[1;33m,\u001b[0m\u001b[1;33m\u001b[0m\u001b[1;33m\u001b[0m\u001b[0m\n\u001b[0;32m   4483\u001b[0m                 \u001b[0mfill_value\u001b[0m\u001b[1;33m=\u001b[0m\u001b[0mfill_value\u001b[0m\u001b[1;33m,\u001b[0m\u001b[1;33m\u001b[0m\u001b[1;33m\u001b[0m\u001b[0m\n",
      "\u001b[1;32m~\\anaconda3\\lib\\site-packages\\pandas\\core\\generic.py\u001b[0m in \u001b[0;36m_reindex_with_indexers\u001b[1;34m(self, reindexers, fill_value, copy, allow_dups)\u001b[0m\n\u001b[0;32m   4522\u001b[0m \u001b[1;33m\u001b[0m\u001b[0m\n\u001b[0;32m   4523\u001b[0m             \u001b[1;31m# TODO: speed up on homogeneous DataFrame objects\u001b[0m\u001b[1;33m\u001b[0m\u001b[1;33m\u001b[0m\u001b[1;33m\u001b[0m\u001b[0m\n\u001b[1;32m-> 4524\u001b[1;33m             new_data = new_data.reindex_indexer(\n\u001b[0m\u001b[0;32m   4525\u001b[0m                 \u001b[0mindex\u001b[0m\u001b[1;33m,\u001b[0m\u001b[1;33m\u001b[0m\u001b[1;33m\u001b[0m\u001b[0m\n\u001b[0;32m   4526\u001b[0m                 \u001b[0mindexer\u001b[0m\u001b[1;33m,\u001b[0m\u001b[1;33m\u001b[0m\u001b[1;33m\u001b[0m\u001b[0m\n",
      "\u001b[1;32m~\\anaconda3\\lib\\site-packages\\pandas\\core\\internals\\managers.py\u001b[0m in \u001b[0;36mreindex_indexer\u001b[1;34m(self, new_axis, indexer, axis, fill_value, allow_dups, copy, consolidate)\u001b[0m\n\u001b[0;32m   1274\u001b[0m         \u001b[1;31m# some axes don't allow reindexing with dups\u001b[0m\u001b[1;33m\u001b[0m\u001b[1;33m\u001b[0m\u001b[1;33m\u001b[0m\u001b[0m\n\u001b[0;32m   1275\u001b[0m         \u001b[1;32mif\u001b[0m \u001b[1;32mnot\u001b[0m \u001b[0mallow_dups\u001b[0m\u001b[1;33m:\u001b[0m\u001b[1;33m\u001b[0m\u001b[1;33m\u001b[0m\u001b[0m\n\u001b[1;32m-> 1276\u001b[1;33m             \u001b[0mself\u001b[0m\u001b[1;33m.\u001b[0m\u001b[0maxes\u001b[0m\u001b[1;33m[\u001b[0m\u001b[0maxis\u001b[0m\u001b[1;33m]\u001b[0m\u001b[1;33m.\u001b[0m\u001b[0m_can_reindex\u001b[0m\u001b[1;33m(\u001b[0m\u001b[0mindexer\u001b[0m\u001b[1;33m)\u001b[0m\u001b[1;33m\u001b[0m\u001b[1;33m\u001b[0m\u001b[0m\n\u001b[0m\u001b[0;32m   1277\u001b[0m \u001b[1;33m\u001b[0m\u001b[0m\n\u001b[0;32m   1278\u001b[0m         \u001b[1;32mif\u001b[0m \u001b[0maxis\u001b[0m \u001b[1;33m>=\u001b[0m \u001b[0mself\u001b[0m\u001b[1;33m.\u001b[0m\u001b[0mndim\u001b[0m\u001b[1;33m:\u001b[0m\u001b[1;33m\u001b[0m\u001b[1;33m\u001b[0m\u001b[0m\n",
      "\u001b[1;32m~\\anaconda3\\lib\\site-packages\\pandas\\core\\indexes\\base.py\u001b[0m in \u001b[0;36m_can_reindex\u001b[1;34m(self, indexer)\u001b[0m\n\u001b[0;32m   3287\u001b[0m         \u001b[1;31m# trying to reindex on an axis with duplicates\u001b[0m\u001b[1;33m\u001b[0m\u001b[1;33m\u001b[0m\u001b[1;33m\u001b[0m\u001b[0m\n\u001b[0;32m   3288\u001b[0m         \u001b[1;32mif\u001b[0m \u001b[1;32mnot\u001b[0m \u001b[0mself\u001b[0m\u001b[1;33m.\u001b[0m\u001b[0mis_unique\u001b[0m \u001b[1;32mand\u001b[0m \u001b[0mlen\u001b[0m\u001b[1;33m(\u001b[0m\u001b[0mindexer\u001b[0m\u001b[1;33m)\u001b[0m\u001b[1;33m:\u001b[0m\u001b[1;33m\u001b[0m\u001b[1;33m\u001b[0m\u001b[0m\n\u001b[1;32m-> 3289\u001b[1;33m             \u001b[1;32mraise\u001b[0m \u001b[0mValueError\u001b[0m\u001b[1;33m(\u001b[0m\u001b[1;34m\"cannot reindex from a duplicate axis\"\u001b[0m\u001b[1;33m)\u001b[0m\u001b[1;33m\u001b[0m\u001b[1;33m\u001b[0m\u001b[0m\n\u001b[0m\u001b[0;32m   3290\u001b[0m \u001b[1;33m\u001b[0m\u001b[0m\n\u001b[0;32m   3291\u001b[0m     \u001b[1;32mdef\u001b[0m \u001b[0mreindex\u001b[0m\u001b[1;33m(\u001b[0m\u001b[0mself\u001b[0m\u001b[1;33m,\u001b[0m \u001b[0mtarget\u001b[0m\u001b[1;33m,\u001b[0m \u001b[0mmethod\u001b[0m\u001b[1;33m=\u001b[0m\u001b[1;32mNone\u001b[0m\u001b[1;33m,\u001b[0m \u001b[0mlevel\u001b[0m\u001b[1;33m=\u001b[0m\u001b[1;32mNone\u001b[0m\u001b[1;33m,\u001b[0m \u001b[0mlimit\u001b[0m\u001b[1;33m=\u001b[0m\u001b[1;32mNone\u001b[0m\u001b[1;33m,\u001b[0m \u001b[0mtolerance\u001b[0m\u001b[1;33m=\u001b[0m\u001b[1;32mNone\u001b[0m\u001b[1;33m)\u001b[0m\u001b[1;33m:\u001b[0m\u001b[1;33m\u001b[0m\u001b[1;33m\u001b[0m\u001b[0m\n",
      "\u001b[1;31mValueError\u001b[0m: cannot reindex from a duplicate axis"
     ]
    }
   ],
   "source": [
    "df1 = pd.DataFrame({'a': [1, 2, 3, 3, 3], 'b': ['Q', 'R', 'S', 'T', 'U']})\n",
    "df2 = pd.DataFrame(\n",
    "    {\n",
    "        'c': [3, 4, 5, 6, 7],\n",
    "        'd': ['V', 'W', 'X', 'Y', 'Z'],\n",
    "        'e': [3, 3, 3, 3, 3],\n",
    "    }\n",
    ")\n",
    "df2.set_index('e', inplace=True)\n",
    "print(df1)\n",
    "print()\n",
    "print(df2)\n",
    "print()\n",
    "df1['new'] = df2['d']"
   ]
  },
  {
   "cell_type": "raw",
   "metadata": {},
   "source": [
    "   a  b\n",
    "0  1  Q\n",
    "1  2  R\n",
    "2  3  S\n",
    "3  3  T\n",
    "4  3  U\n",
    "\n",
    "   c  d\n",
    "e      \n",
    "3  3  V\n",
    "3  4  W\n",
    "3  5  X\n",
    "3  6  Y\n",
    "3  7  Z\n",
    "\n",
    "---------------------------------------------------------------------------\n",
    "ValueError                                Traceback (most recent call last)\n",
    "<ipython-input-13-72467f8997a5> in <module>\n",
    "\n",
    "ValueError: cannot reindex from a duplicate axis"
   ]
  },
  {
   "cell_type": "markdown",
   "metadata": {},
   "source": [
    "В примерах мы присваивали один столбец из датафрейма: в `df1['new']` сохраняли значения из `df2['d']`.\n",
    "\n",
    "Отдельный столбец можно создать и без датафрейма, в `Series` — это будет набор значений с индексами. При попытке присвоить объект с индексами, Pandas подберёт соответствующие индексам строки.\n"
   ]
  },
  {
   "cell_type": "code",
   "execution_count": 25,
   "metadata": {},
   "outputs": [
    {
     "name": "stdout",
     "output_type": "stream",
     "text": [
      "   a  b\n",
      "0  1  Q\n",
      "1  2  R\n",
      "2  3  S\n",
      "3  3  T\n",
      "4  3  U\n",
      "\n",
      "0    1\n",
      "1    2\n",
      "2    3\n",
      "3    4\n",
      "4    5\n",
      "dtype: int64\n",
      "\n",
      "   b  new\n",
      "a        \n",
      "1  Q    2\n",
      "2  R    3\n",
      "3  S    4\n",
      "3  T    4\n",
      "3  U    4\n"
     ]
    }
   ],
   "source": [
    "df1 = pd.DataFrame({'a': [1, 2, 3, 3, 3], 'b': ['Q', 'R', 'S', 'T', 'U']})\n",
    "print(df1)\n",
    "df1.set_index('a', inplace=True)\n",
    "series = pd.Series([1, 2, 3, 4, 5])\n",
    "print()\n",
    "print(series)\n",
    "df1['new'] = series\n",
    "print()\n",
    "print(df1)"
   ]
  },
  {
   "cell_type": "markdown",
   "metadata": {},
   "source": [
    "Если передавать столбцу список значений, сохранённых не как `Series`, а например, как `list`, присвоение будет идти по порядку строк."
   ]
  },
  {
   "cell_type": "code",
   "execution_count": 26,
   "metadata": {},
   "outputs": [
    {
     "name": "stdout",
     "output_type": "stream",
     "text": [
      "   a  b\n",
      "0  1  Q\n",
      "1  2  R\n",
      "2  3  S\n",
      "3  3  T\n",
      "4  3  U\n",
      "\n",
      "   a  b  new\n",
      "0  1  Q    1\n",
      "1  2  R    2\n",
      "2  3  S    3\n",
      "3  3  T    4\n",
      "4  3  U    5\n"
     ]
    }
   ],
   "source": [
    "df1 = pd.DataFrame({'a': [1, 2, 3, 3, 3], 'b': ['Q', 'R', 'S', 'T', 'U']})\n",
    "print(df1)\n",
    "list_values = [1, 2, 3, 4, 5]\n",
    "df1['new'] = list_values\n",
    "print()\n",
    "print(df1)"
   ]
  },
  {
   "cell_type": "markdown",
   "metadata": {},
   "source": [
    "Индексы `df1` проигнорированы, значения в `new` записаны по порядку.\n",
    "\n",
    "Важно знать, как ведут себя данные при присвоении `list` и `Series`, чтобы не повстречать неожиданные результаты."
   ]
  },
  {
   "cell_type": "markdown",
   "metadata": {},
   "source": [
    "### Задача\n",
    "Добавьте в `stat` столбец `good_time_spent` со значениями времени заправки в сети АЗС из `good_stat`. Распечатайте все значения `stat`.\n",
    ">Вспомните, в каком столбце хранится типичная продолжительность заправки в сетях: распечатайте `stat`. Присвойте столбцу `stat` с именем `good_time_spent` данные из столбца `good_stat` с типичным временем заправки."
   ]
  },
  {
   "cell_type": "code",
   "execution_count": 27,
   "metadata": {},
   "outputs": [
    {
     "name": "stdout",
     "output_type": "stream",
     "text": [
      "             time_spent  good_time_spent\n",
      "name                                    \n",
      "Агератум     337.802721            309.0\n",
      "Амарант      132.760012            187.5\n",
      "Аммобиум     256.708042            180.5\n",
      "Арктотис      73.879984            185.0\n",
      "Астильба     376.143149            423.0\n",
      "Бальзамин    134.508411            158.0\n",
      "Бархатцы     145.300328            181.5\n",
      "Бегония      163.200647            195.0\n",
      "Белоцветник  100.818966            154.0\n",
      "Василек      268.849897            264.0\n",
      "Вербена      190.016594            199.0\n",
      "Вероника     220.019402            212.0\n",
      "Гацания      160.685185            178.5\n",
      "Гвоздика     294.317308            229.0\n",
      "Гейхера      167.445947            204.0\n",
      "Гелихризум   290.138643            342.0\n",
      "Георгина     166.615555            279.0\n",
      "Годеция      113.958333              NaN\n",
      "Диморфотека  406.161017            224.0\n",
      "Доротеантус  263.568916            220.0\n",
      "Ирис         179.931159            185.0\n",
      "Календула    207.357323            254.0\n",
      "Колокольчик  119.131564            161.0\n",
      "Космос       164.867797            267.0\n",
      "Крокус       349.031746            257.5\n",
      "Лаватера     249.992844            282.0\n",
      "Левкой       187.465606            212.5\n",
      "Лобулярия     96.834350              NaN\n",
      "Люпин        235.440937            186.0\n",
      "Малопа        76.070543            229.0\n",
      "Мальва       136.562234            182.0\n",
      "Нарцисс       68.166758              NaN\n",
      "Настурция    154.859694              NaN\n",
      "Незабудка    120.362398            161.0\n",
      "Немезия      186.535207            226.0\n",
      "Обриета      141.777778            167.0\n",
      "Петуния      265.780822            319.5\n",
      "Пион         222.565523            180.5\n",
      "Подснежник   180.286207            218.5\n",
      "Роза         260.877217            315.0\n",
      "Ромашка      231.389365            191.0\n",
      "Тюльпан      187.832210            190.0\n",
      "Фасоль       133.631957              NaN\n",
      "Функия       302.494737            171.5\n",
      "Хризантема   195.738710            188.0\n"
     ]
    }
   ],
   "source": [
    "import pandas as pd\n",
    "\n",
    "data = pd.read_csv('../datasets/visits.csv', sep='\\t')\n",
    "data['local_time'] = pd.to_datetime(\n",
    "    data['date_time'], format='%Y-%m-%dT%H:%M:%S'\n",
    ") + pd.Timedelta(hours=3)\n",
    "data['date_hour'] = data['local_time'].dt.round('1H')\n",
    "data['too_fast'] = data['time_spent'] < 60\n",
    "data['too_slow'] = data['time_spent'] > 1000\n",
    "\n",
    "too_fast_stat = data.pivot_table(index='id', values='too_fast')\n",
    "good_ids = too_fast_stat.query('too_fast < 0.5')\n",
    "good_data = data.query('id in @good_ids.index and 60 <= time_spent <= 1000')\n",
    "good_stations_stat = good_data.pivot_table(\n",
    "    index='id', values='time_spent', aggfunc='median'\n",
    ")\n",
    "\n",
    "stat = data.pivot_table(index='name', values='time_spent')\n",
    "good_stat = good_data.pivot_table(\n",
    "    index='name', values='time_spent', aggfunc='median'\n",
    ")\n",
    "\n",
    "stat = data.pivot_table(index='name', values='time_spent')\n",
    "good_stat = good_data.pivot_table(index='name', values='time_spent', aggfunc='median')\n",
    "stat['good_time_spent'] = good_stat['time_spent']\n",
    "print(stat)"
   ]
  },
  {
   "cell_type": "markdown",
   "metadata": {},
   "source": [
    "После фильтрации исходных данных и расчета медианы вместо среднего. Типичная продолжительность заправки в сетях изменилась. Неодинаково в разных сетях.\n",
    "\n",
    "В сети \"Агератум» упала с 338 до 309, а в сети\"Амарант\" выросла с 133 до 188. Есть и значительные изменения. \"Арктотис\": с 74 до 185 - рост в 2,5 раза! \"Функия\": с 302 до 172 - падение почти в два раза. Фильтрация сильно поменяла рейтинг.\n"
   ]
  },
  {
   "cell_type": "markdown",
   "metadata": {},
   "source": [
    "<a name=\"6\">_</a>\n",
    "## Объединяем данные из двух таблиц"
   ]
  },
  {
   "cell_type": "markdown",
   "metadata": {},
   "source": [
    "Вы получили итоговый рейтинг. Полагаем, он лучше, чем исходный. Но ему пока недостаёт точности.\n",
    "\n",
    "Типичную продолжительность заправки в сети мы считали как медианную длительность заправок на всех АЗС сети. Да, если все АЗС в сети похожи, то как ни усредняй, получишь примерно те же значения. А что, если нет? Что, если данные на разных АЗС различаются на порядок?\n",
    "\n",
    "В таблице `gas_check_ins.csv` данные о 10 АЗС вымышленной сети. Взглянем на первые 10 строк:"
   ]
  },
  {
   "cell_type": "code",
   "execution_count": 28,
   "metadata": {},
   "outputs": [
    {
     "data": {
      "text/html": [
       "<div>\n",
       "<style scoped>\n",
       "    .dataframe tbody tr th:only-of-type {\n",
       "        vertical-align: middle;\n",
       "    }\n",
       "\n",
       "    .dataframe tbody tr th {\n",
       "        vertical-align: top;\n",
       "    }\n",
       "\n",
       "    .dataframe thead th {\n",
       "        text-align: right;\n",
       "    }\n",
       "</style>\n",
       "<table border=\"1\" class=\"dataframe\">\n",
       "  <thead>\n",
       "    <tr style=\"text-align: right;\">\n",
       "      <th></th>\n",
       "      <th>id</th>\n",
       "      <th>Gas station</th>\n",
       "      <th>Time</th>\n",
       "    </tr>\n",
       "  </thead>\n",
       "  <tbody>\n",
       "    <tr>\n",
       "      <th>0</th>\n",
       "      <td>4826</td>\n",
       "      <td>GasOne</td>\n",
       "      <td>60</td>\n",
       "    </tr>\n",
       "    <tr>\n",
       "      <th>1</th>\n",
       "      <td>1186</td>\n",
       "      <td>GasSeven</td>\n",
       "      <td>180</td>\n",
       "    </tr>\n",
       "    <tr>\n",
       "      <th>2</th>\n",
       "      <td>2643</td>\n",
       "      <td>GasOne</td>\n",
       "      <td>60</td>\n",
       "    </tr>\n",
       "    <tr>\n",
       "      <th>3</th>\n",
       "      <td>2891</td>\n",
       "      <td>GasOne</td>\n",
       "      <td>60</td>\n",
       "    </tr>\n",
       "    <tr>\n",
       "      <th>4</th>\n",
       "      <td>4662</td>\n",
       "      <td>GasOne</td>\n",
       "      <td>60</td>\n",
       "    </tr>\n",
       "    <tr>\n",
       "      <th>5</th>\n",
       "      <td>3499</td>\n",
       "      <td>GasOne</td>\n",
       "      <td>60</td>\n",
       "    </tr>\n",
       "    <tr>\n",
       "      <th>6</th>\n",
       "      <td>661</td>\n",
       "      <td>GasFour</td>\n",
       "      <td>180</td>\n",
       "    </tr>\n",
       "    <tr>\n",
       "      <th>7</th>\n",
       "      <td>3850</td>\n",
       "      <td>GasOne</td>\n",
       "      <td>60</td>\n",
       "    </tr>\n",
       "    <tr>\n",
       "      <th>8</th>\n",
       "      <td>1142</td>\n",
       "      <td>GasOne</td>\n",
       "      <td>60</td>\n",
       "    </tr>\n",
       "    <tr>\n",
       "      <th>9</th>\n",
       "      <td>852</td>\n",
       "      <td>GasOne</td>\n",
       "      <td>60</td>\n",
       "    </tr>\n",
       "  </tbody>\n",
       "</table>\n",
       "</div>"
      ],
      "text/plain": [
       "     id Gas station  Time\n",
       "0  4826      GasOne    60\n",
       "1  1186    GasSeven   180\n",
       "2  2643      GasOne    60\n",
       "3  2891      GasOne    60\n",
       "4  4662      GasOne    60\n",
       "5  3499      GasOne    60\n",
       "6   661     GasFour   180\n",
       "7  3850      GasOne    60\n",
       "8  1142      GasOne    60\n",
       "9   852      GasOne    60"
      ]
     },
     "execution_count": 28,
     "metadata": {},
     "output_type": "execute_result"
    }
   ],
   "source": [
    "gas_check_ins = pd.read_csv('../datasets/gas_check_ins.txt', sep=';')\n",
    "gas_check_ins.head(10)"
   ]
  },
  {
   "cell_type": "markdown",
   "metadata": {},
   "source": [
    "ID, название АЗС и продолжительность заправки в секундах. Пока всё понятно. Узнаем, сколько зафиксировано заездов на каждую заправку:"
   ]
  },
  {
   "cell_type": "raw",
   "metadata": {},
   "source": [
    "# далее код не работает, это демонстрация\n",
    "gas_check_ins['Gas station'].value_counts()"
   ]
  },
  {
   "cell_type": "raw",
   "metadata": {},
   "source": [
    "GasOne      10000\n",
    "GasSeven      125\n",
    "GasTen        120\n",
    "GasEight      116\n",
    "GasFive       113\n",
    "GasThree      110\n",
    "GasNine       109\n",
    "GasFour       105\n",
    "GasSix        102\n",
    "GasTwo        100"
   ]
  },
  {
   "cell_type": "markdown",
   "metadata": {},
   "source": [
    "На GasOne целых 10 000 заездов, на остальных — чуть больше 100. Существенная разница, будем держать её в уме.\n",
    "\n",
    "Найдём типичную продолжительность заправки: рассчитаем среднее арифметическое и медиану."
   ]
  },
  {
   "cell_type": "raw",
   "metadata": {},
   "source": [
    "print('Среднее арифметическое время заправки:', gas_check_ins['Time'].mean())\n",
    "print('Медиана времени заправки:', gas_check_ins['Time'].median())"
   ]
  },
  {
   "cell_type": "raw",
   "metadata": {},
   "source": [
    "Среднее арифметическое время заправки: 70.9090909090909\n",
    "Медиана времени заправки: 60.0"
   ]
  },
  {
   "cell_type": "markdown",
   "metadata": {},
   "source": [
    "На заправке GasOne побывало 10000 автомобилей и все заправлялись одну минуту. Как на Формуле 1! На остальных АЗС на заправку требовалось втрое больше времени.\n",
    "\n",
    "По медиане видно, что GasOne полностью подавила данные о других станциях сети. 10 000 наблюдений на выдающейся GasOne повлияли и на среднее арифметическое.\n",
    "\n",
    "Усредним данные продолжительности заправки по АЗС:"
   ]
  },
  {
   "cell_type": "code",
   "execution_count": 29,
   "metadata": {},
   "outputs": [
    {
     "name": "stdout",
     "output_type": "stream",
     "text": [
      "       Name  Num_check_in  Time\n",
      "0    GasOne         10000    60\n",
      "1    GasTwo           100   180\n",
      "2  GasThree           110   180\n",
      "3   GasFour           105   180\n",
      "4   GasFive           113   180\n",
      "5    GasSix           102   180\n",
      "6  GasSeven           125   180\n",
      "7  GasEight           116   180\n",
      "8   GasNine           109   180\n",
      "9    GasTen           120   180\n"
     ]
    }
   ],
   "source": [
    "gas_stations = pd.DataFrame(\n",
    "    {\n",
    "        'Name': [\n",
    "            'GasOne',\n",
    "            'GasTwo',\n",
    "            'GasThree',\n",
    "            'GasFour',\n",
    "            'GasFive',\n",
    "            'GasSix',\n",
    "            'GasSeven',\n",
    "            'GasEight',\n",
    "            'GasNine',\n",
    "            'GasTen',\n",
    "        ],\n",
    "        'Num_check_in': [10000, 100, 110, 105, 113, 102, 125, 116, 109, 120],\n",
    "        'Time': [\n",
    "            60,\n",
    "            180,\n",
    "            180,\n",
    "            180,\n",
    "            180,\n",
    "            180,\n",
    "            180,\n",
    "            180,\n",
    "            180,\n",
    "            180,\n",
    "        ],\n",
    "    }\n",
    ")\n",
    "print(gas_stations)"
   ]
  },
  {
   "cell_type": "markdown",
   "metadata": {},
   "source": [
    "Посчитаем среднее и медиану:"
   ]
  },
  {
   "cell_type": "code",
   "execution_count": 30,
   "metadata": {},
   "outputs": [
    {
     "name": "stdout",
     "output_type": "stream",
     "text": [
      "Среднее арифметическое время заправки: 168.0\n",
      "Медиана времени заправки: 180.0\n"
     ]
    }
   ],
   "source": [
    "print('Среднее арифметическое время заправки:', gas_stations['Time'].mean())\n",
    "print('Медиана времени заправки:', gas_stations['Time'].median())"
   ]
  },
  {
   "cell_type": "markdown",
   "metadata": {},
   "source": [
    "Вот такая разница при смене метода усреднения: сразу считать среднее по всем заездам или сначала по АЗС, а потом уже среднее из средних. Во втором случае среднее подскочило с 71 до 168 секунд, а медиана — с 60 до 180. Это утрированный пример, но в реальных задачах выбор метода усреднения может радикально поменять ваши выводы. Поэтому аналитику важно понимать как природу изучаемых данных, так и постановку задачи.\n",
    "\n",
    "Так, взяв среднее арифметическое по всем заездам на АЗС, отвечаем на вопрос, сколько средний человек проводит на конкретной станции. А если нужно знать, сколько времени водители проводят на средней АЗС сети — это уже другой вопрос. Чувствуете разницу?\n",
    "\n",
    "Нам нужен второй вариант. К тому же такой расчёт более устойчив к проблемам на отдельных АЗС. Если время по какой-то одной АЗС привели неверно, то медиана позволит практически игнорировать этот выброс.\n",
    "\n",
    "Нам нужны параметры АЗС, типичной для сети, среднестатистической, а не выдающейся: очень крупной, быстрой или медленной. Сделаем более устойчивую оценку.\n",
    "\n",
    "Сперва найдём медианное время заезда, а затем уже объединим до значений в сетях.\n",
    "\n",
    "Медиану времени заезда на каждую АЗС вы уже считали:"
   ]
  },
  {
   "cell_type": "code",
   "execution_count": 31,
   "metadata": {},
   "outputs": [
    {
     "name": "stdout",
     "output_type": "stream",
     "text": [
      "          time_spent\n",
      "id                  \n",
      "00ca1b70       166.0\n",
      "0178ce70       234.5\n",
      "01abf4e9       181.5\n",
      "030a9067       135.5\n",
      "03740f2d       289.0\n"
     ]
    }
   ],
   "source": [
    "print(good_stations_stat.head())"
   ]
  },
  {
   "cell_type": "markdown",
   "metadata": {},
   "source": [
    "Непонятно, какой сети принадлежат id. Это решаемо.\n",
    "Вспомним, как выглядели исходные данные в data:"
   ]
  },
  {
   "cell_type": "code",
   "execution_count": 32,
   "metadata": {},
   "outputs": [
    {
     "name": "stdout",
     "output_type": "stream",
     "text": [
      "         date_time        id  time_spent     name          local_time  \\\n",
      "0  20180406T165358  76144fb2        98.0  Василек 2018-04-06 19:53:58   \n",
      "1  20180404T173913  76144fb2        15.0  Василек 2018-04-04 20:39:13   \n",
      "2  20180403T172824  76144fb2       220.0  Василек 2018-04-03 20:28:24   \n",
      "3  20180407T070441  76144fb2        19.0  Василек 2018-04-07 10:04:41   \n",
      "4  20180404T132049  76144fb2        14.0  Василек 2018-04-04 16:20:49   \n",
      "\n",
      "            date_hour  too_fast  too_slow  \n",
      "0 2018-04-06 20:00:00     False     False  \n",
      "1 2018-04-04 21:00:00      True     False  \n",
      "2 2018-04-03 20:00:00     False     False  \n",
      "3 2018-04-07 10:00:00      True     False  \n",
      "4 2018-04-04 16:00:00      True     False  \n"
     ]
    }
   ],
   "source": [
    "print(data.head())"
   ]
  },
  {
   "cell_type": "raw",
   "metadata": {},
   "source": [
    "                 date_time        id  time_spent     name          local_time  \\\n",
    "0  20180406T165358  76144fb2        98.0  Василек 2018-04-06 19:53:58   \n",
    "1  20180404T173913  76144fb2        15.0  Василек 2018-04-04 20:39:13   \n",
    "2  20180403T172824  76144fb2       220.0  Василек 2018-04-03 20:28:24   \n",
    "3  20180407T070441  76144fb2        19.0  Василек 2018-04-07 10:04:41   \n",
    "4  20180404T132049  76144fb2        14.0  Василек 2018-04-04 16:20:49"
   ]
  },
  {
   "cell_type": "markdown",
   "metadata": {},
   "source": [
    "В каждой строке есть идентификатор АЗС id и название сети name. Нам нужны пары: АЗС — название сети. И хорошо бы знать число заездов на каждую АЗС.\n",
    "\n",
    "`pivot_table` группирует данные, а что с ними делать, указывает значение параметра `aggfunc`. Например:\n",
    "- **`'median'`** — медианное значение;\n",
    "- **`'count'`** — количество значений;\n",
    "- **`'sum'`** — сумма значений;\n",
    "- **`'min'`** — минимальное значение;\n",
    "- **`'max'`** — максимальное значение;\n",
    "- **`'first'`** — первое значение из группы;\n",
    "- **`'last'`** — последнее значение из группы.\n",
    "\n",
    "Что происходит, когда в `aggfunc` передают `'first'` и `'last'`? Возьмём, к примеру таблицу с ингредиентами завтраков:"
   ]
  },
  {
   "cell_type": "code",
   "execution_count": 33,
   "metadata": {},
   "outputs": [
    {
     "name": "stdout",
     "output_type": "stream",
     "text": [
      "     завтрак ингредиенты\n",
      "0      омлет        яйца\n",
      "1      омлет      молоко\n",
      "2      омлет        соль\n",
      "3  бутерброд        хлеб\n",
      "4  бутерброд     ветчина\n",
      "5  бутерброд         сыр\n"
     ]
    }
   ],
   "source": [
    "import pandas as pd\n",
    "\n",
    "df = pd.DataFrame(\n",
    "    {\n",
    "        'завтрак': [\n",
    "            'омлет',\n",
    "            'омлет',\n",
    "            'омлет',\n",
    "            'бутерброд',\n",
    "            'бутерброд',\n",
    "            'бутерброд',\n",
    "        ],\n",
    "        'ингредиенты': ['яйца', 'молоко', 'соль', 'хлеб', 'ветчина', 'сыр'],\n",
    "    }\n",
    ")\n",
    "print(df)"
   ]
  },
  {
   "cell_type": "markdown",
   "metadata": {},
   "source": [
    "Применим `pivot_table`, где индексом будет завтрак, а значениями — ингредиенты. В `aggfunc` передадим `'first'`:"
   ]
  },
  {
   "cell_type": "code",
   "execution_count": 34,
   "metadata": {},
   "outputs": [
    {
     "data": {
      "text/html": [
       "<div>\n",
       "<style scoped>\n",
       "    .dataframe tbody tr th:only-of-type {\n",
       "        vertical-align: middle;\n",
       "    }\n",
       "\n",
       "    .dataframe tbody tr th {\n",
       "        vertical-align: top;\n",
       "    }\n",
       "\n",
       "    .dataframe thead th {\n",
       "        text-align: right;\n",
       "    }\n",
       "</style>\n",
       "<table border=\"1\" class=\"dataframe\">\n",
       "  <thead>\n",
       "    <tr style=\"text-align: right;\">\n",
       "      <th></th>\n",
       "      <th>ингредиенты</th>\n",
       "    </tr>\n",
       "    <tr>\n",
       "      <th>завтрак</th>\n",
       "      <th></th>\n",
       "    </tr>\n",
       "  </thead>\n",
       "  <tbody>\n",
       "    <tr>\n",
       "      <th>бутерброд</th>\n",
       "      <td>хлеб</td>\n",
       "    </tr>\n",
       "    <tr>\n",
       "      <th>омлет</th>\n",
       "      <td>яйца</td>\n",
       "    </tr>\n",
       "  </tbody>\n",
       "</table>\n",
       "</div>"
      ],
      "text/plain": [
       "          ингредиенты\n",
       "завтрак              \n",
       "бутерброд        хлеб\n",
       "омлет            яйца"
      ]
     },
     "execution_count": 34,
     "metadata": {},
     "output_type": "execute_result"
    }
   ],
   "source": [
    "df.pivot_table(index='завтрак', values='ингредиенты', aggfunc='first')"
   ]
  },
  {
   "cell_type": "markdown",
   "metadata": {},
   "source": [
    "Для каждого завтрака мы подтянули первую строку с ингредиентами. Догадайтесь, строку с каким ингредиентом мы получим, если передадим `'last'`:\n"
   ]
  },
  {
   "cell_type": "code",
   "execution_count": 35,
   "metadata": {},
   "outputs": [
    {
     "data": {
      "text/html": [
       "<div>\n",
       "<style scoped>\n",
       "    .dataframe tbody tr th:only-of-type {\n",
       "        vertical-align: middle;\n",
       "    }\n",
       "\n",
       "    .dataframe tbody tr th {\n",
       "        vertical-align: top;\n",
       "    }\n",
       "\n",
       "    .dataframe thead th {\n",
       "        text-align: right;\n",
       "    }\n",
       "</style>\n",
       "<table border=\"1\" class=\"dataframe\">\n",
       "  <thead>\n",
       "    <tr style=\"text-align: right;\">\n",
       "      <th></th>\n",
       "      <th>ингредиенты</th>\n",
       "    </tr>\n",
       "    <tr>\n",
       "      <th>завтрак</th>\n",
       "      <th></th>\n",
       "    </tr>\n",
       "  </thead>\n",
       "  <tbody>\n",
       "    <tr>\n",
       "      <th>бутерброд</th>\n",
       "      <td>сыр</td>\n",
       "    </tr>\n",
       "    <tr>\n",
       "      <th>омлет</th>\n",
       "      <td>соль</td>\n",
       "    </tr>\n",
       "  </tbody>\n",
       "</table>\n",
       "</div>"
      ],
      "text/plain": [
       "          ингредиенты\n",
       "завтрак              \n",
       "бутерброд         сыр\n",
       "омлет            соль"
      ]
     },
     "execution_count": 35,
     "metadata": {},
     "output_type": "execute_result"
    }
   ],
   "source": [
    "df.pivot_table(index='завтрак', values='ингредиенты', aggfunc='last')"
   ]
  },
  {
   "cell_type": "markdown",
   "metadata": {},
   "source": [
    "В одном вызове `pivot_table` можно передать параметру `aggfunc` cписком сразу несколько функций. Например, `aggfunc=['median', 'count']` посчитает и медиану, и число значений — в результирующей таблице они будут в соседних столбцах.\n",
    "\n",
    "Кроме числа заездов на АЗС, можно добыть и название сети из столбца `name`. Если мы передаём в `pivot_table` параметр `index='id'`, то будут сгруппированы данные с совпадающим `id`. Значит, у всех будет одинаковое имя сети name (ведь одна АЗС приписана строго к одной сети). Нужно выбрать любую из строк, например, первую, передав значение `'first'` параметру `aggfunc`."
   ]
  },
  {
   "cell_type": "markdown",
   "metadata": {},
   "source": [
    "### Задача\n",
    "Примените `pivot_table()` и получите из `good_data` таблицу соответствия: идентификатор АЗС, название сети, число заездов.\n",
    "Результат сохраните в переменной `id_name`. Выведите первые 5 строк этой таблицы.\n",
    ">Примените `pivot_table` к таблице `good_data`. В качестве индекса передайте идентификатор АЗС, как значения — названия сетей; `aggfunc` должен принять на вход список из двух функций: взять первое значение, посчитать число значений."
   ]
  },
  {
   "cell_type": "code",
   "execution_count": 36,
   "metadata": {},
   "outputs": [
    {
     "name": "stdout",
     "output_type": "stream",
     "text": [
      "                first count\n",
      "                 name  name\n",
      "id                         \n",
      "00ca1b70     Вероника   131\n",
      "0178ce70      Василек   164\n",
      "01abf4e9      Гацания    30\n",
      "030a9067  Колокольчик   228\n",
      "03740f2d      Василек   157\n"
     ]
    }
   ],
   "source": [
    "import pandas as pd\n",
    "# внимание к адресу csv файла\n",
    "data = pd.read_csv('../datasets/visits.csv', sep='\\t')\n",
    "data['local_time'] = pd.to_datetime(\n",
    "    data['date_time'], format='%Y-%m-%dT%H:%M:%S'\n",
    ") + pd.Timedelta(hours=3)\n",
    "data['date_hour'] = data['local_time'].dt.round('1H')\n",
    "data['too_fast'] = data['time_spent'] < 60\n",
    "data['too_slow'] = data['time_spent'] > 1000\n",
    "\n",
    "too_fast_stat = data.pivot_table(index=\"id\", values=\"too_fast\")\n",
    "good_ids = too_fast_stat.query('too_fast < 0.5')\n",
    "good_data = data.query('id in @good_ids.index and 60 <= time_spent <= 1000')\n",
    "good_stations_stat = good_data.pivot_table(\n",
    "    index='id', values='time_spent', aggfunc='median'\n",
    ")\n",
    "\n",
    "stat = data.pivot_table(index='name', values='time_spent')\n",
    "good_stat = good_data.pivot_table(\n",
    "    index='name', values='time_spent', aggfunc='median'\n",
    ")\n",
    "stat['good_time_spent'] = good_stat['time_spent']\n",
    "# переменная id_name - слияние столбцов из good_data по идентификатору АЗС, названию сети, числу заездов\n",
    "id_name = good_data.pivot_table(index='id', values='name', aggfunc=['first', 'count'])\n",
    "print(id_name.head())"
   ]
  },
  {
   "cell_type": "markdown",
   "metadata": {},
   "source": [
    "Двухэтажные названия столбцов - это оригинально"
   ]
  },
  {
   "cell_type": "markdown",
   "metadata": {},
   "source": [
    "<a name=\"7\">_</a>\n",
    "## Переименование столбцов"
   ]
  },
  {
   "cell_type": "raw",
   "metadata": {},
   "source": [
    "                first count\n",
    "                 name  name\n",
    "id                         \n",
    "00ca1b70     Вероника   131\n",
    "0178ce70      Василек   164\n",
    "01abf4e9      Гацания    30\n",
    "030a9067  Колокольчик   228\n",
    "03740f2d      Василек   157"
   ]
  },
  {
   "cell_type": "markdown",
   "metadata": {},
   "source": [
    "Вы передали список функций в `aggfunc` и получили двухэтажные названия столбцов. Это вовсе не ошибка, а **мультииндекс**. Такое случается, когда в индексе не одно значение, а целый список.\n",
    "\n",
    "В нашей задаче это усложнение излишне. Зададим обычные названия столбцов. Запишем их в атрибуте `columns` так:"
   ]
  },
  {
   "cell_type": "raw",
   "metadata": {},
   "source": [
    "df.columns = ['column_name_1', 'column_name_2', 'column_name_3']"
   ]
  },
  {
   "cell_type": "markdown",
   "metadata": {},
   "source": [
    "### Задача\n",
    "Дайте имена колонкам датафрейма `id_name`. Первый столбец назовите 'name', а второй — 'count'.\n",
    "\n",
    "Напечатайте первые 5 строк `id_name`.\n",
    ">Присвойте список с названиями столбцов атрибуту `columns` датафрейма `id_name`. Первые пять строк выведите методом `head()`."
   ]
  },
  {
   "cell_type": "code",
   "execution_count": 37,
   "metadata": {},
   "outputs": [
    {
     "name": "stdout",
     "output_type": "stream",
     "text": [
      "                 name  count\n",
      "id                          \n",
      "00ca1b70     Вероника    131\n",
      "0178ce70      Василек    164\n",
      "01abf4e9      Гацания     30\n",
      "030a9067  Колокольчик    228\n",
      "03740f2d      Василек    157\n"
     ]
    }
   ],
   "source": [
    "import pandas as pd\n",
    "\n",
    "data = pd.read_csv('../datasets/visits.csv', sep='\\t')\n",
    "data['local_time'] = pd.to_datetime(\n",
    "    data['date_time'], format='%Y-%m-%dT%H:%M:%S'\n",
    ") + pd.Timedelta(hours=3)\n",
    "data['date_hour'] = data['local_time'].dt.round('1H')\n",
    "data['too_fast'] = data['time_spent'] < 60\n",
    "data['too_slow'] = data['time_spent'] > 1000\n",
    "\n",
    "too_fast_stat = data.pivot_table(index=\"id\", values=\"too_fast\")\n",
    "good_ids = too_fast_stat.query('too_fast < 0.5')\n",
    "good_data = data.query('id in @good_ids.index and 60 <= time_spent <= 1000')\n",
    "good_stations_stat = good_data.pivot_table(\n",
    "    index='id', values='time_spent', aggfunc='median'\n",
    ")\n",
    "\n",
    "stat = data.pivot_table(index='name', values='time_spent')\n",
    "good_stat = good_data.pivot_table(\n",
    "    index='name', values='time_spent', aggfunc='median'\n",
    ")\n",
    "stat['good_time_spent'] = good_stat['time_spent']\n",
    "\n",
    "id_name = good_data.pivot_table(\n",
    "    index='id', values='name', aggfunc=['first', 'count']\n",
    "    )\n",
    "# переименуем столбцы и выведем первые пять строк датафрейма id_name\n",
    "id_name.columns = ['name', 'count']\n",
    "print(id_name.head())"
   ]
  },
  {
   "cell_type": "markdown",
   "metadata": {},
   "source": [
    "Все простое обычно неправильно, а правильное по большей части непросто.\n",
    "А у вас все правильно, как в японском саду камней."
   ]
  },
  {
   "cell_type": "markdown",
   "metadata": {},
   "source": [
    "<a name=\"8\">_</a>\n",
    "## Объединение столбцов методами `merge()` и `join()`"
   ]
  },
  {
   "cell_type": "raw",
   "metadata": {},
   "source": [
    "                 name  count\n",
    "id                          \n",
    "00ca1b70     Вероника    131\n",
    "0178ce70      Василек    164\n",
    "01abf4e9      Гацания     30\n",
    "030a9067  Колокольчик    228\n",
    "03740f2d      Василек    157"
   ]
  },
  {
   "cell_type": "markdown",
   "metadata": {},
   "source": [
    "У вас есть таблица `id_name`: с идентификатором каждой АЗС, названием её сети и числом заездов. Для полного счастья не хватает добавить в `id_name` типичное время заправки из `good_station_stat`. Напомним, какие данные вы там сохранили:"
   ]
  },
  {
   "cell_type": "code",
   "execution_count": 38,
   "metadata": {},
   "outputs": [
    {
     "name": "stdout",
     "output_type": "stream",
     "text": [
      "          time_spent\n",
      "id                  \n",
      "00ca1b70       166.0\n",
      "0178ce70       234.5\n",
      "01abf4e9       181.5\n",
      "030a9067       135.5\n",
      "03740f2d       289.0\n"
     ]
    }
   ],
   "source": [
    "print(good_station_stat.head())"
   ]
  },
  {
   "cell_type": "markdown",
   "metadata": {},
   "source": [
    "Объединяя `id_name` и `good_station_stat`, можно по очереди присваивать значения столбца одной таблицы столбцу другой:"
   ]
  },
  {
   "cell_type": "code",
   "execution_count": 39,
   "metadata": {},
   "outputs": [],
   "source": [
    "good_station_stat['name'] = id_name['name']\n",
    "good_station_stat['count'] = id_name['count']"
   ]
  },
  {
   "cell_type": "markdown",
   "metadata": {},
   "source": [
    "Или же вспомнить метод `merge()` и соединить датафреймы им.\n",
    "\n",
    "Два ученика договорились, что первый спишет с доски половину списка литературы на лето, и уйдёт в столовую есть булочки, а второй тогда оторвётся от игры в танчики и зафиксирует оставшуюся часть. В конце сложат половины списков. Так и дела будут сделаны, и танчики подбиты, и булки съедены.\n",
    "\n",
    "Посмотрим, что из этого вышло:"
   ]
  },
  {
   "cell_type": "code",
   "execution_count": 40,
   "metadata": {},
   "outputs": [
    {
     "name": "stdout",
     "output_type": "stream",
     "text": [
      "      author      literary_work\n",
      "0   Фонвизин          Недоросль\n",
      "1  Грибоедов        Горе от ума\n",
      "2     Пушкин  Капитанская дочка\n",
      "3     Гоголь            Ревизор\n",
      "4  Лермонтов              Мцыри\n",
      "\n",
      "       author         literary_work\n",
      "0      Пушкин        Евгений Онегин\n",
      "1      Гоголь          Мёртвые души\n",
      "2   Лермонтов  Герой нашего времени\n",
      "3  Островский                 Гроза\n",
      "4    Тургенев           Отцы и дети\n"
     ]
    }
   ],
   "source": [
    "first_pupil_df = pd.DataFrame(\n",
    "    {\n",
    "        'author': ['Фонвизин', 'Грибоедов', 'Пушкин', 'Гоголь', 'Лермонтов'],\n",
    "        'literary_work': [\n",
    "            'Недоросль',\n",
    "            'Горе от ума',\n",
    "            'Капитанская дочка',\n",
    "            'Ревизор',\n",
    "            'Мцыри',\n",
    "        ],\n",
    "    }\n",
    ")\n",
    "second_pupil_df = pd.DataFrame(\n",
    "    {\n",
    "        'author': ['Пушкин', 'Гоголь', 'Лермонтов', 'Островский', 'Тургенев'],\n",
    "        'literary_work': [\n",
    "            'Евгений Онегин',\n",
    "            'Мёртвые души',\n",
    "            'Герой нашего времени',\n",
    "            'Гроза',\n",
    "            'Отцы и дети',\n",
    "        ],\n",
    "    }\n",
    ")\n",
    "print(first_pupil_df)\n",
    "print()\n",
    "print(second_pupil_df)"
   ]
  },
  {
   "cell_type": "markdown",
   "metadata": {},
   "source": [
    "Методом `merge()` объединим строки датафреймов учеников, по совпадающим значениям столбца `'author'`:"
   ]
  },
  {
   "cell_type": "code",
   "execution_count": 41,
   "metadata": {},
   "outputs": [
    {
     "data": {
      "text/html": [
       "<div>\n",
       "<style scoped>\n",
       "    .dataframe tbody tr th:only-of-type {\n",
       "        vertical-align: middle;\n",
       "    }\n",
       "\n",
       "    .dataframe tbody tr th {\n",
       "        vertical-align: top;\n",
       "    }\n",
       "\n",
       "    .dataframe thead th {\n",
       "        text-align: right;\n",
       "    }\n",
       "</style>\n",
       "<table border=\"1\" class=\"dataframe\">\n",
       "  <thead>\n",
       "    <tr style=\"text-align: right;\">\n",
       "      <th></th>\n",
       "      <th>author</th>\n",
       "      <th>literary_work_x</th>\n",
       "      <th>literary_work_y</th>\n",
       "    </tr>\n",
       "  </thead>\n",
       "  <tbody>\n",
       "    <tr>\n",
       "      <th>0</th>\n",
       "      <td>Пушкин</td>\n",
       "      <td>Капитанская дочка</td>\n",
       "      <td>Евгений Онегин</td>\n",
       "    </tr>\n",
       "    <tr>\n",
       "      <th>1</th>\n",
       "      <td>Гоголь</td>\n",
       "      <td>Ревизор</td>\n",
       "      <td>Мёртвые души</td>\n",
       "    </tr>\n",
       "    <tr>\n",
       "      <th>2</th>\n",
       "      <td>Лермонтов</td>\n",
       "      <td>Мцыри</td>\n",
       "      <td>Герой нашего времени</td>\n",
       "    </tr>\n",
       "  </tbody>\n",
       "</table>\n",
       "</div>"
      ],
      "text/plain": [
       "      author    literary_work_x       literary_work_y\n",
       "0     Пушкин  Капитанская дочка        Евгений Онегин\n",
       "1     Гоголь            Ревизор          Мёртвые души\n",
       "2  Лермонтов              Мцыри  Герой нашего времени"
      ]
     },
     "execution_count": 41,
     "metadata": {},
     "output_type": "execute_result"
    }
   ],
   "source": [
    "first_pupil_df.merge(second_pupil_df, on='author') # название столбца, по которому объединять, передают в параметре on"
   ]
  },
  {
   "cell_type": "markdown",
   "metadata": {},
   "source": [
    "Финальная таблица сложилась из совпадений по авторам записей первого и второго учеников. Такой тип объединения называется **inner** (от англ. «внутренний»). Он собирает данные из внутренней области (которые есть в обоих датафреймах). В `merge()` тип `inner` работает по умолчанию. Ему противоположен тип слияния **outer** (от англ. «внешний»). Он объединяет данные из внешней общей области — такие, которые есть хотя бы в одном из датафреймов. Режим объединения задаётся параметром `how` (от англ. «как, каким образом»).\n",
    "\n",
    "Объединим фрагменты списка литературы ещё раз, со значением `'outer'` параметра `how`:"
   ]
  },
  {
   "cell_type": "code",
   "execution_count": 42,
   "metadata": {},
   "outputs": [
    {
     "data": {
      "text/html": [
       "<div>\n",
       "<style scoped>\n",
       "    .dataframe tbody tr th:only-of-type {\n",
       "        vertical-align: middle;\n",
       "    }\n",
       "\n",
       "    .dataframe tbody tr th {\n",
       "        vertical-align: top;\n",
       "    }\n",
       "\n",
       "    .dataframe thead th {\n",
       "        text-align: right;\n",
       "    }\n",
       "</style>\n",
       "<table border=\"1\" class=\"dataframe\">\n",
       "  <thead>\n",
       "    <tr style=\"text-align: right;\">\n",
       "      <th></th>\n",
       "      <th>author</th>\n",
       "      <th>literary_work_x</th>\n",
       "      <th>literary_work_y</th>\n",
       "    </tr>\n",
       "  </thead>\n",
       "  <tbody>\n",
       "    <tr>\n",
       "      <th>0</th>\n",
       "      <td>Фонвизин</td>\n",
       "      <td>Недоросль</td>\n",
       "      <td>NaN</td>\n",
       "    </tr>\n",
       "    <tr>\n",
       "      <th>1</th>\n",
       "      <td>Грибоедов</td>\n",
       "      <td>Горе от ума</td>\n",
       "      <td>NaN</td>\n",
       "    </tr>\n",
       "    <tr>\n",
       "      <th>2</th>\n",
       "      <td>Пушкин</td>\n",
       "      <td>Капитанская дочка</td>\n",
       "      <td>Евгений Онегин</td>\n",
       "    </tr>\n",
       "    <tr>\n",
       "      <th>3</th>\n",
       "      <td>Гоголь</td>\n",
       "      <td>Ревизор</td>\n",
       "      <td>Мёртвые души</td>\n",
       "    </tr>\n",
       "    <tr>\n",
       "      <th>4</th>\n",
       "      <td>Лермонтов</td>\n",
       "      <td>Мцыри</td>\n",
       "      <td>Герой нашего времени</td>\n",
       "    </tr>\n",
       "    <tr>\n",
       "      <th>5</th>\n",
       "      <td>Островский</td>\n",
       "      <td>NaN</td>\n",
       "      <td>Гроза</td>\n",
       "    </tr>\n",
       "    <tr>\n",
       "      <th>6</th>\n",
       "      <td>Тургенев</td>\n",
       "      <td>NaN</td>\n",
       "      <td>Отцы и дети</td>\n",
       "    </tr>\n",
       "  </tbody>\n",
       "</table>\n",
       "</div>"
      ],
      "text/plain": [
       "       author    literary_work_x       literary_work_y\n",
       "0    Фонвизин          Недоросль                   NaN\n",
       "1   Грибоедов        Горе от ума                   NaN\n",
       "2      Пушкин  Капитанская дочка        Евгений Онегин\n",
       "3      Гоголь            Ревизор          Мёртвые души\n",
       "4   Лермонтов              Мцыри  Герой нашего времени\n",
       "5  Островский                NaN                 Гроза\n",
       "6    Тургенев                NaN           Отцы и дети"
      ]
     },
     "execution_count": 42,
     "metadata": {},
     "output_type": "execute_result"
    }
   ],
   "source": [
    "first_pupil_df.merge(second_pupil_df, on='author', how='outer')"
   ]
  },
  {
   "cell_type": "markdown",
   "metadata": {},
   "source": [
    "Список литературы на лето готов, мы не упустили ни одной записи. Обратите внимание, если данных нет, в ячейках — `NaN`.\n",
    "\n",
    "Режим объединения `'left'` указывает, что в результат слияния обязательно должны войти все строки из левого датафрейма:"
   ]
  },
  {
   "cell_type": "code",
   "execution_count": 43,
   "metadata": {},
   "outputs": [
    {
     "data": {
      "text/html": [
       "<div>\n",
       "<style scoped>\n",
       "    .dataframe tbody tr th:only-of-type {\n",
       "        vertical-align: middle;\n",
       "    }\n",
       "\n",
       "    .dataframe tbody tr th {\n",
       "        vertical-align: top;\n",
       "    }\n",
       "\n",
       "    .dataframe thead th {\n",
       "        text-align: right;\n",
       "    }\n",
       "</style>\n",
       "<table border=\"1\" class=\"dataframe\">\n",
       "  <thead>\n",
       "    <tr style=\"text-align: right;\">\n",
       "      <th></th>\n",
       "      <th>author</th>\n",
       "      <th>literary_work_x</th>\n",
       "      <th>literary_work_y</th>\n",
       "    </tr>\n",
       "  </thead>\n",
       "  <tbody>\n",
       "    <tr>\n",
       "      <th>0</th>\n",
       "      <td>Фонвизин</td>\n",
       "      <td>Недоросль</td>\n",
       "      <td>NaN</td>\n",
       "    </tr>\n",
       "    <tr>\n",
       "      <th>1</th>\n",
       "      <td>Грибоедов</td>\n",
       "      <td>Горе от ума</td>\n",
       "      <td>NaN</td>\n",
       "    </tr>\n",
       "    <tr>\n",
       "      <th>2</th>\n",
       "      <td>Пушкин</td>\n",
       "      <td>Капитанская дочка</td>\n",
       "      <td>Евгений Онегин</td>\n",
       "    </tr>\n",
       "    <tr>\n",
       "      <th>3</th>\n",
       "      <td>Гоголь</td>\n",
       "      <td>Ревизор</td>\n",
       "      <td>Мёртвые души</td>\n",
       "    </tr>\n",
       "    <tr>\n",
       "      <th>4</th>\n",
       "      <td>Лермонтов</td>\n",
       "      <td>Мцыри</td>\n",
       "      <td>Герой нашего времени</td>\n",
       "    </tr>\n",
       "  </tbody>\n",
       "</table>\n",
       "</div>"
      ],
      "text/plain": [
       "      author    literary_work_x       literary_work_y\n",
       "0   Фонвизин          Недоросль                   NaN\n",
       "1  Грибоедов        Горе от ума                   NaN\n",
       "2     Пушкин  Капитанская дочка        Евгений Онегин\n",
       "3     Гоголь            Ревизор          Мёртвые души\n",
       "4  Лермонтов              Мцыри  Герой нашего времени"
      ]
     },
     "execution_count": 43,
     "metadata": {},
     "output_type": "execute_result"
    }
   ],
   "source": [
    "first_pupil_df.merge(second_pupil_df, on='author', how='left')"
   ]
  },
  {
   "cell_type": "markdown",
   "metadata": {},
   "source": [
    "Сохранились записи первого ученика и записи по совпадающим авторам. А вот новых строк от второго ученика не видно. Такой список не укажет, что за лето нужно успеть осилить Островского и Тургенева.\n",
    "\n",
    "В аналогичном режиме `'right'` сохранятся все совпадающие строки и правый датафрейм.\n",
    "\n",
    "В таблице-результате работы метода `merge()` к названиям столбцов добавились` _x` и `_y`. Окончания названий столбцов задают в параметре `suffixes` (от англ. suffix — «суффикс, окончание»):"
   ]
  },
  {
   "cell_type": "code",
   "execution_count": 44,
   "metadata": {},
   "outputs": [
    {
     "data": {
      "text/html": [
       "<div>\n",
       "<style scoped>\n",
       "    .dataframe tbody tr th:only-of-type {\n",
       "        vertical-align: middle;\n",
       "    }\n",
       "\n",
       "    .dataframe tbody tr th {\n",
       "        vertical-align: top;\n",
       "    }\n",
       "\n",
       "    .dataframe thead th {\n",
       "        text-align: right;\n",
       "    }\n",
       "</style>\n",
       "<table border=\"1\" class=\"dataframe\">\n",
       "  <thead>\n",
       "    <tr style=\"text-align: right;\">\n",
       "      <th></th>\n",
       "      <th>author</th>\n",
       "      <th>literary_work_записал первый</th>\n",
       "      <th>literary_work_записал второй</th>\n",
       "    </tr>\n",
       "  </thead>\n",
       "  <tbody>\n",
       "    <tr>\n",
       "      <th>0</th>\n",
       "      <td>Фонвизин</td>\n",
       "      <td>Недоросль</td>\n",
       "      <td>NaN</td>\n",
       "    </tr>\n",
       "    <tr>\n",
       "      <th>1</th>\n",
       "      <td>Грибоедов</td>\n",
       "      <td>Горе от ума</td>\n",
       "      <td>NaN</td>\n",
       "    </tr>\n",
       "    <tr>\n",
       "      <th>2</th>\n",
       "      <td>Пушкин</td>\n",
       "      <td>Капитанская дочка</td>\n",
       "      <td>Евгений Онегин</td>\n",
       "    </tr>\n",
       "    <tr>\n",
       "      <th>3</th>\n",
       "      <td>Гоголь</td>\n",
       "      <td>Ревизор</td>\n",
       "      <td>Мёртвые души</td>\n",
       "    </tr>\n",
       "    <tr>\n",
       "      <th>4</th>\n",
       "      <td>Лермонтов</td>\n",
       "      <td>Мцыри</td>\n",
       "      <td>Герой нашего времени</td>\n",
       "    </tr>\n",
       "  </tbody>\n",
       "</table>\n",
       "</div>"
      ],
      "text/plain": [
       "      author literary_work_записал первый literary_work_записал второй\n",
       "0   Фонвизин                    Недоросль                          NaN\n",
       "1  Грибоедов                  Горе от ума                          NaN\n",
       "2     Пушкин            Капитанская дочка               Евгений Онегин\n",
       "3     Гоголь                      Ревизор                 Мёртвые души\n",
       "4  Лермонтов                        Мцыри         Герой нашего времени"
      ]
     },
     "execution_count": 44,
     "metadata": {},
     "output_type": "execute_result"
    }
   ],
   "source": [
    "first_pupil_df.merge(second_pupil_df, on='author', how='left', suffixes=('_записал первый', '_записал второй'))"
   ]
  },
  {
   "cell_type": "markdown",
   "metadata": {},
   "source": [
    "Если столбец индекса именованный, его имя также можно передать параметру **on**. Объединять можно и по нескольким столбцам сразу — достаточно передать список параметру `on`.\n",
    "\n",
    "Метод `join()` похож на `merge()`. Без параметра `on` этот `join()` будет искать совпадения по индексам в первом и втором датафреймах. Если же передать параметру `on` столбец, то `join()` найдёт его в первом датафрейме и начнёт сравнивать с индексом второго. В отличие от `merge()`, по умолчанию в `join()` установлен тип слияния `how='left'`. А параметр `suffixes` разделён на два независимых: **lsuffix** (от англ. left suffix, «левый суффикс») и **rsuffix** (от англ. right suffix, «правый суффикс»). \n",
    "\n",
    "Ещё методом `join()` можно объединять больше двух таблиц: их набор передают списком вместо второго датафрейма.\n",
    "\n",
    "Объединим два датафрейма по столбцу `'a'` методом `join()`. Выведем столбец `'c'`:"
   ]
  },
  {
   "cell_type": "code",
   "execution_count": 45,
   "metadata": {},
   "outputs": [
    {
     "name": "stdout",
     "output_type": "stream",
     "text": [
      "   a  b\n",
      "0  1  A\n",
      "1  2  B\n",
      "2  3  C\n",
      "3  4  D\n",
      "\n",
      "   a  c\n",
      "0  2  E\n",
      "1  2  F\n",
      "2  2  G\n",
      "3  2  H\n",
      "\n",
      "0      F\n",
      "1      G\n",
      "2      H\n",
      "3    NaN\n",
      "Name: c, dtype: object\n"
     ]
    }
   ],
   "source": [
    "df1 = pd.DataFrame({'a': [1, 2, 3, 4], 'b': ['A', 'B', 'C', 'D']})\n",
    "df2 = pd.DataFrame({'a': [2, 2, 2, 2], 'c': ['E', 'F', 'G', 'H']})\n",
    "print(df1)\n",
    "print()\n",
    "print(df2)\n",
    "print()\n",
    "print (df1.join(df2, on='a', rsuffix='_y')['c'])"
   ]
  },
  {
   "cell_type": "markdown",
   "metadata": {},
   "source": [
    "Каждому значению в столбце `'a'` первого датафрейма метод ищет соответствие в индексах второго датафрейма. И находит. В индексах второго датафрейма есть 1, 2 и 3. На экран выводят соответствующие им значения столбца `'c'`: F, G и H. В индексах второго датафрейма нет 4: `join()` не находит её и возвращает в итоговый столбец `NaN`.\n",
    "\n",
    "Разобравшись с работой `merge()` и `join()`, примените их к таблицам `id_name` и `good_stations_stat`. Напомним их устройство:"
   ]
  },
  {
   "cell_type": "code",
   "execution_count": 46,
   "metadata": {},
   "outputs": [
    {
     "name": "stdout",
     "output_type": "stream",
     "text": [
      "                 name  count\n",
      "id                          \n",
      "00ca1b70     Вероника    131\n",
      "0178ce70      Василек    164\n",
      "01abf4e9      Гацания     30\n",
      "030a9067  Колокольчик    228\n",
      "03740f2d      Василек    157\n",
      "\n",
      "          time_spent\n",
      "id                  \n",
      "00ca1b70       166.0\n",
      "0178ce70       234.5\n",
      "01abf4e9       181.5\n",
      "030a9067       135.5\n",
      "03740f2d       289.0\n"
     ]
    }
   ],
   "source": [
    "print(id_name.head())\n",
    "print()\n",
    "print(good_stations_stat.head())"
   ]
  },
  {
   "cell_type": "markdown",
   "metadata": {},
   "source": [
    "### Задача 1/4\n",
    "Объедините данные из `id_name` и `good_stations_stat` так, чтобы в итоговом датафрейме были все 3 столбца: `'name'`, `'count'`, `'time_spent'`. Результат сохраните в таблице `station_stat_full`, напечатайте её первые 5 строк.\n",
    ">Вам нужно объединить два датафрейма по совпадающим индексам. Для этого подходит метод `join()`. Примените `join()` к `id_name`, передавая параметром `good_stations_stat`."
   ]
  },
  {
   "cell_type": "code",
   "execution_count": 47,
   "metadata": {},
   "outputs": [
    {
     "name": "stdout",
     "output_type": "stream",
     "text": [
      "                 name  count  time_spent\n",
      "id                                      \n",
      "00ca1b70     Вероника    131       166.0\n",
      "0178ce70      Василек    164       234.5\n",
      "01abf4e9      Гацания     30       181.5\n",
      "030a9067  Колокольчик    228       135.5\n",
      "03740f2d      Василек    157       289.0\n"
     ]
    }
   ],
   "source": [
    "import pandas as pd\n",
    "\n",
    "data = pd.read_csv('../datasets/visits.csv', sep='\\t')\n",
    "data['local_time'] = pd.to_datetime(\n",
    "    data['date_time'], format='%Y-%m-%dT%H:%M:%S'\n",
    ") + pd.Timedelta(hours=3)\n",
    "data['date_hour'] = data['local_time'].dt.round('1H')\n",
    "data['too_fast'] = data['time_spent'] < 60\n",
    "data['too_slow'] = data['time_spent'] > 1000\n",
    "\n",
    "too_fast_stat = data.pivot_table(index='id', values='too_fast')\n",
    "good_ids = too_fast_stat.query('too_fast < 0.5')\n",
    "good_data = data.query('id in @good_ids.index and 60 <= time_spent <= 1000')\n",
    "good_stations_stat = good_data.pivot_table(\n",
    "    index='id', values='time_spent', aggfunc='median'\n",
    ")\n",
    "\n",
    "stat = data.pivot_table(index='name', values='time_spent')\n",
    "good_stat = good_data.pivot_table(\n",
    "    index='name', values='time_spent', aggfunc='median'\n",
    ")\n",
    "stat['good_time_spent'] = good_stat['time_spent']\n",
    "\n",
    "id_name = good_data.pivot_table(\n",
    "    index='id', values='name', aggfunc=['first', 'count']\n",
    ")\n",
    "id_name.columns = ['name', 'count']\n",
    "# Объединяеммданные из id_name и good_stations_stat\n",
    "station_stat_full = id_name.join(good_stations_stat)\n",
    "print(station_stat_full.head())"
   ]
  },
  {
   "cell_type": "markdown",
   "metadata": {},
   "source": [
    "### Задача 2/4\n",
    "Нужно установить минимальную границу по числу заездов, ниже которой данные о среднем времени заправки можно считать ненадёжными (чтобы исключить их влияние на типичную продолжительность).\n",
    "\n",
    "Постройте гистограмму значений `'count'` из `station_stat_full` с 30 корзинами.\n",
    "\n",
    "И ещё одну гистограмму по тем же значениям на 30 корзин, но для диапазона от 0 до 300 заездов.\n",
    "\n",
    "Сравните полученные графики.\n",
    ">К таблице `station_stat_full` примените метод `hist()`, первым аргументом передайте название столбца. В параметре `bins` укажите 30 корзин. В параметре `range` укажите диапазон."
   ]
  },
  {
   "cell_type": "code",
   "execution_count": 48,
   "metadata": {},
   "outputs": [
    {
     "data": {
      "text/plain": [
       "array([[<AxesSubplot:title={'center':'count'}>]], dtype=object)"
      ]
     },
     "execution_count": 48,
     "metadata": {},
     "output_type": "execute_result"
    },
    {
     "data": {
      "image/png": "[encoded data removed]",
      "text/plain": [
       "<Figure size 432x288 with 1 Axes>"
      ]
     },
     "metadata": {
      "needs_background": "light"
     },
     "output_type": "display_data"
    },
    {
     "data": {
      "image/png": "[encoded data removed]",
      "text/plain": [
       "<Figure size 432x288 with 1 Axes>"
      ]
     },
     "metadata": {
      "needs_background": "light"
     },
     "output_type": "display_data"
    }
   ],
   "source": [
    "import pandas as pd\n",
    "\n",
    "data = pd.read_csv('../datasets/visits.csv', sep='\\t')\n",
    "data['local_time'] = pd.to_datetime(\n",
    "    data['date_time'], format='%Y-%m-%dT%H:%M:%S'\n",
    ") + pd.Timedelta(hours=3)\n",
    "data['date_hour'] = data['local_time'].dt.round('1H')\n",
    "data['too_fast'] = data['time_spent'] < 60\n",
    "data['too_slow'] = data['time_spent'] > 1000\n",
    "\n",
    "too_fast_stat = data.pivot_table(index='id', values='too_fast')\n",
    "good_ids = too_fast_stat.query('too_fast < 0.5')\n",
    "good_data = data.query('id in @good_ids.index and 60 <= time_spent <= 1000')\n",
    "good_stations_stat = good_data.pivot_table(\n",
    "    index='id', values='time_spent', aggfunc='median'\n",
    ")\n",
    "\n",
    "stat = data.pivot_table(index='name', values='time_spent')\n",
    "good_stat = good_data.pivot_table(\n",
    "    index='name', values='time_spent', aggfunc='median'\n",
    ")\n",
    "stat['good_time_spent'] = good_stat['time_spent']\n",
    "\n",
    "id_name = good_data.pivot_table(\n",
    "    index='id', values='name', aggfunc=['first', 'count']\n",
    ")\n",
    "id_name.columns = ['name', 'count']\n",
    "\n",
    "station_stat_full = id_name.join(good_stations_stat)\n",
    "\n",
    "# две гистограммы значений 'count' из station_stat_full\n",
    "station_stat_full.hist('count', bins=30)\n",
    "# указан диапазон\n",
    "station_stat_full.hist('count', bins=30, range=(0,300))"
   ]
  },
  {
   "cell_type": "markdown",
   "metadata": {},
   "source": [
    "На первой гистограмме пик около 0 заездов, на второй - около 50. Можно чуть отступить за пик и отбросить все подозрительно непопулярные станции, куда заезжали менее 75 раз. С ними явно что-то не то. Однако таких довольно много, как бы не пришлось проводить еще одно исследование. А времени нет, и поручить некому!\n",
    "\n",
    "Установите порог в 30."
   ]
  },
  {
   "cell_type": "markdown",
   "metadata": {},
   "source": [
    "### Задача 3/4\n",
    "Выберите из `station_stat_full` АЗС с количеством заездов более 30. По этим данным найдите для каждой сети медиану продолжительности заправки и число АЗС. Результат сохраните в `good_stat2`.\n",
    "\n",
    "Дайте столбцам с медианой и количеством станций имена `'median_time'` и `'stations'`. Распечатайте первые 5 строк `good_stat2`.\n",
    ">Методом `query()` получите выборку из АЗС с количеством заездов (count) больше 30. Примените `pivot_table()` к столбцу `'name'` по значениям `'time_spent'`, чтобы найти медианное время и число АЗС для каждой сети.\n",
    "\n",
    ">Названия столбцов вспомните, распечатав `station_stat_full`. Параметру `aggfunc` передайте список из методов `'median'` и `'count'`.\n",
    "\n",
    ">Для переименования столбцов присвойте список из имён атрибуту `columns`."
   ]
  },
  {
   "cell_type": "code",
   "execution_count": 49,
   "metadata": {},
   "outputs": [
    {
     "data": {
      "text/html": [
       "<div>\n",
       "<style scoped>\n",
       "    .dataframe tbody tr th:only-of-type {\n",
       "        vertical-align: middle;\n",
       "    }\n",
       "\n",
       "    .dataframe tbody tr th {\n",
       "        vertical-align: top;\n",
       "    }\n",
       "\n",
       "    .dataframe thead th {\n",
       "        text-align: right;\n",
       "    }\n",
       "</style>\n",
       "<table border=\"1\" class=\"dataframe\">\n",
       "  <thead>\n",
       "    <tr style=\"text-align: right;\">\n",
       "      <th></th>\n",
       "      <th>name</th>\n",
       "      <th>count</th>\n",
       "      <th>time_spent</th>\n",
       "    </tr>\n",
       "    <tr>\n",
       "      <th>id</th>\n",
       "      <th></th>\n",
       "      <th></th>\n",
       "      <th></th>\n",
       "    </tr>\n",
       "  </thead>\n",
       "  <tbody>\n",
       "    <tr>\n",
       "      <th>00ca1b70</th>\n",
       "      <td>Вероника</td>\n",
       "      <td>131</td>\n",
       "      <td>166.0</td>\n",
       "    </tr>\n",
       "    <tr>\n",
       "      <th>0178ce70</th>\n",
       "      <td>Василек</td>\n",
       "      <td>164</td>\n",
       "      <td>234.5</td>\n",
       "    </tr>\n",
       "    <tr>\n",
       "      <th>01abf4e9</th>\n",
       "      <td>Гацания</td>\n",
       "      <td>30</td>\n",
       "      <td>181.5</td>\n",
       "    </tr>\n",
       "    <tr>\n",
       "      <th>030a9067</th>\n",
       "      <td>Колокольчик</td>\n",
       "      <td>228</td>\n",
       "      <td>135.5</td>\n",
       "    </tr>\n",
       "    <tr>\n",
       "      <th>03740f2d</th>\n",
       "      <td>Василек</td>\n",
       "      <td>157</td>\n",
       "      <td>289.0</td>\n",
       "    </tr>\n",
       "  </tbody>\n",
       "</table>\n",
       "</div>"
      ],
      "text/plain": [
       "                 name  count  time_spent\n",
       "id                                      \n",
       "00ca1b70     Вероника    131       166.0\n",
       "0178ce70      Василек    164       234.5\n",
       "01abf4e9      Гацания     30       181.5\n",
       "030a9067  Колокольчик    228       135.5\n",
       "03740f2d      Василек    157       289.0"
      ]
     },
     "execution_count": 49,
     "metadata": {},
     "output_type": "execute_result"
    }
   ],
   "source": [
    "# названия столбцов\n",
    "station_stat_full.head()"
   ]
  },
  {
   "cell_type": "code",
   "execution_count": 50,
   "metadata": {},
   "outputs": [
    {
     "name": "stdout",
     "output_type": "stream",
     "text": [
      "          median_time  stations\n",
      "name                           \n",
      "Агератум       308.50         3\n",
      "Амарант        169.00         5\n",
      "Аммобиум       178.75         4\n",
      "Арктотис       190.50         3\n",
      "Астильба       435.50         4\n"
     ]
    }
   ],
   "source": [
    "import pandas as pd\n",
    "\n",
    "data = pd.read_csv('../datasets/visits.csv', sep='\\t')\n",
    "data['local_time'] = pd.to_datetime(\n",
    "    data['date_time'], format='%Y-%m-%dT%H:%M:%S'\n",
    ") + pd.Timedelta(hours=3)\n",
    "data['date_hour'] = data['local_time'].dt.round('1H')\n",
    "data['too_fast'] = data['time_spent'] < 60\n",
    "data['too_slow'] = data['time_spent'] > 1000\n",
    "\n",
    "too_fast_stat = data.pivot_table(index='id', values='too_fast')\n",
    "good_ids = too_fast_stat.query('too_fast < 0.5')\n",
    "good_data = data.query('id in @good_ids.index and 60 <= time_spent <= 1000')\n",
    "good_stations_stat = good_data.pivot_table(\n",
    "    index='id', values='time_spent', aggfunc='median'\n",
    ")\n",
    "\n",
    "stat = data.pivot_table(index='name', values='time_spent')\n",
    "good_stat = good_data.pivot_table(\n",
    "    index='name', values='time_spent', aggfunc='median'\n",
    ")\n",
    "stat['good_time_spent'] = good_stat['time_spent']\n",
    "\n",
    "id_name = good_data.pivot_table(\n",
    "    index='id', values='name', aggfunc=['first', 'count']\n",
    ")\n",
    "id_name.columns = ['name', 'count']\n",
    "station_stat_full = id_name.join(good_stations_stat)\n",
    "\n",
    "\n",
    "# получим выборку из АЗС с count больше 30\n",
    "good_stat2 = (\n",
    "   station_stat_full\n",
    "   .query('count > 30')\n",
    "   .pivot_table(index='name', values='time_spent', aggfunc=['median', 'count']) # медиана продолжительности заправки и число АЗС\n",
    ")\n",
    "# переименование столбцов\n",
    "good_stat2.columns = ['median_time', 'stations']\n",
    "print(good_stat2.head())"
   ]
  },
  {
   "cell_type": "markdown",
   "metadata": {},
   "source": [
    "Говорят, что единственный человек, с кем нужно себя сравнивать - это вы в прошлом. Чем таблицы с информацией про АЗС хуже?  В следующей задаче узнаем, как изменилась `good_stat2` по сравнению с таблицей `stat` из прошлого."
   ]
  },
  {
   "cell_type": "markdown",
   "metadata": {},
   "source": [
    "### Задача 4/4\n",
    "Объедините данные таблиц `stat` и `good_stat2`, чтобы получился датафрейм со столбцами: `'time_spent'`, `'good_time_spent'`, `'median_time'`, `'stations'`. Результат сохраните в датафрейме `final_stat`. \n",
    "`\n",
    "Распечатайте его целиком и просмотрите значения в столбцах `'good_time_spent'` и `'median_time'`.\n",
    ">Соедините две таблицы методом `join()`. Без каких-либо дополнительных параметров."
   ]
  },
  {
   "cell_type": "code",
   "execution_count": 51,
   "metadata": {},
   "outputs": [
    {
     "data": {
      "text/html": [
       "<div>\n",
       "<style scoped>\n",
       "    .dataframe tbody tr th:only-of-type {\n",
       "        vertical-align: middle;\n",
       "    }\n",
       "\n",
       "    .dataframe tbody tr th {\n",
       "        vertical-align: top;\n",
       "    }\n",
       "\n",
       "    .dataframe thead th {\n",
       "        text-align: right;\n",
       "    }\n",
       "</style>\n",
       "<table border=\"1\" class=\"dataframe\">\n",
       "  <thead>\n",
       "    <tr style=\"text-align: right;\">\n",
       "      <th></th>\n",
       "      <th>time_spent</th>\n",
       "      <th>good_time_spent</th>\n",
       "      <th>median_time</th>\n",
       "      <th>stations</th>\n",
       "    </tr>\n",
       "    <tr>\n",
       "      <th>name</th>\n",
       "      <th></th>\n",
       "      <th></th>\n",
       "      <th></th>\n",
       "      <th></th>\n",
       "    </tr>\n",
       "  </thead>\n",
       "  <tbody>\n",
       "    <tr>\n",
       "      <th>Агератум</th>\n",
       "      <td>337.802721</td>\n",
       "      <td>309.0</td>\n",
       "      <td>308.50</td>\n",
       "      <td>3.0</td>\n",
       "    </tr>\n",
       "    <tr>\n",
       "      <th>Амарант</th>\n",
       "      <td>132.760012</td>\n",
       "      <td>187.5</td>\n",
       "      <td>169.00</td>\n",
       "      <td>5.0</td>\n",
       "    </tr>\n",
       "    <tr>\n",
       "      <th>Аммобиум</th>\n",
       "      <td>256.708042</td>\n",
       "      <td>180.5</td>\n",
       "      <td>178.75</td>\n",
       "      <td>4.0</td>\n",
       "    </tr>\n",
       "    <tr>\n",
       "      <th>Арктотис</th>\n",
       "      <td>73.879984</td>\n",
       "      <td>185.0</td>\n",
       "      <td>190.50</td>\n",
       "      <td>3.0</td>\n",
       "    </tr>\n",
       "    <tr>\n",
       "      <th>Астильба</th>\n",
       "      <td>376.143149</td>\n",
       "      <td>423.0</td>\n",
       "      <td>435.50</td>\n",
       "      <td>4.0</td>\n",
       "    </tr>\n",
       "    <tr>\n",
       "      <th>Бальзамин</th>\n",
       "      <td>134.508411</td>\n",
       "      <td>158.0</td>\n",
       "      <td>158.00</td>\n",
       "      <td>1.0</td>\n",
       "    </tr>\n",
       "    <tr>\n",
       "      <th>Бархатцы</th>\n",
       "      <td>145.300328</td>\n",
       "      <td>181.5</td>\n",
       "      <td>181.50</td>\n",
       "      <td>1.0</td>\n",
       "    </tr>\n",
       "    <tr>\n",
       "      <th>Бегония</th>\n",
       "      <td>163.200647</td>\n",
       "      <td>195.0</td>\n",
       "      <td>190.00</td>\n",
       "      <td>3.0</td>\n",
       "    </tr>\n",
       "    <tr>\n",
       "      <th>Белоцветник</th>\n",
       "      <td>100.818966</td>\n",
       "      <td>154.0</td>\n",
       "      <td>154.00</td>\n",
       "      <td>1.0</td>\n",
       "    </tr>\n",
       "    <tr>\n",
       "      <th>Василек</th>\n",
       "      <td>268.849897</td>\n",
       "      <td>264.0</td>\n",
       "      <td>252.00</td>\n",
       "      <td>103.0</td>\n",
       "    </tr>\n",
       "    <tr>\n",
       "      <th>Вербена</th>\n",
       "      <td>190.016594</td>\n",
       "      <td>199.0</td>\n",
       "      <td>199.75</td>\n",
       "      <td>6.0</td>\n",
       "    </tr>\n",
       "    <tr>\n",
       "      <th>Вероника</th>\n",
       "      <td>220.019402</td>\n",
       "      <td>212.0</td>\n",
       "      <td>223.00</td>\n",
       "      <td>5.0</td>\n",
       "    </tr>\n",
       "    <tr>\n",
       "      <th>Гацания</th>\n",
       "      <td>160.685185</td>\n",
       "      <td>178.5</td>\n",
       "      <td>178.50</td>\n",
       "      <td>1.0</td>\n",
       "    </tr>\n",
       "    <tr>\n",
       "      <th>Гвоздика</th>\n",
       "      <td>294.317308</td>\n",
       "      <td>229.0</td>\n",
       "      <td>234.75</td>\n",
       "      <td>2.0</td>\n",
       "    </tr>\n",
       "    <tr>\n",
       "      <th>Гейхера</th>\n",
       "      <td>167.445947</td>\n",
       "      <td>204.0</td>\n",
       "      <td>192.00</td>\n",
       "      <td>12.0</td>\n",
       "    </tr>\n",
       "    <tr>\n",
       "      <th>Гелихризум</th>\n",
       "      <td>290.138643</td>\n",
       "      <td>342.0</td>\n",
       "      <td>342.00</td>\n",
       "      <td>1.0</td>\n",
       "    </tr>\n",
       "    <tr>\n",
       "      <th>Георгина</th>\n",
       "      <td>166.615555</td>\n",
       "      <td>279.0</td>\n",
       "      <td>289.00</td>\n",
       "      <td>9.0</td>\n",
       "    </tr>\n",
       "    <tr>\n",
       "      <th>Годеция</th>\n",
       "      <td>113.958333</td>\n",
       "      <td>NaN</td>\n",
       "      <td>NaN</td>\n",
       "      <td>NaN</td>\n",
       "    </tr>\n",
       "    <tr>\n",
       "      <th>Диморфотека</th>\n",
       "      <td>406.161017</td>\n",
       "      <td>224.0</td>\n",
       "      <td>230.00</td>\n",
       "      <td>1.0</td>\n",
       "    </tr>\n",
       "    <tr>\n",
       "      <th>Доротеантус</th>\n",
       "      <td>263.568916</td>\n",
       "      <td>220.0</td>\n",
       "      <td>221.25</td>\n",
       "      <td>6.0</td>\n",
       "    </tr>\n",
       "    <tr>\n",
       "      <th>Ирис</th>\n",
       "      <td>179.931159</td>\n",
       "      <td>185.0</td>\n",
       "      <td>185.00</td>\n",
       "      <td>1.0</td>\n",
       "    </tr>\n",
       "    <tr>\n",
       "      <th>Календула</th>\n",
       "      <td>207.357323</td>\n",
       "      <td>254.0</td>\n",
       "      <td>240.00</td>\n",
       "      <td>36.0</td>\n",
       "    </tr>\n",
       "    <tr>\n",
       "      <th>Колокольчик</th>\n",
       "      <td>119.131564</td>\n",
       "      <td>161.0</td>\n",
       "      <td>161.00</td>\n",
       "      <td>21.0</td>\n",
       "    </tr>\n",
       "    <tr>\n",
       "      <th>Космос</th>\n",
       "      <td>164.867797</td>\n",
       "      <td>267.0</td>\n",
       "      <td>267.00</td>\n",
       "      <td>1.0</td>\n",
       "    </tr>\n",
       "    <tr>\n",
       "      <th>Крокус</th>\n",
       "      <td>349.031746</td>\n",
       "      <td>257.5</td>\n",
       "      <td>257.50</td>\n",
       "      <td>1.0</td>\n",
       "    </tr>\n",
       "    <tr>\n",
       "      <th>Лаватера</th>\n",
       "      <td>249.992844</td>\n",
       "      <td>282.0</td>\n",
       "      <td>280.50</td>\n",
       "      <td>10.0</td>\n",
       "    </tr>\n",
       "    <tr>\n",
       "      <th>Левкой</th>\n",
       "      <td>187.465606</td>\n",
       "      <td>212.5</td>\n",
       "      <td>174.50</td>\n",
       "      <td>3.0</td>\n",
       "    </tr>\n",
       "    <tr>\n",
       "      <th>Лобулярия</th>\n",
       "      <td>96.834350</td>\n",
       "      <td>NaN</td>\n",
       "      <td>NaN</td>\n",
       "      <td>NaN</td>\n",
       "    </tr>\n",
       "    <tr>\n",
       "      <th>Люпин</th>\n",
       "      <td>235.440937</td>\n",
       "      <td>186.0</td>\n",
       "      <td>200.00</td>\n",
       "      <td>13.0</td>\n",
       "    </tr>\n",
       "    <tr>\n",
       "      <th>Малопа</th>\n",
       "      <td>76.070543</td>\n",
       "      <td>229.0</td>\n",
       "      <td>221.00</td>\n",
       "      <td>5.0</td>\n",
       "    </tr>\n",
       "    <tr>\n",
       "      <th>Мальва</th>\n",
       "      <td>136.562234</td>\n",
       "      <td>182.0</td>\n",
       "      <td>177.75</td>\n",
       "      <td>22.0</td>\n",
       "    </tr>\n",
       "    <tr>\n",
       "      <th>Нарцисс</th>\n",
       "      <td>68.166758</td>\n",
       "      <td>NaN</td>\n",
       "      <td>NaN</td>\n",
       "      <td>NaN</td>\n",
       "    </tr>\n",
       "    <tr>\n",
       "      <th>Настурция</th>\n",
       "      <td>154.859694</td>\n",
       "      <td>NaN</td>\n",
       "      <td>NaN</td>\n",
       "      <td>NaN</td>\n",
       "    </tr>\n",
       "    <tr>\n",
       "      <th>Незабудка</th>\n",
       "      <td>120.362398</td>\n",
       "      <td>161.0</td>\n",
       "      <td>161.00</td>\n",
       "      <td>1.0</td>\n",
       "    </tr>\n",
       "    <tr>\n",
       "      <th>Немезия</th>\n",
       "      <td>186.535207</td>\n",
       "      <td>226.0</td>\n",
       "      <td>227.50</td>\n",
       "      <td>21.0</td>\n",
       "    </tr>\n",
       "    <tr>\n",
       "      <th>Обриета</th>\n",
       "      <td>141.777778</td>\n",
       "      <td>167.0</td>\n",
       "      <td>NaN</td>\n",
       "      <td>NaN</td>\n",
       "    </tr>\n",
       "    <tr>\n",
       "      <th>Петуния</th>\n",
       "      <td>265.780822</td>\n",
       "      <td>319.5</td>\n",
       "      <td>319.50</td>\n",
       "      <td>1.0</td>\n",
       "    </tr>\n",
       "    <tr>\n",
       "      <th>Пион</th>\n",
       "      <td>222.565523</td>\n",
       "      <td>180.5</td>\n",
       "      <td>180.00</td>\n",
       "      <td>5.0</td>\n",
       "    </tr>\n",
       "    <tr>\n",
       "      <th>Подснежник</th>\n",
       "      <td>180.286207</td>\n",
       "      <td>218.5</td>\n",
       "      <td>199.00</td>\n",
       "      <td>2.0</td>\n",
       "    </tr>\n",
       "    <tr>\n",
       "      <th>Роза</th>\n",
       "      <td>260.877217</td>\n",
       "      <td>315.0</td>\n",
       "      <td>350.00</td>\n",
       "      <td>18.0</td>\n",
       "    </tr>\n",
       "    <tr>\n",
       "      <th>Ромашка</th>\n",
       "      <td>231.389365</td>\n",
       "      <td>191.0</td>\n",
       "      <td>189.00</td>\n",
       "      <td>7.0</td>\n",
       "    </tr>\n",
       "    <tr>\n",
       "      <th>Тюльпан</th>\n",
       "      <td>187.832210</td>\n",
       "      <td>190.0</td>\n",
       "      <td>188.75</td>\n",
       "      <td>8.0</td>\n",
       "    </tr>\n",
       "    <tr>\n",
       "      <th>Фасоль</th>\n",
       "      <td>133.631957</td>\n",
       "      <td>NaN</td>\n",
       "      <td>NaN</td>\n",
       "      <td>NaN</td>\n",
       "    </tr>\n",
       "    <tr>\n",
       "      <th>Функия</th>\n",
       "      <td>302.494737</td>\n",
       "      <td>171.5</td>\n",
       "      <td>171.50</td>\n",
       "      <td>1.0</td>\n",
       "    </tr>\n",
       "    <tr>\n",
       "      <th>Хризантема</th>\n",
       "      <td>195.738710</td>\n",
       "      <td>188.0</td>\n",
       "      <td>188.25</td>\n",
       "      <td>2.0</td>\n",
       "    </tr>\n",
       "  </tbody>\n",
       "</table>\n",
       "</div>"
      ],
      "text/plain": [
       "             time_spent  good_time_spent  median_time  stations\n",
       "name                                                           \n",
       "Агератум     337.802721            309.0       308.50       3.0\n",
       "Амарант      132.760012            187.5       169.00       5.0\n",
       "Аммобиум     256.708042            180.5       178.75       4.0\n",
       "Арктотис      73.879984            185.0       190.50       3.0\n",
       "Астильба     376.143149            423.0       435.50       4.0\n",
       "Бальзамин    134.508411            158.0       158.00       1.0\n",
       "Бархатцы     145.300328            181.5       181.50       1.0\n",
       "Бегония      163.200647            195.0       190.00       3.0\n",
       "Белоцветник  100.818966            154.0       154.00       1.0\n",
       "Василек      268.849897            264.0       252.00     103.0\n",
       "Вербена      190.016594            199.0       199.75       6.0\n",
       "Вероника     220.019402            212.0       223.00       5.0\n",
       "Гацания      160.685185            178.5       178.50       1.0\n",
       "Гвоздика     294.317308            229.0       234.75       2.0\n",
       "Гейхера      167.445947            204.0       192.00      12.0\n",
       "Гелихризум   290.138643            342.0       342.00       1.0\n",
       "Георгина     166.615555            279.0       289.00       9.0\n",
       "Годеция      113.958333              NaN          NaN       NaN\n",
       "Диморфотека  406.161017            224.0       230.00       1.0\n",
       "Доротеантус  263.568916            220.0       221.25       6.0\n",
       "Ирис         179.931159            185.0       185.00       1.0\n",
       "Календула    207.357323            254.0       240.00      36.0\n",
       "Колокольчик  119.131564            161.0       161.00      21.0\n",
       "Космос       164.867797            267.0       267.00       1.0\n",
       "Крокус       349.031746            257.5       257.50       1.0\n",
       "Лаватера     249.992844            282.0       280.50      10.0\n",
       "Левкой       187.465606            212.5       174.50       3.0\n",
       "Лобулярия     96.834350              NaN          NaN       NaN\n",
       "Люпин        235.440937            186.0       200.00      13.0\n",
       "Малопа        76.070543            229.0       221.00       5.0\n",
       "Мальва       136.562234            182.0       177.75      22.0\n",
       "Нарцисс       68.166758              NaN          NaN       NaN\n",
       "Настурция    154.859694              NaN          NaN       NaN\n",
       "Незабудка    120.362398            161.0       161.00       1.0\n",
       "Немезия      186.535207            226.0       227.50      21.0\n",
       "Обриета      141.777778            167.0          NaN       NaN\n",
       "Петуния      265.780822            319.5       319.50       1.0\n",
       "Пион         222.565523            180.5       180.00       5.0\n",
       "Подснежник   180.286207            218.5       199.00       2.0\n",
       "Роза         260.877217            315.0       350.00      18.0\n",
       "Ромашка      231.389365            191.0       189.00       7.0\n",
       "Тюльпан      187.832210            190.0       188.75       8.0\n",
       "Фасоль       133.631957              NaN          NaN       NaN\n",
       "Функия       302.494737            171.5       171.50       1.0\n",
       "Хризантема   195.738710            188.0       188.25       2.0"
      ]
     },
     "execution_count": 51,
     "metadata": {},
     "output_type": "execute_result"
    }
   ],
   "source": [
    "import pandas as pd\n",
    "\n",
    "data = pd.read_csv(\"../datasets/visits.csv\", sep=\"\\t\")\n",
    "data['local_time'] = (\n",
    "    pd.to_datetime(data['date_time'], yearfirst=True)\n",
    "    + pd.Timedelta(hours=3)\n",
    ")\n",
    "data['date_hour'] = data['local_time'].dt.round('1H')\n",
    "data['too_fast'] = data['time_spent'] < 60\n",
    "data['too_slow'] = data['time_spent'] > 1000\n",
    "\n",
    "too_fast_stat = data.pivot_table(index=\"id\", values=\"too_fast\")\n",
    "good_ids = too_fast_stat.query('too_fast < 0.5')\n",
    "good_data = data.query('id in @good_ids.index and 60 <= time_spent <= 1000')\n",
    "good_stations_stat = good_data.pivot_table(index='id', values='time_spent', aggfunc='median')\n",
    "\n",
    "stat = data.pivot_table(index='name', values='time_spent')\n",
    "good_stat = good_data.pivot_table(index='name', values='time_spent', aggfunc='median')\n",
    "stat['good_time_spent'] = good_stat['time_spent']\n",
    "\n",
    "id_name = good_data.pivot_table(index='id', values='name', aggfunc=['first', 'count'])\n",
    "id_name.columns = ['name', 'count']\n",
    "station_stat_full = id_name.join(good_stations_stat)\n",
    "\n",
    "good_stat2 = (\n",
    "    station_stat_full\n",
    "    .query('count > 30')\n",
    "    .pivot_table(index='name', values='time_spent', aggfunc=['median', 'count'])\n",
    ")\n",
    "good_stat2.columns = ['median_time', 'stations']\n",
    "\n",
    "# объединим данные таблиц stat и good_stat2\n",
    "final_stat = stat.join(good_stat2)\n",
    "final_stat"
   ]
  },
  {
   "cell_type": "markdown",
   "metadata": {},
   "source": [
    "Среднее время заправки в сети \"Роза\" теперь оцениваем как 350 секунд, а не 315. Пропали данные по сети \"Обриета\" - значит там были АЗС со слишком малым числом заездов.\n",
    "\n",
    "Как убедиться, что преобразованный набор данных лучше исходного? На **графиках совместного распределения**."
   ]
  },
  {
   "cell_type": "markdown",
   "metadata": {},
   "source": [
    "<a name=\"9\">_</a>\n",
    "## Заключение"
   ]
  },
  {
   "cell_type": "markdown",
   "metadata": {},
   "source": [
    "Отлично! Вы сделали это — составили рейтинг АЗС по времени заправки. Да, его можно улучшить, чем и займёмся в следующих уроках, а пока подведём итоги.\n",
    "\n",
    "**Вы умеете:**\n",
    "\n",
    "- фильтровать данные, применяя `query()`;\n",
    "- соединять два датафрейма методом `merge()`;\n",
    "- строить срезы с более сложными структурами: `Series`, словарями и датафреймами;\n",
    "- объединять несколько таблиц методом `join()`: их набор передают списком вместо второго датафрейма.\n",
    "\n",
    "Чтобы найти взаимосвязи между разными значениями, перейдём к графикам совместного распределения.\n",
    "\n",
    "Где ещё почитать про объединение данных: <a href=\"https://smysl.io/blog/pandas/\">Объединение датафреймов</a>."
   ]
  }
 ],
 "metadata": {
  "kernelspec": {
   "display_name": "Python 3",
   "language": "python",
   "name": "python3"
  },
  "language_info": {
   "codemirror_mode": {
    "name": "ipython",
    "version": 3
   },
   "file_extension": ".py",
   "mimetype": "text/x-python",
   "name": "python",
   "nbconvert_exporter": "python",
   "pygments_lexer": "ipython3",
   "version": "3.8.5"
  }
 },
 "nbformat": 4,
 "nbformat_minor": 4
}
