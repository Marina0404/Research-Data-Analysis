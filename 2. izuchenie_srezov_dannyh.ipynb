{
 "cells": [
  {
   "cell_type": "markdown",
   "metadata": {},
   "source": [
    "# Исследовательский анализ данных\n",
    "## Изучение срезов данных\n",
    "1. <a href=\"#0\">Введение</a>\n",
    "2. <a href=\"#1\">Срезы данных и поиск авиабилетов</a>\n",
    "3. <a href=\"#2\">Срезы данных методом `query()`</a>\n",
    "4. <a href=\"#3\">Возможности `query()`</a>\n",
    "5. <a href=\"#4\">Срезы в действии</a>\n",
    "6. <a href=\"#5\">«Слишком долгая» заправка — это сколько?</a>\n",
    "7. <a href=\"#6\">Работа с датой и временем</a>\n",
    "8. <a href=\"#7\">Графики</a>\n",
    "9. <a href=\"#8\">Группировка с `pivot_table()`</a>\n",
    "10. <a href=\"#9\">Помечаем срез данных</a>\n",
    "11. <a href=\"#10\">Сохраняем результаты</a>\n",
    "12. <a href=\"#11\">Заключение</a>"
   ]
  },
  {
   "cell_type": "markdown",
   "metadata": {},
   "source": [
    "<a name=\"0\">_</a>\n",
    "## Введение\n",
    "Вы получили общее представление о данных — самое время исследовать их более тщательно.\n",
    "\n",
    "**Чему вы научитесь:**\n",
    "- Получать срезы данных вручную и методом query();\n",
    "- Округлять время и переводить его в другие часовые пояса;\n",
    "- Строить графики методом plot();\n",
    "- Составлять правильные баг-репорты.\n",
    "\n",
    "**Вам предстоит:**\n",
    "\n",
    "- Изучить АЗС со сверхдолгими заправками;\n",
    "- Определить границу, после которой можно считать заправку «слишком долгой»;\n",
    "- Узнать, чем ночные заезды отличаются от дневных;\n",
    "- Найти аномально быстрые заправки.\n",
    "\n",
    "\n",
    "**Постановка задачи:**\n",
    "\n",
    "Погрузитесь в детали: найдите аномально быстрые и сверхдолгие заправки. Узнайте, для каких АЗС они характерны."
   ]
  },
  {
   "cell_type": "markdown",
   "metadata": {},
   "source": [
    "<a name=\"1\">_</a>\n",
    "## Срезы данных и поиск авиабилетов\n",
    "Вы уже знаете, как получить общее представление о данных. Пора научиться разбираться в деталях. Откуда взялись короткие заезды на АЗС? А очень долгие? Это характерно для одной АЗС или всех? Отличаются ли чем-то АЗС со сверхдолгими заправками от других?\n",
    "\n",
    "Чтобы ответить на эти вопросы, нужны не все данные, а лишь их часть, или срез данных. Рассмотрим работу срезов на примере покупки авиабилетов.\n",
    "\n",
    "Об отдыхе мечтают все, даже аналитики.\n",
    "\n",
    "Театр начинается с вешалки, а отпуск — с поиска авиабилетов. Сделаем это, как аналитики.\n",
    "\n",
    "Вот датафрейм с информацией об авиабилетах. Указаны пункт вылета ('From') и прилёта ('To'), наличие багажа ('Has_luggage'), прямой ли рейс ('Is_Direct'), цена билета туда-обратно ('Price'), дата вылета ('Date_From') и прилёта ('Date_To'), название авиалиний ('Airline'), время в пути в минутах туда ('Travel_time_from') и обратно ('Travel_time_to')."
   ]
  },
  {
   "cell_type": "code",
   "execution_count": 6,
   "metadata": {},
   "outputs": [
    {
     "data": {
      "text/html": [
       "<div>\n",
       "<style scoped>\n",
       "    .dataframe tbody tr th:only-of-type {\n",
       "        vertical-align: middle;\n",
       "    }\n",
       "\n",
       "    .dataframe tbody tr th {\n",
       "        vertical-align: top;\n",
       "    }\n",
       "\n",
       "    .dataframe thead th {\n",
       "        text-align: right;\n",
       "    }\n",
       "</style>\n",
       "<table border=\"1\" class=\"dataframe\">\n",
       "  <thead>\n",
       "    <tr style=\"text-align: right;\">\n",
       "      <th></th>\n",
       "      <th>From</th>\n",
       "      <th>To</th>\n",
       "      <th>Is_Direct</th>\n",
       "      <th>Has_luggage</th>\n",
       "      <th>Price</th>\n",
       "      <th>Date_From</th>\n",
       "      <th>Date_To</th>\n",
       "      <th>Airline</th>\n",
       "      <th>Travel_time_from</th>\n",
       "      <th>Travel_time_to</th>\n",
       "    </tr>\n",
       "  </thead>\n",
       "  <tbody>\n",
       "    <tr>\n",
       "      <th>0</th>\n",
       "      <td>Moscow</td>\n",
       "      <td>Rome</td>\n",
       "      <td>False</td>\n",
       "      <td>True</td>\n",
       "      <td>21032</td>\n",
       "      <td>01.07.19</td>\n",
       "      <td>07.07.19</td>\n",
       "      <td>Belavia</td>\n",
       "      <td>995</td>\n",
       "      <td>350</td>\n",
       "    </tr>\n",
       "    <tr>\n",
       "      <th>1</th>\n",
       "      <td>Moscow</td>\n",
       "      <td>Rome</td>\n",
       "      <td>True</td>\n",
       "      <td>False</td>\n",
       "      <td>19250</td>\n",
       "      <td>01.07.19</td>\n",
       "      <td>07.07.19</td>\n",
       "      <td>S7</td>\n",
       "      <td>230</td>\n",
       "      <td>225</td>\n",
       "    </tr>\n",
       "    <tr>\n",
       "      <th>2</th>\n",
       "      <td>St. Petersburg</td>\n",
       "      <td>Rome</td>\n",
       "      <td>False</td>\n",
       "      <td>False</td>\n",
       "      <td>19301</td>\n",
       "      <td>04.07.2019</td>\n",
       "      <td>10.07.2019</td>\n",
       "      <td>Finnair</td>\n",
       "      <td>605</td>\n",
       "      <td>720</td>\n",
       "    </tr>\n",
       "    <tr>\n",
       "      <th>3</th>\n",
       "      <td>St. Petersburg</td>\n",
       "      <td>Barcelona</td>\n",
       "      <td>False</td>\n",
       "      <td>True</td>\n",
       "      <td>20168</td>\n",
       "      <td>03.07.2019</td>\n",
       "      <td>09.07.2019</td>\n",
       "      <td>Swiss</td>\n",
       "      <td>365</td>\n",
       "      <td>355</td>\n",
       "    </tr>\n",
       "    <tr>\n",
       "      <th>4</th>\n",
       "      <td>St. Petersburg</td>\n",
       "      <td>Barcelona</td>\n",
       "      <td>True</td>\n",
       "      <td>False</td>\n",
       "      <td>31425</td>\n",
       "      <td>05.07.2019</td>\n",
       "      <td>11.07.2019</td>\n",
       "      <td>Rossiya</td>\n",
       "      <td>255</td>\n",
       "      <td>250</td>\n",
       "    </tr>\n",
       "  </tbody>\n",
       "</table>\n",
       "</div>"
      ],
      "text/plain": [
       "             From         To  Is_Direct  Has_luggage  Price   Date_From  \\\n",
       "0          Moscow       Rome      False         True  21032    01.07.19   \n",
       "1          Moscow       Rome       True        False  19250    01.07.19   \n",
       "2  St. Petersburg       Rome      False        False  19301  04.07.2019   \n",
       "3  St. Petersburg  Barcelona      False         True  20168  03.07.2019   \n",
       "4  St. Petersburg  Barcelona       True        False  31425  05.07.2019   \n",
       "\n",
       "      Date_To  Airline  Travel_time_from  Travel_time_to  \n",
       "0    07.07.19  Belavia               995             350  \n",
       "1    07.07.19       S7               230             225  \n",
       "2  10.07.2019  Finnair               605             720  \n",
       "3  09.07.2019    Swiss               365             355  \n",
       "4  11.07.2019  Rossiya               255             250  "
      ]
     },
     "execution_count": 6,
     "metadata": {},
     "output_type": "execute_result"
    }
   ],
   "source": [
    "import pandas as pd\n",
    "travels = pd.DataFrame(\n",
    "    {\n",
    "        'From': [\n",
    "            'Moscow',\n",
    "            'Moscow',\n",
    "            'St. Petersburg',\n",
    "            'St. Petersburg',\n",
    "            'St. Petersburg',\n",
    "        ],\n",
    "        'To': ['Rome', 'Rome', 'Rome', 'Barcelona', 'Barcelona'],\n",
    "        'Is_Direct': [False, True, False, False, True],\n",
    "        'Has_luggage': [True, False, False, True, False],\n",
    "        'Price': [21032, 19250, 19301, 20168, 31425],\n",
    "        'Date_From': [\n",
    "            '01.07.19',\n",
    "            '01.07.19',\n",
    "            '04.07.2019',\n",
    "            '03.07.2019',\n",
    "            '05.07.2019',\n",
    "        ],\n",
    "        'Date_To': [\n",
    "            '07.07.19',\n",
    "            '07.07.19',\n",
    "            '10.07.2019',\n",
    "            '09.07.2019',\n",
    "            '11.07.2019',\n",
    "        ],\n",
    "        'Airline': ['Belavia', 'S7', 'Finnair', 'Swiss', 'Rossiya'],\n",
    "        'Travel_time_from': [995, 230, 605, 365, 255],\n",
    "        'Travel_time_to': [350, 225, 720, 355, 250],\n",
    "    }\n",
    ")\n",
    "travels"
   ]
  },
  {
   "cell_type": "markdown",
   "metadata": {},
   "source": [
    "Изучим только рейсы из Москвы. Нужен код, работающий как фильтр. Он берёт в будущий срез строки со значением 'Moscow' в столбце 'From', а не интересные нам строки со значением 'St. Petersburg' не возьмёт.\n",
    "\n",
    "Этим фильтром может стать булев массив, состоящий из `True` и `False`. Так, значениями `True` отметим, что хотим включить строку c `'Moscow'` в срез данных. А `False` обозначим не нужные для среза строки.\n",
    "\n",
    "Составим булев массив и назовём его `filter_list`:"
   ]
  },
  {
   "cell_type": "code",
   "execution_count": 62,
   "metadata": {},
   "outputs": [],
   "source": [
    "filter_list = [True, True, False, False, False]"
   ]
  },
  {
   "cell_type": "markdown",
   "metadata": {},
   "source": [
    "Он сообщает, что последние три строки не понадобятся, а первые две надо взять. Чтобы автоматически собрать данные в срез, передадим массив как индекс датафрейма:"
   ]
  },
  {
   "cell_type": "code",
   "execution_count": 64,
   "metadata": {},
   "outputs": [
    {
     "data": {
      "text/html": [
       "<div>\n",
       "<style scoped>\n",
       "    .dataframe tbody tr th:only-of-type {\n",
       "        vertical-align: middle;\n",
       "    }\n",
       "\n",
       "    .dataframe tbody tr th {\n",
       "        vertical-align: top;\n",
       "    }\n",
       "\n",
       "    .dataframe thead th {\n",
       "        text-align: right;\n",
       "    }\n",
       "</style>\n",
       "<table border=\"1\" class=\"dataframe\">\n",
       "  <thead>\n",
       "    <tr style=\"text-align: right;\">\n",
       "      <th></th>\n",
       "      <th>From</th>\n",
       "      <th>To</th>\n",
       "      <th>Is_Direct</th>\n",
       "      <th>Has_luggage</th>\n",
       "      <th>Price</th>\n",
       "      <th>Date_From</th>\n",
       "      <th>Date_To</th>\n",
       "      <th>Airline</th>\n",
       "      <th>Travel_time_from</th>\n",
       "      <th>Travel_time_to</th>\n",
       "    </tr>\n",
       "  </thead>\n",
       "  <tbody>\n",
       "    <tr>\n",
       "      <th>0</th>\n",
       "      <td>Moscow</td>\n",
       "      <td>Rome</td>\n",
       "      <td>False</td>\n",
       "      <td>True</td>\n",
       "      <td>21032</td>\n",
       "      <td>01.07.19</td>\n",
       "      <td>07.07.19</td>\n",
       "      <td>Belavia</td>\n",
       "      <td>995</td>\n",
       "      <td>350.0</td>\n",
       "    </tr>\n",
       "    <tr>\n",
       "      <th>1</th>\n",
       "      <td>Moscow</td>\n",
       "      <td>Rome</td>\n",
       "      <td>True</td>\n",
       "      <td>False</td>\n",
       "      <td>19250</td>\n",
       "      <td>01.07.19</td>\n",
       "      <td>07.07.19</td>\n",
       "      <td>S7</td>\n",
       "      <td>230</td>\n",
       "      <td>225.0</td>\n",
       "    </tr>\n",
       "  </tbody>\n",
       "</table>\n",
       "</div>"
      ],
      "text/plain": [
       "     From    To  Is_Direct  Has_luggage  Price Date_From   Date_To  Airline  \\\n",
       "0  Moscow  Rome      False         True  21032  01.07.19  07.07.19  Belavia   \n",
       "1  Moscow  Rome       True        False  19250  01.07.19  07.07.19       S7   \n",
       "\n",
       "   Travel_time_from  Travel_time_to  \n",
       "0               995           350.0  \n",
       "1               230           225.0  "
      ]
     },
     "execution_count": 64,
     "metadata": {},
     "output_type": "execute_result"
    }
   ],
   "source": [
    "travels[filter_list]"
   ]
  },
  {
   "cell_type": "markdown",
   "metadata": {},
   "source": [
    "Получилось!\n",
    "\n",
    "Однако размечать нужные строки вручную — занятие утомительное. Построим фильтр автоматически. Сперва соберём список, где строкам с 'Moscow' соответствуют значения `True`, а остальным — `False`:"
   ]
  },
  {
   "cell_type": "code",
   "execution_count": 66,
   "metadata": {},
   "outputs": [
    {
     "name": "stdout",
     "output_type": "stream",
     "text": [
      "0     True\n",
      "1     True\n",
      "2    False\n",
      "3    False\n",
      "4    False\n",
      "Name: From, dtype: bool\n"
     ]
    }
   ],
   "source": [
    "print(travels['From'] == 'Moscow')"
   ]
  },
  {
   "cell_type": "markdown",
   "metadata": {},
   "source": [
    "Получили знакомый булев массив, уже не вручную. Осталось выбрать строки со значением `True`:"
   ]
  },
  {
   "cell_type": "code",
   "execution_count": 68,
   "metadata": {},
   "outputs": [
    {
     "data": {
      "text/html": [
       "<div>\n",
       "<style scoped>\n",
       "    .dataframe tbody tr th:only-of-type {\n",
       "        vertical-align: middle;\n",
       "    }\n",
       "\n",
       "    .dataframe tbody tr th {\n",
       "        vertical-align: top;\n",
       "    }\n",
       "\n",
       "    .dataframe thead th {\n",
       "        text-align: right;\n",
       "    }\n",
       "</style>\n",
       "<table border=\"1\" class=\"dataframe\">\n",
       "  <thead>\n",
       "    <tr style=\"text-align: right;\">\n",
       "      <th></th>\n",
       "      <th>From</th>\n",
       "      <th>To</th>\n",
       "      <th>Is_Direct</th>\n",
       "      <th>Has_luggage</th>\n",
       "      <th>Price</th>\n",
       "      <th>Date_From</th>\n",
       "      <th>Date_To</th>\n",
       "      <th>Airline</th>\n",
       "      <th>Travel_time_from</th>\n",
       "      <th>Travel_time_to</th>\n",
       "    </tr>\n",
       "  </thead>\n",
       "  <tbody>\n",
       "    <tr>\n",
       "      <th>0</th>\n",
       "      <td>Moscow</td>\n",
       "      <td>Rome</td>\n",
       "      <td>False</td>\n",
       "      <td>True</td>\n",
       "      <td>21032</td>\n",
       "      <td>01.07.19</td>\n",
       "      <td>07.07.19</td>\n",
       "      <td>Belavia</td>\n",
       "      <td>995</td>\n",
       "      <td>350.0</td>\n",
       "    </tr>\n",
       "    <tr>\n",
       "      <th>1</th>\n",
       "      <td>Moscow</td>\n",
       "      <td>Rome</td>\n",
       "      <td>True</td>\n",
       "      <td>False</td>\n",
       "      <td>19250</td>\n",
       "      <td>01.07.19</td>\n",
       "      <td>07.07.19</td>\n",
       "      <td>S7</td>\n",
       "      <td>230</td>\n",
       "      <td>225.0</td>\n",
       "    </tr>\n",
       "  </tbody>\n",
       "</table>\n",
       "</div>"
      ],
      "text/plain": [
       "     From    To  Is_Direct  Has_luggage  Price Date_From   Date_To  Airline  \\\n",
       "0  Moscow  Rome      False         True  21032  01.07.19  07.07.19  Belavia   \n",
       "1  Moscow  Rome       True        False  19250  01.07.19  07.07.19       S7   \n",
       "\n",
       "   Travel_time_from  Travel_time_to  \n",
       "0               995           350.0  \n",
       "1               230           225.0  "
      ]
     },
     "execution_count": 68,
     "metadata": {},
     "output_type": "execute_result"
    }
   ],
   "source": [
    "#print(travels[travels['From'] == 'Moscow']) # передаём булев массив как индекс датафрейма\n",
    "travels[travels['From'] == 'Moscow']"
   ]
  },
  {
   "cell_type": "markdown",
   "metadata": {},
   "source": [
    "Отлично! Вы узнали, как задавать условия для получения срезов. Приём одинаково эффективен для датафреймов в 5, 10, 200 и 1000000 строк. Условием создания булева массива может выступать не только равенство, но и другие операции сравнения: `!=`, `>`, `>=`, `<`, `<=`.\n",
    "\n",
    "Бюджет на отпуск даже у аналитиков ограничен. Выведем срез данных, где цена на билет меньше 21000 рублей:"
   ]
  },
  {
   "cell_type": "code",
   "execution_count": 69,
   "metadata": {},
   "outputs": [
    {
     "data": {
      "text/html": [
       "<div>\n",
       "<style scoped>\n",
       "    .dataframe tbody tr th:only-of-type {\n",
       "        vertical-align: middle;\n",
       "    }\n",
       "\n",
       "    .dataframe tbody tr th {\n",
       "        vertical-align: top;\n",
       "    }\n",
       "\n",
       "    .dataframe thead th {\n",
       "        text-align: right;\n",
       "    }\n",
       "</style>\n",
       "<table border=\"1\" class=\"dataframe\">\n",
       "  <thead>\n",
       "    <tr style=\"text-align: right;\">\n",
       "      <th></th>\n",
       "      <th>From</th>\n",
       "      <th>To</th>\n",
       "      <th>Is_Direct</th>\n",
       "      <th>Has_luggage</th>\n",
       "      <th>Price</th>\n",
       "      <th>Date_From</th>\n",
       "      <th>Date_To</th>\n",
       "      <th>Airline</th>\n",
       "      <th>Travel_time_from</th>\n",
       "      <th>Travel_time_to</th>\n",
       "    </tr>\n",
       "  </thead>\n",
       "  <tbody>\n",
       "    <tr>\n",
       "      <th>1</th>\n",
       "      <td>Moscow</td>\n",
       "      <td>Rome</td>\n",
       "      <td>True</td>\n",
       "      <td>False</td>\n",
       "      <td>19250</td>\n",
       "      <td>01.07.19</td>\n",
       "      <td>07.07.19</td>\n",
       "      <td>S7</td>\n",
       "      <td>230</td>\n",
       "      <td>225.0</td>\n",
       "    </tr>\n",
       "    <tr>\n",
       "      <th>2</th>\n",
       "      <td>St. Petersburg</td>\n",
       "      <td>Rome</td>\n",
       "      <td>False</td>\n",
       "      <td>False</td>\n",
       "      <td>19301</td>\n",
       "      <td>04.07.2019</td>\n",
       "      <td>10.07.2019</td>\n",
       "      <td>Finnair</td>\n",
       "      <td>605</td>\n",
       "      <td>720.0</td>\n",
       "    </tr>\n",
       "    <tr>\n",
       "      <th>3</th>\n",
       "      <td>St. Petersburg</td>\n",
       "      <td>Barcelona</td>\n",
       "      <td>True</td>\n",
       "      <td>False</td>\n",
       "      <td>20168</td>\n",
       "      <td>03.07.2019</td>\n",
       "      <td>09.07.2019</td>\n",
       "      <td>Swiss</td>\n",
       "      <td>365</td>\n",
       "      <td>355.0</td>\n",
       "    </tr>\n",
       "  </tbody>\n",
       "</table>\n",
       "</div>"
      ],
      "text/plain": [
       "             From         To  Is_Direct  Has_luggage  Price   Date_From  \\\n",
       "1          Moscow       Rome       True        False  19250    01.07.19   \n",
       "2  St. Petersburg       Rome      False        False  19301  04.07.2019   \n",
       "3  St. Petersburg  Barcelona       True        False  20168  03.07.2019   \n",
       "\n",
       "      Date_To  Airline  Travel_time_from  Travel_time_to  \n",
       "1    07.07.19       S7               230           225.0  \n",
       "2  10.07.2019  Finnair               605           720.0  \n",
       "3  09.07.2019    Swiss               365           355.0  "
      ]
     },
     "execution_count": 69,
     "metadata": {},
     "output_type": "execute_result"
    }
   ],
   "source": [
    "travels[travels['Price'] < 21000]"
   ]
  },
  {
   "cell_type": "markdown",
   "metadata": {},
   "source": [
    "Значения в столбцах можно сравнивать и с числами, и между собой. Бывает, что путь туда занимает не столько же времени, сколько путь обратно. Рассмотрим случаи, когда на дорогу назад ('Travel_time_to') уходит больше времени, чем на дорогу вперёд ('Travel_time_from'):"
   ]
  },
  {
   "cell_type": "code",
   "execution_count": 70,
   "metadata": {},
   "outputs": [
    {
     "data": {
      "text/html": [
       "<div>\n",
       "<style scoped>\n",
       "    .dataframe tbody tr th:only-of-type {\n",
       "        vertical-align: middle;\n",
       "    }\n",
       "\n",
       "    .dataframe tbody tr th {\n",
       "        vertical-align: top;\n",
       "    }\n",
       "\n",
       "    .dataframe thead th {\n",
       "        text-align: right;\n",
       "    }\n",
       "</style>\n",
       "<table border=\"1\" class=\"dataframe\">\n",
       "  <thead>\n",
       "    <tr style=\"text-align: right;\">\n",
       "      <th></th>\n",
       "      <th>From</th>\n",
       "      <th>To</th>\n",
       "      <th>Is_Direct</th>\n",
       "      <th>Has_luggage</th>\n",
       "      <th>Price</th>\n",
       "      <th>Date_From</th>\n",
       "      <th>Date_To</th>\n",
       "      <th>Airline</th>\n",
       "      <th>Travel_time_from</th>\n",
       "      <th>Travel_time_to</th>\n",
       "    </tr>\n",
       "  </thead>\n",
       "  <tbody>\n",
       "    <tr>\n",
       "      <th>2</th>\n",
       "      <td>St. Petersburg</td>\n",
       "      <td>Rome</td>\n",
       "      <td>False</td>\n",
       "      <td>False</td>\n",
       "      <td>19301</td>\n",
       "      <td>04.07.2019</td>\n",
       "      <td>10.07.2019</td>\n",
       "      <td>Finnair</td>\n",
       "      <td>605</td>\n",
       "      <td>720.0</td>\n",
       "    </tr>\n",
       "  </tbody>\n",
       "</table>\n",
       "</div>"
      ],
      "text/plain": [
       "             From    To  Is_Direct  Has_luggage  Price   Date_From  \\\n",
       "2  St. Petersburg  Rome      False        False  19301  04.07.2019   \n",
       "\n",
       "      Date_To  Airline  Travel_time_from  Travel_time_to  \n",
       "2  10.07.2019  Finnair               605           720.0  "
      ]
     },
     "execution_count": 70,
     "metadata": {},
     "output_type": "execute_result"
    }
   ],
   "source": [
    "travels[travels['Travel_time_to'] > travels['Travel_time_from']]  "
   ]
  },
  {
   "cell_type": "markdown",
   "metadata": {},
   "source": [
    "Чтобы проверить наличие конкретных значений в столбце, вызовем метод `isin()`. Посмотрим, какие рейсы вылетают после 3 июля 2019:"
   ]
  },
  {
   "cell_type": "code",
   "execution_count": 71,
   "metadata": {},
   "outputs": [
    {
     "data": {
      "text/html": [
       "<div>\n",
       "<style scoped>\n",
       "    .dataframe tbody tr th:only-of-type {\n",
       "        vertical-align: middle;\n",
       "    }\n",
       "\n",
       "    .dataframe tbody tr th {\n",
       "        vertical-align: top;\n",
       "    }\n",
       "\n",
       "    .dataframe thead th {\n",
       "        text-align: right;\n",
       "    }\n",
       "</style>\n",
       "<table border=\"1\" class=\"dataframe\">\n",
       "  <thead>\n",
       "    <tr style=\"text-align: right;\">\n",
       "      <th></th>\n",
       "      <th>From</th>\n",
       "      <th>To</th>\n",
       "      <th>Is_Direct</th>\n",
       "      <th>Has_luggage</th>\n",
       "      <th>Price</th>\n",
       "      <th>Date_From</th>\n",
       "      <th>Date_To</th>\n",
       "      <th>Airline</th>\n",
       "      <th>Travel_time_from</th>\n",
       "      <th>Travel_time_to</th>\n",
       "    </tr>\n",
       "  </thead>\n",
       "  <tbody>\n",
       "    <tr>\n",
       "      <th>2</th>\n",
       "      <td>St. Petersburg</td>\n",
       "      <td>Rome</td>\n",
       "      <td>False</td>\n",
       "      <td>False</td>\n",
       "      <td>19301</td>\n",
       "      <td>04.07.2019</td>\n",
       "      <td>10.07.2019</td>\n",
       "      <td>Finnair</td>\n",
       "      <td>605</td>\n",
       "      <td>720.0</td>\n",
       "    </tr>\n",
       "    <tr>\n",
       "      <th>4</th>\n",
       "      <td>St. Petersburg</td>\n",
       "      <td>Barcelona</td>\n",
       "      <td>False</td>\n",
       "      <td>True</td>\n",
       "      <td>31425</td>\n",
       "      <td>05.07.2019</td>\n",
       "      <td>11.07.2019</td>\n",
       "      <td>Rossiya</td>\n",
       "      <td>255</td>\n",
       "      <td>250.0</td>\n",
       "    </tr>\n",
       "  </tbody>\n",
       "</table>\n",
       "</div>"
      ],
      "text/plain": [
       "             From         To  Is_Direct  Has_luggage  Price   Date_From  \\\n",
       "2  St. Petersburg       Rome      False        False  19301  04.07.2019   \n",
       "4  St. Petersburg  Barcelona      False         True  31425  05.07.2019   \n",
       "\n",
       "      Date_To  Airline  Travel_time_from  Travel_time_to  \n",
       "2  10.07.2019  Finnair               605           720.0  \n",
       "4  11.07.2019  Rossiya               255           250.0  "
      ]
     },
     "execution_count": 71,
     "metadata": {},
     "output_type": "execute_result"
    }
   ],
   "source": [
    "travels[travels['Date_From'].isin(('04.07.2019', '05.07.2019'))] # находим элементы столбца Date_From, равные 4 или 5 июля "
   ]
  },
  {
   "cell_type": "markdown",
   "metadata": {},
   "source": [
    "Иногда нужно получить выборку, соответствующую сразу нескольким условиям — для этого существуют логические операции. Их синтаксис:"
   ]
  },
  {
   "cell_type": "markdown",
   "metadata": {
    "scrolled": true
   },
   "source": [
    "\n",
    "<img src=\"../pics/12.png\" alt=\"python\" width=\"600\">"
   ]
  },
  {
   "cell_type": "markdown",
   "metadata": {},
   "source": [
    "Оператор ~ можно использовать и для проверки одного условия, например, чтобы отобрать билеты без багажа: ~(df['Has_luggage'])."
   ]
  },
  {
   "cell_type": "markdown",
   "metadata": {},
   "source": [
    "Обратите внимание, что здесь условия указывают в **скобках** — в отличие от синтаксиса логических операций с `or`, `and` или `not`."
   ]
  },
  {
   "cell_type": "markdown",
   "metadata": {},
   "source": [
    "### Задача 1/3\n",
    "Выберите дешёвые авиабилеты — те у которых цена меньше максимальной в полтора раза или ещё ниже.\n",
    "\n",
    "Выведите на экран полученную выборку.\n",
    ">Сравните столбец `'Price'`, умноженный на 1,5, с максимальным значением столбца `'Price'`. Полученный булев массив передайте в качестве индекса исходному датафрейму."
   ]
  },
  {
   "cell_type": "code",
   "execution_count": 72,
   "metadata": {},
   "outputs": [
    {
     "data": {
      "text/html": [
       "<div>\n",
       "<style scoped>\n",
       "    .dataframe tbody tr th:only-of-type {\n",
       "        vertical-align: middle;\n",
       "    }\n",
       "\n",
       "    .dataframe tbody tr th {\n",
       "        vertical-align: top;\n",
       "    }\n",
       "\n",
       "    .dataframe thead th {\n",
       "        text-align: right;\n",
       "    }\n",
       "</style>\n",
       "<table border=\"1\" class=\"dataframe\">\n",
       "  <thead>\n",
       "    <tr style=\"text-align: right;\">\n",
       "      <th></th>\n",
       "      <th>From</th>\n",
       "      <th>To</th>\n",
       "      <th>Is_Direct</th>\n",
       "      <th>Has_luggage</th>\n",
       "      <th>Price</th>\n",
       "      <th>Date_From</th>\n",
       "      <th>Date_To</th>\n",
       "      <th>Airline</th>\n",
       "      <th>Travel_time_from</th>\n",
       "      <th>Travel_time_to</th>\n",
       "    </tr>\n",
       "  </thead>\n",
       "  <tbody>\n",
       "    <tr>\n",
       "      <th>1</th>\n",
       "      <td>Moscow</td>\n",
       "      <td>Rome</td>\n",
       "      <td>True</td>\n",
       "      <td>False</td>\n",
       "      <td>19250</td>\n",
       "      <td>01.07.19</td>\n",
       "      <td>07.07.19</td>\n",
       "      <td>S7</td>\n",
       "      <td>230</td>\n",
       "      <td>225</td>\n",
       "    </tr>\n",
       "    <tr>\n",
       "      <th>2</th>\n",
       "      <td>St. Petersburg</td>\n",
       "      <td>Rome</td>\n",
       "      <td>False</td>\n",
       "      <td>False</td>\n",
       "      <td>19301</td>\n",
       "      <td>04.07.2019</td>\n",
       "      <td>10.07.2019</td>\n",
       "      <td>Finnair</td>\n",
       "      <td>605</td>\n",
       "      <td>720</td>\n",
       "    </tr>\n",
       "    <tr>\n",
       "      <th>3</th>\n",
       "      <td>St. Petersburg</td>\n",
       "      <td>Barcelona</td>\n",
       "      <td>False</td>\n",
       "      <td>True</td>\n",
       "      <td>20168</td>\n",
       "      <td>03.07.2019</td>\n",
       "      <td>09.07.2019</td>\n",
       "      <td>Swiss</td>\n",
       "      <td>365</td>\n",
       "      <td>355</td>\n",
       "    </tr>\n",
       "  </tbody>\n",
       "</table>\n",
       "</div>"
      ],
      "text/plain": [
       "             From         To  Is_Direct  Has_luggage  Price   Date_From  \\\n",
       "1          Moscow       Rome       True        False  19250    01.07.19   \n",
       "2  St. Petersburg       Rome      False        False  19301  04.07.2019   \n",
       "3  St. Petersburg  Barcelona      False         True  20168  03.07.2019   \n",
       "\n",
       "      Date_To  Airline  Travel_time_from  Travel_time_to  \n",
       "1    07.07.19       S7               230             225  \n",
       "2  10.07.2019  Finnair               605             720  \n",
       "3  09.07.2019    Swiss               365             355  "
      ]
     },
     "execution_count": 72,
     "metadata": {},
     "output_type": "execute_result"
    }
   ],
   "source": [
    "import pandas as pd\n",
    "\n",
    "df = pd.DataFrame(\n",
    "    {\n",
    "        'From': [\n",
    "            'Moscow',\n",
    "            'Moscow',\n",
    "            'St. Petersburg',\n",
    "            'St. Petersburg',\n",
    "            'St. Petersburg',\n",
    "        ],\n",
    "        'To': ['Rome', 'Rome', 'Rome', 'Barcelona', 'Barcelona'],\n",
    "        'Is_Direct': [False, True, False, False, True],\n",
    "        'Has_luggage': [True, False, False, True, False],\n",
    "        'Price': [21032, 19250, 19301, 20168, 31425],\n",
    "        'Date_From': [\n",
    "            '01.07.19',\n",
    "            '01.07.19',\n",
    "            '04.07.2019',\n",
    "            '03.07.2019',\n",
    "            '05.07.2019',\n",
    "        ],\n",
    "        'Date_To': [\n",
    "            '07.07.19',\n",
    "            '07.07.19',\n",
    "            '10.07.2019',\n",
    "            '09.07.2019',\n",
    "            '11.07.2019',\n",
    "        ],\n",
    "        'Airline': ['Belavia', 'S7', 'Finnair', 'Swiss', 'Rossiya'],\n",
    "        'Travel_time_from': [995, 230, 605, 365, 255],\n",
    "        'Travel_time_to': [350, 225, 720, 355, 250],\n",
    "    }\n",
    ")\n",
    "\n",
    "\n",
    "#print(df[(df['Price']*1.5) < (df['Price'].max())])\n",
    "df[(df['Price']*1.5) < (df['Price'].max())]"
   ]
  },
  {
   "cell_type": "markdown",
   "metadata": {},
   "source": [
    "### Задача 2/3\n",
    "Выберите строки, где значения столбца `'Travel_time_from'` больше или равно 365, или значения `'Travel_time_to'` меньше 250. Результат выведите на экран.\n",
    ">Составьте условия (каждое в скобках) для столбцов, применив операторы `>=` и `<`. Логическое ИЛИ задаёт оператор `|`. Получившуюся конструкцию передайте датафрейму как индекс."
   ]
  },
  {
   "cell_type": "code",
   "execution_count": 73,
   "metadata": {},
   "outputs": [
    {
     "data": {
      "text/html": [
       "<div>\n",
       "<style scoped>\n",
       "    .dataframe tbody tr th:only-of-type {\n",
       "        vertical-align: middle;\n",
       "    }\n",
       "\n",
       "    .dataframe tbody tr th {\n",
       "        vertical-align: top;\n",
       "    }\n",
       "\n",
       "    .dataframe thead th {\n",
       "        text-align: right;\n",
       "    }\n",
       "</style>\n",
       "<table border=\"1\" class=\"dataframe\">\n",
       "  <thead>\n",
       "    <tr style=\"text-align: right;\">\n",
       "      <th></th>\n",
       "      <th>From</th>\n",
       "      <th>To</th>\n",
       "      <th>Is_Direct</th>\n",
       "      <th>Has_luggage</th>\n",
       "      <th>Price</th>\n",
       "      <th>Date_From</th>\n",
       "      <th>Date_To</th>\n",
       "      <th>Airline</th>\n",
       "      <th>Travel_time_from</th>\n",
       "      <th>Travel_time_to</th>\n",
       "    </tr>\n",
       "  </thead>\n",
       "  <tbody>\n",
       "    <tr>\n",
       "      <th>0</th>\n",
       "      <td>Moscow</td>\n",
       "      <td>Rome</td>\n",
       "      <td>False</td>\n",
       "      <td>True</td>\n",
       "      <td>21032</td>\n",
       "      <td>01.07.19</td>\n",
       "      <td>07.07.19</td>\n",
       "      <td>Belavia</td>\n",
       "      <td>995</td>\n",
       "      <td>350</td>\n",
       "    </tr>\n",
       "    <tr>\n",
       "      <th>1</th>\n",
       "      <td>Moscow</td>\n",
       "      <td>Rome</td>\n",
       "      <td>True</td>\n",
       "      <td>False</td>\n",
       "      <td>19250</td>\n",
       "      <td>01.07.19</td>\n",
       "      <td>07.07.19</td>\n",
       "      <td>S7</td>\n",
       "      <td>230</td>\n",
       "      <td>225</td>\n",
       "    </tr>\n",
       "    <tr>\n",
       "      <th>2</th>\n",
       "      <td>St. Petersburg</td>\n",
       "      <td>Rome</td>\n",
       "      <td>False</td>\n",
       "      <td>False</td>\n",
       "      <td>19301</td>\n",
       "      <td>04.07.2019</td>\n",
       "      <td>10.07.2019</td>\n",
       "      <td>Finnair</td>\n",
       "      <td>605</td>\n",
       "      <td>720</td>\n",
       "    </tr>\n",
       "    <tr>\n",
       "      <th>3</th>\n",
       "      <td>St. Petersburg</td>\n",
       "      <td>Barcelona</td>\n",
       "      <td>False</td>\n",
       "      <td>True</td>\n",
       "      <td>20168</td>\n",
       "      <td>03.07.2019</td>\n",
       "      <td>09.07.2019</td>\n",
       "      <td>Swiss</td>\n",
       "      <td>365</td>\n",
       "      <td>355</td>\n",
       "    </tr>\n",
       "  </tbody>\n",
       "</table>\n",
       "</div>"
      ],
      "text/plain": [
       "             From         To  Is_Direct  Has_luggage  Price   Date_From  \\\n",
       "0          Moscow       Rome      False         True  21032    01.07.19   \n",
       "1          Moscow       Rome       True        False  19250    01.07.19   \n",
       "2  St. Petersburg       Rome      False        False  19301  04.07.2019   \n",
       "3  St. Petersburg  Barcelona      False         True  20168  03.07.2019   \n",
       "\n",
       "      Date_To  Airline  Travel_time_from  Travel_time_to  \n",
       "0    07.07.19  Belavia               995             350  \n",
       "1    07.07.19       S7               230             225  \n",
       "2  10.07.2019  Finnair               605             720  \n",
       "3  09.07.2019    Swiss               365             355  "
      ]
     },
     "execution_count": 73,
     "metadata": {},
     "output_type": "execute_result"
    }
   ],
   "source": [
    "df[(df['Travel_time_from'] >= 365) | (df['Travel_time_to'] <250)]"
   ]
  },
  {
   "cell_type": "markdown",
   "metadata": {},
   "source": [
    "### Задача 3/3\n",
    "Выберите строки, где:\n",
    "- Полёт с пересадкой;\n",
    "- Возвращение до 8 июля (ни 9, ни 10, ни 11 июля).\n",
    "\n",
    "Результат выведите на экран.\n",
    ">Составьте два условия для каждого столбца отдельно. Для столбца 'Is_Direct' укажите оператор `==`. Для столбца 'Date_To' укажите оператор `~`, применённый к методу `isin(('09.07.2019', '10.07.2019', '11.07.2019'))`. Каждое из условий укажите в скобках, а между ними поставьте оператор `&`. Получившуюся конструкцию передайте датафрейму в качестве индекса."
   ]
  },
  {
   "cell_type": "code",
   "execution_count": 75,
   "metadata": {},
   "outputs": [
    {
     "name": "stdout",
     "output_type": "stream",
     "text": [
      "     From    To  Is_Direct  Has_luggage  Price Date_From   Date_To  Airline  \\\n",
      "0  Moscow  Rome      False         True  21032  01.07.19  07.07.19  Belavia   \n",
      "\n",
      "   Travel_time_from  Travel_time_to  \n",
      "0               995             350  \n"
     ]
    }
   ],
   "source": [
    "print(df[(df['Is_Direct'] == False) & ~(df['Date_To'].isin(('09.07.2019','10.07.2019','11.07.2019')))])"
   ]
  },
  {
   "cell_type": "code",
   "execution_count": 7,
   "metadata": {},
   "outputs": [
    {
     "data": {
      "text/html": [
       "<div>\n",
       "<style scoped>\n",
       "    .dataframe tbody tr th:only-of-type {\n",
       "        vertical-align: middle;\n",
       "    }\n",
       "\n",
       "    .dataframe tbody tr th {\n",
       "        vertical-align: top;\n",
       "    }\n",
       "\n",
       "    .dataframe thead th {\n",
       "        text-align: right;\n",
       "    }\n",
       "</style>\n",
       "<table border=\"1\" class=\"dataframe\">\n",
       "  <thead>\n",
       "    <tr style=\"text-align: right;\">\n",
       "      <th></th>\n",
       "      <th>From</th>\n",
       "      <th>To</th>\n",
       "      <th>Is_Direct</th>\n",
       "      <th>Has_luggage</th>\n",
       "      <th>Price</th>\n",
       "      <th>Date_From</th>\n",
       "      <th>Date_To</th>\n",
       "      <th>Airline</th>\n",
       "      <th>Travel_time_from</th>\n",
       "      <th>Travel_time_to</th>\n",
       "    </tr>\n",
       "  </thead>\n",
       "  <tbody>\n",
       "    <tr>\n",
       "      <th>0</th>\n",
       "      <td>Moscow</td>\n",
       "      <td>Rome</td>\n",
       "      <td>False</td>\n",
       "      <td>True</td>\n",
       "      <td>21032</td>\n",
       "      <td>01.07.19</td>\n",
       "      <td>07.07.19</td>\n",
       "      <td>Belavia</td>\n",
       "      <td>995</td>\n",
       "      <td>350</td>\n",
       "    </tr>\n",
       "  </tbody>\n",
       "</table>\n",
       "</div>"
      ],
      "text/plain": [
       "     From    To  Is_Direct  Has_luggage  Price Date_From   Date_To  Airline  \\\n",
       "0  Moscow  Rome      False         True  21032  01.07.19  07.07.19  Belavia   \n",
       "\n",
       "   Travel_time_from  Travel_time_to  \n",
       "0               995             350  "
      ]
     },
     "execution_count": 7,
     "metadata": {},
     "output_type": "execute_result"
    }
   ],
   "source": [
    "# так красивее и нагляднее\n",
    "df[(df['Is_Direct'] == False) & ~(df['Date_To'].isin(('09.07.2019','10.07.2019','11.07.2019')))]"
   ]
  },
  {
   "cell_type": "markdown",
   "metadata": {},
   "source": [
    "<a name=\"2\">_</a>\n",
    "## Срезы данных методом `query()`\n",
    "В прошлом уроке вы делали срезы в 2 шага:\n",
    "- Получали булев массив, соответствующий условиям;\n",
    "- Делали срез по нему.\n",
    "\n",
    "Это гибкий инструмент получения срезов и владеть им полезно. Однако существует и более простой способ — метод `query()` (англ. «запрос»).\n",
    "\n",
    "Необходимое условие для среза записывается в строке, которую передают как аргумент методу `query()`. А его применяют к датафрейму. В результате получаем нужный срез."
   ]
  },
  {
   "cell_type": "code",
   "execution_count": 76,
   "metadata": {},
   "outputs": [
    {
     "data": {
      "text/html": [
       "<div>\n",
       "<style scoped>\n",
       "    .dataframe tbody tr th:only-of-type {\n",
       "        vertical-align: middle;\n",
       "    }\n",
       "\n",
       "    .dataframe tbody tr th {\n",
       "        vertical-align: top;\n",
       "    }\n",
       "\n",
       "    .dataframe thead th {\n",
       "        text-align: right;\n",
       "    }\n",
       "</style>\n",
       "<table border=\"1\" class=\"dataframe\">\n",
       "  <thead>\n",
       "    <tr style=\"text-align: right;\">\n",
       "      <th></th>\n",
       "      <th>From</th>\n",
       "      <th>To</th>\n",
       "      <th>Is_Direct</th>\n",
       "      <th>Has_luggage</th>\n",
       "      <th>Price</th>\n",
       "      <th>Date_From</th>\n",
       "      <th>Date_To</th>\n",
       "      <th>Airline</th>\n",
       "      <th>Travel_time_from</th>\n",
       "      <th>Travel_time_to</th>\n",
       "    </tr>\n",
       "  </thead>\n",
       "  <tbody>\n",
       "    <tr>\n",
       "      <th>3</th>\n",
       "      <td>St. Petersburg</td>\n",
       "      <td>Barcelona</td>\n",
       "      <td>False</td>\n",
       "      <td>True</td>\n",
       "      <td>20168</td>\n",
       "      <td>03.07.2019</td>\n",
       "      <td>09.07.2019</td>\n",
       "      <td>Swiss</td>\n",
       "      <td>365</td>\n",
       "      <td>355</td>\n",
       "    </tr>\n",
       "    <tr>\n",
       "      <th>4</th>\n",
       "      <td>St. Petersburg</td>\n",
       "      <td>Barcelona</td>\n",
       "      <td>True</td>\n",
       "      <td>False</td>\n",
       "      <td>31425</td>\n",
       "      <td>05.07.2019</td>\n",
       "      <td>11.07.2019</td>\n",
       "      <td>Rossiya</td>\n",
       "      <td>255</td>\n",
       "      <td>250</td>\n",
       "    </tr>\n",
       "  </tbody>\n",
       "</table>\n",
       "</div>"
      ],
      "text/plain": [
       "             From         To  Is_Direct  Has_luggage  Price   Date_From  \\\n",
       "3  St. Petersburg  Barcelona      False         True  20168  03.07.2019   \n",
       "4  St. Petersburg  Barcelona       True        False  31425  05.07.2019   \n",
       "\n",
       "      Date_To  Airline  Travel_time_from  Travel_time_to  \n",
       "3  09.07.2019    Swiss               365             355  \n",
       "4  11.07.2019  Rossiya               255             250  "
      ]
     },
     "execution_count": 76,
     "metadata": {},
     "output_type": "execute_result"
    }
   ],
   "source": [
    "import pandas as pd\n",
    "\n",
    "df = pd.DataFrame(\n",
    "    {\n",
    "        'From': [\n",
    "            'Moscow',\n",
    "            'Moscow',\n",
    "            'St. Petersburg',\n",
    "            'St. Petersburg',\n",
    "            'St. Petersburg',\n",
    "        ],\n",
    "        'To': ['Rome', 'Rome', 'Rome', 'Barcelona', 'Barcelona'],\n",
    "        'Is_Direct': [False, True, False, False, True],\n",
    "        'Has_luggage': [True, False, False, True, False],\n",
    "        'Price': [21032, 19250, 19301, 20168, 31425],\n",
    "        'Date_From': [\n",
    "            '01.07.19',\n",
    "            '01.07.19',\n",
    "            '04.07.2019',\n",
    "            '03.07.2019',\n",
    "            '05.07.2019',\n",
    "        ],\n",
    "        'Date_To': [\n",
    "            '07.07.19',\n",
    "            '07.07.19',\n",
    "            '10.07.2019',\n",
    "            '09.07.2019',\n",
    "            '11.07.2019',\n",
    "        ],\n",
    "        'Airline': ['Belavia', 'S7', 'Finnair', 'Swiss', 'Rossiya'],\n",
    "        'Travel_time_from': [995, 230, 605, 365, 255],\n",
    "        'Travel_time_to': [350, 225, 720, 355, 250],\n",
    "    }\n",
    ")\n",
    "#print(df.query('To == \"Barcelona\"'))\n",
    "df.query('To == \"Barcelona\"')"
   ]
  },
  {
   "cell_type": "markdown",
   "metadata": {},
   "source": [
    "Условия, указанные в параметре `query()`:\n",
    "- поддерживают разные операции сравнения: `!=`, `>`, `>=`, `<`, `<=`\n",
    "- проверяют, входят ли конкретные значения в список, конструкцией: `Date_To in (\"07.07.19\", \"09.07.2019\")`. Если нужно узнать, нет ли в списке определённых значений, пишут так: `Date_To not in (\"07.07.19\", \"09.07.2019\")`.\n",
    "- работают с логическими операторами в привычном виде, где «или» — `or` , «и» — `and`, «не» — `not`. Указывать условия в скобках необязательно. Без скобок операции выполняются в следующем порядке: сначала `not`, потом `and` и, наконец, `or`.\n",
    "\n",
    "Обратите внимание, что значение \"Barcelona\" в коде задачи заключено в двойные кавычки. Это нужно, чтобы различать одинарные кавычки, оформляющие строку, и кавычки для элемента \"Barcelona\".\n",
    "\n",
    "Условия для среза данных можно объединять. Например, чтобы отыскать прямые рейсы или билеты с включённым в стоимость багажом — мало кому нравится летать со множеством пересадок, да ещё и без вещей.\n"
   ]
  },
  {
   "cell_type": "code",
   "execution_count": 8,
   "metadata": {},
   "outputs": [
    {
     "name": "stdout",
     "output_type": "stream",
     "text": [
      "             From         To  Is_Direct  Has_luggage  Price   Date_From  \\\n",
      "0          Moscow       Rome      False         True  21032    01.07.19   \n",
      "1          Moscow       Rome       True        False  19250    01.07.19   \n",
      "3  St. Petersburg  Barcelona      False         True  20168  03.07.2019   \n",
      "4  St. Petersburg  Barcelona       True        False  31425  05.07.2019   \n",
      "\n",
      "      Date_To  Airline  Travel_time_from  Travel_time_to  \n",
      "0    07.07.19  Belavia               995             350  \n",
      "1    07.07.19       S7               230             225  \n",
      "3  09.07.2019    Swiss               365             355  \n",
      "4  11.07.2019  Rossiya               255             250  \n"
     ]
    }
   ],
   "source": [
    "print(df.query('Is_Direct == True or Has_luggage == True'))"
   ]
  },
  {
   "cell_type": "code",
   "execution_count": 77,
   "metadata": {
    "collapsed": true
   },
   "outputs": [
    {
     "data": {
      "text/html": [
       "<div>\n",
       "<style scoped>\n",
       "    .dataframe tbody tr th:only-of-type {\n",
       "        vertical-align: middle;\n",
       "    }\n",
       "\n",
       "    .dataframe tbody tr th {\n",
       "        vertical-align: top;\n",
       "    }\n",
       "\n",
       "    .dataframe thead th {\n",
       "        text-align: right;\n",
       "    }\n",
       "</style>\n",
       "<table border=\"1\" class=\"dataframe\">\n",
       "  <thead>\n",
       "    <tr style=\"text-align: right;\">\n",
       "      <th></th>\n",
       "      <th>From</th>\n",
       "      <th>To</th>\n",
       "      <th>Is_Direct</th>\n",
       "      <th>Has_luggage</th>\n",
       "      <th>Price</th>\n",
       "      <th>Date_From</th>\n",
       "      <th>Date_To</th>\n",
       "      <th>Airline</th>\n",
       "      <th>Travel_time_from</th>\n",
       "      <th>Travel_time_to</th>\n",
       "    </tr>\n",
       "  </thead>\n",
       "  <tbody>\n",
       "    <tr>\n",
       "      <th>0</th>\n",
       "      <td>Moscow</td>\n",
       "      <td>Rome</td>\n",
       "      <td>False</td>\n",
       "      <td>True</td>\n",
       "      <td>21032</td>\n",
       "      <td>01.07.19</td>\n",
       "      <td>07.07.19</td>\n",
       "      <td>Belavia</td>\n",
       "      <td>995</td>\n",
       "      <td>350</td>\n",
       "    </tr>\n",
       "    <tr>\n",
       "      <th>1</th>\n",
       "      <td>Moscow</td>\n",
       "      <td>Rome</td>\n",
       "      <td>True</td>\n",
       "      <td>False</td>\n",
       "      <td>19250</td>\n",
       "      <td>01.07.19</td>\n",
       "      <td>07.07.19</td>\n",
       "      <td>S7</td>\n",
       "      <td>230</td>\n",
       "      <td>225</td>\n",
       "    </tr>\n",
       "    <tr>\n",
       "      <th>3</th>\n",
       "      <td>St. Petersburg</td>\n",
       "      <td>Barcelona</td>\n",
       "      <td>False</td>\n",
       "      <td>True</td>\n",
       "      <td>20168</td>\n",
       "      <td>03.07.2019</td>\n",
       "      <td>09.07.2019</td>\n",
       "      <td>Swiss</td>\n",
       "      <td>365</td>\n",
       "      <td>355</td>\n",
       "    </tr>\n",
       "    <tr>\n",
       "      <th>4</th>\n",
       "      <td>St. Petersburg</td>\n",
       "      <td>Barcelona</td>\n",
       "      <td>True</td>\n",
       "      <td>False</td>\n",
       "      <td>31425</td>\n",
       "      <td>05.07.2019</td>\n",
       "      <td>11.07.2019</td>\n",
       "      <td>Rossiya</td>\n",
       "      <td>255</td>\n",
       "      <td>250</td>\n",
       "    </tr>\n",
       "  </tbody>\n",
       "</table>\n",
       "</div>"
      ],
      "text/plain": [
       "             From         To  Is_Direct  Has_luggage  Price   Date_From  \\\n",
       "0          Moscow       Rome      False         True  21032    01.07.19   \n",
       "1          Moscow       Rome       True        False  19250    01.07.19   \n",
       "3  St. Petersburg  Barcelona      False         True  20168  03.07.2019   \n",
       "4  St. Petersburg  Barcelona       True        False  31425  05.07.2019   \n",
       "\n",
       "      Date_To  Airline  Travel_time_from  Travel_time_to  \n",
       "0    07.07.19  Belavia               995             350  \n",
       "1    07.07.19       S7               230             225  \n",
       "3  09.07.2019    Swiss               365             355  \n",
       "4  11.07.2019  Rossiya               255             250  "
      ]
     },
     "execution_count": 77,
     "metadata": {},
     "output_type": "execute_result"
    }
   ],
   "source": [
    "df.query('Is_Direct == True or Has_luggage == True')"
   ]
  },
  {
   "cell_type": "markdown",
   "metadata": {},
   "source": [
    "Строки с какими индексами не будут выбраны в результате выполнения этого кода?\n",
    "\n",
    "`print(df.query('Is_Direct == True or Has_luggage == True'))`\n",
    "- 0\n",
    "- 1\n",
    "- 2\n",
    "- 3\n",
    "- 4"
   ]
  },
  {
   "cell_type": "markdown",
   "metadata": {},
   "source": [
    "(2) Верно! Все дороги ведут в Рим, но перелёт из Санкт-Петербурга с пересадкой и без багажа — не самая приятная из них."
   ]
  },
  {
   "cell_type": "markdown",
   "metadata": {},
   "source": [
    "А как насчёт слетать куда-нибудь вместе с командой Практикума? Правда, есть ограничение: вылететь мы сможем только из Москвы. Добавьте в `query()` новое условие. Порядок выполнения трёх и более условий можно регулировать скобками.\n",
    "\n",
    "Как должен выглядеть код, чтобы в срез данных попали только рейсы с вылетом из Москвы, в которых или нет пересадок, или в стоимость включён багаж?\n",
    "- `df.query('Is_Direct == True or Has_luggage == True and From == \"Moscow\"')`\n",
    "- `df.query('From == \"Moscow\" or Is_Direct == True or Has_luggage == True')`\n",
    "- `df.query('(Is_Direct == True or Has_luggage == True) and To == \"Moscow\"')`\n",
    "- `df.query('From == \"Moscow\" and (Is_Direct == True or Has_luggage == True)')`"
   ]
  },
  {
   "cell_type": "markdown",
   "metadata": {},
   "source": [
    "(4) Ура, выбираем рейс и полетели! Хотя подождите. Какие полёты? Столько курсов ещё впереди, столько проектов... Нет-нет, только после вашего выпускного."
   ]
  },
  {
   "cell_type": "markdown",
   "metadata": {},
   "source": [
    "<a name=\"3\">_</a>\n",
    "## Возможности `query()`"
   ]
  },
  {
   "cell_type": "markdown",
   "metadata": {},
   "source": [
    "Кроме объединения условий, в `query()` можно проводить математические операции:"
   ]
  },
  {
   "cell_type": "code",
   "execution_count": 78,
   "metadata": {},
   "outputs": [
    {
     "data": {
      "text/html": [
       "<div>\n",
       "<style scoped>\n",
       "    .dataframe tbody tr th:only-of-type {\n",
       "        vertical-align: middle;\n",
       "    }\n",
       "\n",
       "    .dataframe tbody tr th {\n",
       "        vertical-align: top;\n",
       "    }\n",
       "\n",
       "    .dataframe thead th {\n",
       "        text-align: right;\n",
       "    }\n",
       "</style>\n",
       "<table border=\"1\" class=\"dataframe\">\n",
       "  <thead>\n",
       "    <tr style=\"text-align: right;\">\n",
       "      <th></th>\n",
       "      <th>From</th>\n",
       "      <th>To</th>\n",
       "      <th>Is_Direct</th>\n",
       "      <th>Has_luggage</th>\n",
       "      <th>Price</th>\n",
       "      <th>Date_From</th>\n",
       "      <th>Date_To</th>\n",
       "      <th>Airline</th>\n",
       "      <th>Travel_time_from</th>\n",
       "      <th>Travel_time_to</th>\n",
       "    </tr>\n",
       "  </thead>\n",
       "  <tbody>\n",
       "    <tr>\n",
       "      <th>1</th>\n",
       "      <td>Moscow</td>\n",
       "      <td>Rome</td>\n",
       "      <td>True</td>\n",
       "      <td>False</td>\n",
       "      <td>19250</td>\n",
       "      <td>01.07.19</td>\n",
       "      <td>07.07.19</td>\n",
       "      <td>S7</td>\n",
       "      <td>230</td>\n",
       "      <td>225</td>\n",
       "    </tr>\n",
       "    <tr>\n",
       "      <th>2</th>\n",
       "      <td>St. Petersburg</td>\n",
       "      <td>Rome</td>\n",
       "      <td>False</td>\n",
       "      <td>False</td>\n",
       "      <td>19301</td>\n",
       "      <td>04.07.2019</td>\n",
       "      <td>10.07.2019</td>\n",
       "      <td>Finnair</td>\n",
       "      <td>605</td>\n",
       "      <td>720</td>\n",
       "    </tr>\n",
       "    <tr>\n",
       "      <th>3</th>\n",
       "      <td>St. Petersburg</td>\n",
       "      <td>Barcelona</td>\n",
       "      <td>False</td>\n",
       "      <td>True</td>\n",
       "      <td>20168</td>\n",
       "      <td>03.07.2019</td>\n",
       "      <td>09.07.2019</td>\n",
       "      <td>Swiss</td>\n",
       "      <td>365</td>\n",
       "      <td>355</td>\n",
       "    </tr>\n",
       "    <tr>\n",
       "      <th>4</th>\n",
       "      <td>St. Petersburg</td>\n",
       "      <td>Barcelona</td>\n",
       "      <td>True</td>\n",
       "      <td>False</td>\n",
       "      <td>31425</td>\n",
       "      <td>05.07.2019</td>\n",
       "      <td>11.07.2019</td>\n",
       "      <td>Rossiya</td>\n",
       "      <td>255</td>\n",
       "      <td>250</td>\n",
       "    </tr>\n",
       "  </tbody>\n",
       "</table>\n",
       "</div>"
      ],
      "text/plain": [
       "             From         To  Is_Direct  Has_luggage  Price   Date_From  \\\n",
       "1          Moscow       Rome       True        False  19250    01.07.19   \n",
       "2  St. Petersburg       Rome      False        False  19301  04.07.2019   \n",
       "3  St. Petersburg  Barcelona      False         True  20168  03.07.2019   \n",
       "4  St. Petersburg  Barcelona       True        False  31425  05.07.2019   \n",
       "\n",
       "      Date_To  Airline  Travel_time_from  Travel_time_to  \n",
       "1    07.07.19       S7               230             225  \n",
       "2  10.07.2019  Finnair               605             720  \n",
       "3  09.07.2019    Swiss               365             355  \n",
       "4  11.07.2019  Rossiya               255             250  "
      ]
     },
     "execution_count": 78,
     "metadata": {},
     "output_type": "execute_result"
    }
   ],
   "source": [
    "# время в пути оттуда меньше чем двойное время в пути туда\n",
    "df.query('Travel_time_from < 2 * Travel_time_to ')"
   ]
  },
  {
   "cell_type": "markdown",
   "metadata": {},
   "source": [
    "И даже вызывать методы:"
   ]
  },
  {
   "cell_type": "code",
   "execution_count": 79,
   "metadata": {},
   "outputs": [
    {
     "data": {
      "text/html": [
       "<div>\n",
       "<style scoped>\n",
       "    .dataframe tbody tr th:only-of-type {\n",
       "        vertical-align: middle;\n",
       "    }\n",
       "\n",
       "    .dataframe tbody tr th {\n",
       "        vertical-align: top;\n",
       "    }\n",
       "\n",
       "    .dataframe thead th {\n",
       "        text-align: right;\n",
       "    }\n",
       "</style>\n",
       "<table border=\"1\" class=\"dataframe\">\n",
       "  <thead>\n",
       "    <tr style=\"text-align: right;\">\n",
       "      <th></th>\n",
       "      <th>From</th>\n",
       "      <th>To</th>\n",
       "      <th>Is_Direct</th>\n",
       "      <th>Has_luggage</th>\n",
       "      <th>Price</th>\n",
       "      <th>Date_From</th>\n",
       "      <th>Date_To</th>\n",
       "      <th>Airline</th>\n",
       "      <th>Travel_time_from</th>\n",
       "      <th>Travel_time_to</th>\n",
       "    </tr>\n",
       "  </thead>\n",
       "  <tbody>\n",
       "    <tr>\n",
       "      <th>1</th>\n",
       "      <td>Moscow</td>\n",
       "      <td>Rome</td>\n",
       "      <td>True</td>\n",
       "      <td>False</td>\n",
       "      <td>19250</td>\n",
       "      <td>01.07.19</td>\n",
       "      <td>07.07.19</td>\n",
       "      <td>S7</td>\n",
       "      <td>230</td>\n",
       "      <td>225</td>\n",
       "    </tr>\n",
       "    <tr>\n",
       "      <th>3</th>\n",
       "      <td>St. Petersburg</td>\n",
       "      <td>Barcelona</td>\n",
       "      <td>False</td>\n",
       "      <td>True</td>\n",
       "      <td>20168</td>\n",
       "      <td>03.07.2019</td>\n",
       "      <td>09.07.2019</td>\n",
       "      <td>Swiss</td>\n",
       "      <td>365</td>\n",
       "      <td>355</td>\n",
       "    </tr>\n",
       "    <tr>\n",
       "      <th>4</th>\n",
       "      <td>St. Petersburg</td>\n",
       "      <td>Barcelona</td>\n",
       "      <td>True</td>\n",
       "      <td>False</td>\n",
       "      <td>31425</td>\n",
       "      <td>05.07.2019</td>\n",
       "      <td>11.07.2019</td>\n",
       "      <td>Rossiya</td>\n",
       "      <td>255</td>\n",
       "      <td>250</td>\n",
       "    </tr>\n",
       "  </tbody>\n",
       "</table>\n",
       "</div>"
      ],
      "text/plain": [
       "             From         To  Is_Direct  Has_luggage  Price   Date_From  \\\n",
       "1          Moscow       Rome       True        False  19250    01.07.19   \n",
       "3  St. Petersburg  Barcelona      False         True  20168  03.07.2019   \n",
       "4  St. Petersburg  Barcelona       True        False  31425  05.07.2019   \n",
       "\n",
       "      Date_To  Airline  Travel_time_from  Travel_time_to  \n",
       "1    07.07.19       S7               230             225  \n",
       "3  09.07.2019    Swiss               365             355  \n",
       "4  11.07.2019  Rossiya               255             250  "
      ]
     },
     "execution_count": 79,
     "metadata": {},
     "output_type": "execute_result"
    }
   ],
   "source": [
    "# время в пути оттуда меньше чем среднее время в пути туда\n",
    "df.query('Travel_time_from < Travel_time_to.mean()')"
   ]
  },
  {
   "cell_type": "markdown",
   "metadata": {},
   "source": [
    "Ещё в `query()` можно включать внешние переменные (не из датафрейма). Когда упоминаете такую переменную, помечайте её знаком `@`:\n"
   ]
  },
  {
   "cell_type": "code",
   "execution_count": 80,
   "metadata": {},
   "outputs": [
    {
     "data": {
      "text/html": [
       "<div>\n",
       "<style scoped>\n",
       "    .dataframe tbody tr th:only-of-type {\n",
       "        vertical-align: middle;\n",
       "    }\n",
       "\n",
       "    .dataframe tbody tr th {\n",
       "        vertical-align: top;\n",
       "    }\n",
       "\n",
       "    .dataframe thead th {\n",
       "        text-align: right;\n",
       "    }\n",
       "</style>\n",
       "<table border=\"1\" class=\"dataframe\">\n",
       "  <thead>\n",
       "    <tr style=\"text-align: right;\">\n",
       "      <th></th>\n",
       "      <th>From</th>\n",
       "      <th>To</th>\n",
       "      <th>Is_Direct</th>\n",
       "      <th>Has_luggage</th>\n",
       "      <th>Price</th>\n",
       "      <th>Date_From</th>\n",
       "      <th>Date_To</th>\n",
       "      <th>Airline</th>\n",
       "      <th>Travel_time_from</th>\n",
       "      <th>Travel_time_to</th>\n",
       "    </tr>\n",
       "  </thead>\n",
       "  <tbody>\n",
       "    <tr>\n",
       "      <th>1</th>\n",
       "      <td>Moscow</td>\n",
       "      <td>Rome</td>\n",
       "      <td>True</td>\n",
       "      <td>False</td>\n",
       "      <td>19250</td>\n",
       "      <td>01.07.19</td>\n",
       "      <td>07.07.19</td>\n",
       "      <td>S7</td>\n",
       "      <td>230</td>\n",
       "      <td>225</td>\n",
       "    </tr>\n",
       "    <tr>\n",
       "      <th>2</th>\n",
       "      <td>St. Petersburg</td>\n",
       "      <td>Rome</td>\n",
       "      <td>False</td>\n",
       "      <td>False</td>\n",
       "      <td>19301</td>\n",
       "      <td>04.07.2019</td>\n",
       "      <td>10.07.2019</td>\n",
       "      <td>Finnair</td>\n",
       "      <td>605</td>\n",
       "      <td>720</td>\n",
       "    </tr>\n",
       "  </tbody>\n",
       "</table>\n",
       "</div>"
      ],
      "text/plain": [
       "             From    To  Is_Direct  Has_luggage  Price   Date_From  \\\n",
       "1          Moscow  Rome       True        False  19250    01.07.19   \n",
       "2  St. Petersburg  Rome      False        False  19301  04.07.2019   \n",
       "\n",
       "      Date_To  Airline  Travel_time_from  Travel_time_to  \n",
       "1    07.07.19       S7               230             225  \n",
       "2  10.07.2019  Finnair               605             720  "
      ]
     },
     "execution_count": 80,
     "metadata": {},
     "output_type": "execute_result"
    }
   ],
   "source": [
    "# внешняя переменная maximum_price\n",
    "maximum_price = 20000\n",
    "df.query('Price <= @maximum_price')"
   ]
  },
  {
   "cell_type": "markdown",
   "metadata": {},
   "source": [
    "### Задача 1/2\n",
    "Выберите строки, где: `Has_luggage` равно False и `Airline` не равно ни `S7`, ни `Rossiya`. Напечатайте полученную выборку на экране.\n",
    ">Запишите условия: Has_luggage равно `False`, Airline не в списке (\"S7\", \"Rossiya\") (конструкция `not in`). Между ними поставьте `and`. Передайте получившуюся строку в `query()`."
   ]
  },
  {
   "cell_type": "code",
   "execution_count": 81,
   "metadata": {},
   "outputs": [
    {
     "data": {
      "text/html": [
       "<div>\n",
       "<style scoped>\n",
       "    .dataframe tbody tr th:only-of-type {\n",
       "        vertical-align: middle;\n",
       "    }\n",
       "\n",
       "    .dataframe tbody tr th {\n",
       "        vertical-align: top;\n",
       "    }\n",
       "\n",
       "    .dataframe thead th {\n",
       "        text-align: right;\n",
       "    }\n",
       "</style>\n",
       "<table border=\"1\" class=\"dataframe\">\n",
       "  <thead>\n",
       "    <tr style=\"text-align: right;\">\n",
       "      <th></th>\n",
       "      <th>From</th>\n",
       "      <th>To</th>\n",
       "      <th>Is_Direct</th>\n",
       "      <th>Has_luggage</th>\n",
       "      <th>Price</th>\n",
       "      <th>Date_From</th>\n",
       "      <th>Date_To</th>\n",
       "      <th>Airline</th>\n",
       "      <th>Travel_time_from</th>\n",
       "      <th>Travel_time_to</th>\n",
       "    </tr>\n",
       "  </thead>\n",
       "  <tbody>\n",
       "    <tr>\n",
       "      <th>2</th>\n",
       "      <td>St. Petersburg</td>\n",
       "      <td>Rome</td>\n",
       "      <td>False</td>\n",
       "      <td>False</td>\n",
       "      <td>19301</td>\n",
       "      <td>04.07.2019</td>\n",
       "      <td>10.07.2019</td>\n",
       "      <td>Finnair</td>\n",
       "      <td>605</td>\n",
       "      <td>720</td>\n",
       "    </tr>\n",
       "  </tbody>\n",
       "</table>\n",
       "</div>"
      ],
      "text/plain": [
       "             From    To  Is_Direct  Has_luggage  Price   Date_From  \\\n",
       "2  St. Petersburg  Rome      False        False  19301  04.07.2019   \n",
       "\n",
       "      Date_To  Airline  Travel_time_from  Travel_time_to  \n",
       "2  10.07.2019  Finnair               605             720  "
      ]
     },
     "execution_count": 81,
     "metadata": {},
     "output_type": "execute_result"
    }
   ],
   "source": [
    "# впишите условие создания нужной выборки\n",
    "#print(df.query('Has_luggage == False and (Airline not in \"S7\" and Airline not in \"Rossiya\")')) \n",
    "df.query('Has_luggage == False and (Airline not in \"S7\" and Airline not in \"Rossiya\")')"
   ]
  },
  {
   "cell_type": "code",
   "execution_count": 82,
   "metadata": {},
   "outputs": [
    {
     "data": {
      "text/html": [
       "<div>\n",
       "<style scoped>\n",
       "    .dataframe tbody tr th:only-of-type {\n",
       "        vertical-align: middle;\n",
       "    }\n",
       "\n",
       "    .dataframe tbody tr th {\n",
       "        vertical-align: top;\n",
       "    }\n",
       "\n",
       "    .dataframe thead th {\n",
       "        text-align: right;\n",
       "    }\n",
       "</style>\n",
       "<table border=\"1\" class=\"dataframe\">\n",
       "  <thead>\n",
       "    <tr style=\"text-align: right;\">\n",
       "      <th></th>\n",
       "      <th>From</th>\n",
       "      <th>To</th>\n",
       "      <th>Is_Direct</th>\n",
       "      <th>Has_luggage</th>\n",
       "      <th>Price</th>\n",
       "      <th>Date_From</th>\n",
       "      <th>Date_To</th>\n",
       "      <th>Airline</th>\n",
       "      <th>Travel_time_from</th>\n",
       "      <th>Travel_time_to</th>\n",
       "    </tr>\n",
       "  </thead>\n",
       "  <tbody>\n",
       "    <tr>\n",
       "      <th>2</th>\n",
       "      <td>St. Petersburg</td>\n",
       "      <td>Rome</td>\n",
       "      <td>False</td>\n",
       "      <td>False</td>\n",
       "      <td>19301</td>\n",
       "      <td>04.07.2019</td>\n",
       "      <td>10.07.2019</td>\n",
       "      <td>Finnair</td>\n",
       "      <td>605</td>\n",
       "      <td>720</td>\n",
       "    </tr>\n",
       "  </tbody>\n",
       "</table>\n",
       "</div>"
      ],
      "text/plain": [
       "             From    To  Is_Direct  Has_luggage  Price   Date_From  \\\n",
       "2  St. Petersburg  Rome      False        False  19301  04.07.2019   \n",
       "\n",
       "      Date_To  Airline  Travel_time_from  Travel_time_to  \n",
       "2  10.07.2019  Finnair               605             720  "
      ]
     },
     "execution_count": 82,
     "metadata": {},
     "output_type": "execute_result"
    }
   ],
   "source": [
    "df.query('Has_luggage == False and (Airline not in \"S7\" and Airline not in \"Rossiya\")')"
   ]
  },
  {
   "cell_type": "markdown",
   "metadata": {},
   "source": [
    "Записать запрос в `query()` легко: просто проговорите условие, превратите его в строку, \"обнимите\" скобками и передайте методу `query()`."
   ]
  },
  {
   "cell_type": "markdown",
   "metadata": {},
   "source": [
    "### Задача 2/2\n",
    "Выберите строки, где Airline равно \"Belavia\", \"S7\" или \"Rossiya\", при этом 'Travel_time_from' меньше переменной под названием `max_time`. Напечатайте полученную выборку на экране.\n",
    ">Составьте условие, проверяющее, есть ли \"Belavia\", \"S7\" или \"Rossiya\" в 'Airline': примените `in`, двойные кавычки для элементов и скобки для всего списка. В условии для 'Travel_time_from' обратитесь к внешней переменной с символом `@`. Сложите условия оператором `and`, превратите в строку и передайте как параметр методу `query()`."
   ]
  },
  {
   "cell_type": "code",
   "execution_count": 32,
   "metadata": {
    "collapsed": true
   },
   "outputs": [
    {
     "name": "stdout",
     "output_type": "stream",
     "text": [
      "             From         To  Is_Direct  Has_luggage  Price   Date_From  \\\n",
      "1          Moscow       Rome       True        False  19250    01.07.19   \n",
      "4  St. Petersburg  Barcelona       True        False  31425  05.07.2019   \n",
      "\n",
      "      Date_To  Airline  Travel_time_from  Travel_time_to  \n",
      "1    07.07.19       S7               230             225  \n",
      "4  11.07.2019  Rossiya               255             250  \n"
     ]
    }
   ],
   "source": [
    "max_time = 300\n",
    "print(df.query('(Airline == \"Belavia\" or Airline == \"S7\" or Airline == \"Rossiya\") and Travel_time_from < @max_time'))"
   ]
  },
  {
   "cell_type": "code",
   "execution_count": 83,
   "metadata": {},
   "outputs": [
    {
     "data": {
      "text/html": [
       "<div>\n",
       "<style scoped>\n",
       "    .dataframe tbody tr th:only-of-type {\n",
       "        vertical-align: middle;\n",
       "    }\n",
       "\n",
       "    .dataframe tbody tr th {\n",
       "        vertical-align: top;\n",
       "    }\n",
       "\n",
       "    .dataframe thead th {\n",
       "        text-align: right;\n",
       "    }\n",
       "</style>\n",
       "<table border=\"1\" class=\"dataframe\">\n",
       "  <thead>\n",
       "    <tr style=\"text-align: right;\">\n",
       "      <th></th>\n",
       "      <th>From</th>\n",
       "      <th>To</th>\n",
       "      <th>Is_Direct</th>\n",
       "      <th>Has_luggage</th>\n",
       "      <th>Price</th>\n",
       "      <th>Date_From</th>\n",
       "      <th>Date_To</th>\n",
       "      <th>Airline</th>\n",
       "      <th>Travel_time_from</th>\n",
       "      <th>Travel_time_to</th>\n",
       "    </tr>\n",
       "  </thead>\n",
       "  <tbody>\n",
       "    <tr>\n",
       "      <th>1</th>\n",
       "      <td>Moscow</td>\n",
       "      <td>Rome</td>\n",
       "      <td>True</td>\n",
       "      <td>False</td>\n",
       "      <td>19250</td>\n",
       "      <td>01.07.19</td>\n",
       "      <td>07.07.19</td>\n",
       "      <td>S7</td>\n",
       "      <td>230</td>\n",
       "      <td>225</td>\n",
       "    </tr>\n",
       "    <tr>\n",
       "      <th>4</th>\n",
       "      <td>St. Petersburg</td>\n",
       "      <td>Barcelona</td>\n",
       "      <td>True</td>\n",
       "      <td>False</td>\n",
       "      <td>31425</td>\n",
       "      <td>05.07.2019</td>\n",
       "      <td>11.07.2019</td>\n",
       "      <td>Rossiya</td>\n",
       "      <td>255</td>\n",
       "      <td>250</td>\n",
       "    </tr>\n",
       "  </tbody>\n",
       "</table>\n",
       "</div>"
      ],
      "text/plain": [
       "             From         To  Is_Direct  Has_luggage  Price   Date_From  \\\n",
       "1          Moscow       Rome       True        False  19250    01.07.19   \n",
       "4  St. Petersburg  Barcelona       True        False  31425  05.07.2019   \n",
       "\n",
       "      Date_To  Airline  Travel_time_from  Travel_time_to  \n",
       "1    07.07.19       S7               230             225  \n",
       "4  11.07.2019  Rossiya               255             250  "
      ]
     },
     "execution_count": 83,
     "metadata": {},
     "output_type": "execute_result"
    }
   ],
   "source": [
    "max_time = 300\n",
    "df.query('(Airline == \"Belavia\" or Airline == \"S7\" or Airline == \"Rossiya\") and Travel_time_from < @max_time')"
   ]
  },
  {
   "cell_type": "markdown",
   "metadata": {},
   "source": [
    "<a name=\"4\">_</a>\n",
    "## Срезы в действии\n",
    "Наконец-то вы готовы строить срезы на практике.\n",
    "\n",
    "Вспомним, как выглядела диаграмма размаха времени заезда на АЗС:"
   ]
  },
  {
   "cell_type": "markdown",
   "metadata": {},
   "source": [
    "`data.boxplot();`\n",
    "![boxplot](https://pictures.s3.yandex.net/resources/png_1562496190)\n",
    "\n",
    "Есть несколько заездов со временем около 30 000 секунд (это около 8 часов). Крайне маловероятно, что водители заправляются так долго. Они повстречали свою любовь или случайно вырвали заправочный пистолет? А может, всё одновременно?\n",
    "\n",
    "У вас есть всё необходимое, чтобы с этим разобраться.\n",
    "\n",
    "Чтобы построить графики, обращаются к библиотеке `matplotlib` (от англ. mathematical plotting library, «библиотека математических построений»). Точнее к её модулю — `pyplot`:"
   ]
  },
  {
   "cell_type": "code",
   "execution_count": 84,
   "metadata": {},
   "outputs": [],
   "source": [
    "import matplotlib.pyplot as plt"
   ]
  },
  {
   "cell_type": "markdown",
   "metadata": {},
   "source": [
    "Для простейших графиков импортировать её не обязательно. Однако вызов библиотеки может помочь, когда вывод графиков нужно разделить. \n",
    "\n",
    "После команды вывода графика вызывают метод `show()`. Он позволяет посмотреть, как отличаются гистограммы с разным числом корзин:"
   ]
  },
  {
   "cell_type": "code",
   "execution_count": 85,
   "metadata": {},
   "outputs": [
    {
     "data": {
      "image/png": "[encoded data removed]",
      "text/plain": [
       "<Figure size 432x288 with 1 Axes>"
      ]
     },
     "metadata": {
      "needs_background": "light"
     },
     "output_type": "display_data"
    },
    {
     "data": {
      "image/png": "[encoded data removed]",
      "text/plain": [
       "<Figure size 432x288 with 1 Axes>"
      ]
     },
     "metadata": {
      "needs_background": "light"
     },
     "output_type": "display_data"
    }
   ],
   "source": [
    "import matplotlib.pyplot as plt\n",
    "    \n",
    "data.hist(bins=10)\n",
    "plt.show()\n",
    "data.hist(bins=100)\n",
    "plt.show()"
   ]
  },
  {
   "cell_type": "markdown",
   "metadata": {},
   "source": [
    "### Задача 1/3\n",
    "Узнайте, на каких АЗС водители проводят больше всего времени. Выведите топ-10 строк с самой долгой заправкой.\n",
    ">Отсортируйте data по убыванию значений time_spent методом `sort_values` с параметром `ascending=False`. Затем выведите первые 10 строк методом `head(10)`. Результат выведите на экран."
   ]
  },
  {
   "cell_type": "code",
   "execution_count": 86,
   "metadata": {},
   "outputs": [
    {
     "data": {
      "text/html": [
       "<div>\n",
       "<style scoped>\n",
       "    .dataframe tbody tr th:only-of-type {\n",
       "        vertical-align: middle;\n",
       "    }\n",
       "\n",
       "    .dataframe tbody tr th {\n",
       "        vertical-align: top;\n",
       "    }\n",
       "\n",
       "    .dataframe thead th {\n",
       "        text-align: right;\n",
       "    }\n",
       "</style>\n",
       "<table border=\"1\" class=\"dataframe\">\n",
       "  <thead>\n",
       "    <tr style=\"text-align: right;\">\n",
       "      <th></th>\n",
       "      <th>date_time</th>\n",
       "      <th>id</th>\n",
       "      <th>time_spent</th>\n",
       "      <th>name</th>\n",
       "    </tr>\n",
       "  </thead>\n",
       "  <tbody>\n",
       "    <tr>\n",
       "      <th>114797</th>\n",
       "      <td>20180402T055708</td>\n",
       "      <td>3c1e4c52</td>\n",
       "      <td>28925.0</td>\n",
       "      <td>Василек</td>\n",
       "    </tr>\n",
       "    <tr>\n",
       "      <th>27147</th>\n",
       "      <td>20180406T080254</td>\n",
       "      <td>4b5f2af5</td>\n",
       "      <td>28519.0</td>\n",
       "      <td>Немезия</td>\n",
       "    </tr>\n",
       "    <tr>\n",
       "      <th>60547</th>\n",
       "      <td>20180408T000002</td>\n",
       "      <td>cf1ba8a5</td>\n",
       "      <td>28292.0</td>\n",
       "      <td>Василек</td>\n",
       "    </tr>\n",
       "    <tr>\n",
       "      <th>19042</th>\n",
       "      <td>20180408T204208</td>\n",
       "      <td>5410e876</td>\n",
       "      <td>23696.0</td>\n",
       "      <td>Василек</td>\n",
       "    </tr>\n",
       "    <tr>\n",
       "      <th>118597</th>\n",
       "      <td>20180408T165020</td>\n",
       "      <td>3c1e4c52</td>\n",
       "      <td>21184.0</td>\n",
       "      <td>Василек</td>\n",
       "    </tr>\n",
       "    <tr>\n",
       "      <th>118058</th>\n",
       "      <td>20180402T111333</td>\n",
       "      <td>3c1e4c52</td>\n",
       "      <td>20359.0</td>\n",
       "      <td>Василек</td>\n",
       "    </tr>\n",
       "    <tr>\n",
       "      <th>114406</th>\n",
       "      <td>20180408T083722</td>\n",
       "      <td>3c1e4c52</td>\n",
       "      <td>19886.0</td>\n",
       "      <td>Василек</td>\n",
       "    </tr>\n",
       "    <tr>\n",
       "      <th>132164</th>\n",
       "      <td>20180405T160745</td>\n",
       "      <td>627ea5e3</td>\n",
       "      <td>19445.0</td>\n",
       "      <td>Левкой</td>\n",
       "    </tr>\n",
       "    <tr>\n",
       "      <th>281360</th>\n",
       "      <td>20180406T180459</td>\n",
       "      <td>d0c0928d</td>\n",
       "      <td>18614.0</td>\n",
       "      <td>Пион</td>\n",
       "    </tr>\n",
       "    <tr>\n",
       "      <th>165326</th>\n",
       "      <td>20180402T230204</td>\n",
       "      <td>3af3bb71</td>\n",
       "      <td>18569.0</td>\n",
       "      <td>Агератум</td>\n",
       "    </tr>\n",
       "  </tbody>\n",
       "</table>\n",
       "</div>"
      ],
      "text/plain": [
       "              date_time        id  time_spent      name\n",
       "114797  20180402T055708  3c1e4c52     28925.0   Василек\n",
       "27147   20180406T080254  4b5f2af5     28519.0   Немезия\n",
       "60547   20180408T000002  cf1ba8a5     28292.0   Василек\n",
       "19042   20180408T204208  5410e876     23696.0   Василек\n",
       "118597  20180408T165020  3c1e4c52     21184.0   Василек\n",
       "118058  20180402T111333  3c1e4c52     20359.0   Василек\n",
       "114406  20180408T083722  3c1e4c52     19886.0   Василек\n",
       "132164  20180405T160745  627ea5e3     19445.0    Левкой\n",
       "281360  20180406T180459  d0c0928d     18614.0      Пион\n",
       "165326  20180402T230204  3af3bb71     18569.0  Агератум"
      ]
     },
     "execution_count": 86,
     "metadata": {},
     "output_type": "execute_result"
    }
   ],
   "source": [
    "import pandas as pd\n",
    "\n",
    "data = pd.read_csv('../datasets/visits.csv', sep='\\t')\n",
    "#print(data.sort_values(by = 'time_spent', ascending = False).head(10))\n",
    "data.sort_values(by = 'time_spent', ascending = False).head(10)"
   ]
  },
  {
   "cell_type": "markdown",
   "metadata": {},
   "source": [
    "В столбце 'id' разные значения, значит долго заправляются не на одной АЗС. К тому же в списке присутствуют АЗС из разных сетей.\n",
    "\n",
    "Выделяется `id == '3c1e4c52'`, он встречается несколько раз. Изучим эту АЗС детальнее."
   ]
  },
  {
   "cell_type": "markdown",
   "metadata": {},
   "source": [
    "### Задача 2/3\n",
    "\n",
    "Сохраните срез данных с `id == \"3c1e4c52\"` в переменной `sample` (англ. «выборка, проба»). Выведите количество заездов на эту АЗС.\n",
    ">Примените к датафрейму метод `query()`: в строке с условием выберите только заезды на АЗС, у которых `id == \"3c1e4c52\"`. Полученный срез сохраните в переменной `sample`.\n",
    "Вызовом функции `len()` узнайте количество строк в срезе `sample`, результат выведите на экран."
   ]
  },
  {
   "cell_type": "code",
   "execution_count": 9,
   "metadata": {},
   "outputs": [
    {
     "name": "stdout",
     "output_type": "stream",
     "text": [
      "5814\n"
     ]
    }
   ],
   "source": [
    "import pandas as pd\n",
    "\n",
    "data = pd.read_csv('../datasets/visits.csv', sep='\\t')\n",
    "sample = data.query('id == \"3c1e4c52\"')\n",
    "print(len(sample))"
   ]
  },
  {
   "cell_type": "code",
   "execution_count": null,
   "metadata": {},
   "outputs": [],
   "source": [
    "Столько раз заезжали на АЗС `3c1e4c52`"
   ]
  },
  {
   "cell_type": "markdown",
   "metadata": {},
   "source": [
    "### Задача 3/3\n",
    "Посмотрим, как они распределены, отличаются ли от остальных данных. Вспомните, как выглядела гистограмма по всему набору данных.\n",
    "\n",
    "Постройте гистограмму времён заезда на все АЗС. И аналогичную гистограмму для выбранной АЗС (мы уже сохранили данные в переменную `sample`). Для обеих гистограмм задайте диапазон 0-1500 секунд и 100 корзин.\n",
    ">Возьмите данные из `sample`, примените метод `hist()` с параметрами `\"time_spent\"` (название колонки), `bins` и `range`.\n",
    "\n",
    "Чтобы вывести гистограммы на разных графиках, вызовите метод `plt.show()`."
   ]
  },
  {
   "cell_type": "code",
   "execution_count": 88,
   "metadata": {},
   "outputs": [
    {
     "data": {
      "image/png": "[encoded data removed]",
      "text/plain": [
       "<Figure size 432x288 with 1 Axes>"
      ]
     },
     "metadata": {
      "needs_background": "light"
     },
     "output_type": "display_data"
    },
    {
     "data": {
      "image/png": "[encoded data removed]",
      "text/plain": [
       "<Figure size 432x288 with 1 Axes>"
      ]
     },
     "metadata": {
      "needs_background": "light"
     },
     "output_type": "display_data"
    }
   ],
   "source": [
    "import matplotlib.pyplot as plt\n",
    "\n",
    "sample = data.query('id == \"3c1e4c52\"')\n",
    "# гистограмма времён заезда на все АЗС\n",
    "data['time_spent'].hist(bins = 100, range = (0, 1500))\n",
    "# гистограмма для выбранной АЗС\n",
    "sample.hist('time_spent', bins=100, range = (0, 1500))\n",
    "plt.show()"
   ]
  },
  {
   "cell_type": "markdown",
   "metadata": {},
   "source": [
    "Гистограммы среза sample и всего набора данных внешне похожи, имеют по два пика: около нулевого времени проезда и около 200 секунд. Только гистограмма sample не такая гладкая, на ней заметны одиночные хаотичные всплески (шумы). \n",
    "\n",
    "Общее правило: **чем данных меньше, тем шумнее гистограмма**."
   ]
  },
  {
   "cell_type": "markdown",
   "metadata": {},
   "source": [
    "<a name=\"5\">_</a>\n",
    "## «Слишком долгая» заправка — это сколько?"
   ]
  },
  {
   "cell_type": "markdown",
   "metadata": {},
   "source": [
    "Нетипично долгие заезды признаем выбросами и отбросим. Почему так можно?\n",
    "\n",
    "Во-первых, их немного. Во-вторых, скорее всего, такие заезды — не заправки. Например, водитель мог отдыхать, есть или заниматься чем-то ещё. Раз это не заправки в чистом виде, значит в рамках нашего исследования такие заезды не интересны.\n",
    "\n",
    "Как определить, что заправка «слишком долгая»? Где провести границу между заправкой автомобиля и прочими занятиями на АЗС?\n",
    "Обратимся к гистограмме:\n",
    "![gist](https://pictures.s3.yandex.net/resources/_19_1562610488.png)\n",
    "Заправки продолжительностью 600 секунд — уже редки. Дольше 800 секунд почти не заправляются. А на участке более 1300 секунд гистограмма сливается с нулём (это не значит, что там ровно 0, но таких заправок единицы).\n",
    "\n",
    "Примем верхнюю границу в 1000 секунд. Это число кажется разумным: дольше заправляются редко. Отбросив значения больше 1000, мы не потеряем много данных. Да и вряд ли водители тратят на заправку больше 1000 секунд (16 минут).\n",
    "\n",
    "Решено. Продолжаем работать с наблюдениями, удовлетворяющими условию: `data.query('time_spent < 1000')`"
   ]
  },
  {
   "cell_type": "markdown",
   "metadata": {},
   "source": [
    "<a name=\"6\">_</a>\n",
    "## Работа с датой и временем\n",
    "Мы посчитали подозрительно долгие заправки выбросами. Но что делать с чрезвычайно короткими заправками? Изучим их подробнее. Узнаем, связана ли их продолжительность со временем заезда на АЗС.\n"
   ]
  },
  {
   "cell_type": "code",
   "execution_count": 89,
   "metadata": {},
   "outputs": [
    {
     "data": {
      "text/html": [
       "<div>\n",
       "<style scoped>\n",
       "    .dataframe tbody tr th:only-of-type {\n",
       "        vertical-align: middle;\n",
       "    }\n",
       "\n",
       "    .dataframe tbody tr th {\n",
       "        vertical-align: top;\n",
       "    }\n",
       "\n",
       "    .dataframe thead th {\n",
       "        text-align: right;\n",
       "    }\n",
       "</style>\n",
       "<table border=\"1\" class=\"dataframe\">\n",
       "  <thead>\n",
       "    <tr style=\"text-align: right;\">\n",
       "      <th></th>\n",
       "      <th>date_time</th>\n",
       "      <th>id</th>\n",
       "      <th>time_spent</th>\n",
       "      <th>name</th>\n",
       "    </tr>\n",
       "  </thead>\n",
       "  <tbody>\n",
       "    <tr>\n",
       "      <th>0</th>\n",
       "      <td>20180406T165358</td>\n",
       "      <td>76144fb2</td>\n",
       "      <td>98.0</td>\n",
       "      <td>Василек</td>\n",
       "    </tr>\n",
       "    <tr>\n",
       "      <th>1</th>\n",
       "      <td>20180404T173913</td>\n",
       "      <td>76144fb2</td>\n",
       "      <td>15.0</td>\n",
       "      <td>Василек</td>\n",
       "    </tr>\n",
       "    <tr>\n",
       "      <th>2</th>\n",
       "      <td>20180403T172824</td>\n",
       "      <td>76144fb2</td>\n",
       "      <td>220.0</td>\n",
       "      <td>Василек</td>\n",
       "    </tr>\n",
       "    <tr>\n",
       "      <th>3</th>\n",
       "      <td>20180407T070441</td>\n",
       "      <td>76144fb2</td>\n",
       "      <td>19.0</td>\n",
       "      <td>Василек</td>\n",
       "    </tr>\n",
       "    <tr>\n",
       "      <th>4</th>\n",
       "      <td>20180404T132049</td>\n",
       "      <td>76144fb2</td>\n",
       "      <td>14.0</td>\n",
       "      <td>Василек</td>\n",
       "    </tr>\n",
       "  </tbody>\n",
       "</table>\n",
       "</div>"
      ],
      "text/plain": [
       "         date_time        id  time_spent     name\n",
       "0  20180406T165358  76144fb2        98.0  Василек\n",
       "1  20180404T173913  76144fb2        15.0  Василек\n",
       "2  20180403T172824  76144fb2       220.0  Василек\n",
       "3  20180407T070441  76144fb2        19.0  Василек\n",
       "4  20180404T132049  76144fb2        14.0  Василек"
      ]
     },
     "execution_count": 89,
     "metadata": {},
     "output_type": "execute_result"
    }
   ],
   "source": [
    "data.head()"
   ]
  },
  {
   "cell_type": "markdown",
   "metadata": {},
   "source": [
    "В столбце `'date_time'` дата и время заезда. Из описания данных известно, что время заезда указали в часовом поясе UTC+0, в формате ISO. Значит, сначала слитно идут год, месяц, день; затем буквенный разделитель даты и времени T; затем часы, минуты и секунды — снова слитно.\n",
    "\n",
    "В курсе по предобработке вы познакомились с методом `to_datetime()`, который переводит строки в даты. Напомним, что в аргументе `format` метода `to_datetime()` указывают специальные обозначения, порядок которых соответствует порядку чисел в строке с датой:\n",
    "\n",
    "- `%d` — день месяца (от 01 до 31)\n",
    "- `%m` — номер месяца (от 01 до 12)\n",
    "- `%Y` — четырёхзначный номер года (например, 2019)\n",
    "- `Z` или `T` — стандартный разделитель даты и времени\n",
    "- `%H` — номер часа в 24-часовом формате\n",
    "- `%I` — номер часа в 12-часовом формате\n",
    "- `%M` — минуты (от 00 до 59)\n",
    "- `%S` — секунды (от 00 до 59)\n",
    "При выводе значений формата datetime на экран Python автоматически разделяет их символами - и :, чтобы человеку было проще воспринимать данные.\n",
    "\n",
    "Пора научиться:\n",
    "- Округлять даты;\n",
    "- Добывать отдельные компоненты из дат, например, день недели;\n",
    "- «Сдвигать» даты в другие часовые пояса.\n",
    "\n",
    "О том, что операции предстоит выполнять именно с датами, аналитик сообщает Pandas отдельно, через атрибут `dt` (от англ. date time). Атрибут `dt` указывает, что тип данных, к которым будут применены методы, — `datetime`. А значит, Pandas не примет их за строки или числа.\n",
    "Чтобы округлить время, применяют метод `dt.round()` (англ. round, «округлять»). В качестве параметра ему передают строку с шагом округления в часах, днях, минутах или секундах:\n",
    "- `'D'` — day (от англ. «день»)\n",
    "- `'H'` — hour (от англ. «час»)\n",
    "- `'min'` или `'T'` — minute (от англ. «минута»)\n",
    "- `'S'` — second (от англ. «секунда»)\n",
    "\n",
    "Чаще всего округляют с шагом в один час:\n"
   ]
  },
  {
   "cell_type": "code",
   "execution_count": 90,
   "metadata": {},
   "outputs": [
    {
     "name": "stdout",
     "output_type": "stream",
     "text": [
      "0   2011-03-01 18:00:00\n",
      "Name: time_rounded, dtype: datetime64[ns]\n"
     ]
    }
   ],
   "source": [
    "import pandas as pd\n",
    "\n",
    "df = pd.DataFrame({'time': ['11-03-01 17:34']})\n",
    "# здесь формат даты отличается от формата в таблице с данными АЗС\n",
    "df['time'] = pd.to_datetime(df['time'], format='%y-%m-%d %H:%M')\n",
    "df['time_rounded'] = df['time'].dt.round(\n",
    "    '1H'\n",
    ")  # округляем до ближайшего значения с шагом в один час\n",
    "print(df['time_rounded'])"
   ]
  },
  {
   "cell_type": "markdown",
   "metadata": {},
   "source": [
    "`dt.round()` округляет до ближайшего значения — не всегда получается в бóльшую сторону. Четверть шестого после округления методом `dt.round()` станет пятью часами:"
   ]
  },
  {
   "cell_type": "code",
   "execution_count": 91,
   "metadata": {},
   "outputs": [
    {
     "name": "stdout",
     "output_type": "stream",
     "text": [
      "0   2011-03-01 17:00:00\n",
      "Name: time_rounded, dtype: datetime64[ns]\n"
     ]
    }
   ],
   "source": [
    "import pandas as pd\n",
    "\n",
    "df = pd.DataFrame({'time': ['11-03-01 17:15']})\n",
    "df['time'] = pd.to_datetime(df['time'], format='%y-%m-%d %H:%M')\n",
    "df['time_rounded'] = df['time'].dt.round(\n",
    "    '1H'\n",
    ")  # округляем до ближайшего значения с шагом в один час\n",
    "print(df['time_rounded'])"
   ]
  },
  {
   "cell_type": "markdown",
   "metadata": {},
   "source": [
    "Чтобы быть уверенными в том, что время будет округлено к бóльшему значению, обращаются к методу `dt.ceil()` (от англ. ceiling — «потолок»). К меньшему значению, «вниз», округляют методом `dt.floor()` (англ. floor, «пол»)."
   ]
  },
  {
   "cell_type": "code",
   "execution_count": 92,
   "metadata": {},
   "outputs": [
    {
     "name": "stdout",
     "output_type": "stream",
     "text": [
      "Время, округлённое вверх 0   2011-03-01 18:00:00\n",
      "Name: ceil, dtype: datetime64[ns]\n",
      "Время, округлённое вниз 0   2011-03-01 17:00:00\n",
      "Name: floor, dtype: datetime64[ns]\n"
     ]
    }
   ],
   "source": [
    "import pandas as pd\n",
    "\n",
    "df = pd.DataFrame({'time': ['11-03-01 17:15']})\n",
    "df['time'] = pd.to_datetime(df['time'], format='%y-%m-%d %H:%M')\n",
    "df['ceil'] = df['time'].dt.ceil('1H') # округляем к потолку\n",
    "df['floor'] = df['time'].dt.floor('1H') # округляем к полу\n",
    "print('Время, округлённое вверх', df['ceil'])\n",
    "print('Время, округлённое вниз', df['floor'])"
   ]
  },
  {
   "cell_type": "markdown",
   "metadata": {},
   "source": [
    "Номер дня в неделе находят методом `dt.weekday` (англ. weekday, «будний день»). Понедельник — день под номером 0, а воскресенье — шестой день."
   ]
  },
  {
   "cell_type": "code",
   "execution_count": 93,
   "metadata": {},
   "outputs": [
    {
     "name": "stdout",
     "output_type": "stream",
     "text": [
      "0    0\n",
      "1    5\n",
      "Name: weekday, dtype: int64\n"
     ]
    }
   ],
   "source": [
    "import pandas as pd \n",
    "\n",
    "df = pd.DataFrame({'time': ['11-03-07 17:15', '11-04-02 17:15']}) # пн и сб\n",
    "df['time'] = pd.to_datetime(df['time'], format='%y-%m-%d %H:%M')\n",
    "df['weekday'] = df['time'].dt.weekday\n",
    "print(df['weekday'])"
   ]
  },
  {
   "cell_type": "markdown",
   "metadata": {},
   "source": [
    "Иногда нужно переводить время в другой часовой пояс. За временные сдвиги отвечает `pd.Timedelta()` (от англ. time delta — «дельта времени, перепад во времени»). Количество часов передают в параметре: `(hours=10)`.\n",
    "Прибавим 9 часов к московскому времени и узнаем, который час был в Петропавловске-Камчатском, когда в Москве происходили события датафрейма:"
   ]
  },
  {
   "cell_type": "code",
   "execution_count": 57,
   "metadata": {},
   "outputs": [
    {
     "name": "stdout",
     "output_type": "stream",
     "text": [
      "0   2011-03-08 02:15:00\n",
      "1   2011-05-02 19:20:00\n",
      "Name: petropavlovsk-kamchatsky_time, dtype: datetime64[ns]\n"
     ]
    }
   ],
   "source": [
    "import pandas as pd\n",
    "\n",
    "df = pd.DataFrame({'time': ['11-03-07 17:15', '11-05-02 10:20']})\n",
    "df['moscow_time'] = pd.to_datetime(df['time'], format='%y-%m-%d %H:%M')\n",
    "df['petropavlovsk-kamchatsky_time'] = df['moscow_time'] + pd.Timedelta(hours=9)\n",
    "print(df['petropavlovsk-kamchatsky_time'])"
   ]
  },
  {
   "cell_type": "markdown",
   "metadata": {},
   "source": [
    "Можно и наоборот: отнимать время, указав в параметре отрицательное количество часов."
   ]
  },
  {
   "cell_type": "markdown",
   "metadata": {},
   "source": [
    "### Задача 1/3\n",
    "Переведите значения в столбце 'date_time' в формат даты.\n",
    "\n",
    "В аргументе `format` метода `to_datetime()` передайте строку со значениями года, месяца, дня и времени, чтобы получить запись вида: 2018-04-06T16:53:58. Результат сохраните в столбце `'date_time'`.\n",
    "\n",
    "Первые 5 строк таблицы data выведите на экран.\n",
    ">Примените метод `to_datetime()` к столбцу `'date_time'`, указав значением аргумента `format` строку вида: `'%Y%m%dT%H%M%S'`. "
   ]
  },
  {
   "cell_type": "code",
   "execution_count": 97,
   "metadata": {},
   "outputs": [],
   "source": [
    "import pandas as pd\n",
    "\n",
    "data = pd.read_csv('datasets/visits.csv', sep='\\t')"
   ]
  },
  {
   "cell_type": "code",
   "execution_count": 98,
   "metadata": {},
   "outputs": [
    {
     "data": {
      "text/html": [
       "<div>\n",
       "<style scoped>\n",
       "    .dataframe tbody tr th:only-of-type {\n",
       "        vertical-align: middle;\n",
       "    }\n",
       "\n",
       "    .dataframe tbody tr th {\n",
       "        vertical-align: top;\n",
       "    }\n",
       "\n",
       "    .dataframe thead th {\n",
       "        text-align: right;\n",
       "    }\n",
       "</style>\n",
       "<table border=\"1\" class=\"dataframe\">\n",
       "  <thead>\n",
       "    <tr style=\"text-align: right;\">\n",
       "      <th></th>\n",
       "      <th>date_time</th>\n",
       "      <th>id</th>\n",
       "      <th>time_spent</th>\n",
       "      <th>name</th>\n",
       "    </tr>\n",
       "  </thead>\n",
       "  <tbody>\n",
       "    <tr>\n",
       "      <th>0</th>\n",
       "      <td>2018-04-06 16:53:58</td>\n",
       "      <td>76144fb2</td>\n",
       "      <td>98.0</td>\n",
       "      <td>Василек</td>\n",
       "    </tr>\n",
       "    <tr>\n",
       "      <th>1</th>\n",
       "      <td>2018-04-04 17:39:13</td>\n",
       "      <td>76144fb2</td>\n",
       "      <td>15.0</td>\n",
       "      <td>Василек</td>\n",
       "    </tr>\n",
       "    <tr>\n",
       "      <th>2</th>\n",
       "      <td>2018-04-03 17:28:24</td>\n",
       "      <td>76144fb2</td>\n",
       "      <td>220.0</td>\n",
       "      <td>Василек</td>\n",
       "    </tr>\n",
       "    <tr>\n",
       "      <th>3</th>\n",
       "      <td>2018-04-07 07:04:41</td>\n",
       "      <td>76144fb2</td>\n",
       "      <td>19.0</td>\n",
       "      <td>Василек</td>\n",
       "    </tr>\n",
       "    <tr>\n",
       "      <th>4</th>\n",
       "      <td>2018-04-04 13:20:49</td>\n",
       "      <td>76144fb2</td>\n",
       "      <td>14.0</td>\n",
       "      <td>Василек</td>\n",
       "    </tr>\n",
       "  </tbody>\n",
       "</table>\n",
       "</div>"
      ],
      "text/plain": [
       "            date_time        id  time_spent     name\n",
       "0 2018-04-06 16:53:58  76144fb2        98.0  Василек\n",
       "1 2018-04-04 17:39:13  76144fb2        15.0  Василек\n",
       "2 2018-04-03 17:28:24  76144fb2       220.0  Василек\n",
       "3 2018-04-07 07:04:41  76144fb2        19.0  Василек\n",
       "4 2018-04-04 13:20:49  76144fb2        14.0  Василек"
      ]
     },
     "execution_count": 98,
     "metadata": {},
     "output_type": "execute_result"
    }
   ],
   "source": [
    "df = pd.DataFrame({'time': ['11-03-01 17:34']})\n",
    "# переводим значения в столбце в формат даты\n",
    "data['date_time'] = pd.to_datetime(data['date_time'], format='%Y%m%dT%H%M%S')\n",
    "#print(data.head())\n",
    "data.head()"
   ]
  },
  {
   "cell_type": "markdown",
   "metadata": {},
   "source": [
    "даты стали удобочитаемыми"
   ]
  },
  {
   "cell_type": "markdown",
   "metadata": {},
   "source": [
    "### Задача 2/3\n",
    "Напомним, что в датафрейме записано время UTC. Московское рассчитывают как UTC + 3 часа.\n",
    "Создайте столбец data`['local_time']` и сохраните в нём сдвинутую на +3 часа дату и время из столбца `data['date_time']`. Напечатайте первые 5 строк таблицы `data`.\n",
    ">Передайте в параметре `Timedelta` количество часов, равное 3. Первые 5 строк выведите на экран методом `head()`."
   ]
  },
  {
   "cell_type": "code",
   "execution_count": 99,
   "metadata": {},
   "outputs": [
    {
     "data": {
      "text/html": [
       "<div>\n",
       "<style scoped>\n",
       "    .dataframe tbody tr th:only-of-type {\n",
       "        vertical-align: middle;\n",
       "    }\n",
       "\n",
       "    .dataframe tbody tr th {\n",
       "        vertical-align: top;\n",
       "    }\n",
       "\n",
       "    .dataframe thead th {\n",
       "        text-align: right;\n",
       "    }\n",
       "</style>\n",
       "<table border=\"1\" class=\"dataframe\">\n",
       "  <thead>\n",
       "    <tr style=\"text-align: right;\">\n",
       "      <th></th>\n",
       "      <th>date_time</th>\n",
       "      <th>id</th>\n",
       "      <th>time_spent</th>\n",
       "      <th>name</th>\n",
       "      <th>local_time</th>\n",
       "    </tr>\n",
       "  </thead>\n",
       "  <tbody>\n",
       "    <tr>\n",
       "      <th>0</th>\n",
       "      <td>2018-04-06 16:53:58</td>\n",
       "      <td>76144fb2</td>\n",
       "      <td>98.0</td>\n",
       "      <td>Василек</td>\n",
       "      <td>2018-04-06 19:53:58</td>\n",
       "    </tr>\n",
       "    <tr>\n",
       "      <th>1</th>\n",
       "      <td>2018-04-04 17:39:13</td>\n",
       "      <td>76144fb2</td>\n",
       "      <td>15.0</td>\n",
       "      <td>Василек</td>\n",
       "      <td>2018-04-04 20:39:13</td>\n",
       "    </tr>\n",
       "    <tr>\n",
       "      <th>2</th>\n",
       "      <td>2018-04-03 17:28:24</td>\n",
       "      <td>76144fb2</td>\n",
       "      <td>220.0</td>\n",
       "      <td>Василек</td>\n",
       "      <td>2018-04-03 20:28:24</td>\n",
       "    </tr>\n",
       "    <tr>\n",
       "      <th>3</th>\n",
       "      <td>2018-04-07 07:04:41</td>\n",
       "      <td>76144fb2</td>\n",
       "      <td>19.0</td>\n",
       "      <td>Василек</td>\n",
       "      <td>2018-04-07 10:04:41</td>\n",
       "    </tr>\n",
       "    <tr>\n",
       "      <th>4</th>\n",
       "      <td>2018-04-04 13:20:49</td>\n",
       "      <td>76144fb2</td>\n",
       "      <td>14.0</td>\n",
       "      <td>Василек</td>\n",
       "      <td>2018-04-04 16:20:49</td>\n",
       "    </tr>\n",
       "  </tbody>\n",
       "</table>\n",
       "</div>"
      ],
      "text/plain": [
       "            date_time        id  time_spent     name          local_time\n",
       "0 2018-04-06 16:53:58  76144fb2        98.0  Василек 2018-04-06 19:53:58\n",
       "1 2018-04-04 17:39:13  76144fb2        15.0  Василек 2018-04-04 20:39:13\n",
       "2 2018-04-03 17:28:24  76144fb2       220.0  Василек 2018-04-03 20:28:24\n",
       "3 2018-04-07 07:04:41  76144fb2        19.0  Василек 2018-04-07 10:04:41\n",
       "4 2018-04-04 13:20:49  76144fb2        14.0  Василек 2018-04-04 16:20:49"
      ]
     },
     "execution_count": 99,
     "metadata": {},
     "output_type": "execute_result"
    }
   ],
   "source": [
    "# в столбце local_time сохраняем дату и время из столбца date_time\n",
    "# делаем поправку на 3 часа\n",
    "data['local_time'] = data['date_time'] + pd.Timedelta(hours=3)\n",
    "#print(data.head())\n",
    "data.head()"
   ]
  },
  {
   "cell_type": "markdown",
   "metadata": {},
   "source": [
    "### Задача 3/3\n",
    "Создайте столбец `data['date_hour']` с московским временем заезда на АЗС, округлённым до 1 часа методом `dt.round()`. Напечатайте первые 5 строк.\n",
    ">К данным столбца 'local_time' примените метод `dt.round()`, передав шаг округления в 1 час. Присвойте результат столбцу 'date_hour'."
   ]
  },
  {
   "cell_type": "code",
   "execution_count": 101,
   "metadata": {},
   "outputs": [
    {
     "data": {
      "text/html": [
       "<div>\n",
       "<style scoped>\n",
       "    .dataframe tbody tr th:only-of-type {\n",
       "        vertical-align: middle;\n",
       "    }\n",
       "\n",
       "    .dataframe tbody tr th {\n",
       "        vertical-align: top;\n",
       "    }\n",
       "\n",
       "    .dataframe thead th {\n",
       "        text-align: right;\n",
       "    }\n",
       "</style>\n",
       "<table border=\"1\" class=\"dataframe\">\n",
       "  <thead>\n",
       "    <tr style=\"text-align: right;\">\n",
       "      <th></th>\n",
       "      <th>date_time</th>\n",
       "      <th>id</th>\n",
       "      <th>time_spent</th>\n",
       "      <th>name</th>\n",
       "      <th>local_time</th>\n",
       "      <th>date_hour</th>\n",
       "    </tr>\n",
       "  </thead>\n",
       "  <tbody>\n",
       "    <tr>\n",
       "      <th>0</th>\n",
       "      <td>2018-04-06 16:53:58</td>\n",
       "      <td>76144fb2</td>\n",
       "      <td>98.0</td>\n",
       "      <td>Василек</td>\n",
       "      <td>2018-04-06 19:53:58</td>\n",
       "      <td>2018-04-06 20:00:00</td>\n",
       "    </tr>\n",
       "    <tr>\n",
       "      <th>1</th>\n",
       "      <td>2018-04-04 17:39:13</td>\n",
       "      <td>76144fb2</td>\n",
       "      <td>15.0</td>\n",
       "      <td>Василек</td>\n",
       "      <td>2018-04-04 20:39:13</td>\n",
       "      <td>2018-04-04 21:00:00</td>\n",
       "    </tr>\n",
       "    <tr>\n",
       "      <th>2</th>\n",
       "      <td>2018-04-03 17:28:24</td>\n",
       "      <td>76144fb2</td>\n",
       "      <td>220.0</td>\n",
       "      <td>Василек</td>\n",
       "      <td>2018-04-03 20:28:24</td>\n",
       "      <td>2018-04-03 20:00:00</td>\n",
       "    </tr>\n",
       "    <tr>\n",
       "      <th>3</th>\n",
       "      <td>2018-04-07 07:04:41</td>\n",
       "      <td>76144fb2</td>\n",
       "      <td>19.0</td>\n",
       "      <td>Василек</td>\n",
       "      <td>2018-04-07 10:04:41</td>\n",
       "      <td>2018-04-07 10:00:00</td>\n",
       "    </tr>\n",
       "    <tr>\n",
       "      <th>4</th>\n",
       "      <td>2018-04-04 13:20:49</td>\n",
       "      <td>76144fb2</td>\n",
       "      <td>14.0</td>\n",
       "      <td>Василек</td>\n",
       "      <td>2018-04-04 16:20:49</td>\n",
       "      <td>2018-04-04 16:00:00</td>\n",
       "    </tr>\n",
       "  </tbody>\n",
       "</table>\n",
       "</div>"
      ],
      "text/plain": [
       "            date_time        id  time_spent     name          local_time  \\\n",
       "0 2018-04-06 16:53:58  76144fb2        98.0  Василек 2018-04-06 19:53:58   \n",
       "1 2018-04-04 17:39:13  76144fb2        15.0  Василек 2018-04-04 20:39:13   \n",
       "2 2018-04-03 17:28:24  76144fb2       220.0  Василек 2018-04-03 20:28:24   \n",
       "3 2018-04-07 07:04:41  76144fb2        19.0  Василек 2018-04-07 10:04:41   \n",
       "4 2018-04-04 13:20:49  76144fb2        14.0  Василек 2018-04-04 16:20:49   \n",
       "\n",
       "            date_hour  \n",
       "0 2018-04-06 20:00:00  \n",
       "1 2018-04-04 21:00:00  \n",
       "2 2018-04-03 20:00:00  \n",
       "3 2018-04-07 10:00:00  \n",
       "4 2018-04-04 16:00:00  "
      ]
     },
     "execution_count": 101,
     "metadata": {},
     "output_type": "execute_result"
    }
   ],
   "source": [
    "# округляем до ближайшего значения с шагом в один час\n",
    "data['date_hour'] = data['local_time'].dt.round('1H')\n",
    "#print(data.head())\n",
    "data.head()"
   ]
  },
  {
   "cell_type": "markdown",
   "metadata": {},
   "source": [
    "Вы привели время к рабочему формату. новые столбцы local_time и date_hour пригодятся в следующем уроке."
   ]
  },
  {
   "cell_type": "markdown",
   "metadata": {},
   "source": [
    "<a name=\"7\">_</a>\n",
    "## Графики\n",
    "Что делать, если данных много, а построить график хочется? Разглядывать сотни тысяч точек сложно. Значит, визуализировать нужно сгруппированные данные или срез. В этом уроке вы построите график по готовому срезу id == '3c1e4c52'. Начнём с основ.\n",
    "\n",
    "За построение графиков в Pandas отвечает метод `plot()` (англ. «график»). Вот простой пример:"
   ]
  },
  {
   "cell_type": "code",
   "execution_count": 102,
   "metadata": {},
   "outputs": [
    {
     "name": "stdout",
     "output_type": "stream",
     "text": [
      "   a   b\n",
      "0  2   4\n",
      "1  3   9\n",
      "2  4  16\n",
      "3  5  25\n"
     ]
    },
    {
     "data": {
      "text/plain": [
       "<AxesSubplot:>"
      ]
     },
     "execution_count": 102,
     "metadata": {},
     "output_type": "execute_result"
    },
    {
     "data": {
      "image/png": "[encoded data removed]",
      "text/plain": [
       "<Figure size 432x288 with 1 Axes>"
      ]
     },
     "metadata": {
      "needs_background": "light"
     },
     "output_type": "display_data"
    }
   ],
   "source": [
    "df = pd.DataFrame({'a': [2, 3, 4, 5], 'b': [4, 9, 16, 25]})\n",
    "print(df)\n",
    "df.plot()"
   ]
  },
  {
   "cell_type": "markdown",
   "metadata": {},
   "source": [
    "Метод `plot()` построил графики по значениям столбцов из датафрейма. На оси абсцисс (x) расположились индексы, а на оси ординат (y) — значения столбцов.\n",
    "\n",
    "Названия для графиков указывают строкой или переменной в параметре `title` (англ. «название»):"
   ]
  },
  {
   "cell_type": "code",
   "execution_count": 103,
   "metadata": {},
   "outputs": [
    {
     "data": {
      "text/plain": [
       "<AxesSubplot:title={'center':'A и B'}>"
      ]
     },
     "execution_count": 103,
     "metadata": {},
     "output_type": "execute_result"
    },
    {
     "data": {
      "image/png": "[encoded data removed]",
      "text/plain": [
       "<Figure size 432x288 with 1 Axes>"
      ]
     },
     "metadata": {
      "needs_background": "light"
     },
     "output_type": "display_data"
    }
   ],
   "source": [
    "df.plot(title='A и B')"
   ]
  },
  {
   "cell_type": "markdown",
   "metadata": {},
   "source": [
    "Элементов в таблице слишком мало, чтобы они складывались в непрерывную линию. Добавим графику точности, передадим параметр `style`, со значением 'o', чтобы отметить значения таблицы точками."
   ]
  },
  {
   "cell_type": "code",
   "execution_count": 104,
   "metadata": {},
   "outputs": [
    {
     "data": {
      "text/plain": [
       "<AxesSubplot:>"
      ]
     },
     "execution_count": 104,
     "metadata": {},
     "output_type": "execute_result"
    },
    {
     "data": {
      "image/png": "[encoded data removed]",
      "text/plain": [
       "<Figure size 432x288 with 1 Axes>"
      ]
     },
     "metadata": {
      "needs_background": "light"
     },
     "output_type": "display_data"
    }
   ],
   "source": [
    "df.plot(style='o') # 'o' похожа на кружок или точку, запомнить легко"
   ]
  },
  {
   "cell_type": "markdown",
   "metadata": {},
   "source": [
    "Можно задать и другую форму точек. Например, `style='х'` пометит точки крестиками:"
   ]
  },
  {
   "cell_type": "code",
   "execution_count": 105,
   "metadata": {},
   "outputs": [
    {
     "data": {
      "text/plain": [
       "<AxesSubplot:>"
      ]
     },
     "execution_count": 105,
     "metadata": {},
     "output_type": "execute_result"
    },
    {
     "data": {
      "image/png": "[encoded data removed]",
      "text/plain": [
       "<Figure size 432x288 with 1 Axes>"
      ]
     },
     "metadata": {
      "needs_background": "light"
     },
     "output_type": "display_data"
    }
   ],
   "source": [
    "df.plot(style='x') # 'x' - точь-в-точь крестик"
   ]
  },
  {
   "cell_type": "markdown",
   "metadata": {},
   "source": [
    "Когда нужен компромиссный вариант: и линии, и точки; передают `style='o-'`."
   ]
  },
  {
   "cell_type": "code",
   "execution_count": 106,
   "metadata": {},
   "outputs": [
    {
     "data": {
      "text/plain": [
       "<AxesSubplot:>"
      ]
     },
     "execution_count": 106,
     "metadata": {},
     "output_type": "execute_result"
    },
    {
     "data": {
      "image/png": "[encoded data removed]",
      "text/plain": [
       "<Figure size 432x288 with 1 Axes>"
      ]
     },
     "metadata": {
      "needs_background": "light"
     },
     "output_type": "display_data"
    }
   ],
   "source": [
    "df.plot(style='o-') # 'o-' - кружок и линия"
   ]
  },
  {
   "cell_type": "markdown",
   "metadata": {},
   "source": [
    "Напомним, что по горизонтальной оси отложены индексы. Но что, если такой способ представления не годится для анализа? Можно изменить сами индексы или передать методу `plot()` параметры осей. Так, оси абсцисс (x) присвоим значения столбца 'b', а оси ординат (y) — значения столбца 'a':"
   ]
  },
  {
   "cell_type": "code",
   "execution_count": 107,
   "metadata": {},
   "outputs": [
    {
     "data": {
      "text/plain": [
       "<AxesSubplot:xlabel='b'>"
      ]
     },
     "execution_count": 107,
     "metadata": {},
     "output_type": "execute_result"
    },
    {
     "data": {
      "image/png": "[encoded data removed]",
      "text/plain": [
       "<Figure size 432x288 with 1 Axes>"
      ]
     },
     "metadata": {
      "needs_background": "light"
     },
     "output_type": "display_data"
    }
   ],
   "source": [
    "df.plot(x='b', y='a', style='o-')"
   ]
  },
  {
   "cell_type": "markdown",
   "metadata": {},
   "source": [
    "По оси абсцисс идут значения столбца b, а по оси ординат — значения столбца a. Обратите внимание, что Pandas переименовал горизонтальную ось: теперь она — b. А в легенде (списке условных обозначений на графике) осталась только линия со значениями столбца a.\n",
    "\n",
    "Ещё не всё идеально: точки упираются в края графика. Скорректируем границы параметрами xlim и ylim — с ними вы познакомились, когда изучали ящик с усами. Напомним, что параметрам xlim и ylim в скобках передают минимальное и максимальное значение. Ограничим ось абсцисс значениями от 0 до 30:"
   ]
  },
  {
   "cell_type": "code",
   "execution_count": 108,
   "metadata": {},
   "outputs": [
    {
     "data": {
      "text/plain": [
       "<AxesSubplot:xlabel='b'>"
      ]
     },
     "execution_count": 108,
     "metadata": {},
     "output_type": "execute_result"
    },
    {
     "data": {
      "image/png": "[encoded data removed]",
      "text/plain": [
       "<Figure size 432x288 with 1 Axes>"
      ]
     },
     "metadata": {
      "needs_background": "light"
     },
     "output_type": "display_data"
    }
   ],
   "source": [
    "df.plot(x='b', y='a', style='o-', xlim=(0, 30))"
   ]
  },
  {
   "cell_type": "markdown",
   "metadata": {},
   "source": [
    "Добавим линии сетки: с ними будет легче понять, какие именно значения отображены. Укажем параметр `grid` (англ. «сетка, решётка»), равный `True` (это значит, что **отображать сетку — нужно**):\n"
   ]
  },
  {
   "cell_type": "code",
   "execution_count": 109,
   "metadata": {},
   "outputs": [
    {
     "data": {
      "text/plain": [
       "<AxesSubplot:xlabel='b'>"
      ]
     },
     "execution_count": 109,
     "metadata": {},
     "output_type": "execute_result"
    },
    {
     "data": {
      "image/png": "[encoded data removed]",
      "text/plain": [
       "<Figure size 432x288 with 1 Axes>"
      ]
     },
     "metadata": {
      "needs_background": "light"
     },
     "output_type": "display_data"
    }
   ],
   "source": [
    "df.plot(x='b', y='a', style='o-', xlim=(0, 30), grid=True)"
   ]
  },
  {
   "cell_type": "markdown",
   "metadata": {},
   "source": [
    "Размером графика управляют через параметр `figsize` (от англ. size of a figure — «размер фигуры»). Ширину и высоту области построения в дюймах передают параметру в скобках: `figsize = (x_size, y_size)`. Сравним графики с разными размерами:"
   ]
  },
  {
   "cell_type": "code",
   "execution_count": 110,
   "metadata": {},
   "outputs": [
    {
     "data": {
      "image/png": "[encoded data removed]",
      "text/plain": [
       "<Figure size 72x72 with 1 Axes>"
      ]
     },
     "metadata": {
      "needs_background": "light"
     },
     "output_type": "display_data"
    },
    {
     "data": {
      "image/png": "[encoded data removed]",
      "text/plain": [
       "<Figure size 720x216 with 1 Axes>"
      ]
     },
     "metadata": {
      "needs_background": "light"
     },
     "output_type": "display_data"
    }
   ],
   "source": [
    "# строим маленький график\n",
    "df.plot(x='b', y='a', style='o-', xlim=(0, 30), grid=True, figsize=(1, 1))\n",
    "\n",
    "# строим большой график\n",
    "df.plot(x='b', y='a', style='o-', xlim=(0, 30), grid=True, figsize=(10, 3));"
   ]
  },
  {
   "cell_type": "markdown",
   "metadata": {},
   "source": [
    "Вот вы и знаете о построении графиков так много, что справитесь с визуальным представлением срезов данных по АЗС."
   ]
  },
  {
   "cell_type": "markdown",
   "metadata": {},
   "source": [
    "### Задача\n",
    "Сделайте срез из данных по АЗС с `id == \"3c1e4c52\"`. Сохраните в переменной `sample`.\n",
    "\n",
    "Постройте график зависимости продолжительности заправки от времени заезда. За основу возьмите соответствующие столбцы `'time_spent'` и `'local_time'`.\n",
    "\n",
    "Каждый заезд должен выглядеть как отдельная точка, не соединённая линиями с другими точками. Для этого вам потребуется маркер `'o'`.\n",
    "Ограничьте график значениями до 1000 секунд. Нарисуйте линии сетки. Увеличьте размер графика до 12 дюймов по горизонтали и 6 по вертикали.\n",
    ">Методом `query()` получите нужный срез. Сохраните результат в `sample`. Методу `plot()` задайте параметры: `x, y, ylim, style, grid, figsize`."
   ]
  },
  {
   "cell_type": "code",
   "execution_count": 112,
   "metadata": {},
   "outputs": [
    {
     "data": {
      "text/plain": [
       "<AxesSubplot:xlabel='local_time'>"
      ]
     },
     "execution_count": 112,
     "metadata": {},
     "output_type": "execute_result"
    },
    {
     "data": {
      "image/png": "[encoded data removed]",
      "text/plain": [
       "<Figure size 864x432 with 1 Axes>"
      ]
     },
     "metadata": {
      "needs_background": "light"
     },
     "output_type": "display_data"
    }
   ],
   "source": [
    "# прекод\n",
    "import pandas as pd\n",
    "data = pd.read_csv('datasets/visits.csv', sep='\\t')\n",
    "data['date_time'] = pd.to_datetime(\n",
    "    data['date_time'], format='%Y-%m-%dT%H:%M:%S'\n",
    ")\n",
    "data['local_time'] = data['date_time'] + pd.Timedelta(hours=3)\n",
    "\n",
    "# срез из данных по АЗС 3c1e4c52 - в переменной sample\n",
    "sample = data.query('id == \"3c1e4c52\"')\n",
    "# график зависимости продолжительности заправки от времени заезда\n",
    "sample.plot(x='local_time', y='time_spent', style='o', ylim=(0, 1000), grid=True, figsize=(12, 6))"
   ]
  },
  {
   "cell_type": "markdown",
   "metadata": {},
   "source": [
    "Все еще не наглядно"
   ]
  },
  {
   "cell_type": "markdown",
   "metadata": {},
   "source": [
    "<a name=\"8\">_</a>\n",
    "## Группировка с `pivot_table()`\n",
    "На графике видна структура с провалами плотности в районе ночных часов. Это кажется правдоподобным: машин и, как следствие, заправок ночью меньше."
   ]
  },
  {
   "cell_type": "markdown",
   "metadata": {},
   "source": [
    "Подозрительно коротких заездов (с продолжительностью менее 100 секунд) много в любое время суток. Хотя график строили по срезу, данных будто не стало меньше. Точки сливаются, делать по ним уверенные выводы трудно. Попробуем улучшить визуальное представление группировкой данных.\n",
    "\n",
    "Прежде чем строить красивый график, позаботимся о красивом коде. В прошлом уроке вы сохранили срез в переменной `sample`, и к ней применили метод `plot()`:"
   ]
  },
  {
   "cell_type": "code",
   "execution_count": 113,
   "metadata": {},
   "outputs": [
    {
     "data": {
      "text/plain": [
       "<AxesSubplot:xlabel='local_time'>"
      ]
     },
     "execution_count": 113,
     "metadata": {},
     "output_type": "execute_result"
    },
    {
     "data": {
      "image/png": "[encoded data removed]",
      "text/plain": [
       "<Figure size 864x432 with 1 Axes>"
      ]
     },
     "metadata": {
      "needs_background": "light"
     },
     "output_type": "display_data"
    }
   ],
   "source": [
    "sample = data.query('id == \"3c1e4c52\"')\n",
    "sample.plot(\n",
    "    x='local_time',\n",
    "    y='time_spent',\n",
    "    ylim=(0, 1000),\n",
    "    style='o',\n",
    "    grid=True,\n",
    "    figsize=(12, 6),\n",
    ")"
   ]
  },
  {
   "cell_type": "markdown",
   "metadata": {},
   "source": [
    "Такой код хорош, когда к `sample` обращаются и дальше, в будущих расчётах. А если это не так? Введение новой сущности ради построения графика путает больше, чем упрощает.\n",
    "\n",
    "**ЭТО ИНТЕРЕСНО: БРИТВА ОККАМА**\n",
    "\n",
    "Entia non sunt multiplicanda praeter necessitatem — «Не следует множить сущности без необходимости». Фраза раскрывает принцип, названный «Бритва Оккама» в честь философа XIII века, монаха Уильяма из английской деревушки Оккам.\n",
    "\n",
    "Суть принципа: совершенство должно быть простым.\n",
    "\n",
    "Если какого-то результата можно достичь с привлечением сущностей A, B и C; либо другим путём с привлечением A, B, С и D — надо выбирать первый путь.\n",
    "\n",
    "<img src=\"https://pictures.s3.yandex.net/resources/britva_akkama_1562611742.jpg\" alt=\"python\" width=\"600\"/>\n",
    "\n",
    "Не будем множить сущности без необходимости и избавимся от промежуточных переменных. Применим метод `plot()` к результату работы `query()` безо всяких `sample`. Получится конструкция вида:\n",
    "\n",
    "`data.query().plot()`"
   ]
  },
  {
   "cell_type": "markdown",
   "metadata": {},
   "source": [
    "Передадим нужные параметры. Чтобы код было легко читать, запишем его в несколько строк. Так код выглядит яснее:"
   ]
  },
  {
   "cell_type": "raw",
   "metadata": {},
   "source": [
    "(\n",
    "    data.query('id == \"3c1e4c52\"').plot(\n",
    "        x='local_time',\n",
    "        y='time_spent',\n",
    "        ylim=(0, 1000),\n",
    "        style='o',\n",
    "        grid=True,\n",
    "        figsize=(12, 6),\n",
    "    )\n",
    ")\n",
    "# одна команда в несколько строк: не забыть обрамить конструкцию в скобки"
   ]
  },
  {
   "cell_type": "markdown",
   "metadata": {},
   "source": [
    "Вернёмся к данным по АЗС. На графике слишком много точек. Чтобы сделать его нагляднее, будем отмечать **не визит, а среднюю продолжительность заправки в час**. Вы уже создавали столбец 'date_hour' с округлённым временем заезда на АЗС.\n",
    "\n",
    "Обратимся к `pivot_table()`. Добавим сводную таблицу в цепочку между `query()` и `plot()`:\n"
   ]
  },
  {
   "cell_type": "code",
   "execution_count": 116,
   "metadata": {},
   "outputs": [
    {
     "data": {
      "text/plain": [
       "<AxesSubplot:xlabel='date_hour'>"
      ]
     },
     "execution_count": 116,
     "metadata": {},
     "output_type": "execute_result"
    },
    {
     "data": {
      "image/png": "[encoded data removed]",
      "text/plain": [
       "<Figure size 864x360 with 1 Axes>"
      ]
     },
     "metadata": {
      "needs_background": "light"
     },
     "output_type": "display_data"
    }
   ],
   "source": [
    "data['date_time'] = pd.to_datetime(\n",
    "    data['date_time'], format='%Y-%m-%dT%H:%M:%S'\n",
    ")\n",
    "data['local_time'] = data['date_time'] + pd.Timedelta(hours=3)\n",
    "data['date_hour'] = data['local_time'].dt.round('1H')\n",
    "(\n",
    "    data.query('id == \"3c1e4c52\"')\n",
    "    .pivot_table(index='date_hour', values='time_spent')\n",
    "    .plot(grid=True, figsize=(12, 5))\n",
    ")"
   ]
  },
  {
   "cell_type": "markdown",
   "metadata": {},
   "source": [
    "На графике показана средняя продолжительность заправки на АЗС под номером \"3c1e4c52\" за каждый час. Обратите внимание, что в среднем водители проводят на АЗС около 500 секунд. Помня о пике гистограммы в 200 секунд, нельзя не удивиться такому значению."
   ]
  },
  {
   "cell_type": "markdown",
   "metadata": {},
   "source": [
    "<img src=\"https://pictures.s3.yandex.net/resources/_19_1562611847.png\" alt=\"python\" width=\"350\"/>\n",
    "\n",
    "Есть и таинственный пик, когда среднее время заправки достигло 3000 секунд (почти час). Многовато. В прошлых уроках мы вообще отбрасывали заезды дольше 1000 секунд, ведь они не слишком похожи на правду. Добавим соответствующее условие в `query()`:"
   ]
  },
  {
   "cell_type": "code",
   "execution_count": 119,
   "metadata": {},
   "outputs": [
    {
     "data": {
      "text/plain": [
       "<AxesSubplot:xlabel='date_hour'>"
      ]
     },
     "execution_count": 119,
     "metadata": {},
     "output_type": "execute_result"
    },
    {
     "data": {
      "image/png": "[encoded data removed]",
      "text/plain": [
       "<Figure size 864x360 with 1 Axes>"
      ]
     },
     "metadata": {
      "needs_background": "light"
     },
     "output_type": "display_data"
    }
   ],
   "source": [
    "(\n",
    "    data.query('id == \"3c1e4c52\" and time_spent < 1000')\n",
    "    .pivot_table(index='date_hour', values='time_spent')\n",
    "    .plot(grid=True, figsize=(12, 5))\n",
    ")"
   ]
  },
  {
   "cell_type": "markdown",
   "metadata": {},
   "source": [
    "Средняя продолжительность заправки снизилась вполовину! Вот вы и увидели, как **выбросы влияют на среднее**.\n",
    "\n",
    "Вычислим устойчивую к выбросам **медиану**. В `pivot_table()` значением параметра `aggfunc` передадим `'median'`.\n",
    "\n",
    "Напомним, что в `aggfunc` передают функцию, которую применяют к значениям сводной таблицы. Например, метод `'count'` посчитает число значений в группе. Если в `aggfunc` не указать ничего, отработает расчёт среднего: `'mean'`."
   ]
  },
  {
   "cell_type": "code",
   "execution_count": 120,
   "metadata": {},
   "outputs": [
    {
     "data": {
      "text/plain": [
       "<AxesSubplot:xlabel='date_hour'>"
      ]
     },
     "execution_count": 120,
     "metadata": {},
     "output_type": "execute_result"
    },
    {
     "data": {
      "image/png": "[encoded data removed]",
      "text/plain": [
       "<Figure size 864x360 with 1 Axes>"
      ]
     },
     "metadata": {
      "needs_background": "light"
     },
     "output_type": "display_data"
    }
   ],
   "source": [
    "(\n",
    "    data.query('id == \"3c1e4c52\"')\n",
    "    .pivot_table(index='date_hour', values='time_spent', aggfunc='median')\n",
    "    .plot(grid=True, figsize=(12, 5))\n",
    ")"
   ]
  },
  {
   "cell_type": "markdown",
   "metadata": {},
   "source": [
    "Обратите внимание, что даже без фильтра `'time_spent < 1000'` медиана дала среднюю продолжительность заправки примерно в 200 секунд. Медиана устойчива к выбросам, но всё же не безупречна: пик более 800 секунд в ночь со 2-го на 3-е апреля выглядит аномальным значением.\n",
    "\n",
    "В целом нет никакой явной связи между продолжительностью заезда и временем дня. Это странно. На этой АЗС не бывает очередей? Или что-то не так с данными? Число заездов в течение дня точно должно меняться. Проверьте это."
   ]
  },
  {
   "cell_type": "markdown",
   "metadata": {},
   "source": [
    "### Задача\n",
    "Постройте график числа заездов на АЗС с `id == \"3c1e4c52\"` по данным сводной таблицы с аргументами `index='date_hour'`, `values='time_spent'`. Параметру `aggfunc` установите значение `'count'`.\n",
    "Добавьте на график сетку. Задайте размер `12*5` дюймов в параметре `figsize`.\n",
    ">Перепишите пример кода из урока. Для вычисления количества заездов передайте `aggfunc` значение `'count'`."
   ]
  },
  {
   "cell_type": "code",
   "execution_count": 122,
   "metadata": {},
   "outputs": [
    {
     "data": {
      "text/plain": [
       "<AxesSubplot:xlabel='date_hour'>"
      ]
     },
     "execution_count": 122,
     "metadata": {},
     "output_type": "execute_result"
    },
    {
     "data": {
      "image/png": "[encoded data removed]",
      "text/plain": [
       "<Figure size 864x360 with 1 Axes>"
      ]
     },
     "metadata": {
      "needs_background": "light"
     },
     "output_type": "display_data"
    }
   ],
   "source": [
    "# прекод\n",
    "data = pd.read_csv('datasets/visits.csv', sep='\\t')\n",
    "data['local_time'] = pd.to_datetime(\n",
    "    data['date_time'], format='%Y-%m-%dT%H:%M:%S'\n",
    ") + pd.Timedelta(hours=3)\n",
    "data['date_hour'] = data['local_time'].dt.round('1H')\n",
    "\n",
    "# запрос по id == \"3c1e4c52\"\n",
    "# сводная таблица с заданными параметрами\n",
    "# код графика: сетка и размер\n",
    "(\n",
    "    data.query('id == \"3c1e4c52\"')\n",
    "    .pivot_table(index='date_hour', values='time_spent', aggfunc='count')\n",
    "    .plot(grid=True, figsize=(12, 5))\n",
    ")\n",
    "# в одну строку тожее работает\n",
    "# (data.query('id == \"3c1e4c52\"').pivot_table(index='date_hour', values='time_spent', aggfunc='count').plot(grid=True, figsize=(12, 5)))"
   ]
  },
  {
   "cell_type": "markdown",
   "metadata": {},
   "source": [
    "Мы обнаружили ожидаемую закономерность. Ночью заездов на АЗС в несколько раз меньше, чем днем. Факт заезда отображен в данных правдоподобно, а вот с продолжительностью пока непонятно..."
   ]
  },
  {
   "cell_type": "markdown",
   "metadata": {},
   "source": [
    "<a name=\"9\">_</a>\n",
    "## Помечаем срез данных\n",
    "Продолжительность заправки около 0 секунд всё ещё выглядит необъяснимо странной. Неужели такие заезды придётся отбросить? Мы уже сделали это с подозрительно долгими заправками, признав их выбросами. Однако сверхкоротких заездов гораздо больше, чем очень долгих. Если мы от них избавимся, то наверняка сильно исказим данные.\n",
    "\n",
    "Как много строк мы потеряем, если просто отбросим подозрительно короткие события? Посчитаем долю заездов на АЗС продолжительностью менее 60 секунд:"
   ]
  },
  {
   "cell_type": "code",
   "execution_count": 123,
   "metadata": {},
   "outputs": [
    {
     "name": "stdout",
     "output_type": "stream",
     "text": [
      "0.42213910893586964\n"
     ]
    }
   ],
   "source": [
    "# делим количество заездов короче 60 секунд на общее число заездов\n",
    "print(len(data.query('time_spent < 60')) / len(data)) "
   ]
  },
  {
   "cell_type": "markdown",
   "metadata": {},
   "source": [
    "Таких аномально быстрых заездов у нас 42%. Очень много.\n",
    "\n",
    "Насколько равномерно они распределены по разным АЗС? Везде около 40%? Или где-то их нет, а на каких-то АЗС много? Сгруппируем данные по АЗС и выясним, откуда взялось такое среднее.\n",
    "\n",
    "Чтобы узнать, как получилось такое среднее, строят и изучают гистограмму.\n",
    "\n",
    "Для каждой АЗС найдём среднее число аномально быстрых заездов. Пометим их и сгруппируем данные по АЗС. И по этим значениям уже построим гистограмму."
   ]
  },
  {
   "cell_type": "markdown",
   "metadata": {},
   "source": [
    "### Задача 1/5\n",
    "Создайте столбец `data['too_fast']` (англ. too fast, «слишком быстрый»), со значениями:\n",
    "- `True` — если время заезда менее 60 секунд\n",
    "- `False` — если от 60 секунд\n",
    "\n",
    "Напечатайте первые 5 строк data.\n",
    ">В столбце `data['too_fast']` сохраните булев массив, где `True` будут обозначены значения столбца `data['time_spent']` меньше 60 секунд. "
   ]
  },
  {
   "cell_type": "code",
   "execution_count": 126,
   "metadata": {},
   "outputs": [
    {
     "data": {
      "text/html": [
       "<div>\n",
       "<style scoped>\n",
       "    .dataframe tbody tr th:only-of-type {\n",
       "        vertical-align: middle;\n",
       "    }\n",
       "\n",
       "    .dataframe tbody tr th {\n",
       "        vertical-align: top;\n",
       "    }\n",
       "\n",
       "    .dataframe thead th {\n",
       "        text-align: right;\n",
       "    }\n",
       "</style>\n",
       "<table border=\"1\" class=\"dataframe\">\n",
       "  <thead>\n",
       "    <tr style=\"text-align: right;\">\n",
       "      <th></th>\n",
       "      <th>date_time</th>\n",
       "      <th>id</th>\n",
       "      <th>time_spent</th>\n",
       "      <th>name</th>\n",
       "      <th>local_time</th>\n",
       "      <th>too_fast</th>\n",
       "    </tr>\n",
       "  </thead>\n",
       "  <tbody>\n",
       "    <tr>\n",
       "      <th>0</th>\n",
       "      <td>20180406T165358</td>\n",
       "      <td>76144fb2</td>\n",
       "      <td>98.0</td>\n",
       "      <td>Василек</td>\n",
       "      <td>2018-04-06 19:53:58</td>\n",
       "      <td>False</td>\n",
       "    </tr>\n",
       "    <tr>\n",
       "      <th>1</th>\n",
       "      <td>20180404T173913</td>\n",
       "      <td>76144fb2</td>\n",
       "      <td>15.0</td>\n",
       "      <td>Василек</td>\n",
       "      <td>2018-04-04 20:39:13</td>\n",
       "      <td>True</td>\n",
       "    </tr>\n",
       "    <tr>\n",
       "      <th>2</th>\n",
       "      <td>20180403T172824</td>\n",
       "      <td>76144fb2</td>\n",
       "      <td>220.0</td>\n",
       "      <td>Василек</td>\n",
       "      <td>2018-04-03 20:28:24</td>\n",
       "      <td>False</td>\n",
       "    </tr>\n",
       "    <tr>\n",
       "      <th>3</th>\n",
       "      <td>20180407T070441</td>\n",
       "      <td>76144fb2</td>\n",
       "      <td>19.0</td>\n",
       "      <td>Василек</td>\n",
       "      <td>2018-04-07 10:04:41</td>\n",
       "      <td>True</td>\n",
       "    </tr>\n",
       "    <tr>\n",
       "      <th>4</th>\n",
       "      <td>20180404T132049</td>\n",
       "      <td>76144fb2</td>\n",
       "      <td>14.0</td>\n",
       "      <td>Василек</td>\n",
       "      <td>2018-04-04 16:20:49</td>\n",
       "      <td>True</td>\n",
       "    </tr>\n",
       "  </tbody>\n",
       "</table>\n",
       "</div>"
      ],
      "text/plain": [
       "         date_time        id  time_spent     name          local_time  \\\n",
       "0  20180406T165358  76144fb2        98.0  Василек 2018-04-06 19:53:58   \n",
       "1  20180404T173913  76144fb2        15.0  Василек 2018-04-04 20:39:13   \n",
       "2  20180403T172824  76144fb2       220.0  Василек 2018-04-03 20:28:24   \n",
       "3  20180407T070441  76144fb2        19.0  Василек 2018-04-07 10:04:41   \n",
       "4  20180404T132049  76144fb2        14.0  Василек 2018-04-04 16:20:49   \n",
       "\n",
       "   too_fast  \n",
       "0     False  \n",
       "1      True  \n",
       "2     False  \n",
       "3      True  \n",
       "4      True  "
      ]
     },
     "execution_count": 126,
     "metadata": {},
     "output_type": "execute_result"
    }
   ],
   "source": [
    "# прекод\n",
    "data = pd.read_csv('datasets/visits.csv', sep='\\t')\n",
    "data['local_time'] = pd.to_datetime(\n",
    "    data['date_time'], format='%Y-%m-%dT%H:%M:%S'\n",
    ") + pd.Timedelta(hours=3)\n",
    "\n",
    "# столбец data['too_fast']\n",
    "data['too_fast'] = data['time_spent'] < 60\n",
    "#print(data.head())\n",
    "data.head()"
   ]
  },
  {
   "cell_type": "markdown",
   "metadata": {},
   "source": [
    "Вот и знакомый булев массив. Кстати, вы никогда не задумывались, что получится, если рассчитать среднее арифметическое по такому массиву?"
   ]
  },
  {
   "cell_type": "markdown",
   "metadata": {},
   "source": [
    "### Задача 2/5\n",
    "Выведите среднее значение по столбцу 'too_fast'.\n",
    ">Примените метод `mean()` к столбцу `'too_fast'`."
   ]
  },
  {
   "cell_type": "code",
   "execution_count": 128,
   "metadata": {},
   "outputs": [
    {
     "data": {
      "text/plain": [
       "0.42213910893586964"
      ]
     },
     "execution_count": 128,
     "metadata": {},
     "output_type": "execute_result"
    }
   ],
   "source": [
    "#прекод\n",
    "data = pd.read_csv('datasets/visits.csv', sep='\\t')\n",
    "data['local_time'] = pd.to_datetime(\n",
    "    data['date_time'], format='%Y-%m-%dT%H:%M:%S'\n",
    ") + pd.Timedelta(hours=3)\n",
    "data['too_fast'] = data['time_spent'] < 60\n",
    "# среднее значение по столбцу\n",
    "data['too_fast'].mean()"
   ]
  },
  {
   "cell_type": "markdown",
   "metadata": {},
   "source": [
    "Знакомые числа! \n",
    "Это же доля аномально быстрых заправок. Как так получилось?\n",
    "Когда мы вовлекаем булевы переменные в арифметические операции, Pandas заменяет их соответствующими числовыми значениями (1 и 0). Получается, что 0,42 — доля единиц, или слишком быстрых заправок, среди всех зафиксированных визитов."
   ]
  },
  {
   "cell_type": "markdown",
   "metadata": {},
   "source": [
    "### Задача 3/5\n",
    "Найдите долю аномально быстрых заправок для разных АЗС (т.е. разных id) — обратитесь к сводным таблицам. Создайте переменную too_fast_stat, в которой для каждого id будет доля быстрых заправок. Выведите первые 5 строк.\n",
    ">Примените `pivot_table()` к таблице `data`. Передайте столбец 'id' как значение параметра index. А столбец 'too_fast' передайте параметру `values`. Получившееся значение присвойте переменной `too_fast_stat`."
   ]
  },
  {
   "cell_type": "code",
   "execution_count": 129,
   "metadata": {},
   "outputs": [
    {
     "data": {
      "text/html": [
       "<div>\n",
       "<style scoped>\n",
       "    .dataframe tbody tr th:only-of-type {\n",
       "        vertical-align: middle;\n",
       "    }\n",
       "\n",
       "    .dataframe tbody tr th {\n",
       "        vertical-align: top;\n",
       "    }\n",
       "\n",
       "    .dataframe thead th {\n",
       "        text-align: right;\n",
       "    }\n",
       "</style>\n",
       "<table border=\"1\" class=\"dataframe\">\n",
       "  <thead>\n",
       "    <tr style=\"text-align: right;\">\n",
       "      <th></th>\n",
       "      <th>too_fast</th>\n",
       "    </tr>\n",
       "    <tr>\n",
       "      <th>id</th>\n",
       "      <th></th>\n",
       "    </tr>\n",
       "  </thead>\n",
       "  <tbody>\n",
       "    <tr>\n",
       "      <th>00ca1b70</th>\n",
       "      <td>0.250000</td>\n",
       "    </tr>\n",
       "    <tr>\n",
       "      <th>011f7462</th>\n",
       "      <td>0.637489</td>\n",
       "    </tr>\n",
       "    <tr>\n",
       "      <th>015eaddd</th>\n",
       "      <td>0.726190</td>\n",
       "    </tr>\n",
       "    <tr>\n",
       "      <th>0178ce70</th>\n",
       "      <td>0.211538</td>\n",
       "    </tr>\n",
       "    <tr>\n",
       "      <th>018a83ef</th>\n",
       "      <td>0.510269</td>\n",
       "    </tr>\n",
       "  </tbody>\n",
       "</table>\n",
       "</div>"
      ],
      "text/plain": [
       "          too_fast\n",
       "id                \n",
       "00ca1b70  0.250000\n",
       "011f7462  0.637489\n",
       "015eaddd  0.726190\n",
       "0178ce70  0.211538\n",
       "018a83ef  0.510269"
      ]
     },
     "execution_count": 129,
     "metadata": {},
     "output_type": "execute_result"
    }
   ],
   "source": [
    "#прекод\n",
    "data = pd.read_csv('datasets/visits.csv', sep='\\t')\n",
    "data['local_time'] = pd.to_datetime(\n",
    "    data['date_time'], format='%Y-%m-%dT%H:%M:%S'\n",
    ") + pd.Timedelta(hours=3)\n",
    "data['too_fast'] = data['time_spent'] < 60\n",
    "# сводная таблица по id и доле быстрых заправок\n",
    "too_fast_stat = data.pivot_table(index='id', values='too_fast')\n",
    "#print(too_fast_stat.head())\n",
    "too_fast_stat.head()"
   ]
  },
  {
   "cell_type": "markdown",
   "metadata": {},
   "source": [
    "Уже по первым пяти строкам видно, что доля сверхкоротких заправок очень неоднородна: на одних АЗС они составляют по 20% всех заездов, а на других — целых 70%.\n",
    "\n",
    "Что мы делаем, когда хотим понять, откуда взялось такое среднее? Строим гистограмму."
   ]
  },
  {
   "cell_type": "markdown",
   "metadata": {},
   "source": [
    "### Задача 4/5\n",
    "Постройте гистограмму значений `too_fast_stat`. Поделите значения на 30 корзин.\n",
    ">Вызовите метод `hist()`. Задайте число корзин параметром `bins`."
   ]
  },
  {
   "cell_type": "code",
   "execution_count": 130,
   "metadata": {},
   "outputs": [
    {
     "data": {
      "text/plain": [
       "array([[<AxesSubplot:title={'center':'too_fast'}>]], dtype=object)"
      ]
     },
     "execution_count": 130,
     "metadata": {},
     "output_type": "execute_result"
    },
    {
     "data": {
      "image/png": "[encoded data removed]",
      "text/plain": [
       "<Figure size 432x288 with 1 Axes>"
      ]
     },
     "metadata": {
      "needs_background": "light"
     },
     "output_type": "display_data"
    }
   ],
   "source": [
    "# прекод\n",
    "data = pd.read_csv('/datasets/visits.csv', sep='\\t')\n",
    "data['local_time'] = pd.to_datetime(\n",
    "    data['date_time'], format='%Y-%m-%dT%H:%M:%S'\n",
    ") + pd.Timedelta(hours=3)\n",
    "data['too_fast'] = data['time_spent'] < 60\n",
    "too_fast_stat = data.pivot_table(index='id', values='too_fast')\n",
    "\n",
    "too_fast_stat.hist(bins = 30)"
   ]
  },
  {
   "cell_type": "markdown",
   "metadata": {},
   "source": [
    "Пик графика около 0,3. Значит, у большинства АЗС около 30% заездов аномально быстрые. Однако бывают и АЗС, где 100% заездов аномально быстрые. Эту проблему нужно зафиксировать и сообщить о ней коллегам, готовившим данные к анализу."
   ]
  },
  {
   "cell_type": "markdown",
   "metadata": {},
   "source": [
    "### Задача 5/5\n",
    "Проблема сверхкоротких заправок зафиксирована. Проделаем то же самое с аномально долгими заправками.\n",
    "\n",
    "Создайте столбец `data['too_slow']`, в котором будут значения:\n",
    "- `True` — если время заезда более 1000 секунд;\n",
    "- `False` — если время заезда менее или равно 1000 секундам.\n",
    "\n",
    "Постройте гистограмму доли `too_slow` по разным АЗС (группируя по id). Данные для гистограммы делите на 30 корзин.\n",
    ">Задача аналогична предыдущим. Сперва создайте булев массив и сохраните его в столбце `data['too_slow']`. Затем, не создавая промежуточной переменной, передайте нужные параметры последовательности `data.pivot_table().hist()`."
   ]
  },
  {
   "cell_type": "code",
   "execution_count": 131,
   "metadata": {},
   "outputs": [
    {
     "data": {
      "text/plain": [
       "array([[<AxesSubplot:title={'center':'too_slow'}>]], dtype=object)"
      ]
     },
     "execution_count": 131,
     "metadata": {},
     "output_type": "execute_result"
    },
    {
     "data": {
      "image/png": "[encoded data removed]",
      "text/plain": [
       "<Figure size 432x288 with 1 Axes>"
      ]
     },
     "metadata": {
      "needs_background": "light"
     },
     "output_type": "display_data"
    },
    {
     "data": {
      "image/png": "[encoded data removed]",
      "text/plain": [
       "<Figure size 432x288 with 1 Axes>"
      ]
     },
     "metadata": {
      "needs_background": "light"
     },
     "output_type": "display_data"
    }
   ],
   "source": [
    "# прекод\n",
    "data = pd.read_csv('datasets/visits.csv', sep='\\t')\n",
    "data['local_time'] = pd.to_datetime(\n",
    "    data['date_time'], format='%Y-%m-%dT%H:%M:%S'\n",
    ") + pd.Timedelta(hours=3)\n",
    "data['too_fast'] = data['time_spent'] < 60\n",
    "too_fast_stat = data.pivot_table(index='id', values='too_fast')\n",
    "too_fast_stat.hist(bins = 30)\n",
    "\n",
    "data['too_slow'] = data['time_spent'] > 1000\n",
    "(data\n",
    ".pivot_table(index='id', values='too_slow')\n",
    ".hist(bins=30)\n",
    ")"
   ]
  },
  {
   "cell_type": "markdown",
   "metadata": {},
   "source": [
    "Слишком долгих заправок гораздо меньше, чем слишком коротких. На большинстве станций длительных заездов меньше 5%. Простимся с ними без печали."
   ]
  },
  {
   "cell_type": "markdown",
   "metadata": {},
   "source": [
    "<a name=\"10\">_</a>\n",
    "## Сохраняем результаты\n",
    "Подведём итоги исследования.\n",
    "\n",
    "Бывает, что заправляются долго. Причём повсюду. Только доля таких заправок невелика. В гистограммах заездов на АЗС с рекордно долгими заправками — ничего особенного, выглядят они ожидаемо.\n",
    "\n",
    "Мы решили отбросить слишком долгие заезды (более 1000 секунд), а для надёжности вместо среднего арифметического времени рассчитывать медианное. Тогда эти заезды не исказят оценку типичной продолжительности заправки.\n",
    "\n",
    "А вот с короткими заездами всё не так радужно. Их гораздо больше. Есть АЗС, где коротких заправок большинство, а то и все 100%. Что-то здесь не то.\n",
    "\n",
    "Ошибка в исходных данных? Сформулируем проблему, чтобы упростить поиск потенциальной ошибки в алгоритме выгрузки данных. Правильное сообщение об ошибке, или **баг-репорт** (от англ. bug report, «сообщение об ошибке»), должно чётко объяснять, в чём именно ошибка и как её найти.\n",
    "\n",
    "Мы часами исследовали данные и хорошо понимаем суть проблемы. Коллеги, отвечающие за выгрузку, ничего этого не знают. Поэтому нужно **чётко формулировать, где мы видим проблему**. Для этого не подходит описание «слишком быстрые» или «пик около 0». Нужно быть точнее.\n",
    "\n",
    "Мы видели гистограмму и решили, что **проблемные заезды — те, что короче 60 секунд**. Это и нужно сказать.\n",
    "\n",
    "Следует сообщить, что мы видим проблему в том, что **таких заправок слишком много** (если бы такие заезды составляли 1% от всех данных, мы бы не сочиняли баг-репорт).\n",
    "\n",
    "Облегчим работу коллег, **сфокусируем их внимание на самой проблемной АЗС** — там будет легче отловить ошибку. Или понять, что это не ошибка, а какое-то пока неведомое явление.\n",
    "\n",
    "Найдём эту проблемную АЗС. Напомним, что в прошлом уроке мы уже считали долю аномально быстрых заправок для каждой АЗС:"
   ]
  },
  {
   "cell_type": "code",
   "execution_count": 132,
   "metadata": {},
   "outputs": [
    {
     "name": "stdout",
     "output_type": "stream",
     "text": [
      "          too_fast\n",
      "id                \n",
      "c96c61cd  1.000000\n",
      "c527c306  1.000000\n",
      "5372547e  1.000000\n",
      "792b6ded  0.996253\n",
      "bd1d0bb0  0.982044\n"
     ]
    }
   ],
   "source": [
    "print(too_fast_stat.sort_values('too_fast', ascending=False).head())"
   ]
  },
  {
   "cell_type": "markdown",
   "metadata": {},
   "source": [
    "Таких АЗС, где 100% заездов аномально быстрые, оказалось целых три! Наверное, их id нужно передать коллегам, чтобы они искали ошибку. Но сперва посмотрим сами.\n",
    "\n",
    "Методом `describe()` оценим данные первой АЗС — `id 'c96c61cd'`:"
   ]
  },
  {
   "cell_type": "code",
   "execution_count": 133,
   "metadata": {},
   "outputs": [
    {
     "data": {
      "text/html": [
       "<div>\n",
       "<style scoped>\n",
       "    .dataframe tbody tr th:only-of-type {\n",
       "        vertical-align: middle;\n",
       "    }\n",
       "\n",
       "    .dataframe tbody tr th {\n",
       "        vertical-align: top;\n",
       "    }\n",
       "\n",
       "    .dataframe thead th {\n",
       "        text-align: right;\n",
       "    }\n",
       "</style>\n",
       "<table border=\"1\" class=\"dataframe\">\n",
       "  <thead>\n",
       "    <tr style=\"text-align: right;\">\n",
       "      <th></th>\n",
       "      <th>time_spent</th>\n",
       "    </tr>\n",
       "  </thead>\n",
       "  <tbody>\n",
       "    <tr>\n",
       "      <th>count</th>\n",
       "      <td>1.0</td>\n",
       "    </tr>\n",
       "    <tr>\n",
       "      <th>mean</th>\n",
       "      <td>5.0</td>\n",
       "    </tr>\n",
       "    <tr>\n",
       "      <th>std</th>\n",
       "      <td>NaN</td>\n",
       "    </tr>\n",
       "    <tr>\n",
       "      <th>min</th>\n",
       "      <td>5.0</td>\n",
       "    </tr>\n",
       "    <tr>\n",
       "      <th>25%</th>\n",
       "      <td>5.0</td>\n",
       "    </tr>\n",
       "    <tr>\n",
       "      <th>50%</th>\n",
       "      <td>5.0</td>\n",
       "    </tr>\n",
       "    <tr>\n",
       "      <th>75%</th>\n",
       "      <td>5.0</td>\n",
       "    </tr>\n",
       "    <tr>\n",
       "      <th>max</th>\n",
       "      <td>5.0</td>\n",
       "    </tr>\n",
       "  </tbody>\n",
       "</table>\n",
       "</div>"
      ],
      "text/plain": [
       "       time_spent\n",
       "count         1.0\n",
       "mean          5.0\n",
       "std           NaN\n",
       "min           5.0\n",
       "25%           5.0\n",
       "50%           5.0\n",
       "75%           5.0\n",
       "max           5.0"
      ]
     },
     "execution_count": 133,
     "metadata": {},
     "output_type": "execute_result"
    }
   ],
   "source": [
    "data.query('id == \"c96c61cd\"').describe()"
   ]
  },
  {
   "cell_type": "markdown",
   "metadata": {},
   "source": [
    "Всего 1 заезд. Это неудачный баг-репорт, ведь АЗС с одним заездом странная сама по себе. Если на ней и была какая-то проблема, не факт, что она массовая.\n",
    "\n",
    "Для баг-репорта нужна «полноценная» АЗС с достаточным числом аномально быстрых заездов. Проверив аналогично следующие id в списке, мы обнаружили, что нормальная статистика есть только по АЗС '792b6ded':"
   ]
  },
  {
   "cell_type": "code",
   "execution_count": 134,
   "metadata": {},
   "outputs": [
    {
     "data": {
      "text/html": [
       "<div>\n",
       "<style scoped>\n",
       "    .dataframe tbody tr th:only-of-type {\n",
       "        vertical-align: middle;\n",
       "    }\n",
       "\n",
       "    .dataframe tbody tr th {\n",
       "        vertical-align: top;\n",
       "    }\n",
       "\n",
       "    .dataframe thead th {\n",
       "        text-align: right;\n",
       "    }\n",
       "</style>\n",
       "<table border=\"1\" class=\"dataframe\">\n",
       "  <thead>\n",
       "    <tr style=\"text-align: right;\">\n",
       "      <th></th>\n",
       "      <th>time_spent</th>\n",
       "    </tr>\n",
       "  </thead>\n",
       "  <tbody>\n",
       "    <tr>\n",
       "      <th>count</th>\n",
       "      <td>4270.000000</td>\n",
       "    </tr>\n",
       "    <tr>\n",
       "      <th>mean</th>\n",
       "      <td>5.448712</td>\n",
       "    </tr>\n",
       "    <tr>\n",
       "      <th>std</th>\n",
       "      <td>8.597126</td>\n",
       "    </tr>\n",
       "    <tr>\n",
       "      <th>min</th>\n",
       "      <td>0.000000</td>\n",
       "    </tr>\n",
       "    <tr>\n",
       "      <th>25%</th>\n",
       "      <td>2.000000</td>\n",
       "    </tr>\n",
       "    <tr>\n",
       "      <th>50%</th>\n",
       "      <td>3.000000</td>\n",
       "    </tr>\n",
       "    <tr>\n",
       "      <th>75%</th>\n",
       "      <td>5.000000</td>\n",
       "    </tr>\n",
       "    <tr>\n",
       "      <th>max</th>\n",
       "      <td>228.000000</td>\n",
       "    </tr>\n",
       "  </tbody>\n",
       "</table>\n",
       "</div>"
      ],
      "text/plain": [
       "        time_spent\n",
       "count  4270.000000\n",
       "mean      5.448712\n",
       "std       8.597126\n",
       "min       0.000000\n",
       "25%       2.000000\n",
       "50%       3.000000\n",
       "75%       5.000000\n",
       "max     228.000000"
      ]
     },
     "execution_count": 134,
     "metadata": {},
     "output_type": "execute_result"
    }
   ],
   "source": [
    "data.query('id == \"792b6ded\"').describe()"
   ]
  },
  {
   "cell_type": "markdown",
   "metadata": {},
   "source": [
    "Больше 4000 заездов, но почти все очень-очень короткие. 75% укладывается в 5 секунд. Первый квартиль составляет 2 секунды. Это значит, что как минимум 25% укладывается в 2 секунды.\n",
    "\n",
    "Это очень удачный пример для баг-репорта. Можно передать как сам id, так и статистику по этой АЗС."
   ]
  },
  {
   "cell_type": "markdown",
   "metadata": {},
   "source": [
    "<a name=\"11\">_</a>\n",
    "## Заключение\n",
    "Ура! Вы узнали, что такое срезы данных и как их строить. И да, ещё внимательнее посмотрели на АЗС: выявили зависимость продолжительности заправки от времени заезда и нашли долю аномально быстрых и долгих заправок на разных станциях. Это было непросто.\n",
    "\n",
    "Как вы это сделали:\n",
    "\n",
    "- Применили инструменты из первой темы: `hist()`, `boxplot()`, `describe()` — и посмотрели распределение.\n",
    "- Построили графики методом `plot()`.\n",
    "- Научились помечать выборку в общем объёме данных (добавив столбец 'too_fast') и смотреть, как распределен срез в совокупности данных.\n",
    "- Узнали, что такое баг-репорт и как правильно формулировать проблему, чтобы упростить поиск ошибки в алгоритме выгрузки.\n",
    "\n",
    "Теперь коллеги точно не отвертятся и обязательно поправят данные или выгрузят новые.\n",
    "\n",
    "\n",
    "**Где ещё почитать про срезы данных:**\n",
    "\n",
    "- <a href=\"https://www.coursera.org/lecture/mathematics-and-python/pandas-indieksatsiia-i-sieliektsiia-lsXAR\">Индексация и селекция</a>\n",
    "- <a href=\"https://devpractice.ru/pandas-indexing-part3/\">Индексы и срезы по индексам</a>\n",
    "- <a href=\"https://devpractice.ru/pandas-indexing-part3/#p6\">Индексация с использованием логических выражений</a>"
   ]
  }
 ],
 "metadata": {
  "kernelspec": {
   "display_name": "Python 3",
   "language": "python",
   "name": "python3"
  },
  "language_info": {
   "codemirror_mode": {
    "name": "ipython",
    "version": 3
   },
   "file_extension": ".py",
   "mimetype": "text/x-python",
   "name": "python",
   "nbconvert_exporter": "python",
   "pygments_lexer": "ipython3",
   "version": "3.8.3"
  }
 },
 "nbformat": 4,
 "nbformat_minor": 4
}
